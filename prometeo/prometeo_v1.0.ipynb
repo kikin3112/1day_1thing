{
 "cells": [
  {
   "cell_type": "markdown",
   "metadata": {},
   "source": [
    "# PROMETEO_v1.0"
   ]
  },
  {
   "cell_type": "markdown",
   "metadata": {},
   "source": [
    "## Paquetería"
   ]
  },
  {
   "cell_type": "code",
   "execution_count": 18,
   "metadata": {},
   "outputs": [],
   "source": [
    "import ast\n",
    "import matplotlib.pyplot as plt\n",
    "import numpy as np\n",
    "import os\n",
    "import pandas as pd\n",
    "import shutil\n",
    "import textwrap\n",
    "import tiktoken\n",
    "import umap.umap_ as umap\n",
    "from dotenv import load_dotenv, find_dotenv\n",
    "from langchain import PromptTemplate\n",
    "from langchain.document_loaders import DirectoryLoader, PyPDFLoader\n",
    "from langchain_core.runnables import RunnableParallel\n",
    "from langchain_core.runnables import RunnablePassthrough\n",
    "from langchain.text_splitter import RecursiveCharacterTextSplitter\n",
    "from langchain.vectorstores import Chroma\n",
    "from langchain_openai import ChatOpenAI, OpenAIEmbeddings\n",
    "from langchain_core.output_parsers import StrOutputParser\n",
    "from sklearn.mixture import GaussianMixture\n",
    "from typing import Optional"
   ]
  },
  {
   "cell_type": "markdown",
   "metadata": {},
   "source": [
    "## Funciones"
   ]
  },
  {
   "cell_type": "code",
   "execution_count": 19,
   "metadata": {},
   "outputs": [],
   "source": [
    "def num_tokens_from_string(string: str) -> int:\n",
    "    \"\"\"Cuenta el número de tokens en el documento\n",
    "    proporcionado.\"\"\"\n",
    "    encoding = tiktoken.get_encoding(\"cl100k_base\")\n",
    "    num_tokens = len(encoding.encode(string))\n",
    "    return num_tokens\n",
    "\n",
    "def reduce_cluster_embeddings(\n",
    "    embeddings: np.ndarray,\n",
    "    dim: int,\n",
    "    n_neighbors: Optional[int] = None,\n",
    "    metric: str = \"cosine\",\n",
    ") -> np.ndarray:\n",
    "    \"\"\"Esta función no la comprendo. Estudie\n",
    "    para entenderla.\"\"\"\n",
    "    if n_neighbors is None:\n",
    "        n_neighbors = int((len(embeddings) - 1) ** 0.5)\n",
    "    return umap.UMAP(\n",
    "        n_neighbors=n_neighbors, n_components=dim, metric=metric\n",
    "    ).fit_transform(embeddings)\n",
    "\n",
    "def get_optimal_clusters(embeddings: np.ndarray, max_clusters: int = 50, random_state: int = 1234):\n",
    "    \"\"\"Obtiene el número óptimo de clústers.\"\"\"\n",
    "    max_clusters = min(max_clusters, len(embeddings))\n",
    "    bics = [GaussianMixture(n_components=n, random_state=random_state).fit(embeddings).bic(embeddings)\n",
    "            for n in range(1, max_clusters)]\n",
    "    return np.argmin(bics) + 1\n",
    "\n",
    "def gmm_clustering(embeddings: np.ndarray, threshold: float, random_state: int = 0):\n",
    "    \"\"\"Clusteriza con el método GMM.\"\"\"\n",
    "    n_clusters = get_optimal_clusters(embeddings)\n",
    "    gm = GaussianMixture(n_components=n_clusters, random_state=random_state).fit(embeddings)\n",
    "    probs = gm.predict_proba(embeddings)\n",
    "    labels = [np.where(prob > threshold)[0] for prob in probs]\n",
    "    return labels, n_clusters\n",
    "\n",
    "def format_cluster_texts(df):\n",
    "    \"\"\"Agrupa los textos de cada clúster el listas.\"\"\"\n",
    "    clustered_texts = {}\n",
    "    for cluster in df['Cluster'].unique():\n",
    "        cluster_texts = df[df['Cluster'] == cluster]['Texto'].tolist()\n",
    "        clustered_texts[cluster] = \" --- \".join(cluster_texts)\n",
    "    return clustered_texts\n",
    "\n",
    "def wrap_text_preserve_newlines(text, width=80):\n",
    "    \"\"\"Formato para respuestas.\"\"\"\n",
    "    lines = text.split('\\n')\n",
    "    wrapped_lines = [textwrap.fill(line, width=width) for line in lines]\n",
    "    wrapped_text = '\\n'.join(wrapped_lines)\n",
    "    return wrapped_text\n",
    "\n",
    "def process_llm_response(llm_response):\n",
    "    \"\"\"Generador de referencias.\"\"\"\n",
    "    print(wrap_text_preserve_newlines(llm_response['answer']))\n",
    "    print('\\nReferencias:')\n",
    "    for contexto in llm_response[\"context\"][:5]:\n",
    "        print(contexto)"
   ]
  },
  {
   "cell_type": "markdown",
   "metadata": {},
   "source": [
    "## Parámetros"
   ]
  },
  {
   "cell_type": "code",
   "execution_count": 20,
   "metadata": {},
   "outputs": [],
   "source": [
    "load_dotenv(find_dotenv())\n",
    "embeddings = OpenAIEmbeddings(\n",
    ")\n",
    "\n",
    "detailed_turbo_llm = turbo_llm = ChatOpenAI(\n",
    "    temperature=0,\n",
    "    model_name='gpt-3.5-turbo-0125'\n",
    ")\n",
    "\n",
    "template = \"\"\"Tu tarea como revisor bibliográfico profesional\n",
    "es crear resúmenes extremadamente detallados del siguiente\n",
    "texto: {text} \"\"\"\n",
    "\n",
    "prompt = PromptTemplate.from_template(template)\n",
    "chain = prompt | detailed_turbo_llm | StrOutputParser()\n",
    "\n",
    "turbo_llm = ChatOpenAI(\n",
    "    temperature=0.7,\n",
    "    model_name='gpt-3.5-turbo-0125'\n",
    ")\n",
    "\n",
    "text_splitter = RecursiveCharacterTextSplitter(\n",
    "    chunk_size=2000,\n",
    "    chunk_overlap=100\n",
    ")"
   ]
  },
  {
   "cell_type": "markdown",
   "metadata": {},
   "source": [
    "## Carga de documentos"
   ]
  },
  {
   "cell_type": "code",
   "execution_count": 21,
   "metadata": {},
   "outputs": [
    {
     "name": "stdout",
     "output_type": "stream",
     "text": [
      "Número de tokens en el documento: 10782\n"
     ]
    }
   ],
   "source": [
    "# Asegúrate de que haya PDFs en la carpeta 'docs'\n",
    "documents = DirectoryLoader('./docs/', glob=\"./*.pdf\", loader_cls=PyPDFLoader).load()\n",
    "# Tratameinto de caracteres indeseados\n",
    "for d in documents:\n",
    "    d.page_content = d.page_content.replace('\\n', ' ').replace('\\t', ' ')\n",
    "\n",
    "docs = text_splitter.split_documents(documents)\n",
    "texts = [doc.page_content for doc in docs]\n",
    "\n",
    "d_sorted = sorted(docs, key=lambda x: x.metadata[\"source\"])\n",
    "d_reversed = list(reversed(d_sorted))\n",
    "concatenated_content = \"\\n\\n\\n --- \\n\\n\\n\".join(\n",
    "    [doc.page_content for doc in d_reversed]\n",
    ")\n",
    "print(\n",
    "    \"Número de tokens en el documento: %s\"\n",
    "    % num_tokens_from_string(concatenated_content)\n",
    ")"
   ]
  },
  {
   "cell_type": "markdown",
   "metadata": {},
   "source": [
    "## ¿Quieres crear o cargar una incrustación?"
   ]
  },
  {
   "cell_type": "code",
   "execution_count": 22,
   "metadata": {},
   "outputs": [
    {
     "name": "stdout",
     "output_type": "stream",
     "text": [
      "Elegiste crear de cero una incrustación.\n",
      "\n",
      "Estás usando la incrustación: meto_2_emb.txt\n"
     ]
    }
   ],
   "source": [
    "user_input = input(\"¿Crear (1) o cargar (2) incrustación?: \")\n",
    "destino_emb = r'c:\\Users\\luisr\\OneDrive\\Documentos\\GitHub\\1day_1thing\\prometeo\\embed'\n",
    "\n",
    "if user_input.lower() == \"1\":\n",
    "    print(f'Elegiste crear de cero una incrustación.\\n')\n",
    "    global_embeddings = [embeddings.embed_query(txt) for txt in texts]\n",
    "\n",
    "    embed_name = input('¿Cómo se llama esta incrustación?: ') + '_emb' + '.txt'\n",
    "    emb = rf'c:\\Users\\luisr\\OneDrive\\Documentos\\GitHub\\1day_1thing\\prometeo\\{embed_name}'\n",
    "    with open(rf'./{embed_name}', 'w') as f:\n",
    "        for i in global_embeddings:\n",
    "            f.write(\"%s\\n\" % i)\n",
    "    print(f'Estás usando la incrustación: {embed_name}')\n",
    "    shutil.move(emb, destino_emb)\n",
    "    \n",
    "elif user_input.lower() == \"2\":\n",
    "    print('Elegiste cargar una incrustación ya creada.\\n')\n",
    "    global_embeddings = []\n",
    "\n",
    "    embed_name = input('Nombre de la incrustación: ') + '_emb' + '.txt'\n",
    "    print(f'Estás usando la incrustación: {embed_name}')\n",
    "    with open(rf'./embed/{embed_name}', 'r') as f:\n",
    "        for i in f:\n",
    "            x = ast.literal_eval(i.strip())  # Convertir la cadena a lista de números\n",
    "            global_embeddings.append(x)\n",
    "\n",
    "    global_embeddings = np.array(global_embeddings, dtype=float)\n",
    "    \n",
    "elif user_input != \"1\" and user_input != \"2\":\n",
    "    print('No seleccionaste ninguna incrustación.\\n')\n",
    "\n"
   ]
  },
  {
   "cell_type": "markdown",
   "metadata": {},
   "source": [
    "## Procesamiento de texto"
   ]
  },
  {
   "cell_type": "code",
   "execution_count": 23,
   "metadata": {},
   "outputs": [],
   "source": [
    "dim = 2\n",
    "global_embeddings_reduced = reduce_cluster_embeddings(global_embeddings, dim)\n",
    "labels, _ = gmm_clustering(global_embeddings_reduced, threshold=0.5)\n",
    "simple_labels = [label[0] if len(label) > 0 else -1 for label in labels]\n",
    "\n",
    "df = pd.DataFrame({\n",
    "    'Texto': texts,\n",
    "    'Embedding': list(global_embeddings_reduced),\n",
    "    'Cluster': simple_labels\n",
    "})\n",
    "\n",
    "clustered_texts = format_cluster_texts(df)\n",
    "summaries = {}\n",
    "for cluster, text in clustered_texts.items():\n",
    "    summary = chain.invoke({\"text\": text})\n",
    "    summaries[cluster] = summary\n",
    "embedded_summaries = [embeddings.embed_query(summary) for summary in summaries.values()]\n",
    "embedded_summaries_np = np.array(embedded_summaries)\n",
    "labels, _ = gmm_clustering(embedded_summaries_np, threshold=0.5)\n",
    "simple_labels = [label[0] if len(label) > 0 else -1 for label in labels]\n",
    "clustered_summaries = {}\n",
    "for i, label in enumerate(simple_labels):\n",
    "    if label not in clustered_summaries:\n",
    "        clustered_summaries[label] = []\n",
    "    clustered_summaries[label].append(list(summaries.values())[i])\n",
    "final_summaries = {}\n",
    "for cluster, texts in clustered_summaries.items():\n",
    "    combined_text = ' '.join(texts)\n",
    "    summary = chain.invoke({\"text\": combined_text})\n",
    "    final_summaries[cluster] = summary\n",
    "texts_from_df = df['Texto'].tolist()\n",
    "texts_from_clustered_texts = list(clustered_texts.values())\n",
    "texts_from_final_summaries = list(final_summaries.values())\n",
    "\n",
    "combined_texts = texts_from_df + texts_from_clustered_texts + texts_from_final_summaries"
   ]
  },
  {
   "cell_type": "markdown",
   "metadata": {},
   "source": [
    "## ¿Quieres crear o cargar texto procesado? (hacer)"
   ]
  },
  {
   "cell_type": "code",
   "execution_count": 24,
   "metadata": {},
   "outputs": [],
   "source": [
    "# Nombre del archivo de texto\n",
    "file_name = input('Nombre del archivo: ') + '.txt'\n",
    "\n",
    "# Escribir la lista en el archivo de texto\n",
    "with open(file_name, 'w', encoding='utf-8') as f:\n",
    "    for t in combined_texts:\n",
    "        f.write(\"%s\\n\" % t)\n",
    "\n",
    "# Leer el contenido del archivo y mostrarlo\n",
    "with open(file_name, 'r', encoding='utf-8') as f:\n",
    "    content = f.read()\n",
    "\n",
    "textos = text_splitter.split_text(content)"
   ]
  },
  {
   "cell_type": "markdown",
   "metadata": {},
   "source": [
    "# Guardar los kb en una carpeta (kbs) (hacer)"
   ]
  },
  {
   "cell_type": "markdown",
   "metadata": {},
   "source": [
    "### 1. Enseñar"
   ]
  },
  {
   "cell_type": "code",
   "execution_count": 25,
   "metadata": {},
   "outputs": [
    {
     "data": {
      "text/plain": [
       "1"
      ]
     },
     "execution_count": 25,
     "metadata": {},
     "output_type": "execute_result"
    }
   ],
   "source": [
    "destino_kb = r'c:\\Users\\luisr\\OneDrive\\Documentos\\GitHub\\1day_1thing\\prometeo\\kbs'\n",
    "persist_directory = input('¿Cómo se llamará este knowledge-base?: ') + '_kb'\n",
    "vectorstore = Chroma.from_texts(texts=textos,\n",
    "                                embedding=embeddings,\n",
    "                                persist_directory=persist_directory)\n",
    "vectorstore.persist()\n",
    "vectorstore = None\n",
    "os.system(f'zip -r db.zip ./{persist_directory}')"
   ]
  },
  {
   "cell_type": "markdown",
   "metadata": {},
   "source": [
    "### 2. Recordar (si y solo si Enseñar=Done) y pregunta de control"
   ]
  },
  {
   "cell_type": "code",
   "execution_count": 26,
   "metadata": {},
   "outputs": [
    {
     "name": "stdout",
     "output_type": "stream",
     "text": [
      "K final es: 33\n",
      "\n"
     ]
    }
   ],
   "source": [
    "persist_directory = input('¿Qué knoledge-base deseas usar?: ') + '_kb'\n",
    "embedding = OpenAIEmbeddings()\n",
    "vectorstore = Chroma(persist_directory=persist_directory, \n",
    "                  embedding_function=embedding)\n",
    "\n",
    "def adjust_final_number(string: str, max_threshold: int, initial_number: int) -> int:\n",
    "    final_number = initial_number\n",
    "    while final_number < max_threshold:\n",
    "        retriever = vectorstore.as_retriever(search_kwargs={\"k\": final_number})\n",
    "        docs = retriever.invoke(string)\n",
    "        text = \"\".join([doc.page_content for doc in docs])\n",
    "        if num_tokens_from_string(text) < max_threshold:\n",
    "            final_number += 1\n",
    "        else:\n",
    "            break\n",
    "    return final_number\n",
    "\n",
    "final_number = adjust_final_number(\"¿Cuál es el tema principal del documento?\", 10000, 4)\n",
    "print(f'K final es: {final_number}\\n')\n",
    "retriever = vectorstore.as_retriever(search_kwargs={\"k\": final_number})"
   ]
  },
  {
   "cell_type": "code",
   "execution_count": 27,
   "metadata": {},
   "outputs": [],
   "source": [
    "# Se personaliza el LLM como Prometeo\n",
    "template = \"\"\"\n",
    "Eres Prometeo, un asistente personal de revisión biliográfica que habla Español.\n",
    "\n",
    "Tu tarea consiste en:\n",
    "\n",
    "1. Leer detalladamente la información proporcionada en documentos que generalmente son\n",
    "artículos científicos en formato PDF.\n",
    "\n",
    "2. Proporcionar respuestas extremadamente detalladas a cualquier tipo de pregunta relacionada \n",
    "con el contexto, especialmente a preguntas que involucren peticiones. Evita concluir tus respuestas con un \n",
    "párrafo que comience con 'En resumen,...'. Varía las conclusiones de tus respuestas para que \n",
    "sean más diversas y creativas.\n",
    "\n",
    "3. Ser carismático y ofrecer información sobre ti y tus funciones.\n",
    "\n",
    "SIEMPRE debes responder en Español.\n",
    "\n",
    "SIEMPRE debes responder con base al siguiente contexto: {context}.\n",
    "\n",
    "NUNCA hables específicamente del contexto.\n",
    "\n",
    "NUNCA terminar las respuestas con un resumen o una conclusión predecible.\n",
    "\n",
    "Teniendo en cuenta TODO lo anterior, responde la siguiente pregunta: {question}\n",
    "\"\"\"\n",
    "\n",
    "prometeo_prompt = PromptTemplate(\n",
    "    template=template, input_variables=[\"context\", \"question\"]\n",
    ")\n",
    "\n",
    "def format_docs(docs):\n",
    "    return \"\\n\\n\".join(doc.page_content for doc in docs)\n",
    "\n",
    "rag_chain = (\n",
    "    RunnablePassthrough.assign(context=(lambda x: format_docs(x[\"context\"])))\n",
    "    | prometeo_prompt\n",
    "    | turbo_llm\n",
    "    | StrOutputParser()\n",
    ")\n",
    "\n",
    "rag_chain_with_source = RunnableParallel(\n",
    "    {\"context\": retriever, \"question\": RunnablePassthrough()}\n",
    ").assign(answer=rag_chain\n",
    ")"
   ]
  },
  {
   "cell_type": "code",
   "execution_count": 28,
   "metadata": {},
   "outputs": [
    {
     "name": "stdout",
     "output_type": "stream",
     "text": [
      "¿Cuál es la idea principal de investigación?\n",
      "La idea principal de investigación es analizar la relación entre el\n",
      "emprendimiento corporativo y el proceso estratégico en empresas de Estambul,\n",
      "centrándose en los estilos de liderazgo y su impacto en la innovación, la\n",
      "proactividad y la creación de nuevos negocios. Se examina cómo el enfoque\n",
      "racional-transactivo es el más efectivo para lograr resultados emprendedores,\n",
      "mientras que el estilo comandante tiene un efecto negativo en el rendimiento\n",
      "concreto. Además, se destaca la importancia de la cultura corporativa, la misión\n",
      "y la visión en la promoción de la innovación y la creatividad dentro de la\n",
      "organización. La investigación sugiere que la proactividad no tiene un efecto\n",
      "significativo en el rendimiento, pero la creación de nuevas empresas es crucial\n",
      "para el éxito a corto y largo plazo en el mercado de Estambul.\n",
      "\n",
      "Referencias:\n",
      "page_content='Se observó que el estilo racional-transactivo tiene un impacto positivo en el rendimiento concreto y abstracto, mientras que el estilo comandante tiene un efecto negativo en el rendimiento concreto. El estilo simbólico tiene un efecto positivo en el rendimiento abstracto. Además, se encontró que la proactividad no tiene un efecto significativo en el rendimiento, y que la creación de nuevas empresas es crucial para el éxito a corto y largo plazo en el mercado de Estambul.\\n\\nEl estudio sugiere que el enfoque racional-transactivo es el más efectivo para lograr resultados emprendedores, y que la innovación, la renovación personal y la creación de nuevos negocios son factores clave para el éxito empresarial. Se destaca la importancia de la cultura corporativa, la misión y la visión en la promoción de la innovación y la creatividad dentro de la organización.\\n\\nEn resumen, el estudio de Ata Özdemirci resalta la importancia de los estilos de liderazgo en el emprendimiento corporativo y sugiere que un enfoque racional-transactivo puede ser el más efectivo para lograr diversos resultados emprendedores en el contexto empresarial.'\n",
      "page_content='En el estudio realizado por Ata Özdemirci en 2011, se examinó la relación entre el emprendimiento corporativo y el proceso estratégico en empresas de Estambul. Se encontró que el emprendimiento corporativo influye en el rendimiento concreto y abstracto de la empresa, con efectos significativos de diferentes estilos de liderazgo en la innovación, la proactividad y la creación de nuevos negocios.'\n",
      "page_content='of top management [21].  Corporate entrepreneurship has been attached to multiple organizational phenomena.'\n",
      "page_content='of top management [21].  Corporate entrepreneurship has been attached to multiple organizational phenomena.'\n",
      "page_content='first challeng e is managing the knowledge. The second challenge for the management of corporate entrepreneurship as a result of dynamism, complexity and uncertainty, is  that corporate entrepreneurship requires coordination through mutual adjustment rather than command and control, and is driven by commitment rather than consensus [32].  It’s strongly expected that corporate entrepreneurship is related with the habits of the company about decision making processes. The decentralization of this process can build an organic structure which the workers can take the initiative and this change will spread the entrepreneurship process from business owners or leaders to the whole company. While command style will effect corporate entrepreneurship negatively, the other styles are expected to effect corporate entrepreneurship positively.  Hypothesis 3: There is a strong relationship between strategy process and corporate entrepreneurship.  4. Methodology  4.1. Data collection and instrument  The type of the research is hypothetic research. Data collection method is survey. Sample selection  method is coincidental. The universe of this work consists of the enterprises in the list of Istanbul  Chamber of Industry that means approximately 12000 members. Face-to-face survey, mail and telephone  survey is used for reaching maximum participation.'\n"
     ]
    }
   ],
   "source": [
    "# Demo\n",
    "query = input(\"Hazme una pregunta: \")\n",
    "print(query)\n",
    "llm_response = rag_chain_with_source.invoke(query)\n",
    "process_llm_response(llm_response)"
   ]
  },
  {
   "cell_type": "code",
   "execution_count": 30,
   "metadata": {},
   "outputs": [
    {
     "name": "stdout",
     "output_type": "stream",
     "text": [
      "¿Cuáles son los objetivos principales del documento?\n",
      "El documento tiene como objetivo principal investigar la relación entre el\n",
      "emprendimiento corporativo y el proceso estratégico en empresas de Estambul. Se\n",
      "analiza cómo el emprendimiento corporativo influye en el rendimiento concreto y\n",
      "abstracto de la empresa, centrándose en los efectos significativos de diferentes\n",
      "estilos de liderazgo en la innovación, la proactividad y la creación de nuevos\n",
      "negocios. Además, se busca identificar la importancia de la cultura corporativa,\n",
      "la misión y la visión en la promoción de la innovación y la creatividad dentro\n",
      "de la organización. En resumen, el documento busca destacar la relevancia de los\n",
      "estilos de liderazgo en el emprendimiento corporativo y sugiere que un enfoque\n",
      "racional-transactivo puede ser el más efectivo para lograr resultados\n",
      "emprendedores en el contexto empresarial.\n",
      "\n",
      "Referencias:\n",
      "page_content='Se observó que el estilo racional-transactivo tiene un impacto positivo en el rendimiento concreto y abstracto, mientras que el estilo comandante tiene un efecto negativo en el rendimiento concreto. El estilo simbólico tiene un efecto positivo en el rendimiento abstracto. Además, se encontró que la proactividad no tiene un efecto significativo en el rendimiento, y que la creación de nuevas empresas es crucial para el éxito a corto y largo plazo en el mercado de Estambul.\\n\\nEl estudio sugiere que el enfoque racional-transactivo es el más efectivo para lograr resultados emprendedores, y que la innovación, la renovación personal y la creación de nuevos negocios son factores clave para el éxito empresarial. Se destaca la importancia de la cultura corporativa, la misión y la visión en la promoción de la innovación y la creatividad dentro de la organización.\\n\\nEn resumen, el estudio de Ata Özdemirci resalta la importancia de los estilos de liderazgo en el emprendimiento corporativo y sugiere que un enfoque racional-transactivo puede ser el más efectivo para lograr diversos resultados emprendedores en el contexto empresarial.'\n",
      "page_content='En el estudio realizado por Ata Özdemirci en 2011, se examinó la relación entre el emprendimiento corporativo y el proceso estratégico en empresas de Estambul. Se encontró que el emprendimiento corporativo influye en el rendimiento concreto y abstracto de la empresa, con efectos significativos de diferentes estilos de liderazgo en la innovación, la proactividad y la creación de nuevos negocios.'\n",
      "page_content='Strategic Management Conference 1877–0428 © 2011 Published by Elsevier Ltd. Open  access  under  CC BY-NC-ND  license. Selection and/or peer-review under responsibility of 7th International Strategic  Management  Conference doi:10.1016/j.sbspro.2011.09.068'\n",
      "page_content='Strategic Management Conference 1877–0428 © 2011 Published by Elsevier Ltd. Open  access  under  CC BY-NC-ND  license. Selection and/or peer-review under responsibility of 7th International Strategic  Management  Conference doi:10.1016/j.sbspro.2011.09.068'\n",
      "page_content='of top management [21].  Corporate entrepreneurship has been attached to multiple organizational phenomena.'\n"
     ]
    }
   ],
   "source": [
    "# Demo\n",
    "query = input(\"Hazme una pregunta: \")\n",
    "print(query)\n",
    "llm_response = rag_chain_with_source.invoke(query)\n",
    "process_llm_response(llm_response)"
   ]
  },
  {
   "cell_type": "code",
   "execution_count": 31,
   "metadata": {},
   "outputs": [
    {
     "name": "stdout",
     "output_type": "stream",
     "text": [
      "¿Cuál es la metodología de investigación?\n",
      "La metodología de investigación utilizada en el estudio realizado por Ata\n",
      "Özdemirci en 2011 consiste en un enfoque hipotético. El método de recolección de\n",
      "datos empleado es la encuesta, con una selección de muestra coincidental. El\n",
      "universo de trabajo incluye a las empresas en la lista de la Cámara de Industria\n",
      "de Estambul, aproximadamente 12000 miembros. Se realizaron encuestas cara a\n",
      "cara, por correo y telefónicas para alcanzar la máxima participación. Además, se\n",
      "realizaron análisis de factores para determinar las dimensiones de las medidas\n",
      "utilizadas, como la medida de emprendimiento corporativo, los tipos de líderes\n",
      "estratégicos y el rendimiento organizacional. Se utilizaron pruebas de\n",
      "normalidad, confiabilidad, correlación y regresión con SPSS 17.0 para medir la\n",
      "potencia de las hipótesis planteadas. Se llevaron a cabo análisis de regresión\n",
      "múltiple para medir el efecto de las variables independientes (emprendimiento\n",
      "corporativo, tipos de líderes estratégicos) en el desempeño de la empresa, tanto\n",
      "concreto como abstracto. Además, se realizaron análisis de factores y\n",
      "confiabilidades para establecer las subdimensiones de las medidas utilizadas en\n",
      "el estudio. En resumen, la metodología utilizada abarca desde la recolección de\n",
      "datos hasta el análisis estadístico para probar las hipótesis planteadas en el\n",
      "estudio.\n",
      "\n",
      "Referencias:\n",
      "page_content='Se observó que el estilo racional-transactivo tiene un impacto positivo en el rendimiento concreto y abstracto, mientras que el estilo comandante tiene un efecto negativo en el rendimiento concreto. El estilo simbólico tiene un efecto positivo en el rendimiento abstracto. Además, se encontró que la proactividad no tiene un efecto significativo en el rendimiento, y que la creación de nuevas empresas es crucial para el éxito a corto y largo plazo en el mercado de Estambul.\\n\\nEl estudio sugiere que el enfoque racional-transactivo es el más efectivo para lograr resultados emprendedores, y que la innovación, la renovación personal y la creación de nuevos negocios son factores clave para el éxito empresarial. Se destaca la importancia de la cultura corporativa, la misión y la visión en la promoción de la innovación y la creatividad dentro de la organización.\\n\\nEn resumen, el estudio de Ata Özdemirci resalta la importancia de los estilos de liderazgo en el emprendimiento corporativo y sugiere que un enfoque racional-transactivo puede ser el más efectivo para lograr diversos resultados emprendedores en el contexto empresarial.'\n",
      "page_content='En el estudio realizado por Ata Özdemirci en 2011, se examinó la relación entre el emprendimiento corporativo y el proceso estratégico en empresas de Estambul. Se encontró que el emprendimiento corporativo influye en el rendimiento concreto y abstracto de la empresa, con efectos significativos de diferentes estilos de liderazgo en la innovación, la proactividad y la creación de nuevos negocios.'\n",
      "page_content='first challeng e is managing the knowledge. The second challenge for the management of corporate entrepreneurship as a result of dynamism, complexity and uncertainty, is  that corporate entrepreneurship requires coordination through mutual adjustment rather than command and control, and is driven by commitment rather than consensus [32].  It’s strongly expected that corporate entrepreneurship is related with the habits of the company about decision making processes. The decentralization of this process can build an organic structure which the workers can take the initiative and this change will spread the entrepreneurship process from business owners or leaders to the whole company. While command style will effect corporate entrepreneurship negatively, the other styles are expected to effect corporate entrepreneurship positively.  Hypothesis 3: There is a strong relationship between strategy process and corporate entrepreneurship.  4. Methodology  4.1. Data collection and instrument  The type of the research is hypothetic research. Data collection method is survey. Sample selection  method is coincidental. The universe of this work consists of the enterprises in the list of Istanbul  Chamber of Industry that means approximately 12000 members. Face-to-face survey, mail and telephone  survey is used for reaching maximum participation.'\n",
      "page_content='first challeng e is managing the knowledge. The second challenge for the management of corporate entrepreneurship as a result of dynamism, complexity and uncertainty, is  that corporate entrepreneurship requires coordination through mutual adjustment rather than command and control, and is driven by commitment rather than consensus [32].  It’s strongly expected that corporate entrepreneurship is related with the habits of the company about decision making processes. The decentralization of this process can build an organic structure which the workers can take the initiative and this change will spread the entrepreneurship process from business owners or leaders to the whole company. While command style will effect corporate entrepreneurship negatively, the other styles are expected to effect corporate entrepreneurship positively.  Hypothesis 3: There is a strong relationship between strategy process and corporate entrepreneurship.  4. Methodology  4.1. Data collection and instrument  The type of the research is hypothetic research. Data collection method is survey. Sample selection  method is coincidental. The universe of this work consists of the enterprises in the list of Istanbul  Chamber of Industry that means approximately 12000 members. Face-to-face survey, mail and telephone  survey is used for reaching maximum participation.'\n",
      "page_content='616  Ata Özdemirci / Procedia Social and Behavioral Sciences 24 (2011) 611–626 4.2. Measures  The survey prepared for the research has 71 questions. As seen at Table 1, measure of corporate  entrepreneurship [33] has 35 items, measure of Strategic Leader Types [34] has 16 items. There are also  10 questions about the firm’s perceived performance, 1 question about firm size, 1 question about the sector of the firm, and 8 questions about the demographics. Likert Scale-5 is used in all questions.   Table 1: Measures Used in Research  Measure   Developers Item Number  Corporate Entrepreneurship Antoncic and Hisrich (2003) 35  Strategic Leader Types Hart and Banbury (1994) 16  Organizational Performance - 10  Factor analysis is used to determine the dimensions of the measures. Also K-S test for normal  distribution and Cronbach Alpha test for reliability, Correlation and Regression tests are made with SPSS 17.0 to measure the power of hypothesis.   Before testing the main hypothesis, the descriptive statistics and the correlation test between the  factors in the model is analyzed. Then, a multi regression test is made for measuring the effect of the independent variables (corporate entrepreneurship, strategic leader types) on firm performance.   4.3. Factor Analysis and Reliabilities  Expletory factor analysis is made for establishing the sub dimensions of measures. All factors have  passed the KMO Measure of Sampling Adequacy and Bartlett test of Sphericity which means that our  data set is appropriate for factor analyses (Table 2). Pri ncipal components and varimax method are used  in analysis. For all measures, items which have factor weight below 0,50; unique items in a factor; items with close factor weights are leaved out of evaluation. After this processes, factors which have initial eigenvalues over 1,00 and Cronbach Alpha over 0,65 are:  4 factors in Corporate Entrepreneurship Measure (Cumulative Extraction Sums= %75,905) which can  be called as Innovativeness'\n"
     ]
    }
   ],
   "source": [
    "# Demo\n",
    "query = input(\"Hazme una pregunta: \")\n",
    "print(query)\n",
    "llm_response = rag_chain_with_source.invoke(query)\n",
    "process_llm_response(llm_response)"
   ]
  },
  {
   "cell_type": "code",
   "execution_count": 32,
   "metadata": {},
   "outputs": [
    {
     "name": "stdout",
     "output_type": "stream",
     "text": [
      "¿Puedes explicarme el enfoque hipotético de la metodología del estudio?\n",
      "Claro, en el estudio se utilizó un enfoque hipotético de investigación. Esto\n",
      "significa que se plantearon hipótesis sobre la relación entre variables, como el\n",
      "impacto de la estrategia de liderazgo en el rendimiento empresarial. Luego, se\n",
      "recopiló información a través de encuestas para evaluar si las hipótesis\n",
      "planteadas se cumplían o no. Este enfoque permite analizar de manera sistemática\n",
      "y rigurosa la relación entre diferentes variables en el contexto del\n",
      "emprendimiento corporativo y el proceso estratégico en empresas de Estambul.\n",
      "\n",
      "Referencias:\n",
      "page_content='Se observó que el estilo racional-transactivo tiene un impacto positivo en el rendimiento concreto y abstracto, mientras que el estilo comandante tiene un efecto negativo en el rendimiento concreto. El estilo simbólico tiene un efecto positivo en el rendimiento abstracto. Además, se encontró que la proactividad no tiene un efecto significativo en el rendimiento, y que la creación de nuevas empresas es crucial para el éxito a corto y largo plazo en el mercado de Estambul.\\n\\nEl estudio sugiere que el enfoque racional-transactivo es el más efectivo para lograr resultados emprendedores, y que la innovación, la renovación personal y la creación de nuevos negocios son factores clave para el éxito empresarial. Se destaca la importancia de la cultura corporativa, la misión y la visión en la promoción de la innovación y la creatividad dentro de la organización.\\n\\nEn resumen, el estudio de Ata Özdemirci resalta la importancia de los estilos de liderazgo en el emprendimiento corporativo y sugiere que un enfoque racional-transactivo puede ser el más efectivo para lograr diversos resultados emprendedores en el contexto empresarial.'\n",
      "page_content='En el estudio realizado por Ata Özdemirci en 2011, se examinó la relación entre el emprendimiento corporativo y el proceso estratégico en empresas de Estambul. Se encontró que el emprendimiento corporativo influye en el rendimiento concreto y abstracto de la empresa, con efectos significativos de diferentes estilos de liderazgo en la innovación, la proactividad y la creación de nuevos negocios.'\n",
      "page_content='first challeng e is managing the knowledge. The second challenge for the management of corporate entrepreneurship as a result of dynamism, complexity and uncertainty, is  that corporate entrepreneurship requires coordination through mutual adjustment rather than command and control, and is driven by commitment rather than consensus [32].  It’s strongly expected that corporate entrepreneurship is related with the habits of the company about decision making processes. The decentralization of this process can build an organic structure which the workers can take the initiative and this change will spread the entrepreneurship process from business owners or leaders to the whole company. While command style will effect corporate entrepreneurship negatively, the other styles are expected to effect corporate entrepreneurship positively.  Hypothesis 3: There is a strong relationship between strategy process and corporate entrepreneurship.  4. Methodology  4.1. Data collection and instrument  The type of the research is hypothetic research. Data collection method is survey. Sample selection  method is coincidental. The universe of this work consists of the enterprises in the list of Istanbul  Chamber of Industry that means approximately 12000 members. Face-to-face survey, mail and telephone  survey is used for reaching maximum participation.'\n",
      "page_content='first challeng e is managing the knowledge. The second challenge for the management of corporate entrepreneurship as a result of dynamism, complexity and uncertainty, is  that corporate entrepreneurship requires coordination through mutual adjustment rather than command and control, and is driven by commitment rather than consensus [32].  It’s strongly expected that corporate entrepreneurship is related with the habits of the company about decision making processes. The decentralization of this process can build an organic structure which the workers can take the initiative and this change will spread the entrepreneurship process from business owners or leaders to the whole company. While command style will effect corporate entrepreneurship negatively, the other styles are expected to effect corporate entrepreneurship positively.  Hypothesis 3: There is a strong relationship between strategy process and corporate entrepreneurship.  4. Methodology  4.1. Data collection and instrument  The type of the research is hypothetic research. Data collection method is survey. Sample selection  method is coincidental. The universe of this work consists of the enterprises in the list of Istanbul  Chamber of Industry that means approximately 12000 members. Face-to-face survey, mail and telephone  survey is used for reaching maximum participation.'\n",
      "page_content='618  Ata Özdemirci / Procedia Social and Behavioral Sciences 24 (2011) 611–626   TOTAL 82,056   Kaizer Meyer Olkin Measure of Sampling Adequacy  Bartlett Test of Sphericity    Chi-Square  df  Sig. ,783  1134,787  55  ,000   Factor Name Items Factor  Loadings Factor Extraction (%) Reliability Analysis (Cronbach Alpha)  Concrete Performance Sales   Financial Performance Profitability   Market Share   Reaching Goals ,865 ,842 ,822  ,821  ,807 61,188 ,919  Abstract  Performance Handling difficulties  HR quality  Meeting expectations ,890  ,772  ,585 13,113 ,753    TOTAL 74,301   Kaizer Meyer Olkin Measure of Sampling Adequacy  Bartlett Test of Sphericity    Chi-Square  df  Sig. ,875 721,745  28 ,000  4.4. Descriptive Statistics and Correlations  80,9% of the participants are upper level manager. Rest of them are middle and lower level manager.  80,1% of the respondents are man, and 19,9 % of them are woman. Their average age is 41,18. 46,1% of  the respondents are bachelor; 22,7% of them have master, %2,8 have PhD degree. 57,4% of the respondents have more than 5000 TL (>3300 $) of monthly income, 16,3 % of them have 4000-5000 TL and 19,9 % of them have 3000-4000 TL monthly income. 34% of the respondents have an experience  more than 15 years and 20,6% of them have an experience of 5-10 years.       When we look at the descriptive statistics of the factors at Table 3, we can see that the commander  style in leadership is very common (M=3,93) and symbolic leadership follows it (M=3,52). In these firms, rational-transactive leadership is rarely followed (M=2,88). Corporate Entrepreneurship level of the companies in Istanbul is perceived very optimistic. For example innovativeness of these firms are perceived very high (M=3,34) and the other factors of corporate entrepreneurship which are proactiveness(M=3,07), self renewal(M=3,01), new business venturing (M=3,11) are not so low. We can also say that the optimism of the participants persists in going on about the firm'\n"
     ]
    }
   ],
   "source": [
    "# Demo\n",
    "query = input(\"Hazme una pregunta: \")\n",
    "print(query)\n",
    "llm_response = rag_chain_with_source.invoke(query)\n",
    "process_llm_response(llm_response)"
   ]
  },
  {
   "cell_type": "code",
   "execution_count": 33,
   "metadata": {},
   "outputs": [
    {
     "name": "stdout",
     "output_type": "stream",
     "text": [
      "¿Cuáles son las hipótesis planteadas en el estudio?\n",
      "En el estudio realizado por Ata Özdemirci en 2011, se plantearon tres hipótesis:\n",
      "\n",
      "1. Existe un efecto significativo del emprendimiento corporativo en el\n",
      "rendimiento concreto y abstracto de la empresa.\n",
      "2. Hay efectos significativos y diferentes de los procesos de formación de\n",
      "estrategias en el rendimiento abstracto y concreto.\n",
      "3. Existe una relación fuerte entre el proceso estratégico y el emprendimiento\n",
      "corporativo.\n",
      "\n",
      "Referencias:\n",
      "page_content='En el estudio realizado por Ata Özdemirci en 2011, se examinó la relación entre el emprendimiento corporativo y el proceso estratégico en empresas de Estambul. Se encontró que el emprendimiento corporativo influye en el rendimiento concreto y abstracto de la empresa, con efectos significativos de diferentes estilos de liderazgo en la innovación, la proactividad y la creación de nuevos negocios.'\n",
      "page_content='Se observó que el estilo racional-transactivo tiene un impacto positivo en el rendimiento concreto y abstracto, mientras que el estilo comandante tiene un efecto negativo en el rendimiento concreto. El estilo simbólico tiene un efecto positivo en el rendimiento abstracto. Además, se encontró que la proactividad no tiene un efecto significativo en el rendimiento, y que la creación de nuevas empresas es crucial para el éxito a corto y largo plazo en el mercado de Estambul.\\n\\nEl estudio sugiere que el enfoque racional-transactivo es el más efectivo para lograr resultados emprendedores, y que la innovación, la renovación personal y la creación de nuevos negocios son factores clave para el éxito empresarial. Se destaca la importancia de la cultura corporativa, la misión y la visión en la promoción de la innovación y la creatividad dentro de la organización.\\n\\nEn resumen, el estudio de Ata Özdemirci resalta la importancia de los estilos de liderazgo en el emprendimiento corporativo y sugiere que un enfoque racional-transactivo puede ser el más efectivo para lograr diversos resultados emprendedores en el contexto empresarial.'\n",
      "page_content='so low. We can also say that the optimism of the participants persists in going on about the firm performance (M=3,61and M=3,54).'\n",
      "page_content='so low. We can also say that the optimism of the participants persists in going on about the firm performance (M=3,61and M=3,54).'\n",
      "page_content='first challeng e is managing the knowledge. The second challenge for the management of corporate entrepreneurship as a result of dynamism, complexity and uncertainty, is  that corporate entrepreneurship requires coordination through mutual adjustment rather than command and control, and is driven by commitment rather than consensus [32].  It’s strongly expected that corporate entrepreneurship is related with the habits of the company about decision making processes. The decentralization of this process can build an organic structure which the workers can take the initiative and this change will spread the entrepreneurship process from business owners or leaders to the whole company. While command style will effect corporate entrepreneurship negatively, the other styles are expected to effect corporate entrepreneurship positively.  Hypothesis 3: There is a strong relationship between strategy process and corporate entrepreneurship.  4. Methodology  4.1. Data collection and instrument  The type of the research is hypothetic research. Data collection method is survey. Sample selection  method is coincidental. The universe of this work consists of the enterprises in the list of Istanbul  Chamber of Industry that means approximately 12000 members. Face-to-face survey, mail and telephone  survey is used for reaching maximum participation.'\n"
     ]
    }
   ],
   "source": [
    "# Demo\n",
    "query = input(\"Hazme una pregunta: \")\n",
    "print(query)\n",
    "llm_response = rag_chain_with_source.invoke(query)\n",
    "process_llm_response(llm_response)"
   ]
  },
  {
   "cell_type": "code",
   "execution_count": 34,
   "metadata": {},
   "outputs": [
    {
     "name": "stdout",
     "output_type": "stream",
     "text": [
      "¿Cuáles fueron los resultados más importantes del estudio?\n",
      "Los resultados más importantes del estudio realizado por Ata Özdemirci en 2011\n",
      "resaltan la influencia positiva del estilo racional-transactivo en el\n",
      "rendimiento concreto y abstracto, así como el impacto negativo del estilo\n",
      "comandante en el rendimiento concreto. Se encontró que el estilo simbólico tiene\n",
      "un efecto positivo en el rendimiento abstracto. Además, se observó que la\n",
      "proactividad no tiene un efecto significativo en el rendimiento, y se enfatizó\n",
      "la importancia de la creación de nuevas empresas para el éxito a corto y largo\n",
      "plazo en el mercado de Estambul. El estudio sugiere que la combinación de un\n",
      "enfoque racional-transactivo, la innovación, la renovación personal y la\n",
      "creación de nuevos negocios son factores clave para el éxito empresarial.\n",
      "Además, se destaca la importancia de la cultura corporativa, la misión y la\n",
      "visión en la promoción de la innovación y la creatividad dentro de la\n",
      "organización.\n",
      "\n",
      "Referencias:\n",
      "page_content='Se observó que el estilo racional-transactivo tiene un impacto positivo en el rendimiento concreto y abstracto, mientras que el estilo comandante tiene un efecto negativo en el rendimiento concreto. El estilo simbólico tiene un efecto positivo en el rendimiento abstracto. Además, se encontró que la proactividad no tiene un efecto significativo en el rendimiento, y que la creación de nuevas empresas es crucial para el éxito a corto y largo plazo en el mercado de Estambul.\\n\\nEl estudio sugiere que el enfoque racional-transactivo es el más efectivo para lograr resultados emprendedores, y que la innovación, la renovación personal y la creación de nuevos negocios son factores clave para el éxito empresarial. Se destaca la importancia de la cultura corporativa, la misión y la visión en la promoción de la innovación y la creatividad dentro de la organización.\\n\\nEn resumen, el estudio de Ata Özdemirci resalta la importancia de los estilos de liderazgo en el emprendimiento corporativo y sugiere que un enfoque racional-transactivo puede ser el más efectivo para lograr diversos resultados emprendedores en el contexto empresarial.'\n",
      "page_content='En el estudio realizado por Ata Özdemirci en 2011, se examinó la relación entre el emprendimiento corporativo y el proceso estratégico en empresas de Estambul. Se encontró que el emprendimiento corporativo influye en el rendimiento concreto y abstracto de la empresa, con efectos significativos de diferentes estilos de liderazgo en la innovación, la proactividad y la creación de nuevos negocios.'\n",
      "page_content='so low. We can also say that the optimism of the participants persists in going on about the firm performance (M=3,61and M=3,54).'\n",
      "page_content='so low. We can also say that the optimism of the participants persists in going on about the firm performance (M=3,61and M=3,54).'\n",
      "page_content='618  Ata Özdemirci / Procedia Social and Behavioral Sciences 24 (2011) 611–626   TOTAL 82,056   Kaizer Meyer Olkin Measure of Sampling Adequacy  Bartlett Test of Sphericity    Chi-Square  df  Sig. ,783  1134,787  55  ,000   Factor Name Items Factor  Loadings Factor Extraction (%) Reliability Analysis (Cronbach Alpha)  Concrete Performance Sales   Financial Performance Profitability   Market Share   Reaching Goals ,865 ,842 ,822  ,821  ,807 61,188 ,919  Abstract  Performance Handling difficulties  HR quality  Meeting expectations ,890  ,772  ,585 13,113 ,753    TOTAL 74,301   Kaizer Meyer Olkin Measure of Sampling Adequacy  Bartlett Test of Sphericity    Chi-Square  df  Sig. ,875 721,745  28 ,000  4.4. Descriptive Statistics and Correlations  80,9% of the participants are upper level manager. Rest of them are middle and lower level manager.  80,1% of the respondents are man, and 19,9 % of them are woman. Their average age is 41,18. 46,1% of  the respondents are bachelor; 22,7% of them have master, %2,8 have PhD degree. 57,4% of the respondents have more than 5000 TL (>3300 $) of monthly income, 16,3 % of them have 4000-5000 TL and 19,9 % of them have 3000-4000 TL monthly income. 34% of the respondents have an experience  more than 15 years and 20,6% of them have an experience of 5-10 years.       When we look at the descriptive statistics of the factors at Table 3, we can see that the commander  style in leadership is very common (M=3,93) and symbolic leadership follows it (M=3,52). In these firms, rational-transactive leadership is rarely followed (M=2,88). Corporate Entrepreneurship level of the companies in Istanbul is perceived very optimistic. For example innovativeness of these firms are perceived very high (M=3,34) and the other factors of corporate entrepreneurship which are proactiveness(M=3,07), self renewal(M=3,01), new business venturing (M=3,11) are not so low. We can also say that the optimism of the participants persists in going on about the firm'\n"
     ]
    }
   ],
   "source": [
    "# Demo\n",
    "query = input(\"Hazme una pregunta: \")\n",
    "print(query)\n",
    "llm_response = rag_chain_with_source.invoke(query)\n",
    "process_llm_response(llm_response)"
   ]
  },
  {
   "cell_type": "code",
   "execution_count": 35,
   "metadata": {},
   "outputs": [
    {
     "name": "stdout",
     "output_type": "stream",
     "text": [
      "¿Los resultados cumplen con los objetivos del documento?\n",
      "Los resultados obtenidos en el estudio realizado por Ata Özdemirci sugieren que\n",
      "los estilos de liderazgo, como el racional-transactivo, tienen un impacto\n",
      "positivo en el rendimiento empresarial concreto y abstracto. Además, se encontró\n",
      "que la proactividad no tiene un efecto significativo en el rendimiento. En\n",
      "cuanto a la relación entre la creación de nuevas empresas y el éxito a corto y\n",
      "largo plazo en el mercado de Estambul, se destaca la importancia de la\n",
      "innovación, la renovación personal y la cultura corporativa en la promoción de\n",
      "la creatividad y la innovación dentro de las organizaciones.\n",
      "\n",
      "En resumen, los resultados obtenidos en el estudio parecen cumplir con los\n",
      "objetivos planteados, ya que muestran la relevancia de los estilos de liderazgo\n",
      "y la importancia de la cultura empresarial en el desempeño empresarial. Sin\n",
      "embargo, se necesita realizar un análisis más detallado para profundizar en la\n",
      "relación entre la estrategia empresarial y el emprendimiento corporativo en el\n",
      "contexto de Estambul.\n",
      "\n",
      "Referencias:\n",
      "page_content='Se observó que el estilo racional-transactivo tiene un impacto positivo en el rendimiento concreto y abstracto, mientras que el estilo comandante tiene un efecto negativo en el rendimiento concreto. El estilo simbólico tiene un efecto positivo en el rendimiento abstracto. Además, se encontró que la proactividad no tiene un efecto significativo en el rendimiento, y que la creación de nuevas empresas es crucial para el éxito a corto y largo plazo en el mercado de Estambul.\\n\\nEl estudio sugiere que el enfoque racional-transactivo es el más efectivo para lograr resultados emprendedores, y que la innovación, la renovación personal y la creación de nuevos negocios son factores clave para el éxito empresarial. Se destaca la importancia de la cultura corporativa, la misión y la visión en la promoción de la innovación y la creatividad dentro de la organización.\\n\\nEn resumen, el estudio de Ata Özdemirci resalta la importancia de los estilos de liderazgo en el emprendimiento corporativo y sugiere que un enfoque racional-transactivo puede ser el más efectivo para lograr diversos resultados emprendedores en el contexto empresarial.'\n",
      "page_content='En el estudio realizado por Ata Özdemirci en 2011, se examinó la relación entre el emprendimiento corporativo y el proceso estratégico en empresas de Estambul. Se encontró que el emprendimiento corporativo influye en el rendimiento concreto y abstracto de la empresa, con efectos significativos de diferentes estilos de liderazgo en la innovación, la proactividad y la creación de nuevos negocios.'\n",
      "page_content='so low. We can also say that the optimism of the participants persists in going on about the firm performance (M=3,61and M=3,54).'\n",
      "page_content='so low. We can also say that the optimism of the participants persists in going on about the firm performance (M=3,61and M=3,54).'\n",
      "page_content='Ata Özdemirci / Procedia Social and Behavioral Sciences 24 (2011) 611–626 617 performance consists of handling difficulties, HR quality and meeting expectations items which can be  called as abstract performance criteria (Table 2).  Table 2: The Results of Factor and Reliability Analysis   Factor Name Items Factor  Loadings Factor Extraction (%) Reliability Analysis (Cronbach Alpha)  Innovativeness Employee’s  initiatives to implement ideas  Incentives for analytical solutions of workers  Supporting new ideas and projects  Openness for employee’s ideas Authorization of employees   Flexible org. structure for innovation  Rewarding ideas for innovation  Rewarding creative and innovative activities ,892  ,870  ,826  ,819  ,756  ,738  ,719  ,633 46,282 ,935  Proactiveness Risk taking in uncertain conditions  Tendency to apply risky projects Adventurous characteristics of top managers ,890  ,882  ,632 12,976 ,831  Self Renewal Changing strategies for competing firm Aggressive and competitive behaviors  Changing competitive strategy ,912  ,747  ,705 9,625 ,817  New Business  Venturing Broadening business lines in current industry  Pursuing new businesses in new industries ,882 ,844 7,021 ,852    TOTAL 75,905   Kaizer Meyer Olkin Measure of Sampling Adequacy  Bartlett Test of Sphericity    Chi-Square  df  Sig. ,814  1725,825  120 ,000   Factor Name Items Factor  Loadings Factor Extraction (%) Reliability Analysis (Cronbach Alpha)  Rational -  Transactive Formal analysis of environment for str. plan  Strategic plan is a formal procedure  Business planning involves everyone  Adopt written strategic plan each year ,901  ,876  ,824  ,805 47,670 ,936  Commander CEO defines vision and general direction  CEO determines and executes strategy  Strategy primarily set by CEO ,904  ,852 ,773 19,589 ,830  Symbolic CEO is a personal example  CEO spreads his dream throughout the org. ,864  ,862 8,091 ,829  Generative Employees know what to do for surviving     Employees are willing to'\n"
     ]
    }
   ],
   "source": [
    "# Demo\n",
    "query = input(\"Hazme una pregunta: \")\n",
    "print(query)\n",
    "llm_response = rag_chain_with_source.invoke(query)\n",
    "process_llm_response(llm_response)"
   ]
  },
  {
   "cell_type": "code",
   "execution_count": null,
   "metadata": {},
   "outputs": [],
   "source": [
    "# Demo\n",
    "query = input(\"Hazme una pregunta: \")\n",
    "print(query)\n",
    "llm_response = rag_chain_with_source.invoke(query)\n",
    "process_llm_response(llm_response)"
   ]
  },
  {
   "cell_type": "code",
   "execution_count": null,
   "metadata": {},
   "outputs": [],
   "source": [
    "# Demo\n",
    "query = input(\"Hazme una pregunta: \")\n",
    "print(query)\n",
    "llm_response = rag_chain_with_source.invoke(query)\n",
    "process_llm_response(llm_response)"
   ]
  },
  {
   "cell_type": "code",
   "execution_count": null,
   "metadata": {},
   "outputs": [],
   "source": [
    "# Demo\n",
    "query = input(\"Hazme una pregunta: \")\n",
    "print(query)\n",
    "llm_response = rag_chain_with_source.invoke(query)\n",
    "process_llm_response(llm_response)"
   ]
  },
  {
   "cell_type": "code",
   "execution_count": null,
   "metadata": {},
   "outputs": [],
   "source": [
    "# Demo\n",
    "query = input(\"Hazme una pregunta: \")\n",
    "print(query)\n",
    "llm_response = rag_chain_with_source.invoke(query)\n",
    "process_llm_response(llm_response)"
   ]
  },
  {
   "cell_type": "code",
   "execution_count": null,
   "metadata": {},
   "outputs": [],
   "source": [
    "# Demo\n",
    "query = input(\"Hazme una pregunta: \")\n",
    "print(query)\n",
    "llm_response = rag_chain_with_source.invoke(query)\n",
    "process_llm_response(llm_response)"
   ]
  },
  {
   "cell_type": "code",
   "execution_count": null,
   "metadata": {},
   "outputs": [],
   "source": [
    "# Demo\n",
    "query = input(\"Hazme una pregunta: \")\n",
    "print(query)\n",
    "llm_response = rag_chain_with_source.invoke(query)\n",
    "process_llm_response(llm_response)"
   ]
  },
  {
   "cell_type": "markdown",
   "metadata": {},
   "source": [
    "# Hacer historial y guardar conversaciones para medir efectividad."
   ]
  },
  {
   "cell_type": "code",
   "execution_count": null,
   "metadata": {},
   "outputs": [],
   "source": [
    "# Para archivos grandes debes dividir el texto\n",
    "\n",
    "# # Diccionario inicial\n",
    "# data = {\n",
    "#     2: 'El impacto de la innovación de producto, innovación de proceso, innovación organizacional y la percepción de la corrupción en la rentabilidad empresarial en Colombia es un tema abordado en un estudio realizado por Gueiriluz Romero Chaparro y Juan Felipe Gómez Quiceno de la Universidad EAN. El propósito de la investigación es analizar'\n",
    "# }\n",
    "\n",
    "# # Obtener el texto original\n",
    "# original_text = data[2]\n",
    "\n",
    "# # Encontrar el punto medio\n",
    "# mid_point = len(original_text) // 2\n",
    "\n",
    "# # Definir el tamaño del solapamiento\n",
    "# overlap_size = 50\n",
    "\n",
    "# # Calcular los puntos de división con solapamiento\n",
    "# start_overlap = max(mid_point - overlap_size // 2, 0)\n",
    "# end_overlap = min(mid_point + overlap_size // 2, len(original_text))\n",
    "\n",
    "# # Dividir el texto en dos partes con solapamiento\n",
    "# first_half = original_text[:end_overlap]\n",
    "# second_half = original_text[start_overlap:]\n",
    "\n",
    "# # Crear nuevas llaves en el diccionario\n",
    "# data[2] = first_half\n",
    "# data[3] = second_half\n",
    "\n",
    "# # Imprimir el diccionario actualizado\n",
    "# print(data)"
   ]
  }
 ],
 "metadata": {
  "kernelspec": {
   "display_name": ".venv",
   "language": "python",
   "name": "python3"
  },
  "language_info": {
   "codemirror_mode": {
    "name": "ipython",
    "version": 3
   },
   "file_extension": ".py",
   "mimetype": "text/x-python",
   "name": "python",
   "nbconvert_exporter": "python",
   "pygments_lexer": "ipython3",
   "version": "3.12.3"
  }
 },
 "nbformat": 4,
 "nbformat_minor": 2
}
