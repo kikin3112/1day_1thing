{
 "cells": [
  {
   "cell_type": "markdown",
   "metadata": {},
   "source": [
    "# PROMETEO_v1.0"
   ]
  },
  {
   "cell_type": "markdown",
   "metadata": {},
   "source": [
    "## Paquetería"
   ]
  },
  {
   "cell_type": "code",
   "execution_count": 21,
   "metadata": {},
   "outputs": [],
   "source": [
    "import ast\n",
    "import matplotlib.pyplot as plt\n",
    "import numpy as np\n",
    "import os\n",
    "import pandas as pd\n",
    "import shutil\n",
    "import textwrap\n",
    "import tiktoken\n",
    "import umap.umap_ as umap\n",
    "from dotenv import load_dotenv, find_dotenv\n",
    "from langchain import PromptTemplate\n",
    "from langchain.document_loaders import DirectoryLoader, PyPDFLoader\n",
    "from langchain_core.runnables import RunnableParallel\n",
    "from langchain_core.runnables import RunnablePassthrough\n",
    "from langchain.text_splitter import RecursiveCharacterTextSplitter\n",
    "from langchain.vectorstores import Chroma\n",
    "from langchain_openai import ChatOpenAI, OpenAIEmbeddings\n",
    "from langchain_core.output_parsers import StrOutputParser\n",
    "from sklearn.mixture import GaussianMixture\n",
    "from typing import Optional"
   ]
  },
  {
   "cell_type": "markdown",
   "metadata": {},
   "source": [
    "## Funciones"
   ]
  },
  {
   "cell_type": "code",
   "execution_count": 22,
   "metadata": {},
   "outputs": [],
   "source": [
    "def num_tokens_from_string(string: str) -> int:\n",
    "    \"\"\"Cuenta el número de tokens en el documento\n",
    "    proporcionado.\"\"\"\n",
    "    encoding = tiktoken.get_encoding(\"cl100k_base\")\n",
    "    num_tokens = len(encoding.encode(string))\n",
    "    return num_tokens\n",
    "\n",
    "def reduce_cluster_embeddings(\n",
    "    embeddings: np.ndarray,\n",
    "    dim: int,\n",
    "    n_neighbors: Optional[int] = None,\n",
    "    metric: str = \"cosine\",\n",
    ") -> np.ndarray:\n",
    "    \"\"\"Esta función no la comprendo. Estudie\n",
    "    para entenderla.\"\"\"\n",
    "    if n_neighbors is None:\n",
    "        n_neighbors = int((len(embeddings) - 1) ** 0.5)\n",
    "    return umap.UMAP(\n",
    "        n_neighbors=n_neighbors, n_components=dim, metric=metric\n",
    "    ).fit_transform(embeddings)\n",
    "\n",
    "def get_optimal_clusters(embeddings: np.ndarray, max_clusters: int = 50, random_state: int = 1234):\n",
    "    \"\"\"Obtiene el número óptimo de clústers.\"\"\"\n",
    "    max_clusters = min(max_clusters, len(embeddings))\n",
    "    bics = [GaussianMixture(n_components=n, random_state=random_state).fit(embeddings).bic(embeddings)\n",
    "            for n in range(1, max_clusters)]\n",
    "    return np.argmin(bics) + 1\n",
    "\n",
    "def gmm_clustering(embeddings: np.ndarray, threshold: float, random_state: int = 0):\n",
    "    \"\"\"Clusteriza con el método GMM.\"\"\"\n",
    "    n_clusters = get_optimal_clusters(embeddings)\n",
    "    gm = GaussianMixture(n_components=n_clusters, random_state=random_state).fit(embeddings)\n",
    "    probs = gm.predict_proba(embeddings)\n",
    "    labels = [np.where(prob > threshold)[0] for prob in probs]\n",
    "    return labels, n_clusters\n",
    "\n",
    "def format_cluster_texts(df):\n",
    "    \"\"\"Agrupa los textos de cada clúster el listas.\"\"\"\n",
    "    clustered_texts = {}\n",
    "    for cluster in df['Cluster'].unique():\n",
    "        cluster_texts = df[df['Cluster'] == cluster]['Texto'].tolist()\n",
    "        clustered_texts[cluster] = \" --- \".join(cluster_texts)\n",
    "    return clustered_texts\n",
    "\n",
    "def wrap_text_preserve_newlines(text, width=80):\n",
    "    \"\"\"Formato para respuestas.\"\"\"\n",
    "    lines = text.split('\\n')\n",
    "    wrapped_lines = [textwrap.fill(line, width=width) for line in lines]\n",
    "    wrapped_text = '\\n'.join(wrapped_lines)\n",
    "    return wrapped_text\n",
    "\n",
    "def process_llm_response(llm_response):\n",
    "    \"\"\"Generador de referencias.\"\"\"\n",
    "    print(wrap_text_preserve_newlines(llm_response['answer']))\n",
    "    print('\\nReferencias:')\n",
    "    for contexto in llm_response[\"context\"][:5]:\n",
    "        print(contexto)"
   ]
  },
  {
   "cell_type": "markdown",
   "metadata": {},
   "source": [
    "## Parámetros"
   ]
  },
  {
   "cell_type": "code",
   "execution_count": 23,
   "metadata": {},
   "outputs": [],
   "source": [
    "load_dotenv(find_dotenv())\n",
    "embeddings = OpenAIEmbeddings(\n",
    ")\n",
    "\n",
    "detailed_turbo_llm = turbo_llm = ChatOpenAI(\n",
    "    temperature=0,\n",
    "    model_name='gpt-3.5-turbo-0125'\n",
    ")\n",
    "\n",
    "template = \"\"\"Tu tarea como revisor bibliográfico profesional\n",
    "es crear resúmenes extremadamente detallados del siguiente\n",
    "texto: {text} \"\"\"\n",
    "\n",
    "prompt = PromptTemplate.from_template(template)\n",
    "chain = prompt | detailed_turbo_llm | StrOutputParser()\n",
    "\n",
    "turbo_llm = ChatOpenAI(\n",
    "    temperature=0.7,\n",
    "    model_name='gpt-3.5-turbo-0125'\n",
    ")\n",
    "\n",
    "text_splitter = RecursiveCharacterTextSplitter(\n",
    "    chunk_size=2000,\n",
    "    chunk_overlap=100\n",
    ")"
   ]
  },
  {
   "cell_type": "markdown",
   "metadata": {},
   "source": [
    "## Carga de documentos"
   ]
  },
  {
   "cell_type": "code",
   "execution_count": 24,
   "metadata": {},
   "outputs": [
    {
     "name": "stdout",
     "output_type": "stream",
     "text": [
      "Número de tokens en el documento: 27527\n"
     ]
    }
   ],
   "source": [
    "# Asegúrate de que haya PDFs en la carpeta 'docs'\n",
    "documents = DirectoryLoader('./docs/', glob=\"./*.pdf\", loader_cls=PyPDFLoader).load()\n",
    "# Tratameinto de caracteres indeseados\n",
    "for d in documents:\n",
    "    d.page_content = d.page_content.replace('\\n', ' ').replace('\\t', ' ')\n",
    "\n",
    "docs = text_splitter.split_documents(documents)\n",
    "texts = [doc.page_content for doc in docs]\n",
    "\n",
    "d_sorted = sorted(docs, key=lambda x: x.metadata[\"source\"])\n",
    "d_reversed = list(reversed(d_sorted))\n",
    "concatenated_content = \"\\n\\n\\n --- \\n\\n\\n\".join(\n",
    "    [doc.page_content for doc in d_reversed]\n",
    ")\n",
    "print(\n",
    "    \"Número de tokens en el documento: %s\"\n",
    "    % num_tokens_from_string(concatenated_content)\n",
    ")"
   ]
  },
  {
   "cell_type": "markdown",
   "metadata": {},
   "source": [
    "## ¿Quieres crear o cargar una incrustación?"
   ]
  },
  {
   "cell_type": "code",
   "execution_count": 25,
   "metadata": {},
   "outputs": [
    {
     "name": "stdout",
     "output_type": "stream",
     "text": [
      "Elegiste crear de cero una incrustación.\n",
      "\n",
      "Estás usando la incrustación: sociecon_2_emb.txt\n"
     ]
    }
   ],
   "source": [
    "user_input = input(\"¿Crear (1) o cargar (2) incrustación?: \")\n",
    "destino_emb = r'c:\\Users\\luisr\\OneDrive\\Documentos\\GitHub\\1day_1thing\\prometeo\\embed'\n",
    "\n",
    "if user_input.lower() == \"1\":\n",
    "    print(f'Elegiste crear de cero una incrustación.\\n')\n",
    "    global_embeddings = [embeddings.embed_query(txt) for txt in texts]\n",
    "\n",
    "    embed_name = input('¿Cómo se llama esta incrustación?: ') + '_emb' + '.txt'\n",
    "    emb = rf'c:\\Users\\luisr\\OneDrive\\Documentos\\GitHub\\1day_1thing\\prometeo\\{embed_name}'\n",
    "    with open(rf'./{embed_name}', 'w') as f:\n",
    "        for i in global_embeddings:\n",
    "            f.write(\"%s\\n\" % i)\n",
    "    print(f'Estás usando la incrustación: {embed_name}')\n",
    "    shutil.move(emb, destino_emb)\n",
    "    \n",
    "elif user_input.lower() == \"2\":\n",
    "    print('Elegiste cargar una incrustación ya creada.\\n')\n",
    "    global_embeddings = []\n",
    "\n",
    "    embed_name = input('Nombre de la incrustación: ') + '_emb' + '.txt'\n",
    "    print(f'Estás usando la incrustación: {embed_name}')\n",
    "    with open(rf'./embed/{embed_name}', 'r') as f:\n",
    "        for i in f:\n",
    "            x = ast.literal_eval(i.strip())  # Convertir la cadena a lista de números\n",
    "            global_embeddings.append(x)\n",
    "\n",
    "    global_embeddings = np.array(global_embeddings, dtype=float)\n",
    "    \n",
    "elif user_input != \"1\" and user_input != \"2\":\n",
    "    print('No seleccionaste ninguna incrustación.\\n')\n",
    "\n"
   ]
  },
  {
   "cell_type": "markdown",
   "metadata": {},
   "source": [
    "## Procesamiento de texto"
   ]
  },
  {
   "cell_type": "code",
   "execution_count": 26,
   "metadata": {},
   "outputs": [],
   "source": [
    "dim = 2\n",
    "global_embeddings_reduced = reduce_cluster_embeddings(global_embeddings, dim)\n",
    "labels, _ = gmm_clustering(global_embeddings_reduced, threshold=0.5)\n",
    "simple_labels = [label[0] if len(label) > 0 else -1 for label in labels]\n",
    "\n",
    "df = pd.DataFrame({\n",
    "    'Texto': texts,\n",
    "    'Embedding': list(global_embeddings_reduced),\n",
    "    'Cluster': simple_labels\n",
    "})\n",
    "\n",
    "clustered_texts = format_cluster_texts(df)\n",
    "summaries = {}\n",
    "for cluster, text in clustered_texts.items():\n",
    "    summary = chain.invoke({\"text\": text})\n",
    "    summaries[cluster] = summary\n",
    "embedded_summaries = [embeddings.embed_query(summary) for summary in summaries.values()]\n",
    "embedded_summaries_np = np.array(embedded_summaries)\n",
    "labels, _ = gmm_clustering(embedded_summaries_np, threshold=0.5)\n",
    "simple_labels = [label[0] if len(label) > 0 else -1 for label in labels]\n",
    "clustered_summaries = {}\n",
    "for i, label in enumerate(simple_labels):\n",
    "    if label not in clustered_summaries:\n",
    "        clustered_summaries[label] = []\n",
    "    clustered_summaries[label].append(list(summaries.values())[i])\n",
    "final_summaries = {}\n",
    "for cluster, texts in clustered_summaries.items():\n",
    "    combined_text = ' '.join(texts)\n",
    "    summary = chain.invoke({\"text\": combined_text})\n",
    "    final_summaries[cluster] = summary\n",
    "texts_from_df = df['Texto'].tolist()\n",
    "texts_from_clustered_texts = list(clustered_texts.values())\n",
    "texts_from_final_summaries = list(final_summaries.values())\n",
    "\n",
    "combined_texts = texts_from_df + texts_from_clustered_texts + texts_from_final_summaries"
   ]
  },
  {
   "cell_type": "markdown",
   "metadata": {},
   "source": [
    "## ¿Quieres crear o cargar texto procesado? (hacer)"
   ]
  },
  {
   "cell_type": "markdown",
   "metadata": {},
   "source": [
    "## 1: Crear"
   ]
  },
  {
   "cell_type": "code",
   "execution_count": 27,
   "metadata": {},
   "outputs": [],
   "source": [
    "# Nombre del archivo de texto\n",
    "file_name = input('Nombre del archivo: ') + '.txt'\n",
    "\n",
    "# Escribir la lista en el archivo de texto\n",
    "with open(file_name, 'w', encoding='utf-8') as f:\n",
    "    for t in combined_texts:\n",
    "        f.write(\"%s\\n\" % t)"
   ]
  },
  {
   "cell_type": "markdown",
   "metadata": {},
   "source": [
    "## 2: Cargar"
   ]
  },
  {
   "cell_type": "code",
   "execution_count": 28,
   "metadata": {},
   "outputs": [],
   "source": [
    "# Nombre del archivo de texto\n",
    "file_name = input('Nombre del archivo: ') + '.txt'\n",
    "\n",
    "# Leer el contenido del archivo y mostrarlo\n",
    "with open(file_name, 'r', encoding='utf-8') as f:\n",
    "    content = f.read()\n",
    "\n",
    "textos = text_splitter.split_text(content)"
   ]
  },
  {
   "cell_type": "markdown",
   "metadata": {},
   "source": [
    "# Guardar los kb en una carpeta (kbs) (hacer)"
   ]
  },
  {
   "cell_type": "markdown",
   "metadata": {},
   "source": [
    "### 1. Enseñar"
   ]
  },
  {
   "cell_type": "code",
   "execution_count": 29,
   "metadata": {},
   "outputs": [
    {
     "data": {
      "text/plain": [
       "1"
      ]
     },
     "execution_count": 29,
     "metadata": {},
     "output_type": "execute_result"
    }
   ],
   "source": [
    "destino_kb = r'c:\\Users\\luisr\\OneDrive\\Documentos\\GitHub\\1day_1thing\\prometeo\\kbs'\n",
    "persist_directory = input('¿Cómo se llamará este knowledge-base?: ') + '_kb'\n",
    "vectorstore = Chroma.from_texts(texts=textos,\n",
    "                                embedding=embeddings,\n",
    "                                persist_directory=persist_directory)\n",
    "vectorstore.persist()\n",
    "vectorstore = None\n",
    "os.system(f'zip -r db.zip ./{persist_directory}')"
   ]
  },
  {
   "cell_type": "markdown",
   "metadata": {},
   "source": [
    "### 2. Recordar (si y solo si Enseñar=Done) y pregunta de control"
   ]
  },
  {
   "cell_type": "code",
   "execution_count": 30,
   "metadata": {},
   "outputs": [
    {
     "name": "stdout",
     "output_type": "stream",
     "text": [
      "K final es: 26\n",
      "\n"
     ]
    }
   ],
   "source": [
    "persist_directory = input('¿Qué knoledge-base deseas usar?: ') + '_kb'\n",
    "embedding = OpenAIEmbeddings()\n",
    "vectorstore = Chroma(persist_directory=persist_directory, \n",
    "                  embedding_function=embedding)\n",
    "\n",
    "def adjust_final_number(string: str, max_threshold: int, initial_number: int) -> int:\n",
    "    final_number = initial_number\n",
    "    while final_number < max_threshold:\n",
    "        retriever = vectorstore.as_retriever(search_kwargs={\"k\": final_number})\n",
    "        docs = retriever.invoke(string)\n",
    "        text = \"\".join([doc.page_content for doc in docs])\n",
    "        if num_tokens_from_string(text) < max_threshold:\n",
    "            final_number += 1\n",
    "        else:\n",
    "            break\n",
    "    return final_number\n",
    "\n",
    "final_number = adjust_final_number(\"¿Cuál es el tema principal del documento?\", 10000, 4)\n",
    "print(f'K final es: {final_number}\\n')\n",
    "retriever = vectorstore.as_retriever(search_kwargs={\"k\": final_number})"
   ]
  },
  {
   "cell_type": "code",
   "execution_count": 31,
   "metadata": {},
   "outputs": [],
   "source": [
    "# Se personaliza el LLM como Prometeo\n",
    "template = \"\"\"\n",
    "Eres Prometeo, un asistente personal de revisión biliográfica que habla Español.\n",
    "\n",
    "Tu tarea consiste en:\n",
    "\n",
    "1. Leer detalladamente la información proporcionada en documentos que generalmente son\n",
    "artículos científicos en formato PDF.\n",
    "\n",
    "2. Proporcionar respuestas extremadamente detalladas a cualquier tipo de pregunta relacionada \n",
    "con el contexto, especialmente a preguntas que involucren peticiones. Evita concluir tus respuestas con un \n",
    "párrafo que comience con 'En resumen,...'. Varía las conclusiones de tus respuestas para que \n",
    "sean más diversas y creativas.\n",
    "\n",
    "3. Ser carismático y ofrecer información sobre ti y tus funciones.\n",
    "\n",
    "SIEMPRE debes responder en Español.\n",
    "\n",
    "SIEMPRE debes responder con base al siguiente contexto: {context}.\n",
    "\n",
    "NUNCA hables específicamente del contexto.\n",
    "\n",
    "NUNCA terminar las respuestas con un resumen o una conclusión predecible.\n",
    "\n",
    "Teniendo en cuenta TODO lo anterior, responde la siguiente pregunta: {question}\n",
    "\"\"\"\n",
    "\n",
    "prometeo_prompt = PromptTemplate(\n",
    "    template=template, input_variables=[\"context\", \"question\"]\n",
    ")\n",
    "\n",
    "def format_docs(docs):\n",
    "    return \"\\n\\n\".join(doc.page_content for doc in docs)\n",
    "\n",
    "rag_chain = (\n",
    "    RunnablePassthrough.assign(context=(lambda x: format_docs(x[\"context\"])))\n",
    "    | prometeo_prompt\n",
    "    | turbo_llm\n",
    "    | StrOutputParser()\n",
    ")\n",
    "\n",
    "rag_chain_with_source = RunnableParallel(\n",
    "    {\"context\": retriever, \"question\": RunnablePassthrough()}\n",
    ").assign(answer=rag_chain\n",
    ")"
   ]
  },
  {
   "cell_type": "code",
   "execution_count": 32,
   "metadata": {},
   "outputs": [
    {
     "name": "stdout",
     "output_type": "stream",
     "text": [
      "¿Cuál es la idea de investigación?\n",
      "La idea de investigación se centra en entender, operacionalizar y medir las\n",
      "dimensiones distintivas de las Capacidades Dinámicas (DC) para la Innovación en\n",
      "Modelos de Negocio (BMI). El objetivo es ayudar a la gestión a evaluar las DC de\n",
      "su empresa para BMI, siguiendo la lógica de la capacidad de respuesta en la\n",
      "gestión. Es necesario comprender y medir mejor el problema para poder\n",
      "resolverlo. Por lo tanto, entender la conexión entre las DC, el Modelo de\n",
      "Negocio (BM) y la Innovación es clave para encontrar formas de gestionar la\n",
      "creación de estas capacidades.\n",
      "\n",
      "Referencias:\n",
      "page_content='El artículo titulado \"Abriendo la caja negra de las capacidades dinámicas: Un enfoque para la gestión de la innovación en modelos de negocio en la era digital\" fue recibido el 28 de abril de 2021, aceptado el 2 de mayo de 2021 y publicado el 5 de mayo de 2021, con la versión actualizada al 14 de mayo de 2021. Los autores del artículo son Matheus Franco, Vinicius Minatogawa, Orlando Durán, Antonio Batocchio y Ruy Quadros. Matheus Franco está afiliado al Departamento de Política Científica y Tecnológica del Instituto de Geociencias de la Universidad de Campinas, Brasil. Vinicius Minatogawa está afiliado a la Escuela de Ingeniería en Construcción de la Pontificia Universidad Católica de Valparaíso, Chile. Orlando Durán está afiliado a la Escuela de Ingeniería Mecánica de la Pontificia Universidad Católica de Valparaíso, Chile. Antonio Batocchio está afiliado a la Escuela de Ingeniería Mecánica de la Universidad de Campinas, Brasil. Ruy Quadros es Profesor Titular de Gestión de Tecnología e Innovación en la Universidad Estatal de Campinas, Brasil.'\n",
      "page_content='Las contribuciones teóricas del estudio incluyen la operacionalización de las DC para BMI y proporcionar una herramienta para medir las DC en la práctica. El estudio destaca la importancia de comprender la conexión entre las DC y BMI y ofrece una hoja de ruta para desarrollar DC en las organizaciones. El estudio también contribuye a la literatura al avanzar en el constructo teórico de DC y su relación con BMI.\\n\\nLas implicaciones gerenciales del estudio sugieren que la gestión debe centrarse en comprender su modelo de negocio actual y desarrollar capacidades para BMI. El estudio propone una hoja de ruta potencial para desarrollar DC, comenzando con un análisis en profundidad del modelo de negocio actual y luego diseñando estrategias para BMI. El estudio enfatiza la importancia de crear un entorno favorable para la innovación y mejorar el desempeño innovador de la empresa.\\n\\nLas limitaciones del estudio incluyen el entorno de estudio de un solo caso, lo que puede limitar la generalización. Investigaciones futuras podrían involucrar múltiples estudios de caso para validar la herramienta y explorar variaciones en la construcción de DC en diferentes industrias. También se recomienda una mayor validación de la validez de contenido y la validez convergente de la herramienta.'\n",
      "page_content=\"El artículo también discute las limitaciones del estudio, como el enfoque en los modelos de negocio como la unidad central de análisis y la accesibilidad a la información del estudio de caso. Los autores sugieren investigaciones adicionales que combinen su herramienta con elementos como oportunidades de la industria, acumulación de conocimientos y niveles de apropiabilidad para seguir explorando la operacionalización de las capacidades dinámicas para la innovación en modelos de negocio.\\n\\nEn general, el artículo proporciona ideas valiosas sobre la relación entre las capacidades dinámicas y la innovación en modelos de negocio en la era digital, ofreciendo un marco para que las empresas desarrollen y gestionen capacidades dinámicas para una innovación exitosa en modelos de negocio. En esta revisión sistemática de la literatura, los autores proponen una herramienta para medir las Capacidades Dinámicas (DC) para la Innovación en Modelos de Negocio (BMI) y evaluar su efectividad a través de un estudio de caso de una empresa de software, denominada Alpha. El estudio tiene como objetivo cerrar la brecha entre los constructos teóricos de DC y los fenómenos organizativos prácticos relacionados con BMI.\\n\\nEl estudio encuentra que el modelo de negocio actual de Alpha juega un papel central en la configuración de las DC para BMI. La herramienta de evaluación, basada en indicadores de capacidades de percepción, aprovechamiento y transformación, muestra que la acumulación de DC depende de actividades y prácticas específicas. La remodelación del modelo de negocio actual también ayuda a promover las DC en la empresa. El estudio propone crear un 'motor de innovación en modelos de negocio' para remodelar el modelo de negocio e incorporar capacidades dinámicas para la creación de valor.\"\n",
      "page_content='El resumen del artículo discute cómo la era digital está remodelando el panorama competitivo, enfatizando la importancia de las capacidades dinámicas para habilitar modelos de negocio innovadores. El objetivo del artículo es comprender, operacionalizar y medir las dimensiones distintivas de las capacidades dinámicas para la innovación en modelos de negocio. Los autores siguen la metodología de investigación de diseño y realizan una revisión sistemática de la literatura para construir una herramienta para la evaluación de las capacidades dinámicas. La herramienta se evalúa luego en base a un estudio de caso de tres años en profundidad de una empresa llamada Epsilon BM, que se enfoca en facilitar la apertura de nuevas empresas en Brasil simplificando el proceso y brindando servicios de consultoría para startups.\\n\\nLa sección de discusión y conclusión del artículo destaca los hallazgos de la revisión sistemática de la literatura y el estudio de caso. Los autores enfatizan el papel de los modelos de negocio existentes en la configuración de las capacidades dinámicas para la innovación en modelos de negocio. Proponen la creación de un \"motor de innovación en modelos de negocio\" para complementar los modelos de negocio existentes y avanzar en la discusión sobre la innovación en modelos de negocio para incumbentes. Los resultados del estudio de caso muestran evidencia que respalda la coevolución de las capacidades dinámicas y la innovación en modelos de negocio, con actividades y prácticas específicas que respaldan las capacidades dinámicas que conducen al desarrollo de un modelo de negocio de desarrollo de software personalizado.'\n",
      "page_content='The main idea is to attempt to cover every facet of a given construct [36], [37]. Bearing this in mind, we organized the literature review into clusters that translate each DC of sensing seizing and transform- ing into a broad set of tractable and measurable indicators. We extracted six signiﬁcant indicators for each capability (a total of 18 indicators) from the 66 literature review pub- lications. To access each indicator, we created a worst and a best-case scenario as a method (Figs. 5 – 7). Attached to each indicator is a 6-point scale to attribute a score for each indicator, allowing for diagnosis and action. Also, it serves as 69192 VOLUME 9, 2021'\n"
     ]
    }
   ],
   "source": [
    "# Demo\n",
    "query = input(\"Hazme una pregunta: \")\n",
    "print(query)\n",
    "llm_response = rag_chain_with_source.invoke(query)\n",
    "process_llm_response(llm_response)"
   ]
  },
  {
   "cell_type": "code",
   "execution_count": 33,
   "metadata": {},
   "outputs": [
    {
     "name": "stdout",
     "output_type": "stream",
     "text": [
      "¿Cuál es el objetivo u objetivos del estudio?\n",
      "El objetivo del estudio es comprender, operacionalizar y medir las dimensiones\n",
      "distintivas de las Capacidades Dinámicas (DC) para la Innovación en Modelos de\n",
      "Negocio (BMI). El enfoque está en ayudar a la gestión a evaluar las DC de su\n",
      "empresa para BMI, siguiendo la lógica de la capacidad de respuesta en la\n",
      "gestión. Es necesario comprender y medir mejor el problema para poder\n",
      "resolverlo. Por lo tanto, entender la conexión entre DC, BM y BMI es clave para\n",
      "encontrar formas de gestionar la creación de DC para BMI.\n",
      "\n",
      "Referencias:\n",
      "page_content='Las contribuciones teóricas del estudio incluyen la operacionalización de las DC para BMI y proporcionar una herramienta para medir las DC en la práctica. El estudio destaca la importancia de comprender la conexión entre las DC y BMI y ofrece una hoja de ruta para desarrollar DC en las organizaciones. El estudio también contribuye a la literatura al avanzar en el constructo teórico de DC y su relación con BMI.\\n\\nLas implicaciones gerenciales del estudio sugieren que la gestión debe centrarse en comprender su modelo de negocio actual y desarrollar capacidades para BMI. El estudio propone una hoja de ruta potencial para desarrollar DC, comenzando con un análisis en profundidad del modelo de negocio actual y luego diseñando estrategias para BMI. El estudio enfatiza la importancia de crear un entorno favorable para la innovación y mejorar el desempeño innovador de la empresa.\\n\\nLas limitaciones del estudio incluyen el entorno de estudio de un solo caso, lo que puede limitar la generalización. Investigaciones futuras podrían involucrar múltiples estudios de caso para validar la herramienta y explorar variaciones en la construcción de DC en diferentes industrias. También se recomienda una mayor validación de la validez de contenido y la validez convergente de la herramienta.'\n",
      "page_content=\"El artículo también discute las limitaciones del estudio, como el enfoque en los modelos de negocio como la unidad central de análisis y la accesibilidad a la información del estudio de caso. Los autores sugieren investigaciones adicionales que combinen su herramienta con elementos como oportunidades de la industria, acumulación de conocimientos y niveles de apropiabilidad para seguir explorando la operacionalización de las capacidades dinámicas para la innovación en modelos de negocio.\\n\\nEn general, el artículo proporciona ideas valiosas sobre la relación entre las capacidades dinámicas y la innovación en modelos de negocio en la era digital, ofreciendo un marco para que las empresas desarrollen y gestionen capacidades dinámicas para una innovación exitosa en modelos de negocio. En esta revisión sistemática de la literatura, los autores proponen una herramienta para medir las Capacidades Dinámicas (DC) para la Innovación en Modelos de Negocio (BMI) y evaluar su efectividad a través de un estudio de caso de una empresa de software, denominada Alpha. El estudio tiene como objetivo cerrar la brecha entre los constructos teóricos de DC y los fenómenos organizativos prácticos relacionados con BMI.\\n\\nEl estudio encuentra que el modelo de negocio actual de Alpha juega un papel central en la configuración de las DC para BMI. La herramienta de evaluación, basada en indicadores de capacidades de percepción, aprovechamiento y transformación, muestra que la acumulación de DC depende de actividades y prácticas específicas. La remodelación del modelo de negocio actual también ayuda a promover las DC en la empresa. El estudio propone crear un 'motor de innovación en modelos de negocio' para remodelar el modelo de negocio e incorporar capacidades dinámicas para la creación de valor.\"\n",
      "page_content='El resumen del artículo discute cómo la era digital está remodelando el panorama competitivo, enfatizando la importancia de las capacidades dinámicas para habilitar modelos de negocio innovadores. El objetivo del artículo es comprender, operacionalizar y medir las dimensiones distintivas de las capacidades dinámicas para la innovación en modelos de negocio. Los autores siguen la metodología de investigación de diseño y realizan una revisión sistemática de la literatura para construir una herramienta para la evaluación de las capacidades dinámicas. La herramienta se evalúa luego en base a un estudio de caso de tres años en profundidad de una empresa llamada Epsilon BM, que se enfoca en facilitar la apertura de nuevas empresas en Brasil simplificando el proceso y brindando servicios de consultoría para startups.\\n\\nLa sección de discusión y conclusión del artículo destaca los hallazgos de la revisión sistemática de la literatura y el estudio de caso. Los autores enfatizan el papel de los modelos de negocio existentes en la configuración de las capacidades dinámicas para la innovación en modelos de negocio. Proponen la creación de un \"motor de innovación en modelos de negocio\" para complementar los modelos de negocio existentes y avanzar en la discusión sobre la innovación en modelos de negocio para incumbentes. Los resultados del estudio de caso muestran evidencia que respalda la coevolución de las capacidades dinámicas y la innovación en modelos de negocio, con actividades y prácticas específicas que respaldan las capacidades dinámicas que conducen al desarrollo de un modelo de negocio de desarrollo de software personalizado.'\n",
      "page_content='El artículo titulado \"Abriendo la caja negra de las capacidades dinámicas: Un enfoque para la gestión de la innovación en modelos de negocio en la era digital\" fue recibido el 28 de abril de 2021, aceptado el 2 de mayo de 2021 y publicado el 5 de mayo de 2021, con la versión actualizada al 14 de mayo de 2021. Los autores del artículo son Matheus Franco, Vinicius Minatogawa, Orlando Durán, Antonio Batocchio y Ruy Quadros. Matheus Franco está afiliado al Departamento de Política Científica y Tecnológica del Instituto de Geociencias de la Universidad de Campinas, Brasil. Vinicius Minatogawa está afiliado a la Escuela de Ingeniería en Construcción de la Pontificia Universidad Católica de Valparaíso, Chile. Orlando Durán está afiliado a la Escuela de Ingeniería Mecánica de la Pontificia Universidad Católica de Valparaíso, Chile. Antonio Batocchio está afiliado a la Escuela de Ingeniería Mecánica de la Universidad de Campinas, Brasil. Ruy Quadros es Profesor Titular de Gestión de Tecnología e Innovación en la Universidad Estatal de Campinas, Brasil.'\n",
      "page_content='The main idea is to attempt to cover every facet of a given construct [36], [37]. Bearing this in mind, we organized the literature review into clusters that translate each DC of sensing seizing and transform- ing into a broad set of tractable and measurable indicators. We extracted six signiﬁcant indicators for each capability (a total of 18 indicators) from the 66 literature review pub- lications. To access each indicator, we created a worst and a best-case scenario as a method (Figs. 5 – 7). Attached to each indicator is a 6-point scale to attribute a score for each indicator, allowing for diagnosis and action. Also, it serves as 69192 VOLUME 9, 2021'\n"
     ]
    }
   ],
   "source": [
    "# Demo\n",
    "query = input(\"Hazme una pregunta: \")\n",
    "print(query)\n",
    "llm_response = rag_chain_with_source.invoke(query)\n",
    "process_llm_response(llm_response)"
   ]
  },
  {
   "cell_type": "code",
   "execution_count": 34,
   "metadata": {},
   "outputs": [
    {
     "name": "stdout",
     "output_type": "stream",
     "text": [
      "¿Cuál es la metodología usada en el estudio?\n",
      "En el estudio se utilizó una metodología de investigación de diseño,\n",
      "específicamente el enfoque de Investigación de Ciencia de Diseño (DSR). Este\n",
      "enfoque consta de cuatro pasos metodológicos: definir la clase de problemas,\n",
      "realizar una revisión sistemática de la literatura para construir un \"artefacto\"\n",
      "que resuelva el problema definido, evaluar el artefacto en la práctica a través\n",
      "de un estudio de caso y dibujar conclusiones, ajustar el \"artefacto\" y derivar\n",
      "implicaciones teóricas y prácticas. Este enfoque permitió diseñar una\n",
      "herramienta para la evaluación de las Capacidades Dinámicas (DC) para la\n",
      "Innovación en Modelos de Negocio (BMI), basándose en la revisión sistemática de\n",
      "la literatura y aplicando la metodología de estudio de caso para validar su\n",
      "efectividad.\n",
      "\n",
      "Referencias:\n",
      "page_content='Las contribuciones teóricas del estudio incluyen la operacionalización de las DC para BMI y proporcionar una herramienta para medir las DC en la práctica. El estudio destaca la importancia de comprender la conexión entre las DC y BMI y ofrece una hoja de ruta para desarrollar DC en las organizaciones. El estudio también contribuye a la literatura al avanzar en el constructo teórico de DC y su relación con BMI.\\n\\nLas implicaciones gerenciales del estudio sugieren que la gestión debe centrarse en comprender su modelo de negocio actual y desarrollar capacidades para BMI. El estudio propone una hoja de ruta potencial para desarrollar DC, comenzando con un análisis en profundidad del modelo de negocio actual y luego diseñando estrategias para BMI. El estudio enfatiza la importancia de crear un entorno favorable para la innovación y mejorar el desempeño innovador de la empresa.\\n\\nLas limitaciones del estudio incluyen el entorno de estudio de un solo caso, lo que puede limitar la generalización. Investigaciones futuras podrían involucrar múltiples estudios de caso para validar la herramienta y explorar variaciones en la construcción de DC en diferentes industrias. También se recomienda una mayor validación de la validez de contenido y la validez convergente de la herramienta.'\n",
      "page_content=\"El artículo también discute las limitaciones del estudio, como el enfoque en los modelos de negocio como la unidad central de análisis y la accesibilidad a la información del estudio de caso. Los autores sugieren investigaciones adicionales que combinen su herramienta con elementos como oportunidades de la industria, acumulación de conocimientos y niveles de apropiabilidad para seguir explorando la operacionalización de las capacidades dinámicas para la innovación en modelos de negocio.\\n\\nEn general, el artículo proporciona ideas valiosas sobre la relación entre las capacidades dinámicas y la innovación en modelos de negocio en la era digital, ofreciendo un marco para que las empresas desarrollen y gestionen capacidades dinámicas para una innovación exitosa en modelos de negocio. En esta revisión sistemática de la literatura, los autores proponen una herramienta para medir las Capacidades Dinámicas (DC) para la Innovación en Modelos de Negocio (BMI) y evaluar su efectividad a través de un estudio de caso de una empresa de software, denominada Alpha. El estudio tiene como objetivo cerrar la brecha entre los constructos teóricos de DC y los fenómenos organizativos prácticos relacionados con BMI.\\n\\nEl estudio encuentra que el modelo de negocio actual de Alpha juega un papel central en la configuración de las DC para BMI. La herramienta de evaluación, basada en indicadores de capacidades de percepción, aprovechamiento y transformación, muestra que la acumulación de DC depende de actividades y prácticas específicas. La remodelación del modelo de negocio actual también ayuda a promover las DC en la empresa. El estudio propone crear un 'motor de innovación en modelos de negocio' para remodelar el modelo de negocio e incorporar capacidades dinámicas para la creación de valor.\"\n",
      "page_content='El resumen del artículo discute cómo la era digital está remodelando el panorama competitivo, enfatizando la importancia de las capacidades dinámicas para habilitar modelos de negocio innovadores. El objetivo del artículo es comprender, operacionalizar y medir las dimensiones distintivas de las capacidades dinámicas para la innovación en modelos de negocio. Los autores siguen la metodología de investigación de diseño y realizan una revisión sistemática de la literatura para construir una herramienta para la evaluación de las capacidades dinámicas. La herramienta se evalúa luego en base a un estudio de caso de tres años en profundidad de una empresa llamada Epsilon BM, que se enfoca en facilitar la apertura de nuevas empresas en Brasil simplificando el proceso y brindando servicios de consultoría para startups.\\n\\nLa sección de discusión y conclusión del artículo destaca los hallazgos de la revisión sistemática de la literatura y el estudio de caso. Los autores enfatizan el papel de los modelos de negocio existentes en la configuración de las capacidades dinámicas para la innovación en modelos de negocio. Proponen la creación de un \"motor de innovación en modelos de negocio\" para complementar los modelos de negocio existentes y avanzar en la discusión sobre la innovación en modelos de negocio para incumbentes. Los resultados del estudio de caso muestran evidencia que respalda la coevolución de las capacidades dinámicas y la innovación en modelos de negocio, con actividades y prácticas específicas que respaldan las capacidades dinámicas que conducen al desarrollo de un modelo de negocio de desarrollo de software personalizado.'\n",
      "page_content='El artículo titulado \"Abriendo la caja negra de las capacidades dinámicas: Un enfoque para la gestión de la innovación en modelos de negocio en la era digital\" fue recibido el 28 de abril de 2021, aceptado el 2 de mayo de 2021 y publicado el 5 de mayo de 2021, con la versión actualizada al 14 de mayo de 2021. Los autores del artículo son Matheus Franco, Vinicius Minatogawa, Orlando Durán, Antonio Batocchio y Ruy Quadros. Matheus Franco está afiliado al Departamento de Política Científica y Tecnológica del Instituto de Geociencias de la Universidad de Campinas, Brasil. Vinicius Minatogawa está afiliado a la Escuela de Ingeniería en Construcción de la Pontificia Universidad Católica de Valparaíso, Chile. Orlando Durán está afiliado a la Escuela de Ingeniería Mecánica de la Pontificia Universidad Católica de Valparaíso, Chile. Antonio Batocchio está afiliado a la Escuela de Ingeniería Mecánica de la Universidad de Campinas, Brasil. Ruy Quadros es Profesor Titular de Gestión de Tecnología e Innovación en la Universidad Estatal de Campinas, Brasil.'\n",
      "page_content='case study to check their adequacy to reality. This is relevant considering that systematic literature reviews and practical evaluation are essential phases of building indicators for constructs [38], [39]. Thus, to test the indicators, we apply the case study methodology. Thus, based on interviews and documenta- tion, we assign scores to each indicator. To gather data, we designed a data collection strategy speciﬁc for each indicator. Then, we triangulate relevant data to access the necessary information and attribute an adequate score for the company’s evaluation. C. TOOL EVALUATION METHODOLOGY The case selection is essential for the evaluation phase of the DSR method [29], once it should involve the main targeted company population and critically assess the ones facing the deﬁned class of problem. We chose a critical, longitudinal, and revealing case study with exploratory goals [40]. It is a critical case because it rep- resents a company with weak DC for BMI, displaying rigidity to change given a successful BM with complementarities. To this end, we evaluated the company’s history of not cre- ating signiﬁcant different BMs nor substantially changing its current BM. It is a revealing case because the authors had total access to relevant information, bringing forward knowledge that is otherwise hardly accessible. Finally, the longitudinal nature, showing a ‘‘before’’ and ‘‘after’’ situation, allows us to explore in-depth and detailed information regarding the case. The selected company, which we will call ‘‘Alpha,’’ is a medium-sized software company with approximately 300 --- company, which we will call ‘‘Alpha,’’ is a medium-sized software company with approximately 300 employees and a revenue of about US$ 8 million per year (in 2020 values). The company’s core competencies are related to digital technologies. The company provides ser- vices for large multinationals that outsource part of their R&D and software development. Since its founding, the company had'\n"
     ]
    }
   ],
   "source": [
    "# Demo\n",
    "query = input(\"Hazme una pregunta: \")\n",
    "print(query)\n",
    "llm_response = rag_chain_with_source.invoke(query)\n",
    "process_llm_response(llm_response)"
   ]
  },
  {
   "cell_type": "code",
   "execution_count": 35,
   "metadata": {},
   "outputs": [
    {
     "name": "stdout",
     "output_type": "stream",
     "text": [
      "¿Cuáles fueron los resultados más importantes del estudio?\n",
      "Los resultados más importantes del estudio incluyen la identificación de la\n",
      "centralidad del modelo de negocio actual en la configuración de las capacidades\n",
      "dinámicas para la innovación en modelos de negocio. Se destaca que la\n",
      "herramienta de evaluación, basada en indicadores de capacidades de percepción,\n",
      "aprovechamiento y transformación, muestra que la acumulación de capacidades\n",
      "dinámicas depende de actividades y prácticas específicas. Además, se resalta que\n",
      "la remodelación del modelo de negocio actual también ayuda a promover las\n",
      "capacidades dinámicas en la empresa. El estudio propone la creación de un 'motor\n",
      "de innovación en modelos de negocio' para remodelar el modelo de negocio e\n",
      "incorporar capacidades dinámicas para la creación de valor. En resumen, los\n",
      "resultados subrayan la importancia de comprender y gestionar de manera efectiva\n",
      "las capacidades dinámicas para una innovación exitosa en modelos de negocio en\n",
      "la era digital.\n",
      "\n",
      "Referencias:\n",
      "page_content='Las contribuciones teóricas del estudio incluyen la operacionalización de las DC para BMI y proporcionar una herramienta para medir las DC en la práctica. El estudio destaca la importancia de comprender la conexión entre las DC y BMI y ofrece una hoja de ruta para desarrollar DC en las organizaciones. El estudio también contribuye a la literatura al avanzar en el constructo teórico de DC y su relación con BMI.\\n\\nLas implicaciones gerenciales del estudio sugieren que la gestión debe centrarse en comprender su modelo de negocio actual y desarrollar capacidades para BMI. El estudio propone una hoja de ruta potencial para desarrollar DC, comenzando con un análisis en profundidad del modelo de negocio actual y luego diseñando estrategias para BMI. El estudio enfatiza la importancia de crear un entorno favorable para la innovación y mejorar el desempeño innovador de la empresa.\\n\\nLas limitaciones del estudio incluyen el entorno de estudio de un solo caso, lo que puede limitar la generalización. Investigaciones futuras podrían involucrar múltiples estudios de caso para validar la herramienta y explorar variaciones en la construcción de DC en diferentes industrias. También se recomienda una mayor validación de la validez de contenido y la validez convergente de la herramienta.'\n",
      "page_content=\"El artículo también discute las limitaciones del estudio, como el enfoque en los modelos de negocio como la unidad central de análisis y la accesibilidad a la información del estudio de caso. Los autores sugieren investigaciones adicionales que combinen su herramienta con elementos como oportunidades de la industria, acumulación de conocimientos y niveles de apropiabilidad para seguir explorando la operacionalización de las capacidades dinámicas para la innovación en modelos de negocio.\\n\\nEn general, el artículo proporciona ideas valiosas sobre la relación entre las capacidades dinámicas y la innovación en modelos de negocio en la era digital, ofreciendo un marco para que las empresas desarrollen y gestionen capacidades dinámicas para una innovación exitosa en modelos de negocio. En esta revisión sistemática de la literatura, los autores proponen una herramienta para medir las Capacidades Dinámicas (DC) para la Innovación en Modelos de Negocio (BMI) y evaluar su efectividad a través de un estudio de caso de una empresa de software, denominada Alpha. El estudio tiene como objetivo cerrar la brecha entre los constructos teóricos de DC y los fenómenos organizativos prácticos relacionados con BMI.\\n\\nEl estudio encuentra que el modelo de negocio actual de Alpha juega un papel central en la configuración de las DC para BMI. La herramienta de evaluación, basada en indicadores de capacidades de percepción, aprovechamiento y transformación, muestra que la acumulación de DC depende de actividades y prácticas específicas. La remodelación del modelo de negocio actual también ayuda a promover las DC en la empresa. El estudio propone crear un 'motor de innovación en modelos de negocio' para remodelar el modelo de negocio e incorporar capacidades dinámicas para la creación de valor.\"\n",
      "page_content='El resumen del artículo discute cómo la era digital está remodelando el panorama competitivo, enfatizando la importancia de las capacidades dinámicas para habilitar modelos de negocio innovadores. El objetivo del artículo es comprender, operacionalizar y medir las dimensiones distintivas de las capacidades dinámicas para la innovación en modelos de negocio. Los autores siguen la metodología de investigación de diseño y realizan una revisión sistemática de la literatura para construir una herramienta para la evaluación de las capacidades dinámicas. La herramienta se evalúa luego en base a un estudio de caso de tres años en profundidad de una empresa llamada Epsilon BM, que se enfoca en facilitar la apertura de nuevas empresas en Brasil simplificando el proceso y brindando servicios de consultoría para startups.\\n\\nLa sección de discusión y conclusión del artículo destaca los hallazgos de la revisión sistemática de la literatura y el estudio de caso. Los autores enfatizan el papel de los modelos de negocio existentes en la configuración de las capacidades dinámicas para la innovación en modelos de negocio. Proponen la creación de un \"motor de innovación en modelos de negocio\" para complementar los modelos de negocio existentes y avanzar en la discusión sobre la innovación en modelos de negocio para incumbentes. Los resultados del estudio de caso muestran evidencia que respalda la coevolución de las capacidades dinámicas y la innovación en modelos de negocio, con actividades y prácticas específicas que respaldan las capacidades dinámicas que conducen al desarrollo de un modelo de negocio de desarrollo de software personalizado.'\n",
      "page_content='El artículo titulado \"Abriendo la caja negra de las capacidades dinámicas: Un enfoque para la gestión de la innovación en modelos de negocio en la era digital\" fue recibido el 28 de abril de 2021, aceptado el 2 de mayo de 2021 y publicado el 5 de mayo de 2021, con la versión actualizada al 14 de mayo de 2021. Los autores del artículo son Matheus Franco, Vinicius Minatogawa, Orlando Durán, Antonio Batocchio y Ruy Quadros. Matheus Franco está afiliado al Departamento de Política Científica y Tecnológica del Instituto de Geociencias de la Universidad de Campinas, Brasil. Vinicius Minatogawa está afiliado a la Escuela de Ingeniería en Construcción de la Pontificia Universidad Católica de Valparaíso, Chile. Orlando Durán está afiliado a la Escuela de Ingeniería Mecánica de la Pontificia Universidad Católica de Valparaíso, Chile. Antonio Batocchio está afiliado a la Escuela de Ingeniería Mecánica de la Universidad de Campinas, Brasil. Ruy Quadros es Profesor Titular de Gestión de Tecnología e Innovación en la Universidad Estatal de Campinas, Brasil.'\n",
      "page_content='The main idea is to attempt to cover every facet of a given construct [36], [37]. Bearing this in mind, we organized the literature review into clusters that translate each DC of sensing seizing and transform- ing into a broad set of tractable and measurable indicators. We extracted six signiﬁcant indicators for each capability (a total of 18 indicators) from the 66 literature review pub- lications. To access each indicator, we created a worst and a best-case scenario as a method (Figs. 5 – 7). Attached to each indicator is a 6-point scale to attribute a score for each indicator, allowing for diagnosis and action. Also, it serves as 69192 VOLUME 9, 2021'\n"
     ]
    }
   ],
   "source": [
    "# Demo\n",
    "query = input(\"Hazme una pregunta: \")\n",
    "print(query)\n",
    "llm_response = rag_chain_with_source.invoke(query)\n",
    "process_llm_response(llm_response)"
   ]
  },
  {
   "cell_type": "code",
   "execution_count": 36,
   "metadata": {},
   "outputs": [
    {
     "name": "stdout",
     "output_type": "stream",
     "text": [
      "¿Puedes explicarme el motor de innovación en modelos de negocio?\n",
      "El motor de innovación en modelos de negocio es una propuesta presentada en el\n",
      "artículo para remodelar el modelo de negocio existente e incorporar capacidades\n",
      "dinámicas para la creación de valor. Se plantea como una función que tiene como\n",
      "objetivo principal transformar el modelo de negocio actual para adaptarse a las\n",
      "demandas del entorno digital y promover la innovación. Este motor se basa en\n",
      "actividades y prácticas específicas que impulsan la evolución de las capacidades\n",
      "dinámicas de la empresa, permitiendo así la creación de un modelo de negocio más\n",
      "flexible, adaptativo y orientado hacia la generación de valor a través de la\n",
      "innovación. En resumen, el motor de innovación en modelos de negocio es una\n",
      "herramienta estratégica para guiar el proceso de transformación y adaptación del\n",
      "modelo de negocio hacia un enfoque más innovador y competitivo en la era\n",
      "digital.\n",
      "\n",
      "Referencias:\n",
      "page_content='El resumen del artículo discute cómo la era digital está remodelando el panorama competitivo, enfatizando la importancia de las capacidades dinámicas para habilitar modelos de negocio innovadores. El objetivo del artículo es comprender, operacionalizar y medir las dimensiones distintivas de las capacidades dinámicas para la innovación en modelos de negocio. Los autores siguen la metodología de investigación de diseño y realizan una revisión sistemática de la literatura para construir una herramienta para la evaluación de las capacidades dinámicas. La herramienta se evalúa luego en base a un estudio de caso de tres años en profundidad de una empresa llamada Epsilon BM, que se enfoca en facilitar la apertura de nuevas empresas en Brasil simplificando el proceso y brindando servicios de consultoría para startups.\\n\\nLa sección de discusión y conclusión del artículo destaca los hallazgos de la revisión sistemática de la literatura y el estudio de caso. Los autores enfatizan el papel de los modelos de negocio existentes en la configuración de las capacidades dinámicas para la innovación en modelos de negocio. Proponen la creación de un \"motor de innovación en modelos de negocio\" para complementar los modelos de negocio existentes y avanzar en la discusión sobre la innovación en modelos de negocio para incumbentes. Los resultados del estudio de caso muestran evidencia que respalda la coevolución de las capacidades dinámicas y la innovación en modelos de negocio, con actividades y prácticas específicas que respaldan las capacidades dinámicas que conducen al desarrollo de un modelo de negocio de desarrollo de software personalizado.'\n",
      "page_content=\"El artículo también discute las limitaciones del estudio, como el enfoque en los modelos de negocio como la unidad central de análisis y la accesibilidad a la información del estudio de caso. Los autores sugieren investigaciones adicionales que combinen su herramienta con elementos como oportunidades de la industria, acumulación de conocimientos y niveles de apropiabilidad para seguir explorando la operacionalización de las capacidades dinámicas para la innovación en modelos de negocio.\\n\\nEn general, el artículo proporciona ideas valiosas sobre la relación entre las capacidades dinámicas y la innovación en modelos de negocio en la era digital, ofreciendo un marco para que las empresas desarrollen y gestionen capacidades dinámicas para una innovación exitosa en modelos de negocio. En esta revisión sistemática de la literatura, los autores proponen una herramienta para medir las Capacidades Dinámicas (DC) para la Innovación en Modelos de Negocio (BMI) y evaluar su efectividad a través de un estudio de caso de una empresa de software, denominada Alpha. El estudio tiene como objetivo cerrar la brecha entre los constructos teóricos de DC y los fenómenos organizativos prácticos relacionados con BMI.\\n\\nEl estudio encuentra que el modelo de negocio actual de Alpha juega un papel central en la configuración de las DC para BMI. La herramienta de evaluación, basada en indicadores de capacidades de percepción, aprovechamiento y transformación, muestra que la acumulación de DC depende de actividades y prácticas específicas. La remodelación del modelo de negocio actual también ayuda a promover las DC en la empresa. El estudio propone crear un 'motor de innovación en modelos de negocio' para remodelar el modelo de negocio e incorporar capacidades dinámicas para la creación de valor.\"\n",
      "page_content='El artículo titulado \"Abriendo la caja negra de las capacidades dinámicas: Un enfoque para la gestión de la innovación en modelos de negocio en la era digital\" fue recibido el 28 de abril de 2021, aceptado el 2 de mayo de 2021 y publicado el 5 de mayo de 2021, con la versión actualizada al 14 de mayo de 2021. Los autores del artículo son Matheus Franco, Vinicius Minatogawa, Orlando Durán, Antonio Batocchio y Ruy Quadros. Matheus Franco está afiliado al Departamento de Política Científica y Tecnológica del Instituto de Geociencias de la Universidad de Campinas, Brasil. Vinicius Minatogawa está afiliado a la Escuela de Ingeniería en Construcción de la Pontificia Universidad Católica de Valparaíso, Chile. Orlando Durán está afiliado a la Escuela de Ingeniería Mecánica de la Pontificia Universidad Católica de Valparaíso, Chile. Antonio Batocchio está afiliado a la Escuela de Ingeniería Mecánica de la Universidad de Campinas, Brasil. Ruy Quadros es Profesor Titular de Gestión de Tecnología e Innovación en la Universidad Estatal de Campinas, Brasil.'\n",
      "page_content='8, pp. 262–269, Jan. 2017, doi: 10.1016/j.promfg.2017.02.033. [76] I. García-Gutiérrez and F. J. Martínez-Borreguero, ‘‘The innovation pivot framework: Fostering business model innovation in startups,’’ Res.-Technol. Manage. , vol. 59, no. 5, pp. 48–56, Sep. 2016, doi: 10.1080/08956308.2016.1208043. [77] R. Casadesus-Masanell and F. Zhu, ‘‘Business model innovation and competitive imitation: The case of sponsor-based business models,’’ Strategic Manage. J. , vol. 34, no. 4, pp. 464–482, Apr. 2013, doi: 10.1002/smj.2022. [78] M. Schindehutte, M. H. Morris, and A. Kocak, ‘‘Understanding market-driving behavior: The role of entrepreneurship,’’ J. Small Bus. Manage. , vol. 46, no. 1, pp. 4–26, Jan. 2008, doi: 10.1111/j.1540- 627X.2007.00228.x. [79] K. E. Bosbach, A.-S. Brillinger, and B. Schäfer, ‘‘More can be better: Operating multiple business models in a corporate --- Brillinger, and B. Schäfer, ‘‘More can be better: Operating multiple business models in a corporate portfolio,’’ J. Bus. Strategy , vol. 41, no. 4, pp. 47–54, Jan. 2020, doi: 10.1108/JBS-04-2019- 0083. [80] S. Khanagha, H. Volberda, and I. Oshri, ‘‘Business model renewal and ambidexterity: Structural alteration and strategy formation process during transition to a cloud business model,’’ R&D Manage. , vol. 44, no. 3, pp. 322–340, Jun. 2014, doi: 10.1111/radm.12070. [81] A. Beltagui, ‘‘A design-thinking perspective on capability development: The case of new product development for a service business model,’’ Int. J. Oper. Prod. Manage. , vol. 38, no. 4, pp. 1041–1060, Mar. 2018, doi: 10.1108/IJOPM-11-2016-0661. [82] M. Bashir and R. Verma, ‘‘Internal factors & consequences of busi- ness model innovation,’’ Manage. Decis. , vol. 57, no. 1, pp. 262–290, Jan. 2019, doi: 10.1108/MD-11-2016-0784. [83] A. Arbussa, A. Bikfalvi, and P. Marquès, ‘‘Strategic agility-driven busi- ness model renewal: The case of an SME,’’ Manage. Decis. , vol. 55, no. 2, pp. 271–293, Mar. 2017, doi: 10.1108/MD-05-2016-0355. [84] K.'\n",
      "page_content='‘‘Business model innovation in entrepreneurship,’’ Int. Entrepreneurship Manage. J. , vol. 8, no. 4, pp. 449–465, Dec. 2012, doi: 10.1007/s11365-012-0234-3. [72] A. Ghezzi and A. Cavallo, ‘‘Agile business model innovation in digital entrepreneurship: Lean startup approaches,’’ J. Bus. Res. , vol. 110, pp. 519–537, Mar. 2020, doi: 10.1016/j.jbusres.2018. 06.013. [73] D. S. Silva, A. Ghezzi, R. B. D. Aguiar, M. N. Cortimiglia, and C. S. T. Caten, ‘‘Lean startup, agile methodologies and customer devel- opment for business model innovation: A systematic review and research agenda,’’ Int. J. Entrepreneurial Behav. Res. , vol. 26, no. 4, pp. 595–628, Jan. 2020, doi: 10.1108/IJEBR-07-2019-0425.[74] V. L. F. Minatogawa, M. M. V. Franco, I. S. Rampasso, R. Anholon, R. Quadros, O. Durán, and A. Batocchio, ‘‘Operationalizing business model innovation through big data analytics for sustainable orga- nizations,’’ Sustainability , vol. 12, no. 1, p. 277, Dec. 2019, doi: 10.3390/su12010277. [75] M. Geissdoerfer, P. Savaget, and S. Evans, ‘‘The cambridge busi- ness model innovation process,’’ Procedia Manuf. , vol. 8, pp. 262–269, Jan. 2017, doi: 10.1016/j.promfg.2017.02.033. [76] I. García-Gutiérrez and F. J. Martínez-Borreguero, ‘‘The innovation pivot framework: Fostering business model innovation in startups,’’ Res.-Technol. Manage. , vol. 59, no. 5, pp. 48–56, Sep. 2016, doi: 10.1080/08956308.2016.1208043. [77] R. Casadesus-Masanell and F. Zhu, ‘‘Business model innovation and competitive imitation: The case of sponsor-based business models,’’ Strategic Manage. J. , vol. 34, no. 4, pp. 464–482, Apr. 2013, doi: 10.1002/smj.2022. [78] M. Schindehutte, M. H. Morris, and A. Kocak, ‘‘Understanding market-driving behavior: The role of entrepreneurship,’’ J. Small Bus. Manage. , vol. 46, no. 1, pp. 4–26, Jan. 2008, doi: 10.1111/j.1540- 627X.2007.00228.x. [79] K. E. Bosbach, A.-S. Brillinger, and B. Schäfer, ‘‘More can be better: Operating multiple business models in a corporate'\n"
     ]
    }
   ],
   "source": [
    "# Demo\n",
    "query = input(\"Hazme una pregunta: \")\n",
    "print(query)\n",
    "llm_response = rag_chain_with_source.invoke(query)\n",
    "process_llm_response(llm_response)"
   ]
  },
  {
   "cell_type": "code",
   "execution_count": 37,
   "metadata": {},
   "outputs": [
    {
     "name": "stdout",
     "output_type": "stream",
     "text": [
      "¿Los resultados cumplen los objetivos de investigación?\n",
      "Los resultados obtenidos en el estudio cumplen con los objetivos de\n",
      "investigación establecidos. Se logró una profunda comprensión de las dimensiones\n",
      "de las capacidades dinámicas y cómo medirlas para la gestión de la innovación en\n",
      "modelos de negocio. A través de la revisión sistemática de la literatura y el\n",
      "estudio de caso en la empresa Alpha, se pudo construir una herramienta para\n",
      "evaluar las capacidades dinámicas. Esta herramienta se evaluó en base a la\n",
      "práctica, lo que permitió validar su aplicabilidad y efectividad en un entorno\n",
      "real. Además, se destacó la importancia de adaptar estrategias específicas para\n",
      "cada empresa y contexto en el desarrollo de capacidades dinámicas para la\n",
      "innovación en modelos de negocio. En resumen, los resultados alcanzados se\n",
      "alinean con los objetivos de investigación establecidos, brindando una sólida\n",
      "base para futuros estudios en el campo de la gestión de la innovación y los\n",
      "modelos de negocio.\n",
      "\n",
      "Referencias:\n",
      "page_content='Las contribuciones teóricas del estudio incluyen la operacionalización de las DC para BMI y proporcionar una herramienta para medir las DC en la práctica. El estudio destaca la importancia de comprender la conexión entre las DC y BMI y ofrece una hoja de ruta para desarrollar DC en las organizaciones. El estudio también contribuye a la literatura al avanzar en el constructo teórico de DC y su relación con BMI.\\n\\nLas implicaciones gerenciales del estudio sugieren que la gestión debe centrarse en comprender su modelo de negocio actual y desarrollar capacidades para BMI. El estudio propone una hoja de ruta potencial para desarrollar DC, comenzando con un análisis en profundidad del modelo de negocio actual y luego diseñando estrategias para BMI. El estudio enfatiza la importancia de crear un entorno favorable para la innovación y mejorar el desempeño innovador de la empresa.\\n\\nLas limitaciones del estudio incluyen el entorno de estudio de un solo caso, lo que puede limitar la generalización. Investigaciones futuras podrían involucrar múltiples estudios de caso para validar la herramienta y explorar variaciones en la construcción de DC en diferentes industrias. También se recomienda una mayor validación de la validez de contenido y la validez convergente de la herramienta.'\n",
      "page_content='El artículo titulado \"Abriendo la caja negra de las capacidades dinámicas: Un enfoque para la gestión de la innovación en modelos de negocio en la era digital\" fue recibido el 28 de abril de 2021, aceptado el 2 de mayo de 2021 y publicado el 5 de mayo de 2021, con la versión actualizada al 14 de mayo de 2021. Los autores del artículo son Matheus Franco, Vinicius Minatogawa, Orlando Durán, Antonio Batocchio y Ruy Quadros. Matheus Franco está afiliado al Departamento de Política Científica y Tecnológica del Instituto de Geociencias de la Universidad de Campinas, Brasil. Vinicius Minatogawa está afiliado a la Escuela de Ingeniería en Construcción de la Pontificia Universidad Católica de Valparaíso, Chile. Orlando Durán está afiliado a la Escuela de Ingeniería Mecánica de la Pontificia Universidad Católica de Valparaíso, Chile. Antonio Batocchio está afiliado a la Escuela de Ingeniería Mecánica de la Universidad de Campinas, Brasil. Ruy Quadros es Profesor Titular de Gestión de Tecnología e Innovación en la Universidad Estatal de Campinas, Brasil.'\n",
      "page_content='El resumen del artículo discute cómo la era digital está remodelando el panorama competitivo, enfatizando la importancia de las capacidades dinámicas para habilitar modelos de negocio innovadores. El objetivo del artículo es comprender, operacionalizar y medir las dimensiones distintivas de las capacidades dinámicas para la innovación en modelos de negocio. Los autores siguen la metodología de investigación de diseño y realizan una revisión sistemática de la literatura para construir una herramienta para la evaluación de las capacidades dinámicas. La herramienta se evalúa luego en base a un estudio de caso de tres años en profundidad de una empresa llamada Epsilon BM, que se enfoca en facilitar la apertura de nuevas empresas en Brasil simplificando el proceso y brindando servicios de consultoría para startups.\\n\\nLa sección de discusión y conclusión del artículo destaca los hallazgos de la revisión sistemática de la literatura y el estudio de caso. Los autores enfatizan el papel de los modelos de negocio existentes en la configuración de las capacidades dinámicas para la innovación en modelos de negocio. Proponen la creación de un \"motor de innovación en modelos de negocio\" para complementar los modelos de negocio existentes y avanzar en la discusión sobre la innovación en modelos de negocio para incumbentes. Los resultados del estudio de caso muestran evidencia que respalda la coevolución de las capacidades dinámicas y la innovación en modelos de negocio, con actividades y prácticas específicas que respaldan las capacidades dinámicas que conducen al desarrollo de un modelo de negocio de desarrollo de software personalizado.'\n",
      "page_content=\"El artículo también discute las limitaciones del estudio, como el enfoque en los modelos de negocio como la unidad central de análisis y la accesibilidad a la información del estudio de caso. Los autores sugieren investigaciones adicionales que combinen su herramienta con elementos como oportunidades de la industria, acumulación de conocimientos y niveles de apropiabilidad para seguir explorando la operacionalización de las capacidades dinámicas para la innovación en modelos de negocio.\\n\\nEn general, el artículo proporciona ideas valiosas sobre la relación entre las capacidades dinámicas y la innovación en modelos de negocio en la era digital, ofreciendo un marco para que las empresas desarrollen y gestionen capacidades dinámicas para una innovación exitosa en modelos de negocio. En esta revisión sistemática de la literatura, los autores proponen una herramienta para medir las Capacidades Dinámicas (DC) para la Innovación en Modelos de Negocio (BMI) y evaluar su efectividad a través de un estudio de caso de una empresa de software, denominada Alpha. El estudio tiene como objetivo cerrar la brecha entre los constructos teóricos de DC y los fenómenos organizativos prácticos relacionados con BMI.\\n\\nEl estudio encuentra que el modelo de negocio actual de Alpha juega un papel central en la configuración de las DC para BMI. La herramienta de evaluación, basada en indicadores de capacidades de percepción, aprovechamiento y transformación, muestra que la acumulación de DC depende de actividades y prácticas específicas. La remodelación del modelo de negocio actual también ayuda a promover las DC en la empresa. El estudio propone crear un 'motor de innovación en modelos de negocio' para remodelar el modelo de negocio e incorporar capacidades dinámicas para la creación de valor.\"\n",
      "page_content='The main idea is to attempt to cover every facet of a given construct [36], [37]. Bearing this in mind, we organized the literature review into clusters that translate each DC of sensing seizing and transform- ing into a broad set of tractable and measurable indicators. We extracted six signiﬁcant indicators for each capability (a total of 18 indicators) from the 66 literature review pub- lications. To access each indicator, we created a worst and a best-case scenario as a method (Figs. 5 – 7). Attached to each indicator is a 6-point scale to attribute a score for each indicator, allowing for diagnosis and action. Also, it serves as 69192 VOLUME 9, 2021'\n"
     ]
    }
   ],
   "source": [
    "# Demo\n",
    "query = input(\"Hazme una pregunta: \")\n",
    "print(query)\n",
    "llm_response = rag_chain_with_source.invoke(query)\n",
    "process_llm_response(llm_response)"
   ]
  },
  {
   "cell_type": "code",
   "execution_count": null,
   "metadata": {},
   "outputs": [],
   "source": [
    "# Demo\n",
    "query = input(\"Hazme una pregunta: \")\n",
    "print(query)\n",
    "llm_response = rag_chain_with_source.invoke(query)\n",
    "process_llm_response(llm_response)"
   ]
  },
  {
   "cell_type": "code",
   "execution_count": null,
   "metadata": {},
   "outputs": [],
   "source": [
    "# Demo\n",
    "query = input(\"Hazme una pregunta: \")\n",
    "print(query)\n",
    "llm_response = rag_chain_with_source.invoke(query)\n",
    "process_llm_response(llm_response)"
   ]
  },
  {
   "cell_type": "code",
   "execution_count": null,
   "metadata": {},
   "outputs": [],
   "source": [
    "# Demo\n",
    "query = input(\"Hazme una pregunta: \")\n",
    "print(query)\n",
    "llm_response = rag_chain_with_source.invoke(query)\n",
    "process_llm_response(llm_response)"
   ]
  },
  {
   "cell_type": "code",
   "execution_count": null,
   "metadata": {},
   "outputs": [],
   "source": [
    "# Demo\n",
    "query = input(\"Hazme una pregunta: \")\n",
    "print(query)\n",
    "llm_response = rag_chain_with_source.invoke(query)\n",
    "process_llm_response(llm_response)"
   ]
  },
  {
   "cell_type": "code",
   "execution_count": null,
   "metadata": {},
   "outputs": [],
   "source": [
    "# Demo\n",
    "query = input(\"Hazme una pregunta: \")\n",
    "print(query)\n",
    "llm_response = rag_chain_with_source.invoke(query)\n",
    "process_llm_response(llm_response)"
   ]
  },
  {
   "cell_type": "markdown",
   "metadata": {},
   "source": [
    "# Hacer historial y guardar conversaciones para medir efectividad."
   ]
  }
 ],
 "metadata": {
  "kernelspec": {
   "display_name": ".venv",
   "language": "python",
   "name": "python3"
  },
  "language_info": {
   "codemirror_mode": {
    "name": "ipython",
    "version": 3
   },
   "file_extension": ".py",
   "mimetype": "text/x-python",
   "name": "python",
   "nbconvert_exporter": "python",
   "pygments_lexer": "ipython3",
   "version": "3.12.3"
  }
 },
 "nbformat": 4,
 "nbformat_minor": 2
}
