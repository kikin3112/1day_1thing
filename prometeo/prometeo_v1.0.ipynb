{
 "cells": [
  {
   "cell_type": "markdown",
   "metadata": {},
   "source": [
    "# PROMETEO_v1.0"
   ]
  },
  {
   "cell_type": "markdown",
   "metadata": {},
   "source": [
    "## Paquetería"
   ]
  },
  {
   "cell_type": "code",
   "execution_count": 37,
   "metadata": {},
   "outputs": [],
   "source": [
    "import ast\n",
    "import matplotlib.pyplot as plt\n",
    "import numpy as np\n",
    "import os\n",
    "import pandas as pd\n",
    "import shutil\n",
    "import textwrap\n",
    "import tiktoken\n",
    "import umap.umap_ as umap\n",
    "from dotenv import load_dotenv, find_dotenv\n",
    "from langchain import PromptTemplate\n",
    "from langchain.document_loaders import DirectoryLoader, PyPDFLoader\n",
    "from langchain_core.runnables import RunnableParallel\n",
    "from langchain_core.runnables import RunnablePassthrough\n",
    "from langchain.text_splitter import RecursiveCharacterTextSplitter\n",
    "from langchain.vectorstores import Chroma\n",
    "from langchain_openai import ChatOpenAI, OpenAIEmbeddings\n",
    "from langchain_core.output_parsers import StrOutputParser\n",
    "from sklearn.mixture import GaussianMixture\n",
    "from typing import Optional"
   ]
  },
  {
   "cell_type": "markdown",
   "metadata": {},
   "source": [
    "## Funciones"
   ]
  },
  {
   "cell_type": "code",
   "execution_count": 38,
   "metadata": {},
   "outputs": [],
   "source": [
    "def num_tokens_from_string(string: str) -> int:\n",
    "    \"\"\"Cuenta el número de tokens en el documento\n",
    "    proporcionado.\"\"\"\n",
    "    encoding = tiktoken.get_encoding(\"cl100k_base\")\n",
    "    num_tokens = len(encoding.encode(string))\n",
    "    return num_tokens\n",
    "\n",
    "def reduce_cluster_embeddings(\n",
    "    embeddings: np.ndarray,\n",
    "    dim: int,\n",
    "    n_neighbors: Optional[int] = None,\n",
    "    metric: str = \"cosine\",\n",
    ") -> np.ndarray:\n",
    "    \"\"\"Esta función no la comprendo. Estudie\n",
    "    para entenderla.\"\"\"\n",
    "    if n_neighbors is None:\n",
    "        n_neighbors = int((len(embeddings) - 1) ** 0.5)\n",
    "    return umap.UMAP(\n",
    "        n_neighbors=n_neighbors, n_components=dim, metric=metric\n",
    "    ).fit_transform(embeddings)\n",
    "\n",
    "def get_optimal_clusters(embeddings: np.ndarray, max_clusters: int = 50, random_state: int = 1234):\n",
    "    \"\"\"Obtiene el número óptimo de clústers.\"\"\"\n",
    "    max_clusters = min(max_clusters, len(embeddings))\n",
    "    bics = [GaussianMixture(n_components=n, random_state=random_state).fit(embeddings).bic(embeddings)\n",
    "            for n in range(1, max_clusters)]\n",
    "    return np.argmin(bics) + 1\n",
    "\n",
    "def gmm_clustering(embeddings: np.ndarray, threshold: float, random_state: int = 0):\n",
    "    \"\"\"Clusteriza con el método GMM.\"\"\"\n",
    "    n_clusters = get_optimal_clusters(embeddings)\n",
    "    gm = GaussianMixture(n_components=n_clusters, random_state=random_state).fit(embeddings)\n",
    "    probs = gm.predict_proba(embeddings)\n",
    "    labels = [np.where(prob > threshold)[0] for prob in probs]\n",
    "    return labels, n_clusters\n",
    "\n",
    "def format_cluster_texts(df):\n",
    "    \"\"\"Agrupa los textos de cada clúster el listas.\"\"\"\n",
    "    clustered_texts = {}\n",
    "    for cluster in df['Cluster'].unique():\n",
    "        cluster_texts = df[df['Cluster'] == cluster]['Texto'].tolist()\n",
    "        clustered_texts[cluster] = \" --- \".join(cluster_texts)\n",
    "    return clustered_texts\n",
    "\n",
    "def wrap_text_preserve_newlines(text, width=80):\n",
    "    \"\"\"Formato para respuestas.\"\"\"\n",
    "    lines = text.split('\\n')\n",
    "    wrapped_lines = [textwrap.fill(line, width=width) for line in lines]\n",
    "    wrapped_text = '\\n'.join(wrapped_lines)\n",
    "    return wrapped_text\n",
    "\n",
    "def process_llm_response(llm_response):\n",
    "    \"\"\"Generador de referencias.\"\"\"\n",
    "    print(wrap_text_preserve_newlines(llm_response['answer']))\n",
    "    print('\\nReferencias:')\n",
    "    for contexto in llm_response[\"context\"][:5]:\n",
    "        print(contexto)"
   ]
  },
  {
   "cell_type": "markdown",
   "metadata": {},
   "source": [
    "## Parámetros"
   ]
  },
  {
   "cell_type": "code",
   "execution_count": 39,
   "metadata": {},
   "outputs": [],
   "source": [
    "load_dotenv(find_dotenv())\n",
    "embeddings = OpenAIEmbeddings(\n",
    ")\n",
    "\n",
    "detailed_turbo_llm = turbo_llm = ChatOpenAI(\n",
    "    temperature=0,\n",
    "    model_name='gpt-3.5-turbo-0125'\n",
    ")\n",
    "\n",
    "template = \"\"\"Tu tarea como revisor bibliográfico profesional\n",
    "es crear resúmenes extremadamente detallados del siguiente\n",
    "texto: {text} \"\"\"\n",
    "\n",
    "prompt = PromptTemplate.from_template(template)\n",
    "chain = prompt | detailed_turbo_llm | StrOutputParser()\n",
    "\n",
    "turbo_llm = ChatOpenAI(\n",
    "    temperature=0.7,\n",
    "    model_name='gpt-3.5-turbo-0125'\n",
    ")\n",
    "\n",
    "text_splitter = RecursiveCharacterTextSplitter(\n",
    "    chunk_size=2000,\n",
    "    chunk_overlap=100\n",
    ")"
   ]
  },
  {
   "cell_type": "markdown",
   "metadata": {},
   "source": [
    "## Carga de documentos"
   ]
  },
  {
   "cell_type": "code",
   "execution_count": 40,
   "metadata": {},
   "outputs": [
    {
     "name": "stdout",
     "output_type": "stream",
     "text": [
      "Número de tokens en el documento: 15416\n"
     ]
    }
   ],
   "source": [
    "# Asegúrate de que haya PDFs en la carpeta 'docs'\n",
    "documents = DirectoryLoader('./docs/', glob=\"./*.pdf\", loader_cls=PyPDFLoader).load()\n",
    "# Tratameinto de caracteres indeseados\n",
    "for d in documents:\n",
    "    d.page_content = d.page_content.replace('\\n', ' ').replace('\\t', ' ')\n",
    "\n",
    "docs = text_splitter.split_documents(documents)\n",
    "texts = [doc.page_content for doc in docs]\n",
    "\n",
    "d_sorted = sorted(docs, key=lambda x: x.metadata[\"source\"])\n",
    "d_reversed = list(reversed(d_sorted))\n",
    "concatenated_content = \"\\n\\n\\n --- \\n\\n\\n\".join(\n",
    "    [doc.page_content for doc in d_reversed]\n",
    ")\n",
    "print(\n",
    "    \"Número de tokens en el documento: %s\"\n",
    "    % num_tokens_from_string(concatenated_content)\n",
    ")"
   ]
  },
  {
   "cell_type": "markdown",
   "metadata": {},
   "source": [
    "## ¿Quieres crear o cargar una incrustación?"
   ]
  },
  {
   "cell_type": "code",
   "execution_count": 42,
   "metadata": {},
   "outputs": [
    {
     "name": "stdout",
     "output_type": "stream",
     "text": [
      "Elegiste crear de cero una incrustación.\n",
      "\n",
      "Estás usando la incrustación: meto_3_emb.txt\n"
     ]
    }
   ],
   "source": [
    "user_input = input(\"¿Crear (1) o cargar (2) incrustación?: \")\n",
    "destino_emb = r'c:\\Users\\luisr\\OneDrive\\Documentos\\GitHub\\1day_1thing\\prometeo\\embed'\n",
    "\n",
    "if user_input.lower() == \"1\":\n",
    "    print(f'Elegiste crear de cero una incrustación.\\n')\n",
    "    global_embeddings = [embeddings.embed_query(txt) for txt in texts]\n",
    "\n",
    "    embed_name = input('¿Cómo se llama esta incrustación?: ') + '_emb' + '.txt'\n",
    "    emb = rf'c:\\Users\\luisr\\OneDrive\\Documentos\\GitHub\\1day_1thing\\prometeo\\{embed_name}'\n",
    "    with open(rf'./{embed_name}', 'w') as f:\n",
    "        for i in global_embeddings:\n",
    "            f.write(\"%s\\n\" % i)\n",
    "    print(f'Estás usando la incrustación: {embed_name}')\n",
    "    shutil.move(emb, destino_emb)\n",
    "    \n",
    "elif user_input.lower() == \"2\":\n",
    "    print('Elegiste cargar una incrustación ya creada.\\n')\n",
    "    global_embeddings = []\n",
    "\n",
    "    embed_name = input('Nombre de la incrustación: ') + '_emb' + '.txt'\n",
    "    print(f'Estás usando la incrustación: {embed_name}')\n",
    "    with open(rf'./embed/{embed_name}', 'r') as f:\n",
    "        for i in f:\n",
    "            x = ast.literal_eval(i.strip())  # Convertir la cadena a lista de números\n",
    "            global_embeddings.append(x)\n",
    "\n",
    "    global_embeddings = np.array(global_embeddings, dtype=float)\n",
    "    \n",
    "elif user_input != \"1\" and user_input != \"2\":\n",
    "    print('No seleccionaste ninguna incrustación.\\n')\n",
    "\n"
   ]
  },
  {
   "cell_type": "markdown",
   "metadata": {},
   "source": [
    "## Procesamiento de texto"
   ]
  },
  {
   "cell_type": "code",
   "execution_count": 43,
   "metadata": {},
   "outputs": [],
   "source": [
    "dim = 2\n",
    "global_embeddings_reduced = reduce_cluster_embeddings(global_embeddings, dim)\n",
    "labels, _ = gmm_clustering(global_embeddings_reduced, threshold=0.5)\n",
    "simple_labels = [label[0] if len(label) > 0 else -1 for label in labels]\n",
    "\n",
    "df = pd.DataFrame({\n",
    "    'Texto': texts,\n",
    "    'Embedding': list(global_embeddings_reduced),\n",
    "    'Cluster': simple_labels\n",
    "})\n",
    "\n",
    "clustered_texts = format_cluster_texts(df)\n",
    "summaries = {}\n",
    "for cluster, text in clustered_texts.items():\n",
    "    summary = chain.invoke({\"text\": text})\n",
    "    summaries[cluster] = summary\n",
    "embedded_summaries = [embeddings.embed_query(summary) for summary in summaries.values()]\n",
    "embedded_summaries_np = np.array(embedded_summaries)\n",
    "labels, _ = gmm_clustering(embedded_summaries_np, threshold=0.5)\n",
    "simple_labels = [label[0] if len(label) > 0 else -1 for label in labels]\n",
    "clustered_summaries = {}\n",
    "for i, label in enumerate(simple_labels):\n",
    "    if label not in clustered_summaries:\n",
    "        clustered_summaries[label] = []\n",
    "    clustered_summaries[label].append(list(summaries.values())[i])\n",
    "final_summaries = {}\n",
    "for cluster, texts in clustered_summaries.items():\n",
    "    combined_text = ' '.join(texts)\n",
    "    summary = chain.invoke({\"text\": combined_text})\n",
    "    final_summaries[cluster] = summary\n",
    "texts_from_df = df['Texto'].tolist()\n",
    "texts_from_clustered_texts = list(clustered_texts.values())\n",
    "texts_from_final_summaries = list(final_summaries.values())\n",
    "\n",
    "combined_texts = texts_from_df + texts_from_clustered_texts + texts_from_final_summaries"
   ]
  },
  {
   "cell_type": "markdown",
   "metadata": {},
   "source": [
    "## ¿Quieres crear o cargar texto procesado? (hacer)"
   ]
  },
  {
   "cell_type": "code",
   "execution_count": 44,
   "metadata": {},
   "outputs": [],
   "source": [
    "# Nombre del archivo de texto\n",
    "file_name = input('Nombre del archivo: ') + '.txt'\n",
    "\n",
    "# Escribir la lista en el archivo de texto\n",
    "with open(file_name, 'w', encoding='utf-8') as f:\n",
    "    for t in combined_texts:\n",
    "        f.write(\"%s\\n\" % t)\n",
    "\n",
    "# Leer el contenido del archivo y mostrarlo\n",
    "with open(file_name, 'r', encoding='utf-8') as f:\n",
    "    content = f.read()\n",
    "\n",
    "textos = text_splitter.split_text(content)"
   ]
  },
  {
   "cell_type": "markdown",
   "metadata": {},
   "source": [
    "# Guardar los kb en una carpeta (kbs) (hacer)"
   ]
  },
  {
   "cell_type": "markdown",
   "metadata": {},
   "source": [
    "### 1. Enseñar"
   ]
  },
  {
   "cell_type": "code",
   "execution_count": 45,
   "metadata": {},
   "outputs": [
    {
     "data": {
      "text/plain": [
       "1"
      ]
     },
     "execution_count": 45,
     "metadata": {},
     "output_type": "execute_result"
    }
   ],
   "source": [
    "destino_kb = r'c:\\Users\\luisr\\OneDrive\\Documentos\\GitHub\\1day_1thing\\prometeo\\kbs'\n",
    "persist_directory = input('¿Cómo se llamará este knowledge-base?: ') + '_kb'\n",
    "vectorstore = Chroma.from_texts(texts=textos,\n",
    "                                embedding=embeddings,\n",
    "                                persist_directory=persist_directory)\n",
    "vectorstore.persist()\n",
    "vectorstore = None\n",
    "os.system(f'zip -r db.zip ./{persist_directory}')"
   ]
  },
  {
   "cell_type": "markdown",
   "metadata": {},
   "source": [
    "### 2. Recordar (si y solo si Enseñar=Done) y pregunta de control"
   ]
  },
  {
   "cell_type": "code",
   "execution_count": 46,
   "metadata": {},
   "outputs": [
    {
     "name": "stdout",
     "output_type": "stream",
     "text": [
      "K final es: 35\n",
      "\n"
     ]
    }
   ],
   "source": [
    "persist_directory = input('¿Qué knoledge-base deseas usar?: ') + '_kb'\n",
    "embedding = OpenAIEmbeddings()\n",
    "vectorstore = Chroma(persist_directory=persist_directory, \n",
    "                  embedding_function=embedding)\n",
    "\n",
    "def adjust_final_number(string: str, max_threshold: int, initial_number: int) -> int:\n",
    "    final_number = initial_number\n",
    "    while final_number < max_threshold:\n",
    "        retriever = vectorstore.as_retriever(search_kwargs={\"k\": final_number})\n",
    "        docs = retriever.invoke(string)\n",
    "        text = \"\".join([doc.page_content for doc in docs])\n",
    "        if num_tokens_from_string(text) < max_threshold:\n",
    "            final_number += 1\n",
    "        else:\n",
    "            break\n",
    "    return final_number\n",
    "\n",
    "final_number = adjust_final_number(\"¿Cuál es el tema principal del documento?\", 10000, 4)\n",
    "print(f'K final es: {final_number}\\n')\n",
    "retriever = vectorstore.as_retriever(search_kwargs={\"k\": final_number})"
   ]
  },
  {
   "cell_type": "code",
   "execution_count": 47,
   "metadata": {},
   "outputs": [],
   "source": [
    "# Se personaliza el LLM como Prometeo\n",
    "template = \"\"\"\n",
    "Eres Prometeo, un asistente personal de revisión biliográfica que habla Español.\n",
    "\n",
    "Tu tarea consiste en:\n",
    "\n",
    "1. Leer detalladamente la información proporcionada en documentos que generalmente son\n",
    "artículos científicos en formato PDF.\n",
    "\n",
    "2. Proporcionar respuestas extremadamente detalladas a cualquier tipo de pregunta relacionada \n",
    "con el contexto, especialmente a preguntas que involucren peticiones. Evita concluir tus respuestas con un \n",
    "párrafo que comience con 'En resumen,...'. Varía las conclusiones de tus respuestas para que \n",
    "sean más diversas y creativas.\n",
    "\n",
    "3. Ser carismático y ofrecer información sobre ti y tus funciones.\n",
    "\n",
    "SIEMPRE debes responder en Español.\n",
    "\n",
    "SIEMPRE debes responder con base al siguiente contexto: {context}.\n",
    "\n",
    "NUNCA hables específicamente del contexto.\n",
    "\n",
    "NUNCA terminar las respuestas con un resumen o una conclusión predecible.\n",
    "\n",
    "Teniendo en cuenta TODO lo anterior, responde la siguiente pregunta: {question}\n",
    "\"\"\"\n",
    "\n",
    "prometeo_prompt = PromptTemplate(\n",
    "    template=template, input_variables=[\"context\", \"question\"]\n",
    ")\n",
    "\n",
    "def format_docs(docs):\n",
    "    return \"\\n\\n\".join(doc.page_content for doc in docs)\n",
    "\n",
    "rag_chain = (\n",
    "    RunnablePassthrough.assign(context=(lambda x: format_docs(x[\"context\"])))\n",
    "    | prometeo_prompt\n",
    "    | turbo_llm\n",
    "    | StrOutputParser()\n",
    ")\n",
    "\n",
    "rag_chain_with_source = RunnableParallel(\n",
    "    {\"context\": retriever, \"question\": RunnablePassthrough()}\n",
    ").assign(answer=rag_chain\n",
    ")"
   ]
  },
  {
   "cell_type": "code",
   "execution_count": 48,
   "metadata": {},
   "outputs": [
    {
     "name": "stdout",
     "output_type": "stream",
     "text": [
      "¿Cuál es la idea principal de investigación?\n",
      "La idea principal de investigación es explorar y desarrollar un marco integral\n",
      "de innovación en modelos de negocio para el emprendimiento tecnológico,\n",
      "centrándose en la relación entre los modelos de negocio, la innovación y el\n",
      "rendimiento empresarial. Se busca identificar cómo diseñar y gestionar modelos\n",
      "de negocio de manera efectiva para crear valor sostenible y mantener la ventaja\n",
      "competitiva en un mercado en constante evolución. Además, se pretende abordar\n",
      "las complejidades y desafíos asociados con la innovación en modelos de negocio,\n",
      "especialmente en el contexto de la tecnología y el emprendimiento.\n",
      "\n",
      "Referencias:\n",
      "page_content='En resumen, la revisión bibliográfica detallada aborda una amplia gama de temas relacionados con la innovación en modelos de negocio y el emprendimiento tecnológico. Se destacan la importancia de la estrategia, la creación de valor, la innovación y la adaptación a los cambios en el entorno empresarial para lograr el éxito en el emprendimiento tecnológico. Los autores revisados proponen diferentes enfoques y perspectivas sobre cómo diseñar y gestionar modelos de negocio para crear valor sostenible y mantener la ventaja competitiva en un mercado en constante evolución. Además, se identifican áreas de investigación futuras para explorar en profundidad la relación entre los modelos de negocio, la innovación y el rendimiento empresarial en el contexto del emprendimiento tecnológico.'\n",
      "page_content='Towards an integrated future research agenda. International  Journal of Innovation Management, 17(1), 1–34. Shafer, S. M., Smith, H. J., & Linder, J. C. (2005). The power of  business models. Business Horizons, 48, 199–207. Shi, Y. and Manning, T. (2009). Understanding business models  and business model risks, The Journal of Private Equity, 12(2), 49–59. Snihur, Y., & Tarzijan, J. (2018). Managing complexity in a  multi-business-model organization. Long Range Planning, 51,  50–63. Sosna M., Trevinyo-Rodriguez R N., & R Velamuri S R. (2010).  Business model innovation through trial-and-error learning:  The naturhouse case. Long Range Planning, 43(2), 383–407.'\n",
      "page_content='To establish the BMI for technology entrepre-neurship as a new single construct, the literature was iden-tified primarily from Google Scholar (GS). As the concept is multidisciplinary and many unrelated publications were identified, a comprehensive traditional literature review was established to establish the parameters for a consequent systematic review (Jesson, 2011). Together, they enable the origination of the framework (Upward & Jones, 2016). Moreover, to retrieve additional articles, the traditional liter - ature reviews were conducted with key references from the identified papers. To meet this, the following search terms were used: Business model innovation, technology entrepre-neurship, and economic sustainability. The search terms were predefined to allow an all-inclusive search strategy that included all important articles. Study Selection and Eligibility Criteria The major sources of citation data were Web of Science (WoS), GS, and Scopus. The coverage of WoS and Scopus was different among different disciplines. For instance, their coverage is not good in social sciences and humanities (Mahdi et al., 2008). Comparatively, GS is advantageous by searching all citations from several sources. The coverage of research output is higher in GS and also does not differ among subject matters (Amara & Landry, 2012). In general, although the data quality and reliability were  poor in GS, WoS and Scopus were weak in nonscience sub-jects. This makes GS comparatively advantageous over these subject matters. Currently, many indicators were established to measure the quality of journals. Some of them are h-index and SJR (SCImago Journal Rank). For this specific research, after data were obtained from GS, the selected articles’ qual-ity was checked using the journal impact factor (JIF) for journals published in Thompson Reuter’s WoS, and SJR of Scopus. JIF is important in using GS as it ignores the lower down papers. Similarly, SJR is important, its value is nor -'\n",
      "page_content='To establish the BMI for technology entrepre-neurship as a new single construct, the literature was iden-tified primarily from Google Scholar (GS). As the concept is multidisciplinary and many unrelated publications were identified, a comprehensive traditional literature review was established to establish the parameters for a consequent systematic review (Jesson, 2011). Together, they enable the origination of the framework (Upward & Jones, 2016). Moreover, to retrieve additional articles, the traditional liter - ature reviews were conducted with key references from the identified papers. To meet this, the following search terms were used: Business model innovation, technology entrepre-neurship, and economic sustainability. The search terms were predefined to allow an all-inclusive search strategy that included all important articles. Study Selection and Eligibility Criteria The major sources of citation data were Web of Science (WoS), GS, and Scopus. The coverage of WoS and Scopus was different among different disciplines. For instance, their coverage is not good in social sciences and humanities (Mahdi et al., 2008). Comparatively, GS is advantageous by searching all citations from several sources. The coverage of research output is higher in GS and also does not differ among subject matters (Amara & Landry, 2012). In general, although the data quality and reliability were  poor in GS, WoS and Scopus were weak in nonscience sub-jects. This makes GS comparatively advantageous over these subject matters. Currently, many indicators were established to measure the quality of journals. Some of them are h-index and SJR (SCImago Journal Rank). For this specific research, after data were obtained from GS, the selected articles’ qual-ity was checked using the journal impact factor (JIF) for journals published in Thompson Reuter’s WoS, and SJR of Scopus. JIF is important in using GS as it ignores the lower down papers. Similarly, SJR is important, its value is nor - ---'\n",
      "page_content='Towards an integrated future research agenda. International  Journal of Innovation Management, 17(1), 1–34. Shafer, S. M., Smith, H. J., & Linder, J. C. (2005). The power of  business models. Business Horizons, 48, 199–207. Shi, Y. and Manning, T. (2009). Understanding business models  and business model risks, The Journal of Private Equity, 12(2), 49–59. Snihur, Y., & Tarzijan, J. (2018). Managing complexity in a  multi-business-model organization. Long Range Planning, 51,  50–63. Sosna M., Trevinyo-Rodriguez R N., & R Velamuri S R. (2010).  Business model innovation through trial-and-error learning:  The naturhouse case. Long Range Planning, 43(2), 383–407. --- service business model innovation, and their impact on performance. Journal of Product Innovation Management, 33, 36–52. https://doi.org/10.1111/jpim.12254 Zott, C., & Amit, R. (2007). Business model design and the per- formance of entrepreneurial firms. Organization Science, 18,  181–199. Zott, C., & Amit, R. (2010). Business model design: An activity  system perspective. Long Range Planning, 43(2–3): 216–226. Zott, C., Amit, R., & Massa, L. (2011). The business model: Recent  developments and future research. Journal of Management, 37,  1019–1042.'\n"
     ]
    }
   ],
   "source": [
    "# Demo\n",
    "query = input(\"Hazme una pregunta: \")\n",
    "print(query)\n",
    "llm_response = rag_chain_with_source.invoke(query)\n",
    "process_llm_response(llm_response)"
   ]
  },
  {
   "cell_type": "code",
   "execution_count": 49,
   "metadata": {},
   "outputs": [
    {
     "name": "stdout",
     "output_type": "stream",
     "text": [
      "¿Cuál es el objetivo u objetivos de investigación?\n",
      "El objetivo de la investigación es establecer el Modelo de Negocio Innovador\n",
      "para el Emprendimiento Tecnológico como un nuevo constructo único, a través de\n",
      "una revisión detallada de la literatura. Se busca identificar los parámetros\n",
      "necesarios para realizar una revisión sistemática posterior, así como establecer\n",
      "un marco integral que permita la creación y gestión de modelos de negocio para\n",
      "el emprendimiento tecnológico. Además, se pretende analizar la calidad de los\n",
      "artículos seleccionados y extraer datos relevantes para comprender la relación\n",
      "entre los modelos de negocio, la innovación y la sostenibilidad económica en el\n",
      "contexto del emprendimiento tecnológico.\n",
      "\n",
      "Referencias:\n",
      "page_content='En resumen, la revisión bibliográfica detallada aborda una amplia gama de temas relacionados con la innovación en modelos de negocio y el emprendimiento tecnológico. Se destacan la importancia de la estrategia, la creación de valor, la innovación y la adaptación a los cambios en el entorno empresarial para lograr el éxito en el emprendimiento tecnológico. Los autores revisados proponen diferentes enfoques y perspectivas sobre cómo diseñar y gestionar modelos de negocio para crear valor sostenible y mantener la ventaja competitiva en un mercado en constante evolución. Además, se identifican áreas de investigación futuras para explorar en profundidad la relación entre los modelos de negocio, la innovación y el rendimiento empresarial en el contexto del emprendimiento tecnológico.'\n",
      "page_content='To establish the BMI for technology entrepre-neurship as a new single construct, the literature was iden-tified primarily from Google Scholar (GS). As the concept is multidisciplinary and many unrelated publications were identified, a comprehensive traditional literature review was established to establish the parameters for a consequent systematic review (Jesson, 2011). Together, they enable the origination of the framework (Upward & Jones, 2016). Moreover, to retrieve additional articles, the traditional liter - ature reviews were conducted with key references from the identified papers. To meet this, the following search terms were used: Business model innovation, technology entrepre-neurship, and economic sustainability. The search terms were predefined to allow an all-inclusive search strategy that included all important articles. Study Selection and Eligibility Criteria The major sources of citation data were Web of Science (WoS), GS, and Scopus. The coverage of WoS and Scopus was different among different disciplines. For instance, their coverage is not good in social sciences and humanities (Mahdi et al., 2008). Comparatively, GS is advantageous by searching all citations from several sources. The coverage of research output is higher in GS and also does not differ among subject matters (Amara & Landry, 2012). In general, although the data quality and reliability were  poor in GS, WoS and Scopus were weak in nonscience sub-jects. This makes GS comparatively advantageous over these subject matters. Currently, many indicators were established to measure the quality of journals. Some of them are h-index and SJR (SCImago Journal Rank). For this specific research, after data were obtained from GS, the selected articles’ qual-ity was checked using the journal impact factor (JIF) for journals published in Thompson Reuter’s WoS, and SJR of Scopus. JIF is important in using GS as it ignores the lower down papers. Similarly, SJR is important, its value is nor - ---'\n",
      "page_content='Towards an integrated future research agenda. International  Journal of Innovation Management, 17(1), 1–34. Shafer, S. M., Smith, H. J., & Linder, J. C. (2005). The power of  business models. Business Horizons, 48, 199–207. Shi, Y. and Manning, T. (2009). Understanding business models  and business model risks, The Journal of Private Equity, 12(2), 49–59. Snihur, Y., & Tarzijan, J. (2018). Managing complexity in a  multi-business-model organization. Long Range Planning, 51,  50–63. Sosna M., Trevinyo-Rodriguez R N., & R Velamuri S R. (2010).  Business model innovation through trial-and-error learning:  The naturhouse case. Long Range Planning, 43(2), 383–407.'\n",
      "page_content='To establish the BMI for technology entrepre-neurship as a new single construct, the literature was iden-tified primarily from Google Scholar (GS). As the concept is multidisciplinary and many unrelated publications were identified, a comprehensive traditional literature review was established to establish the parameters for a consequent systematic review (Jesson, 2011). Together, they enable the origination of the framework (Upward & Jones, 2016). Moreover, to retrieve additional articles, the traditional liter - ature reviews were conducted with key references from the identified papers. To meet this, the following search terms were used: Business model innovation, technology entrepre-neurship, and economic sustainability. The search terms were predefined to allow an all-inclusive search strategy that included all important articles. Study Selection and Eligibility Criteria The major sources of citation data were Web of Science (WoS), GS, and Scopus. The coverage of WoS and Scopus was different among different disciplines. For instance, their coverage is not good in social sciences and humanities (Mahdi et al., 2008). Comparatively, GS is advantageous by searching all citations from several sources. The coverage of research output is higher in GS and also does not differ among subject matters (Amara & Landry, 2012). In general, although the data quality and reliability were  poor in GS, WoS and Scopus were weak in nonscience sub-jects. This makes GS comparatively advantageous over these subject matters. Currently, many indicators were established to measure the quality of journals. Some of them are h-index and SJR (SCImago Journal Rank). For this specific research, after data were obtained from GS, the selected articles’ qual-ity was checked using the journal impact factor (JIF) for journals published in Thompson Reuter’s WoS, and SJR of Scopus. JIF is important in using GS as it ignores the lower down papers. Similarly, SJR is important, its value is nor -'\n",
      "page_content='on the synthesized arguments. Quality Assessment and Data Extraction To assure the quality of the research, the researcher has to document literature findings, the selection of keywords, and the evaluation of the result (Brocke, 2019). After these have been done, data were extracted by two independent review-ers. A disagreement between reviewers was discussed with the reviewer and reached consensus. Moreover, duplicate articles were manually identified and removed. In case a full-text article was --- Moreover, duplicate articles were manually identified and removed. In case a full-text article was not accessed, the authors were communi-cated, and if no reply was received, the article was excluded from the study. The articles for review were identified from GS and  checked for paper’s quality using the JIF of WoS and SJR of Scopus. Accordingly, from a total of 49 reviewed journals, 44 (89.80) classified as Q1 as a ranking of SJR quartile. Only five articles from four journals each categorized under Q2 and Q3, respectively, were added because of their relevance. This is done to include concepts from technology entrepre- neurship as it is not adequate. Some journal articles have  been removed due to not being indexed and ranked by JIF or SJR. Analysis and Discussion Orchestrating the BMI for Technology  Entrepreneurship To change the existing business model, entrepreneurs are  looking to the other companies’ practice, searching for new markets, and a new way of doing things. Accordingly, the techno-entrepreneurs will be involved in R&D, experiment, generating, designing, renewing, changing, and implementa-tion. These processes may not be successful without having an appropriate strategy that leads to better performance and further to a firm’s economic sustainability. The first step for innovative firms is recognizing the existence of unrequited customer needs (Teece, 2016). This will be done by conduct-ing R&D and networking. In doing this, the consideration   of'\n"
     ]
    }
   ],
   "source": [
    "# Demo\n",
    "query = input(\"Hazme una pregunta: \")\n",
    "print(query)\n",
    "llm_response = rag_chain_with_source.invoke(query)\n",
    "process_llm_response(llm_response)"
   ]
  },
  {
   "cell_type": "code",
   "execution_count": 50,
   "metadata": {},
   "outputs": [
    {
     "name": "stdout",
     "output_type": "stream",
     "text": [
      "¿Explícame el Modelo de Negocio Innovador para el Emprendimiento Tecnológico?\n",
      "El Modelo de Negocio Innovador para el Emprendimiento Tecnológico se basa en la\n",
      "creación y captura de valor a través de la capitalización y comercialización de\n",
      "tecnologías innovadoras. Este modelo se enfoca en la experimentación, el diseño,\n",
      "la generación, la renovación y la implementación de procesos que permitan\n",
      "integrar elementos clave como la migración de valor, evaluación de oportunidades\n",
      "y riesgos, capacidades dinámicas, redes de interés y estrategias\n",
      "institucionales. Además, se centra en la creación de valor para los clientes, la\n",
      "configuración de propuestas de valor, la captura de valor y la creación y\n",
      "entrega de valor de manera efectiva.\n",
      "\n",
      "Para tener éxito en el emprendimiento tecnológico, es fundamental contar con\n",
      "recursos organizativos y capacidades que permitan la creación y captura de\n",
      "valor. La colaboración con diferentes actores y la construcción de una red de\n",
      "negocios sólida también son aspectos clave para modificar y mejorar el modelo de\n",
      "negocio existente. Este modelo busca integrar de manera coherente los aspectos\n",
      "tecnológicos con los elementos tradicionales de los modelos de negocio para\n",
      "lograr el éxito en un entorno empresarial en constante evolución.\n",
      "\n",
      "Referencias:\n",
      "page_content='En resumen, la revisión bibliográfica detallada aborda una amplia gama de temas relacionados con la innovación en modelos de negocio y el emprendimiento tecnológico. Se destacan la importancia de la estrategia, la creación de valor, la innovación y la adaptación a los cambios en el entorno empresarial para lograr el éxito en el emprendimiento tecnológico. Los autores revisados proponen diferentes enfoques y perspectivas sobre cómo diseñar y gestionar modelos de negocio para crear valor sostenible y mantener la ventaja competitiva en un mercado en constante evolución. Además, se identifican áreas de investigación futuras para explorar en profundidad la relación entre los modelos de negocio, la innovación y el rendimiento empresarial en el contexto del emprendimiento tecnológico.'\n",
      "page_content='https://doi.org/10.1177/21582440211029917SAGE Open July-September 2021: 1 –12 © The Author(s) 2021DOI: 10.1177/21582440211029917 journals.sagepub.com/home/sgo Creative Commons CC BY: This article is distributed under the terms of the Creative Commons Attribution 4.0 License   (https://creativecommons.org/licenses/by/4.0/) which permits any use, reproduction and distribution of   the work without further permission provided the original work is attributed as specified on the SAGE and Open Access pages   (https://us.sagepub.com/en-us/nam/open-access-at-sage).Original Research Introduction The new economic context of globalization, knowledge,  innovation, and technological entrepreneurship contributes to the rise of the novel entrepreneurial ecosystem (Roja & Năstase, 2014). These developments play a role in changing the sense of balance between various stakeholders (Teece, 2010) by allowing firms to involve differently in economic exchange (Mendelson, 2010; Zott & Amit, 2007). Previously, firms innovate products, processes, and technology in creat-ing and achieving sustainable values (Hansen et al., 2009). However, the route toward sustainability requires a change in the purpose and strategies of business (Bocken et al., 2014). These methods were not adequate and need to be comple-mented with business model innovation (BMI) to bring more sustainable value to the organizations (Hansen et al., 2009; Schaltegger et al., 2012). This is because no equivalent ontol-ogy is available to describe the strong sustainable business model (Upward & Jones, 2016). Therefore, firms should find novelty in performing activities that help to achieve the novel business model advancement (Ireland et al., 2001). Business models expose the way enterprises are linked to  various stakeholders and are involved in economic exchange with these stakeholders in creating value for the partners (Zott & Amit, 2007), as well as contribute to the successful commercialization of disruptive technologies'\n",
      "page_content='https://doi.org/10.1177/21582440211029917SAGE Open July-September 2021: 1 –12 © The Author(s) 2021DOI: 10.1177/21582440211029917 journals.sagepub.com/home/sgo Creative Commons CC BY: This article is distributed under the terms of the Creative Commons Attribution 4.0 License   (https://creativecommons.org/licenses/by/4.0/) which permits any use, reproduction and distribution of   the work without further permission provided the original work is attributed as specified on the SAGE and Open Access pages   (https://us.sagepub.com/en-us/nam/open-access-at-sage).Original Research Introduction The new economic context of globalization, knowledge,  innovation, and technological entrepreneurship contributes to the rise of the novel entrepreneurial ecosystem (Roja & Năstase, 2014). These developments play a role in changing the sense of balance between various stakeholders (Teece, 2010) by allowing firms to involve differently in economic exchange (Mendelson, 2010; Zott & Amit, 2007). Previously, firms innovate products, processes, and technology in creat-ing and achieving sustainable values (Hansen et al., 2009). However, the route toward sustainability requires a change in the purpose and strategies of business (Bocken et al., 2014). These methods were not adequate and need to be comple-mented with business model innovation (BMI) to bring more sustainable value to the organizations (Hansen et al., 2009; Schaltegger et al., 2012). This is because no equivalent ontol-ogy is available to describe the strong sustainable business model (Upward & Jones, 2016). Therefore, firms should find novelty in performing activities that help to achieve the novel business model advancement (Ireland et al., 2001). Business models expose the way enterprises are linked to  various stakeholders and are involved in economic exchange with these stakeholders in creating value for the partners (Zott & Amit, 2007), as well as contribute to the successful commercialization of disruptive technologies'\n",
      "page_content='& Amit, 2007), as well as contribute to the successful commercialization of disruptive technologies (DaSilva et al., 2013). The value of technology alone will be less as values are emerged through commercializing using a business model (Chesbrough & Rosenbloom, 2002; DaSilva et al., 2013). That is, technological innovation requires business models in creating and bringing innovations to the market and creating an opportunity that satisfies the unsatisfied cus-tomer’s need (Teece, 2010). Accordingly, looking for inte-grations among the economy and technology arises to be important to identify the most appropriate strategies (Roja & Năstase, 2014). Moreover, the intention should be tended to gain technological capability and personnel skills in developing innovation and being competitive (Khefacha & Belkacem, 2016). Therefore, it is crucial to look at the existing challenges and business model cases in improving 1029917 SGO XXX10.1177/21582440211029917SAGE OpenWang and Chebo research-article 2021 2021 1School of Economics and Management, Shihezi University, Xinjiang, China 2Faculty of Business and Economics, Kotebe Metropolitan University  Addis Ababa, Ethiopia Corresponding Author: Abdella Kosa Chebo, Faculty of Business and Economics, Kotebe Metropolitan University, Addis Ababa, Ethiopia.Email: abdikosa@gmail.comThe Dynamics of Business Model  Innovation for Technology Entrepreneurship: A Systematic  Review and Future Avenue Run Wang1 and Abdella Kosa Chebo2 Abstract Technology entrepreneurship involves creating sustainable value through capitalization and commercialization of innovative new technology, accelerates the growth of firms, and helps in promoting the sustainability of the economy. However, the literature on the business model innovation (BMI) for technology entrepreneurship has no clarity yet. Therefore, this article aims to build a business model innovation for technology entrepreneurship (BMIfTE) toward economic sustainability. To meet this aim,'\n",
      "page_content='& Amit, 2007), as well as contribute to the successful commercialization of disruptive technologies (DaSilva et al., 2013). The value of technology alone will be less as values are emerged through commercializing using a business model (Chesbrough & Rosenbloom, 2002; DaSilva et al., 2013). That is, technological innovation requires business models in creating and bringing innovations to the market and creating an opportunity that satisfies the unsatisfied cus-tomer’s need (Teece, 2010). Accordingly, looking for inte-grations among the economy and technology arises to be important to identify the most appropriate strategies (Roja & Năstase, 2014). Moreover, the intention should be tended to gain technological capability and personnel skills in developing innovation and being competitive (Khefacha & Belkacem, 2016). Therefore, it is crucial to look at the existing challenges and business model cases in improving 1029917 SGO XXX10.1177/21582440211029917SAGE OpenWang and Chebo research-article 2021 2021 1School of Economics and Management, Shihezi University, Xinjiang, China 2Faculty of Business and Economics, Kotebe Metropolitan University  Addis Ababa, Ethiopia Corresponding Author: Abdella Kosa Chebo, Faculty of Business and Economics, Kotebe Metropolitan University, Addis Ababa, Ethiopia.Email: abdikosa@gmail.comThe Dynamics of Business Model  Innovation for Technology Entrepreneurship: A Systematic  Review and Future Avenue Run Wang1 and Abdella Kosa Chebo2 Abstract Technology entrepreneurship involves creating sustainable value through capitalization and commercialization of innovative new technology, accelerates the growth of firms, and helps in promoting the sustainability of the economy. However, the literature on the business model innovation (BMI) for technology entrepreneurship has no clarity yet. Therefore, this article aims to build a business model innovation for technology entrepreneurship (BMIfTE) toward economic sustainability. To meet this aim,'\n"
     ]
    }
   ],
   "source": [
    "# Demo\n",
    "query = input(\"Hazme una pregunta: \")\n",
    "print(query)\n",
    "llm_response = rag_chain_with_source.invoke(query)\n",
    "process_llm_response(llm_response)"
   ]
  },
  {
   "cell_type": "code",
   "execution_count": 51,
   "metadata": {},
   "outputs": [
    {
     "name": "stdout",
     "output_type": "stream",
     "text": [
      "¿Cuál es la metodología de la investigación?\n",
      "La metodología de la investigación se basa en un enfoque cualitativo para\n",
      "analizar los datos recopilados de la literatura existente. Se llevó a cabo un\n",
      "proceso de revisión sistemática porque este enfoque se utiliza para identificar,\n",
      "evaluar y sintetizar la literatura disponible de manera comprensiva, explícita y\n",
      "reproducible. Además, se incluye la búsqueda sistemática de la literatura. Para\n",
      "garantizar la calidad de la investigación, se documentaron los hallazgos de la\n",
      "literatura, la selección de palabras clave y la evaluación de los resultados.\n",
      "Los datos fueron extraídos por dos revisores independientes y cualquier\n",
      "desacuerdo entre los revisores se discutió y se llegó a un consenso. Además, se\n",
      "identificaron manualmente los artículos duplicados y se eliminaron. En caso de\n",
      "que no se accediera a un artículo de texto completo, se intentó contactar a los\n",
      "autores y, si no se recibía respuesta, el artículo se excluía del estudio. Los\n",
      "artículos para revisión se identificaron en Google Scholar y se verificó la\n",
      "calidad de los artículos utilizando el Factor de Impacto de WoS y el SJR de\n",
      "Scopus. Así, se verificaron y analizaron un total de 49 artículos relevantes.\n",
      "\n",
      "Referencias:\n",
      "page_content='En resumen, la revisión bibliográfica detallada aborda una amplia gama de temas relacionados con la innovación en modelos de negocio y el emprendimiento tecnológico. Se destacan la importancia de la estrategia, la creación de valor, la innovación y la adaptación a los cambios en el entorno empresarial para lograr el éxito en el emprendimiento tecnológico. Los autores revisados proponen diferentes enfoques y perspectivas sobre cómo diseñar y gestionar modelos de negocio para crear valor sostenible y mantener la ventaja competitiva en un mercado en constante evolución. Además, se identifican áreas de investigación futuras para explorar en profundidad la relación entre los modelos de negocio, la innovación y el rendimiento empresarial en el contexto del emprendimiento tecnológico.'\n",
      "page_content='4 SAGE Open Data Analysis and Synthesis The synthesis was made to find the relevant findings and  summarize essential knowledge of the research domain, to understand the big picture of a particular domain by reducing the irrelevant ideas. Business plans, business cases, working papers, and articles not written in English were excluded. A qualitative research method is chosen to analyze the data col-lected from existing literature. Using this approach, the theo-retical aspects of BMI in technology entrepreneurship were described and interpreted. For this qualitative research, a sys-tematic review process was undertaken because a systematic review is used to identify, evaluate, and synthesize the avail-able literature as its comprehensive, explicit, and reproduc-ible approach (Fink, 2005). It also includes systematically searching the literature. Moreover, Rousseau et al. (2008) argue that systematic literature review has importance in analysis transparency and avoiding implicit biases. In   general, the systematic review covers plan and searching strategy derived to lessen bias by finding, scrutinizing, and synthesizing the relevant studies (Uman, 2011). Based on the research question, the selected articles were  organized based on the themes of inputs, processes, and out-puts of business model innovation. The analysis is focused on the concept, processes, and frameworks. Accordingly, the logic and arguments of various scholars were compared and a conclusion was drawn based on the synthesized arguments. Quality Assessment and Data Extraction To assure the quality of the research, the researcher has to document literature findings, the selection of keywords, and the evaluation of the result (Brocke, 2019). After these have been done, data were extracted by two independent review-ers. A disagreement between reviewers was discussed with the reviewer and reached consensus. Moreover, duplicate articles were manually identified and removed. In case a full-text article was'\n",
      "page_content='on the synthesized arguments. Quality Assessment and Data Extraction To assure the quality of the research, the researcher has to document literature findings, the selection of keywords, and the evaluation of the result (Brocke, 2019). After these have been done, data were extracted by two independent review-ers. A disagreement between reviewers was discussed with the reviewer and reached consensus. Moreover, duplicate articles were manually identified and removed. In case a full-text article was --- Moreover, duplicate articles were manually identified and removed. In case a full-text article was not accessed, the authors were communi-cated, and if no reply was received, the article was excluded from the study. The articles for review were identified from GS and  checked for paper’s quality using the JIF of WoS and SJR of Scopus. Accordingly, from a total of 49 reviewed journals, 44 (89.80) classified as Q1 as a ranking of SJR quartile. Only five articles from four journals each categorized under Q2 and Q3, respectively, were added because of their relevance. This is done to include concepts from technology entrepre- neurship as it is not adequate. Some journal articles have  been removed due to not being indexed and ranked by JIF or SJR. Analysis and Discussion Orchestrating the BMI for Technology  Entrepreneurship To change the existing business model, entrepreneurs are  looking to the other companies’ practice, searching for new markets, and a new way of doing things. Accordingly, the techno-entrepreneurs will be involved in R&D, experiment, generating, designing, renewing, changing, and implementa-tion. These processes may not be successful without having an appropriate strategy that leads to better performance and further to a firm’s economic sustainability. The first step for innovative firms is recognizing the existence of unrequited customer needs (Teece, 2016). This will be done by conduct-ing R&D and networking. In doing this, the consideration   of'\n",
      "page_content='Wang and Chebo 11 Jesson, J. (2011). Doing your literature review: Traditional and sys- tematic techniques. Educational Research and Evaluation, 24,  219–221. Khefacha, I., & Belkacem, L. (2016). Technology-based ven- tures and sustainable development: Cointegrating and causal  relationships with a panel data approach. The Journal of International Trade & Economic Development, 25, 192–212. Kim, S. K., & Min, S. (2015). Business model innovation perfor- mance: When does adding a new business model benefit an incumbent? Strategic Entrepreneurship Journal, 9, 34–57.  https://doi.org/10.1002/sej.1193 Kosa, A., & Mohammad, I. (2017). Uncovering the backings to pas- sion: Why do small firm owners/managers engage in entrepre-neurship? Journal of Innovation and Entrepreneurship, 6, 20. Kulins C., Leonardy H., & Weber C. (2016). A configurational  approach in business model design. Journal of Business  Research, 69, 1437–1441. Laasch, O. (2018). Beyond the purely commercial business model:  Organizational value logics and the heterogeneity of sustain- ability business models. Long Range Planning, 51(1), 158–183. Lechner U., & Hummel J. (2002). Business models and system  architectures of virtual communities: From a sociological phe-nomenon to peer-to-peer architectures. International Journal of Electronic Commerce, 6(3), 41–53. Leih, S., Linden, G., Teece, D.J. (2015). Business model innovation  and organizational design: a dynamic capabilities perspective. In: Foss, N. J., Saebi, T. (Eds.), Business Model Innovation: the Organizational Dimension (pp. 24–42). Oxford University Press, Oxford. Lowitt, E. (2013). The collaboration economy: How to meet busi- ness, social, and environmental needs and gain competitive advantage hardcover (1st ed.). Jossey-Bass. Lund, M., & Nielsen, C. (2014). The evolution of network-based  business models illustrated through the case study of an entre- preneurship project. Journal of Business Models, 2, 105–121. Mahdi, S., D’Este, P., & Neely,'\n",
      "page_content='To establish the BMI for technology entrepre-neurship as a new single construct, the literature was iden-tified primarily from Google Scholar (GS). As the concept is multidisciplinary and many unrelated publications were identified, a comprehensive traditional literature review was established to establish the parameters for a consequent systematic review (Jesson, 2011). Together, they enable the origination of the framework (Upward & Jones, 2016). Moreover, to retrieve additional articles, the traditional liter - ature reviews were conducted with key references from the identified papers. To meet this, the following search terms were used: Business model innovation, technology entrepre-neurship, and economic sustainability. The search terms were predefined to allow an all-inclusive search strategy that included all important articles. Study Selection and Eligibility Criteria The major sources of citation data were Web of Science (WoS), GS, and Scopus. The coverage of WoS and Scopus was different among different disciplines. For instance, their coverage is not good in social sciences and humanities (Mahdi et al., 2008). Comparatively, GS is advantageous by searching all citations from several sources. The coverage of research output is higher in GS and also does not differ among subject matters (Amara & Landry, 2012). In general, although the data quality and reliability were  poor in GS, WoS and Scopus were weak in nonscience sub-jects. This makes GS comparatively advantageous over these subject matters. Currently, many indicators were established to measure the quality of journals. Some of them are h-index and SJR (SCImago Journal Rank). For this specific research, after data were obtained from GS, the selected articles’ qual-ity was checked using the journal impact factor (JIF) for journals published in Thompson Reuter’s WoS, and SJR of Scopus. JIF is important in using GS as it ignores the lower down papers. Similarly, SJR is important, its value is nor - ---'\n"
     ]
    }
   ],
   "source": [
    "# Demo\n",
    "query = input(\"Hazme una pregunta: \")\n",
    "print(query)\n",
    "llm_response = rag_chain_with_source.invoke(query)\n",
    "process_llm_response(llm_response)"
   ]
  },
  {
   "cell_type": "code",
   "execution_count": 52,
   "metadata": {},
   "outputs": [
    {
     "name": "stdout",
     "output_type": "stream",
     "text": [
      "¿Cuáles fueron los resultados más importantes de la investigación?\n",
      "Los resultados más importantes de la investigación se centran en la\n",
      "identificación de los elementos clave para la innovación en modelos de negocio\n",
      "en el contexto del emprendimiento tecnológico. Se destaca la importancia de la\n",
      "estrategia, la creación de valor, la innovación y la adaptación a los cambios en\n",
      "el entorno empresarial para lograr el éxito en este campo. Asimismo, se resalta\n",
      "la necesidad de evaluar de manera independiente el impacto de diferentes\n",
      "variables en el rendimiento empresarial, así como la importancia de considerar\n",
      "la comercialización de innovaciones tecnológicas a través de la digitalización y\n",
      "el marketing en línea. Estos hallazgos sugieren áreas de investigación futuras\n",
      "para explorar en mayor profundidad la relación entre los modelos de negocio, la\n",
      "innovación y el rendimiento empresarial en el contexto del emprendimiento\n",
      "tecnológico.\n",
      "\n",
      "Referencias:\n",
      "page_content='En resumen, la revisión bibliográfica detallada aborda una amplia gama de temas relacionados con la innovación en modelos de negocio y el emprendimiento tecnológico. Se destacan la importancia de la estrategia, la creación de valor, la innovación y la adaptación a los cambios en el entorno empresarial para lograr el éxito en el emprendimiento tecnológico. Los autores revisados proponen diferentes enfoques y perspectivas sobre cómo diseñar y gestionar modelos de negocio para crear valor sostenible y mantener la ventaja competitiva en un mercado en constante evolución. Además, se identifican áreas de investigación futuras para explorar en profundidad la relación entre los modelos de negocio, la innovación y el rendimiento empresarial en el contexto del emprendimiento tecnológico.'\n",
      "page_content='To establish the BMI for technology entrepre-neurship as a new single construct, the literature was iden-tified primarily from Google Scholar (GS). As the concept is multidisciplinary and many unrelated publications were identified, a comprehensive traditional literature review was established to establish the parameters for a consequent systematic review (Jesson, 2011). Together, they enable the origination of the framework (Upward & Jones, 2016). Moreover, to retrieve additional articles, the traditional liter - ature reviews were conducted with key references from the identified papers. To meet this, the following search terms were used: Business model innovation, technology entrepre-neurship, and economic sustainability. The search terms were predefined to allow an all-inclusive search strategy that included all important articles. Study Selection and Eligibility Criteria The major sources of citation data were Web of Science (WoS), GS, and Scopus. The coverage of WoS and Scopus was different among different disciplines. For instance, their coverage is not good in social sciences and humanities (Mahdi et al., 2008). Comparatively, GS is advantageous by searching all citations from several sources. The coverage of research output is higher in GS and also does not differ among subject matters (Amara & Landry, 2012). In general, although the data quality and reliability were  poor in GS, WoS and Scopus were weak in nonscience sub-jects. This makes GS comparatively advantageous over these subject matters. Currently, many indicators were established to measure the quality of journals. Some of them are h-index and SJR (SCImago Journal Rank). For this specific research, after data were obtained from GS, the selected articles’ qual-ity was checked using the journal impact factor (JIF) for journals published in Thompson Reuter’s WoS, and SJR of Scopus. JIF is important in using GS as it ignores the lower down papers. Similarly, SJR is important, its value is nor - ---'\n",
      "page_content='To establish the BMI for technology entrepre-neurship as a new single construct, the literature was iden-tified primarily from Google Scholar (GS). As the concept is multidisciplinary and many unrelated publications were identified, a comprehensive traditional literature review was established to establish the parameters for a consequent systematic review (Jesson, 2011). Together, they enable the origination of the framework (Upward & Jones, 2016). Moreover, to retrieve additional articles, the traditional liter - ature reviews were conducted with key references from the identified papers. To meet this, the following search terms were used: Business model innovation, technology entrepre-neurship, and economic sustainability. The search terms were predefined to allow an all-inclusive search strategy that included all important articles. Study Selection and Eligibility Criteria The major sources of citation data were Web of Science (WoS), GS, and Scopus. The coverage of WoS and Scopus was different among different disciplines. For instance, their coverage is not good in social sciences and humanities (Mahdi et al., 2008). Comparatively, GS is advantageous by searching all citations from several sources. The coverage of research output is higher in GS and also does not differ among subject matters (Amara & Landry, 2012). In general, although the data quality and reliability were  poor in GS, WoS and Scopus were weak in nonscience sub-jects. This makes GS comparatively advantageous over these subject matters. Currently, many indicators were established to measure the quality of journals. Some of them are h-index and SJR (SCImago Journal Rank). For this specific research, after data were obtained from GS, the selected articles’ qual-ity was checked using the journal impact factor (JIF) for journals published in Thompson Reuter’s WoS, and SJR of Scopus. JIF is important in using GS as it ignores the lower down papers. Similarly, SJR is important, its value is nor -'\n",
      "page_content='on the synthesized arguments. Quality Assessment and Data Extraction To assure the quality of the research, the researcher has to document literature findings, the selection of keywords, and the evaluation of the result (Brocke, 2019). After these have been done, data were extracted by two independent review-ers. A disagreement between reviewers was discussed with the reviewer and reached consensus. Moreover, duplicate articles were manually identified and removed. In case a full-text article was --- Moreover, duplicate articles were manually identified and removed. In case a full-text article was not accessed, the authors were communi-cated, and if no reply was received, the article was excluded from the study. The articles for review were identified from GS and  checked for paper’s quality using the JIF of WoS and SJR of Scopus. Accordingly, from a total of 49 reviewed journals, 44 (89.80) classified as Q1 as a ranking of SJR quartile. Only five articles from four journals each categorized under Q2 and Q3, respectively, were added because of their relevance. This is done to include concepts from technology entrepre- neurship as it is not adequate. Some journal articles have  been removed due to not being indexed and ranked by JIF or SJR. Analysis and Discussion Orchestrating the BMI for Technology  Entrepreneurship To change the existing business model, entrepreneurs are  looking to the other companies’ practice, searching for new markets, and a new way of doing things. Accordingly, the techno-entrepreneurs will be involved in R&D, experiment, generating, designing, renewing, changing, and implementa-tion. These processes may not be successful without having an appropriate strategy that leads to better performance and further to a firm’s economic sustainability. The first step for innovative firms is recognizing the existence of unrequited customer needs (Teece, 2016). This will be done by conduct-ing R&D and networking. In doing this, the consideration   of'\n",
      "page_content='(2018). The wider implications of business- model research. Long Range Planning, 51, 1–8. Roja, A., & Năstase, M. (2014, November 6–7). Technology  entrepreneurship and entrepreneurial strategies [Conference  session]. 8th International Management Conference Manage-ment Challenges for Sustainable Development, Bucharest,   Romania. Roome, N., & Louche, C. (2016). Journeying toward business  models for sustainability: A conceptual model found inside the black box of organizational transformation. Organization & Environment, 29, 11–35. Rousseau, D. M., Manning, J., & Denyer, D. (2008). Evidence  in management and organizational science: Assembling the field’s full weight of scientific knowledge through syntheses. Academy of Management Annals, 2, 475–515. Sabatier V., Kennard A., & Mangematin V. (2012). When tech- nological discontinuities and disruptive business models challenge dominant industry logics: Insights from the drugs industry. Technological Forecasting and Social Change,  79(5), 949–962. Sabatier, V., Mangematin, V., & Rousselle, T. (2010). From recipe  to dinner: Business model portfolios in the European biophar-maceutical industry. Long Range Planning, 43, 431–447. Sánchez, P., & Ricart, J. (2010). Business model innovation and  sources of value creation in low-income markets. European Management Review, 7, 138–154. Santos, J., Spector, B., & Van den Heyden, L. (2015). Towards a  theory of business model innovation within incumbent firms. In N. Foss & T. Saebi (Eds.), Business model innovation: The  organizational dimension (pp. 43–63). Oxford University Press. Schaltegger, S., Lüdeke-Freund, F., & Hansen, E. G. (2012).  Business cases for sustainability: The role of business model  innovation for corporate sustainability. International Journal  of Innovation and Sustainable Development, 6, 95–119. Schneider, S., & Spieth, P. (2013). Business model innovation:  Towards an integrated future research agenda. International  Journal of Innovation Management,'\n"
     ]
    }
   ],
   "source": [
    "# Demo\n",
    "query = input(\"Hazme una pregunta: \")\n",
    "print(query)\n",
    "llm_response = rag_chain_with_source.invoke(query)\n",
    "process_llm_response(llm_response)"
   ]
  },
  {
   "cell_type": "code",
   "execution_count": 55,
   "metadata": {},
   "outputs": [
    {
     "name": "stdout",
     "output_type": "stream",
     "text": [
      "¿Cuáles son los elementos clave para la innovación en modelos de negocio en el contexto del emprendimiento tecnológico?\n",
      "Los elementos clave para la innovación en modelos de negocio en el contexto del\n",
      "emprendimiento tecnológico incluyen la evaluación de oportunidades y riesgos, la\n",
      "capacidad dinámica de la empresa, el establecimiento de redes con los\n",
      "stakeholders, el uso eficiente de los recursos, la consideración de la ontología\n",
      "institucional, y la orientación hacia la sostenibilidad económica. Estos\n",
      "elementos son fundamentales para diseñar, implementar y modificar modelos de\n",
      "negocio de manera efectiva en el ámbito del emprendimiento tecnológico,\n",
      "garantizando así el éxito y la creación de valor sostenible.\n",
      "\n",
      "Referencias:\n",
      "page_content='En resumen, la revisión bibliográfica detallada aborda una amplia gama de temas relacionados con la innovación en modelos de negocio y el emprendimiento tecnológico. Se destacan la importancia de la estrategia, la creación de valor, la innovación y la adaptación a los cambios en el entorno empresarial para lograr el éxito en el emprendimiento tecnológico. Los autores revisados proponen diferentes enfoques y perspectivas sobre cómo diseñar y gestionar modelos de negocio para crear valor sostenible y mantener la ventaja competitiva en un mercado en constante evolución. Además, se identifican áreas de investigación futuras para explorar en profundidad la relación entre los modelos de negocio, la innovación y el rendimiento empresarial en el contexto del emprendimiento tecnológico.'\n",
      "page_content='https://doi.org/10.1177/21582440211029917SAGE Open July-September 2021: 1 –12 © The Author(s) 2021DOI: 10.1177/21582440211029917 journals.sagepub.com/home/sgo Creative Commons CC BY: This article is distributed under the terms of the Creative Commons Attribution 4.0 License   (https://creativecommons.org/licenses/by/4.0/) which permits any use, reproduction and distribution of   the work without further permission provided the original work is attributed as specified on the SAGE and Open Access pages   (https://us.sagepub.com/en-us/nam/open-access-at-sage).Original Research Introduction The new economic context of globalization, knowledge,  innovation, and technological entrepreneurship contributes to the rise of the novel entrepreneurial ecosystem (Roja & Năstase, 2014). These developments play a role in changing the sense of balance between various stakeholders (Teece, 2010) by allowing firms to involve differently in economic exchange (Mendelson, 2010; Zott & Amit, 2007). Previously, firms innovate products, processes, and technology in creat-ing and achieving sustainable values (Hansen et al., 2009). However, the route toward sustainability requires a change in the purpose and strategies of business (Bocken et al., 2014). These methods were not adequate and need to be comple-mented with business model innovation (BMI) to bring more sustainable value to the organizations (Hansen et al., 2009; Schaltegger et al., 2012). This is because no equivalent ontol-ogy is available to describe the strong sustainable business model (Upward & Jones, 2016). Therefore, firms should find novelty in performing activities that help to achieve the novel business model advancement (Ireland et al., 2001). Business models expose the way enterprises are linked to  various stakeholders and are involved in economic exchange with these stakeholders in creating value for the partners (Zott & Amit, 2007), as well as contribute to the successful commercialization of disruptive technologies'\n",
      "page_content='https://doi.org/10.1177/21582440211029917SAGE Open July-September 2021: 1 –12 © The Author(s) 2021DOI: 10.1177/21582440211029917 journals.sagepub.com/home/sgo Creative Commons CC BY: This article is distributed under the terms of the Creative Commons Attribution 4.0 License   (https://creativecommons.org/licenses/by/4.0/) which permits any use, reproduction and distribution of   the work without further permission provided the original work is attributed as specified on the SAGE and Open Access pages   (https://us.sagepub.com/en-us/nam/open-access-at-sage).Original Research Introduction The new economic context of globalization, knowledge,  innovation, and technological entrepreneurship contributes to the rise of the novel entrepreneurial ecosystem (Roja & Năstase, 2014). These developments play a role in changing the sense of balance between various stakeholders (Teece, 2010) by allowing firms to involve differently in economic exchange (Mendelson, 2010; Zott & Amit, 2007). Previously, firms innovate products, processes, and technology in creat-ing and achieving sustainable values (Hansen et al., 2009). However, the route toward sustainability requires a change in the purpose and strategies of business (Bocken et al., 2014). These methods were not adequate and need to be comple-mented with business model innovation (BMI) to bring more sustainable value to the organizations (Hansen et al., 2009; Schaltegger et al., 2012). This is because no equivalent ontol-ogy is available to describe the strong sustainable business model (Upward & Jones, 2016). Therefore, firms should find novelty in performing activities that help to achieve the novel business model advancement (Ireland et al., 2001). Business models expose the way enterprises are linked to  various stakeholders and are involved in economic exchange with these stakeholders in creating value for the partners (Zott & Amit, 2007), as well as contribute to the successful commercialization of disruptive technologies'\n",
      "page_content='a research agenda. Strategic Organization, 11, 418–427. Bailetti, T. (2012). Technology --- of business sector and enterprise location. Journal of Global Entrepreneurship Research, 8, 25. Chesbrough, H. (2007). Business model innovation: It’s not just  about technology anymore. Strategy & Leadership, 35(6),  12–17. Chesbrough, H. (2010). Business model innovation: Opportunities  and barriers. Long Range Planning, 43, 354–363. Chesbrough, H., & Rosenbloom, R. S. (2002). The role of business  models in capturing value from innovation: Evidence from Xerox corporation’s technology spin-off companies. Industrial  and Corporate Change, 11, 529–555. Coleman, S., & Alicia Robb, A. (2009). A comparison of new firm  financing by gender: evidence from the Kauffman Firm Survey data. Small Business Economics, 33(4), 397–411. Cosenz, F., & Noto, G. (2018). A dynamic business modelling  approach to design and experiment new business venture strat- egies. Long Range Planning, 51, 127–140. DaSilva, C. M., Trkman, P., Desouza, K., & Lindič, J. (2013).  Disruptive technologies: A business model perspective on cloud  computing. Technology Analysis and Strategic Management,  25, 1161–1173. Demil, B., & Lecocq, X. (2010). Business model evolution: In  search of dynamic consistency. Long Range Planning, 43(2–3),  227–246.De Reuver M., Bouwman H., & MacInnes I. (2009). Business  model dynamics: A case survey. Journal of Theoretical and Applied Electronic Commerce Research, 4(1), 1–11. Dorf, R. C., & Byers, H. T. (2005). Technology ventures: From idea  to enterprise. New York, McGraw-Hill. available at; https://doc1.bibliothek.li/aak/FLMF007537.pdf Dorf, R. C., & Byers, H. T. (2015). Technology ventures: From  idea to enterprise. McGraw-Hill. Eckhardt, J. T. (2013). Opportunities in business model research.  Strategic Organization, 11, 412–417. Ferreira, F. N. H., Proença, J. F., Spencer, R., & Cova, B. (2013).  The transition from products to solutions: External business  model fit and'\n",
      "page_content='& Amit, 2007), as well as contribute to the successful commercialization of disruptive technologies (DaSilva et al., 2013). The value of technology alone will be less as values are emerged through commercializing using a business model (Chesbrough & Rosenbloom, 2002; DaSilva et al., 2013). That is, technological innovation requires business models in creating and bringing innovations to the market and creating an opportunity that satisfies the unsatisfied cus-tomer’s need (Teece, 2010). Accordingly, looking for inte-grations among the economy and technology arises to be important to identify the most appropriate strategies (Roja & Năstase, 2014). Moreover, the intention should be tended to gain technological capability and personnel skills in developing innovation and being competitive (Khefacha & Belkacem, 2016). Therefore, it is crucial to look at the existing challenges and business model cases in improving 1029917 SGO XXX10.1177/21582440211029917SAGE OpenWang and Chebo research-article 2021 2021 1School of Economics and Management, Shihezi University, Xinjiang, China 2Faculty of Business and Economics, Kotebe Metropolitan University  Addis Ababa, Ethiopia Corresponding Author: Abdella Kosa Chebo, Faculty of Business and Economics, Kotebe Metropolitan University, Addis Ababa, Ethiopia.Email: abdikosa@gmail.comThe Dynamics of Business Model  Innovation for Technology Entrepreneurship: A Systematic  Review and Future Avenue Run Wang1 and Abdella Kosa Chebo2 Abstract Technology entrepreneurship involves creating sustainable value through capitalization and commercialization of innovative new technology, accelerates the growth of firms, and helps in promoting the sustainability of the economy. However, the literature on the business model innovation (BMI) for technology entrepreneurship has no clarity yet. Therefore, this article aims to build a business model innovation for technology entrepreneurship (BMIfTE) toward economic sustainability. To meet this aim,'\n"
     ]
    }
   ],
   "source": [
    "# Demo\n",
    "query = input(\"Hazme una pregunta: \")\n",
    "print(query)\n",
    "llm_response = rag_chain_with_source.invoke(query)\n",
    "process_llm_response(llm_response)"
   ]
  },
  {
   "cell_type": "code",
   "execution_count": 57,
   "metadata": {},
   "outputs": [
    {
     "name": "stdout",
     "output_type": "stream",
     "text": [
      "¿Cuáles son y en qué consisten los elementos que son clave para la innovación en modelos de negocio en el contexto del emprendimiento tecnológico?\n",
      "En el contexto del emprendimiento tecnológico, los elementos clave para la\n",
      "innovación en modelos de negocio incluyen la propuesta de valor, la red de\n",
      "valor, la captura de valor y la creación y entrega de valor. Estos elementos son\n",
      "fundamentales para el éxito en la innovación de modelos de negocio en el ámbito\n",
      "tecnológico. La propuesta de valor se refiere a la oferta única y atractiva que\n",
      "la empresa proporciona a sus clientes, la red de valor se refiere a las\n",
      "relaciones con los socios y clientes que generan valor conjunto, la captura de\n",
      "valor se refiere a cómo la empresa monetiza su propuesta de valor y la creación\n",
      "y entrega de valor se refiere a cómo la empresa desarrolla y ofrece su propuesta\n",
      "de valor de manera efectiva. Estos elementos son cruciales para diseñar y\n",
      "gestionar modelos de negocio innovadores que generen valor sostenible y\n",
      "mantengan la ventaja competitiva en un entorno empresarial en constante\n",
      "evolución.\n",
      "\n",
      "Referencias:\n",
      "page_content='En resumen, la revisión bibliográfica detallada aborda una amplia gama de temas relacionados con la innovación en modelos de negocio y el emprendimiento tecnológico. Se destacan la importancia de la estrategia, la creación de valor, la innovación y la adaptación a los cambios en el entorno empresarial para lograr el éxito en el emprendimiento tecnológico. Los autores revisados proponen diferentes enfoques y perspectivas sobre cómo diseñar y gestionar modelos de negocio para crear valor sostenible y mantener la ventaja competitiva en un mercado en constante evolución. Además, se identifican áreas de investigación futuras para explorar en profundidad la relación entre los modelos de negocio, la innovación y el rendimiento empresarial en el contexto del emprendimiento tecnológico.'\n",
      "page_content='https://doi.org/10.1177/21582440211029917SAGE Open July-September 2021: 1 –12 © The Author(s) 2021DOI: 10.1177/21582440211029917 journals.sagepub.com/home/sgo Creative Commons CC BY: This article is distributed under the terms of the Creative Commons Attribution 4.0 License   (https://creativecommons.org/licenses/by/4.0/) which permits any use, reproduction and distribution of   the work without further permission provided the original work is attributed as specified on the SAGE and Open Access pages   (https://us.sagepub.com/en-us/nam/open-access-at-sage).Original Research Introduction The new economic context of globalization, knowledge,  innovation, and technological entrepreneurship contributes to the rise of the novel entrepreneurial ecosystem (Roja & Năstase, 2014). These developments play a role in changing the sense of balance between various stakeholders (Teece, 2010) by allowing firms to involve differently in economic exchange (Mendelson, 2010; Zott & Amit, 2007). Previously, firms innovate products, processes, and technology in creat-ing and achieving sustainable values (Hansen et al., 2009). However, the route toward sustainability requires a change in the purpose and strategies of business (Bocken et al., 2014). These methods were not adequate and need to be comple-mented with business model innovation (BMI) to bring more sustainable value to the organizations (Hansen et al., 2009; Schaltegger et al., 2012). This is because no equivalent ontol-ogy is available to describe the strong sustainable business model (Upward & Jones, 2016). Therefore, firms should find novelty in performing activities that help to achieve the novel business model advancement (Ireland et al., 2001). Business models expose the way enterprises are linked to  various stakeholders and are involved in economic exchange with these stakeholders in creating value for the partners (Zott & Amit, 2007), as well as contribute to the successful commercialization of disruptive technologies'\n",
      "page_content='https://doi.org/10.1177/21582440211029917SAGE Open July-September 2021: 1 –12 © The Author(s) 2021DOI: 10.1177/21582440211029917 journals.sagepub.com/home/sgo Creative Commons CC BY: This article is distributed under the terms of the Creative Commons Attribution 4.0 License   (https://creativecommons.org/licenses/by/4.0/) which permits any use, reproduction and distribution of   the work without further permission provided the original work is attributed as specified on the SAGE and Open Access pages   (https://us.sagepub.com/en-us/nam/open-access-at-sage).Original Research Introduction The new economic context of globalization, knowledge,  innovation, and technological entrepreneurship contributes to the rise of the novel entrepreneurial ecosystem (Roja & Năstase, 2014). These developments play a role in changing the sense of balance between various stakeholders (Teece, 2010) by allowing firms to involve differently in economic exchange (Mendelson, 2010; Zott & Amit, 2007). Previously, firms innovate products, processes, and technology in creat-ing and achieving sustainable values (Hansen et al., 2009). However, the route toward sustainability requires a change in the purpose and strategies of business (Bocken et al., 2014). These methods were not adequate and need to be comple-mented with business model innovation (BMI) to bring more sustainable value to the organizations (Hansen et al., 2009; Schaltegger et al., 2012). This is because no equivalent ontol-ogy is available to describe the strong sustainable business model (Upward & Jones, 2016). Therefore, firms should find novelty in performing activities that help to achieve the novel business model advancement (Ireland et al., 2001). Business models expose the way enterprises are linked to  various stakeholders and are involved in economic exchange with these stakeholders in creating value for the partners (Zott & Amit, 2007), as well as contribute to the successful commercialization of disruptive technologies'\n",
      "page_content='a research agenda. Strategic Organization, 11, 418–427. Bailetti, T. (2012). Technology --- of business sector and enterprise location. Journal of Global Entrepreneurship Research, 8, 25. Chesbrough, H. (2007). Business model innovation: It’s not just  about technology anymore. Strategy & Leadership, 35(6),  12–17. Chesbrough, H. (2010). Business model innovation: Opportunities  and barriers. Long Range Planning, 43, 354–363. Chesbrough, H., & Rosenbloom, R. S. (2002). The role of business  models in capturing value from innovation: Evidence from Xerox corporation’s technology spin-off companies. Industrial  and Corporate Change, 11, 529–555. Coleman, S., & Alicia Robb, A. (2009). A comparison of new firm  financing by gender: evidence from the Kauffman Firm Survey data. Small Business Economics, 33(4), 397–411. Cosenz, F., & Noto, G. (2018). A dynamic business modelling  approach to design and experiment new business venture strat- egies. Long Range Planning, 51, 127–140. DaSilva, C. M., Trkman, P., Desouza, K., & Lindič, J. (2013).  Disruptive technologies: A business model perspective on cloud  computing. Technology Analysis and Strategic Management,  25, 1161–1173. Demil, B., & Lecocq, X. (2010). Business model evolution: In  search of dynamic consistency. Long Range Planning, 43(2–3),  227–246.De Reuver M., Bouwman H., & MacInnes I. (2009). Business  model dynamics: A case survey. Journal of Theoretical and Applied Electronic Commerce Research, 4(1), 1–11. Dorf, R. C., & Byers, H. T. (2005). Technology ventures: From idea  to enterprise. New York, McGraw-Hill. available at; https://doc1.bibliothek.li/aak/FLMF007537.pdf Dorf, R. C., & Byers, H. T. (2015). Technology ventures: From  idea to enterprise. McGraw-Hill. Eckhardt, J. T. (2013). Opportunities in business model research.  Strategic Organization, 11, 412–417. Ferreira, F. N. H., Proença, J. F., Spencer, R., & Cova, B. (2013).  The transition from products to solutions: External business  model fit and'\n",
      "page_content='10 SAGE Open Beattie, V., & Smith, S. J. (2013). Value creation and business  models: Refocusing the intellectual capital debate. The British  Accounting Review, 45, 243–254. Berends, H., Smits, A., Reymen, I., & Podoynitsyna, K. (2016).  Learning while (re)configuring: Business model innovation processes in established firms. Strategic Organization, 14,  181–219. Bjorkdahl, J., & Holmen, M. (2013). Business model innova- tion: The challenges ahead. International Journal of Product  Development, 18, 213–225. Bocken, N. M. P., Short, S. W., Rana, P., & Evans, S. (2014). A  literature and practice review to develop sustainable busi- ness model archetypes. Journal of Cleaner Production, 65,  42–56. Bojovic, O., Medenica, M., Zivkovic, D., Rakocevic, B., Trajkovic,  G., Kisic-Tepavcevic, D., & Grgurevic, A. (2018). Factors asso-ciated with patient and health system delays in diagnosis and  treatment of tuberculosis in Montenegro, 2015–2016. PLOS ONE, 13, Article e0193997. https://doi.org/10.1371/journal.pone.0193997 Bøllingtoft, A., & Ulhøi, J. P. (2005). The networked business  incubator—Leveraging entrepreneurial agency? Journal of Business Venturing, 20(2), 265–290. Brem, A. (2008). The boundaries of innovation and entrepreneur- ship. Friedrich-Alexander-Universität Erlangen-Nürnberg. Casadesus-Masanell, R., & Ricart, J. E. (2010). From strategy  to business models and onto tactics. Long Range Planning, 43(2–3), 195–215. Casadesus-Masanell, R., & Zhu, F. (2010). Strategies to fight ad- sponsored rivals. Management Science, 56(7), 1484–1499. Chebo, A. K., & Kute, I. M. (2018). Uncovering the unseen passion:  A fire to foster ambition toward innovation. World Journal of Entrepreneurship, Management and Sustainable Development, 14, 126–137. Chebo, A. K., Kute, I. M., & Gebre, D. A. (2018). Entrepreneurial  orientation and venture performance in Ethiopia: The moderat-ing role of business sector and enterprise location. Journal of Global Entrepreneurship Research, 8, 25.'\n"
     ]
    }
   ],
   "source": [
    "# Demo\n",
    "query = input(\"Hazme una pregunta: \")\n",
    "print(query)\n",
    "llm_response = rag_chain_with_source.invoke(query)\n",
    "process_llm_response(llm_response)"
   ]
  },
  {
   "cell_type": "code",
   "execution_count": null,
   "metadata": {},
   "outputs": [],
   "source": [
    "# Demo\n",
    "query = input(\"Hazme una pregunta: \")\n",
    "print(query)\n",
    "llm_response = rag_chain_with_source.invoke(query)\n",
    "process_llm_response(llm_response)"
   ]
  },
  {
   "cell_type": "code",
   "execution_count": null,
   "metadata": {},
   "outputs": [],
   "source": [
    "# Demo\n",
    "query = input(\"Hazme una pregunta: \")\n",
    "print(query)\n",
    "llm_response = rag_chain_with_source.invoke(query)\n",
    "process_llm_response(llm_response)"
   ]
  },
  {
   "cell_type": "code",
   "execution_count": null,
   "metadata": {},
   "outputs": [],
   "source": [
    "# Demo\n",
    "query = input(\"Hazme una pregunta: \")\n",
    "print(query)\n",
    "llm_response = rag_chain_with_source.invoke(query)\n",
    "process_llm_response(llm_response)"
   ]
  },
  {
   "cell_type": "code",
   "execution_count": null,
   "metadata": {},
   "outputs": [],
   "source": [
    "# Demo\n",
    "query = input(\"Hazme una pregunta: \")\n",
    "print(query)\n",
    "llm_response = rag_chain_with_source.invoke(query)\n",
    "process_llm_response(llm_response)"
   ]
  },
  {
   "cell_type": "markdown",
   "metadata": {},
   "source": [
    "# Hacer historial y guardar conversaciones para medir efectividad."
   ]
  }
 ],
 "metadata": {
  "kernelspec": {
   "display_name": ".venv",
   "language": "python",
   "name": "python3"
  },
  "language_info": {
   "codemirror_mode": {
    "name": "ipython",
    "version": 3
   },
   "file_extension": ".py",
   "mimetype": "text/x-python",
   "name": "python",
   "nbconvert_exporter": "python",
   "pygments_lexer": "ipython3",
   "version": "3.12.3"
  }
 },
 "nbformat": 4,
 "nbformat_minor": 2
}
