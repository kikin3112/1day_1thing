{
 "cells": [
  {
   "cell_type": "code",
   "execution_count": 13,
   "metadata": {},
   "outputs": [],
   "source": [
    "import os\n",
    "import ast\n",
    "import textwrap\n",
    "import tiktoken\n",
    "import matplotlib.pyplot as plt\n",
    "import numpy as np\n",
    "import umap.umap_ as umap\n",
    "import pandas as pd\n",
    "import shutil\n",
    "from langchain.vectorstores import Chroma\n",
    "from langchain_openai import OpenAIEmbeddings\n",
    "from langchain_openai import ChatOpenAI\n",
    "from langchain.text_splitter import RecursiveCharacterTextSplitter\n",
    "from langchain.document_loaders import PyPDFLoader\n",
    "from langchain.document_loaders import DirectoryLoader\n",
    "from langchain import PromptTemplate\n",
    "from langchain_core.runnables import RunnablePassthrough\n",
    "from langchain_core.runnables import RunnableParallel\n",
    "from langchain_core.output_parsers import StrOutputParser\n",
    "from sklearn.mixture import GaussianMixture\n",
    "from dotenv import load_dotenv, find_dotenv\n",
    "from typing import Optional"
   ]
  },
  {
   "cell_type": "markdown",
   "metadata": {},
   "source": [
    "# ¿Cómo funciona O-Llama y Groq?"
   ]
  },
  {
   "cell_type": "code",
   "execution_count": 2,
   "metadata": {},
   "outputs": [],
   "source": [
    "load_dotenv(find_dotenv())\n",
    "embeddings = OpenAIEmbeddings(\n",
    ")\n",
    "\n",
    "detailed_turbo_llm = turbo_llm = ChatOpenAI(\n",
    "    temperature=0,\n",
    "    model_name='gpt-3.5-turbo-0125'\n",
    ")\n",
    "\n",
    "turbo_llm = ChatOpenAI(\n",
    "    temperature=0.7,\n",
    "    model_name='gpt-3.5-turbo-0125'\n",
    ")\n",
    "\n",
    "text_splitter = RecursiveCharacterTextSplitter(\n",
    "    chunk_size=2000,\n",
    "    chunk_overlap=100\n",
    ")"
   ]
  },
  {
   "cell_type": "markdown",
   "metadata": {},
   "source": [
    "# Eliminar la primera página o portada del doc."
   ]
  },
  {
   "cell_type": "code",
   "execution_count": 3,
   "metadata": {},
   "outputs": [],
   "source": [
    "# Carga de documentos y extracción de información\n",
    "# (asegúrate de que haya PDFs en la carpeta documentos)\n",
    "documents = DirectoryLoader('./docs/', glob=\"./*.pdf\", loader_cls=PyPDFLoader).load()\n",
    "# Tratameinto de caracteres indeseados\n",
    "for d in documents:\n",
    "    d.page_content = d.page_content.replace('\\n', ' ').replace('\\t', ' ')\n",
    "\n",
    "docs = text_splitter.split_documents(documents)\n",
    "texts = [doc.page_content for doc in docs]"
   ]
  },
  {
   "cell_type": "code",
   "execution_count": 4,
   "metadata": {},
   "outputs": [],
   "source": [
    "def num_tokens_from_string(string: str) -> int:\n",
    "    encoding = tiktoken.get_encoding(\"cl100k_base\")\n",
    "    num_tokens = len(encoding.encode(string))\n",
    "    return num_tokens\n",
    "\n",
    "# counts = [num_tokens_from_string(t) for t in texts]\n",
    "\n",
    "# plt.figure(figsize=(10, 6))\n",
    "# plt.hist(counts, bins=30, color=\"blue\", edgecolor=\"black\", alpha=0.7)\n",
    "# plt.title(\"Histograma: Cantidad de tokens\")\n",
    "# plt.xlabel(\"Cantidad de tokens\")\n",
    "# plt.ylabel(\"Frequencia\")\n",
    "# plt.show()"
   ]
  },
  {
   "cell_type": "code",
   "execution_count": 5,
   "metadata": {},
   "outputs": [
    {
     "name": "stdout",
     "output_type": "stream",
     "text": [
      "Num tokens in all context: 18836\n"
     ]
    }
   ],
   "source": [
    "d_sorted = sorted(docs, key=lambda x: x.metadata[\"source\"])\n",
    "d_reversed = list(reversed(d_sorted))\n",
    "concatenated_content = \"\\n\\n\\n --- \\n\\n\\n\".join(\n",
    "    [doc.page_content for doc in d_reversed]\n",
    ")\n",
    "print(\n",
    "    \"Num tokens in all context: %s\"\n",
    "    % num_tokens_from_string(concatenated_content)\n",
    ")"
   ]
  },
  {
   "cell_type": "markdown",
   "metadata": {},
   "source": [
    "# 1. ¿Incrustar de cero?\n",
    "# 2. ¿Elegir un encrustamiento guardado?"
   ]
  },
  {
   "cell_type": "code",
   "execution_count": 14,
   "metadata": {},
   "outputs": [
    {
     "name": "stdout",
     "output_type": "stream",
     "text": [
      "Elegiste 1\n"
     ]
    }
   ],
   "source": [
    "user_input = input(\"Elige 1 o 2: \")\n",
    "\n",
    "if user_input.lower() == \"1\":\n",
    "    print('Elegiste 1')\n",
    "    global_embeddings = [embeddings.embed_query(txt) for txt in texts]\n",
    "\n",
    "    embed_name = input('¿Cómo se llama esta incrustación?: ') + '_emb' + '.txt'\n",
    "    with open(rf'./{embed_name}', 'w') as f:\n",
    "        for i in global_embeddings:\n",
    "            f.write(\"%s\\n\" % i)\n",
    "    \n",
    "elif user_input.lower() == \"2\":\n",
    "    print('Elegiste 2')\n",
    "    global_embeddings = []\n",
    "\n",
    "    embed_name = input('Nombre del encrustamiento: ') + '_emb' + '.txt'\n",
    "\n",
    "    with open(rf'./embed/{embed_name}', 'r') as f:\n",
    "        for i in f:\n",
    "            x = ast.literal_eval(i.strip())  # Convertir la cadena a lista de números\n",
    "            global_embeddings.append(x)\n",
    "\n",
    "    global_embeddings = np.array(global_embeddings, dtype=float)\n",
    "    \n",
    "elif user_input != \"1\" and user_input != \"2\":\n",
    "    print(\"No seleccionaste ningún encrustamiento.\")"
   ]
  },
  {
   "cell_type": "code",
   "execution_count": 16,
   "metadata": {},
   "outputs": [],
   "source": [
    "def reduce_cluster_embeddings(\n",
    "    embeddings: np.ndarray,\n",
    "    dim: int,\n",
    "    n_neighbors: Optional[int] = None,\n",
    "    metric: str = \"cosine\",\n",
    ") -> np.ndarray:\n",
    "    if n_neighbors is None:\n",
    "        n_neighbors = int((len(embeddings) - 1) ** 0.5)\n",
    "    return umap.UMAP(\n",
    "        n_neighbors=n_neighbors, n_components=dim, metric=metric\n",
    "    ).fit_transform(embeddings)\n",
    "\n",
    "dim = 2\n",
    "global_embeddings_reduced = reduce_cluster_embeddings(global_embeddings, dim)\n",
    "\n",
    "# plt.figure(figsize=(10, 8))\n",
    "# plt.scatter(global_embeddings_reduced[:, 0], global_embeddings_reduced[:, 1], alpha=0.5)\n",
    "# plt.title(\"Global Embeddings\")\n",
    "# plt.xlabel(\"Dimension 1\")\n",
    "# plt.ylabel(\"Dimension 2\")\n",
    "# plt.show()"
   ]
  },
  {
   "cell_type": "code",
   "execution_count": 18,
   "metadata": {},
   "outputs": [],
   "source": [
    "def get_optimal_clusters(embeddings: np.ndarray, max_clusters: int = 50, random_state: int = 1234):\n",
    "    max_clusters = min(max_clusters, len(embeddings))\n",
    "    bics = [GaussianMixture(n_components=n, random_state=random_state).fit(embeddings).bic(embeddings)\n",
    "            for n in range(1, max_clusters)]\n",
    "    return np.argmin(bics) + 1\n",
    "\n",
    "def gmm_clustering(embeddings: np.ndarray, threshold: float, random_state: int = 0):\n",
    "    n_clusters = get_optimal_clusters(embeddings)\n",
    "    gm = GaussianMixture(n_components=n_clusters, random_state=random_state).fit(embeddings)\n",
    "    probs = gm.predict_proba(embeddings)\n",
    "    labels = [np.where(prob > threshold)[0] for prob in probs]\n",
    "    return labels, n_clusters\n",
    "\n",
    "labels, _ = gmm_clustering(global_embeddings_reduced, threshold=0.5)\n",
    "\n",
    "# plot_labels = np.array([label[0] if len(label) > 0 else -1 for label in labels])\n",
    "# plt.figure(figsize=(10, 8))\n",
    "\n",
    "# unique_labels = np.unique(plot_labels)\n",
    "# colors = plt.cm.rainbow(np.linspace(0, 1, len(unique_labels)))\n",
    "\n",
    "# for label, color in zip(unique_labels, colors):\n",
    "#     mask = plot_labels == label\n",
    "#     plt.scatter(global_embeddings_reduced[mask, 0], global_embeddings_reduced[mask, 1], color=color, label=f'Cluster {label}', alpha=0.5)\n",
    "\n",
    "# plt.title(\"Cluster Visualization of Global Embeddings\")\n",
    "# plt.xlabel(\"Dimension 1\")\n",
    "# plt.ylabel(\"Dimension 2\")\n",
    "# plt.legend(bbox_to_anchor=(1, 1), loc='upper left')\n",
    "# plt.tight_layout(rect=[0, 0, 0.75, 1])"
   ]
  },
  {
   "cell_type": "code",
   "execution_count": 19,
   "metadata": {},
   "outputs": [
    {
     "data": {
      "text/html": [
       "<div>\n",
       "<style scoped>\n",
       "    .dataframe tbody tr th:only-of-type {\n",
       "        vertical-align: middle;\n",
       "    }\n",
       "\n",
       "    .dataframe tbody tr th {\n",
       "        vertical-align: top;\n",
       "    }\n",
       "\n",
       "    .dataframe thead th {\n",
       "        text-align: right;\n",
       "    }\n",
       "</style>\n",
       "<table border=\"1\" class=\"dataframe\">\n",
       "  <thead>\n",
       "    <tr style=\"text-align: right;\">\n",
       "      <th></th>\n",
       "      <th>Texto</th>\n",
       "      <th>Embedding</th>\n",
       "      <th>Cluster</th>\n",
       "    </tr>\n",
       "  </thead>\n",
       "  <tbody>\n",
       "    <tr>\n",
       "      <th>0</th>\n",
       "      <td>La metodología Lean  Startup :  desarrollo y a...</td>\n",
       "      <td>[4.6839347, 4.040136]</td>\n",
       "      <td>15</td>\n",
       "    </tr>\n",
       "    <tr>\n",
       "      <th>1</th>\n",
       "      <td>Un aprendizaje empírico que parte de unas hipó...</td>\n",
       "      <td>[2.2774262, 2.7173991]</td>\n",
       "      <td>20</td>\n",
       "    </tr>\n",
       "    <tr>\n",
       "      <th>2</th>\n",
       "      <td>Francisco Javier Llamas Fernández / Juan Carlo...</td>\n",
       "      <td>[4.8993278, 3.5120018]</td>\n",
       "      <td>5</td>\n",
       "    </tr>\n",
       "    <tr>\n",
       "      <th>3</th>\n",
       "      <td>expérimentation, devant permettre aux entrepre...</td>\n",
       "      <td>[4.787183, 3.1365888]</td>\n",
       "      <td>5</td>\n",
       "    </tr>\n",
       "    <tr>\n",
       "      <th>4</th>\n",
       "      <td>81 Rev. esc.adm.neg. La metodología Lean start...</td>\n",
       "      <td>[4.413059, 4.32416]</td>\n",
       "      <td>15</td>\n",
       "    </tr>\n",
       "  </tbody>\n",
       "</table>\n",
       "</div>"
      ],
      "text/plain": [
       "                                               Texto               Embedding  \\\n",
       "0  La metodología Lean  Startup :  desarrollo y a...   [4.6839347, 4.040136]   \n",
       "1  Un aprendizaje empírico que parte de unas hipó...  [2.2774262, 2.7173991]   \n",
       "2  Francisco Javier Llamas Fernández / Juan Carlo...  [4.8993278, 3.5120018]   \n",
       "3  expérimentation, devant permettre aux entrepre...   [4.787183, 3.1365888]   \n",
       "4  81 Rev. esc.adm.neg. La metodología Lean start...     [4.413059, 4.32416]   \n",
       "\n",
       "   Cluster  \n",
       "0       15  \n",
       "1       20  \n",
       "2        5  \n",
       "3        5  \n",
       "4       15  "
      ]
     },
     "execution_count": 19,
     "metadata": {},
     "output_type": "execute_result"
    }
   ],
   "source": [
    "simple_labels = [label[0] if len(label) > 0 else -1 for label in labels]\n",
    "\n",
    "df = pd.DataFrame({\n",
    "    'Texto': texts,\n",
    "    'Embedding': list(global_embeddings_reduced),\n",
    "    'Cluster': simple_labels\n",
    "})\n",
    "# print(df.head(3))\n",
    "df.head()"
   ]
  },
  {
   "cell_type": "code",
   "execution_count": 20,
   "metadata": {},
   "outputs": [
    {
     "data": {
      "text/plain": [
       "{15: 'La metodología Lean  Startup :  desarrollo y aplicación para el emprendimiento 1 Doctorando en Ciencias Sociales, Universidad Pontificia de Salamanca; Magister en Marketing Digital y Publicidad,  Universidad Nebrija. Fundador y director académico, European School of Leadership (EUschool) 2 Doctor en Psicología por la Universidad Complutense de Madrid. En la actualidad es director del grado de psicología  de la Universidad Antonio de Nebrija. Ha sido profesor en varias universidades españolas y profesor invitado en varias  universidades latinoamericanas. ORCID: https://orcid.org/0000-0003- 3312-861XDOI: https://doi.org/10.21158/01208160.n84.2018.1918Francisco Javier Llamas Fernández1 European School of Leadership franciscojllamas@hotmail.com Juan Carlos Fernández Rodríguez2  Universidad Antonio de Nebrija jfernanr@nebrija.es Cómo citar este artículo / To reference this article / Comment citer cet article / Para citar este artigo:   Llamas Fernández, F . J. y Fernández Rodríguez, J. C. (2018). La metodología Lean Startup : desarrollo y aplicación para el  emprendimiento. Revista EAN, 84, (pp 79-95). DOI: https://doi.org/10.21158/01208160.n84.2018.1918Fecha de recepción:  12 de diciembre de 2017 Fecha de aprobación: 07 de marzo de 2018 Resumen   El presente artículo tiene como objetivo realizar una exposición sobre la aplicación de la metodología  Lean Startup  y revisar los distintos puntos y acciones que comprende. Lean Startup  es una metodología  con gran auge en el medio emprendedor que posibilita implementar negocios evitando desperdiciar  tiempo, recursos y esfuerzos inútiles. Propone como paso previo a la creación de una empresa, lanzar  una Startup , un experimento, que permita al emprendedor buscar un modelo de negocio rentable  antes de crear una empresa. En la contabilidad de la metodología Lean Startup  el principal beneficio  a conseguir es el aprendizaje validado. Un aprendizaje empírico que parte de unas hipótesis que se  validan a través de un producto --- 81 Rev. esc.adm.neg. La metodología Lean startup : desarrollo y aplicación para el emprendimiento. Pp 79 - 95Artículos científicos1. Introducción El emprendimiento siempre ha estado  relacionado con exponerse a correr un  gran riesgo. El riesgo puede, además, derivar  en un fracaso, y esta situación siempre ha  estado demonizada, no sin falta de razón,  por las consecuencias que suele generar para  el emprendedor; y es que la cruda realidad  evidencia que el 75\\xa0% de las Startup s fracasan  (Xavier, 2012). Ries (2012), considerado el padre de la  metodología Lean  Startup , expone en El  método Lean  Startup  cómo crear empresas  de éxito utilizando la innovación continua.  Afirma que el éxito de las startups  no radica,  como piensa mucha gente, en estar en el lugar  correcto y en el momento adecuado, sino  que el éxito de una startup  se puede diseñar  siguiendo un proceso correcto y esto significa  que se puede aprender y enseñar. La base del método Lean Startup  radica  en crear el producto que el cliente necesita  y por el que está dispuesto a pagar, usando la cantidad mínima de recursos. El problema  de muchos de los emprendedores que han  fracasado es que crean un plan de negocio,  consiguen financiación, desarrollan el producto  y solo después de crearlo y lanzarlo la empresa  obtiene retroalimentación de los clientes. Es  el momento en el que muchos emprendedores  aprenden que los clientes no necesitaban la  mayoría de las características del producto  o servicio. Hace apenas unos meses, septiembre de  2017, se pudo conocer a través de periódicos de  todo el mundo el fracaso de la Startup  Juicero  (Levin, 2017). Al fundador, Doug Evans, se le  ocurrió desarrollar una idea con un modelo de  negocio parecido al de las cápsulas de café de  Nespresso. En su caso, se trataba de vender  zumos naturales, en vez de café. Estos zumos  naturales son empaquetados en bolsas para  los cuales se creó un exprimidor que sacara el  zumo fresco de la bolsa (Figura 1). Figura',\n",
       " 20: 'Un aprendizaje empírico que parte de unas hipótesis que se  validan a través de un producto con las características mínimas para facilitar al emprendedor los datos  necesarios que permitan descubrir el modelo de negocio viable y dar el salto a la empresa, minimizando  el miedo al fracaso que impide a muchos emprendedores convertir sus ideas en negocios.  Palabras clave Emprendimiento, Startup , modelo de negocio, Lean Startup , metodologías ágiles, Producto Mínimo  Viable (PMV), pivotar, iterar. Rev. esc.adm.neg. No. 84 Enero - junio de 2018 pp.79-95',\n",
       " 5: \"Francisco Javier Llamas Fernández / Juan Carlos Fernández Rodríguez80 Rev. esc.adm.neg.Lean Startup methodology:  development and application to develop entrepreneruship Abstract.  This study aims at explaining the application of Lean Startup methodology and reviewing different points  of views and actions that it involves. This is a methodology arising in entrepreneurial environments, facilitating  the implementation of business and avoiding wasting time, resources and efforts. It proposes to launch a Startup  as a former step to take in company creation. In fact, this is an experiment which allows the entrepreneur to find a  profitable business model before starting a business. In the accountancy of the Lean Startup methodology, its main  benefit is to reach validated learning. This empirical learning process originates from some validated hypothesis  through a product with minimal features to provide the entrepreneur with necessary data which facilitates the  discovery of a profitable business model and the start of the company, reducing the fear to failure that stops the  process in which entrepreneurs turn their ideas into real business.      Key words : Entrepreneurship, Startup, business model, Lean Startup, fast methodologies, profitable mínimum  product, pivoting, iterating.  Méthodol ogie de Lean Startup: développement et applicati on pour l'entrepreneuriat Résumé.  Cet article présente la mise en place de la méthodologie Lean Startup et en étudie les différents principes et  fonctionnements. La Lean Startup est une méthodologie de plus en plus utilisée dans le monde entrepreneurial car elle  permet de gagner un temps précieux lors de l'implémentation d'une affaire et d'économiser aussi bien les ressources  que les efforts inutiles. L'objectif de la Lean Startup est de procéder, avant la création formelle de l'entreprise, au  lancement d'une Startup, d'une expérimentation, devant permettre aux entrepreneurs à la recherche d'un modèle  d'affaires rentable --- expérimentation, devant permettre aux entrepreneurs à la recherche d'un modèle  d'affaires rentable de tester leur modèle avant de créer leur entreprise. Le principal avantage de la méthodologie  Lean Startup est qu'elle permet un apprentissage validé de l'étape pré-entrepreneurial. Un apprentissage empirique  partant d'hypothèses validées par un produit aux caractéristiques minimales offre à l'entrepreneur les éléments  nécessaires pour découvrir un modèle d'affaire viable et franchir le pas de la création d'entreprise en réduisant la  peur de l'échec qui empêche parfois les entrepreneurs de concrétiser leur modèle d'affaire.   Mots clefs : Entrepreneuriat, Startup, modèle d'affaire, Lean Startup, Viabilité Minimum du Produit (VMP),  pivot, répétition.  Metodologia Lean Startup: desenvolvimento e aplicativo para o empreendimento Resumo.  O presente artigo tem como objetivo realizar uma exposição sobre o aplicativo da metodologia Lean  Startup e revisar os diferentes pontos e ações que compreende. Lean Startup é uma metodologia com grande auge  no médio empreendedor e que possibilita implementar negócios evitando desperdiçar tempo, recursos e esforços  inúteis. Propõe como passo prévio à criação de uma empresa, lançar uma Startup, um experimento, que permita  ao empreendedor procurar um modelo de negócio rentável dantes de criar uma empresa. Na contabilidade da  metodologia Lean Startup o principal benefício a conseguir é a aprendizagem validada. Uma aprendizagem empírica  que parte de umas hipóteses que se validam através de um produto com as características mínimas para facilitar  ao empreendedor os dados necessários que permitam descobrir o modelo de negócio viável e dar o salto à empresa,  minimizando o medo ao fracasso que impede a muitos empreendedores transformar suas ideias em negócios    Palavras-chave :  Empreendimento, startup, modelo de negócio, Lean startup, metodologias ágeis, Produto Mínimo Viável  (PMV), girar, iterar.\",\n",
       " 10: 'para  los cuales se creó un exprimidor que sacara el  zumo fresco de la bolsa (Figura 1). Figura 1. Exprimidor Juicero. Fuente. Rodríguez (2017). --- Francisco Javier Llamas Fernández / Juan Carlos Fernández Rodríguez82 Rev. esc.adm.neg.Se lo contó a los inversores de Silicon  Valley y entusiasmados con la idea le finan - ciaron nada más y nada menos que USD\\xa0120  millones, con los cuales, Juicero, creó el expri - midor perfecto, prodigio de la ingeniería, con  piezas hechas a la medida, lector de códigos  QR para identificar la bolsa de zumo, un chip  wifi para conectar el aparato a internet de las  cosas y un procesador capaz de generar una  potencia increíble para sacar hasta la última  gota de la bolsa de zumo; en conclusión, un  aparato que costaba USD\\xa0 700. Hasta aquí  todo perfecto, si no fuera porque este aparato  parece no haber interesado a los potenciales  clientes. Otro de los periódicos, titulaba la  noticia: «Cierra Juicero, el inútil exprimidor  de 700 dólares» (Jiménez, 2017).Eric Ries, como muchos de los emprende - dores, sufrió la experiencia de trabajar muy  duro en la creación de productos que luego  fracasaban en el mercado. Estaba cansado de  perder tiempo e inversión, hasta que decidió  experimentar con un nuevo enfoque que  posteriormente denominaría Lean Startup   (Ries, 2012). La metodología Lean Startup  se centra  en un circuito de tres pasos que se deben  recorrer en el menor tiempo posible y con  la mínima inversión. Se comienza por crear  un producto, se miden los resultados, y se  aprende (Figura  2). Figura 2. Circuito Lean Startup /gid00022/gid00037/gid00039/gid00026/gid00035/gid00025/gid00026/gid00039 /gid00025/gid00022/gid00041/gid00036/gid00040 /gid00034/gid00026/gid00025/gid00030/gid00039/gid00037/gid00039/gid00036/gid00025/gid00042/gid00024/gid00041/gid00036/gid00024/gid00036/gid00035/gid00040/gid00041/gid00039/gid00042/gid00030/gid00039/gid00030/gid00025/gid00026/gid00022El clima organizacional en el emprendimiento sostenible El método Lean Startup: desarrollo y aplicación para el emprendimientono habian gra/f_icas solo tablas.',\n",
       " 19: 'Lean Startup: desarrollo y aplicación para el emprendimientono habian gra/f_icas solo tablas. /gid00027/gid00056/gid00054/gid00068/gid00065/gid00048/gid00001/gid00011/gid00008/gid00001/gid00024/gid00056/gid00065/gid00050/gid00068/gid00056/gid00067/gid00062/gid00001/gid00033/gid00052/gid00048/gid00061/gid00001/gid00040/gid00067/gid00048/gid00065/gid00067/gid00068/gid00063 /gid00027/gid00068/gid00052/gid00061/gid00067/gid00052/gid00019/gid00001/gid00039/gid00056/gid00052/gid00066/gid00001(/gid00011/gid00009/gid00010/gid00011)/gid00008 /gid00027/gid00056/gid00054/gid00068/gid00065/gid00048/gid00001/gid00012/gid00008/gid00001/gid00027/gid00048/gid00066/gid00052/gid00066/gid00001/gid00063/gid00062/gid00065/gid00001/gid00059/gid00048/gid00066/gid00001/gid00064/gid00068/gid00052/gid00001/gid00048/gid00067/gid00065/gid00048/gid00069/gid00056/gid00052/gid00066/gid00048/gid00001/gid00068/gid00061/gid00048/gid00001/gid00066/gid00067/gid00048/gid00065/gid00067/gid00007/gid00068/gid00063/gid00008 /gid00027/gid00068/gid00052/gid00061/gid00067/gid00052/gid00019/gid00001/gid00022/gid00051/gid00048/gid00063/gid00067/gid00048/gid00051/gid00062/gid00001/gid00051/gid00052/gid00001/gid00034/gid00048/gid00068/gid00065/gid00072/gid00048/gid00001(/gid00011/gid00009/gid00010/gid00013)/gid00008/gid00022/gid00057/gid00068/gid00066/gid00067/gid00052/gid00001/gid00063/gid00065/gid00062/gid00049/gid00059/gid00052/gid00060/gid00048/ /gid00066/gid00062/gid00059/gid00068/gid00050/gid00056ó/gid00061 /gid00027/gid00048/gid00066/gid00052/gid00001/gid00010 /gid00027/gid00048/gid00066/gid00052/gid00001/gid00011 /gid00027/gid00048/gid00066/gid00052/gid00001/gid00012/gid00022/gid00057/gid00068/gid00066/gid00067/gid00052/gid00001/gid00063/gid00065/gid00062/gid00051/gid00068/gid00050/gid00067/gid00062/ /gid00060/gid00052/gid00065/gid00050/gid00048/gid00051/gid00062/gid00026/gid00066/gid00050/gid00048/gid00059/gid00048Fuente. Ries (2012).',\n",
       " 11: '83 Rev. esc.adm.neg. La metodología Lean startup : desarrollo y aplicación para el emprendimiento. Pp 79 - 95Artículos científicos• Construir: cuando se lanza la Startup , no  se cuenta con los suficientes datos como  para crear un producto ajustado a las  necesidades del cliente, por eso, lo ideal es  crear un producto viable mínimo (PMV).  Este producto debe ser una versión con las  funcionalidades mínimas que permitan  recoger la máxima cantidad de aprendizaje  validado acerca de los clientes. • Medir: el mayor reto en esta fase es medir  cómo responden los consumidores y a  partir de esos datos, tomar las decisiones  apropiadas. • Aprender: el circuito del proceso Lean  Startup  permite, sobre todo, aprender  si es viable el negocio, seguir perseve - rando o de lo contrario, pivotar, es decir,  reajustar sustancialmente las ideas que  no están funcionando. En síntesis, lo que propone la metodología  Lean  Startup  es lanzar los negocios a través  de este circuito ágil donde el emprendedor,  una vez establecidas sus hipótesis y suposi - ciones, las va validando con un experimento,  el PMV . El PMV permite saber con muy  poca inversión si la idea que se está desarro - llando tiene aceptación en el mercado; si se  demuestra que responde al deseo del cliente,  se irán incrementando sus funcionalidades  y, por el contrario, si el PMV no encaja en el  mercado, se deberá darle un nuevo enfoque al  negocio -lo que se denomina pivotar-. La razón de esta metodología es aprender  en poco tiempo, invirtiendo los mínimos  recursos. Lean Startup  es una metodología  dirigido a la puesta en marcha de ideas innovadoras, donde no se comienza creando  una empresa, sino una Startup , entendida no  como una empresa en pequeño, sino como  «una institución humana diseñada para crear  un nuevo producto o servicio bajo condiciones  de incertidumbre extrema» (Ries, 2012, p.  39). El objetivo de las Startup , señala Ries «es  averiguar qué debe producirse, aquello que los  consumidores',\n",
       " 22: 'de las Startup , señala Ries «es  averiguar qué debe producirse, aquello que los  consumidores quieren y por lo que pagarán,  tan rápidamente como sea posible» (p. 32).  La Startup  es un experimento en el que la  pregunta no es ¿puede crearse este producto?  sino ¿debería crearse este producto? Otra de las autoridades en la metodología  Lean Startup , Steve Blank, mentor de Eric Ries,  define una Startup  como «una organización  temporal en busca de un modelo de negocio  rentable, escalable y que puede repetirse. Al  principio, el modelo, de una Startup , es un  lienzo con ideas y suposiciones y con muy  poco conocimiento sobre esos clientes» (Blank  y Dorf, 2012, p. 29). En la práctica, comenta el  autor, las Startup s comienzan con un conjunto  de hipótesis, supuestos, que en su mayoría  serán erróneas. Por eso, el gran peligro de  muchos emprendedores es que centran en la  ejecución del producto sin haber validado las  hipótesis, viéndose abocados al fracaso. Ash Maurya, reconocido asesor y mentor de  Startups  en su famoso libro Running Lean: cómo  iterar de un plan A a un plan que funcione , muestra  las tres fases que atraviesa la Startup  (Maurya,  Ries y Marqués, 2014, p. 34) (Figura  3). P . 214',\n",
       " 1: 'Francisco Javier Llamas Fernández / Juan Carlos Fernández Rodríguez84 Rev. esc.adm.neg.Figura 3. Fases por las que atraviesa una Startup Fuente. Adaptado de Maurya (2014)./gid00022/gid00037/gid00039/gid00026/gid00035/gid00025/gid00026/gid00039 /gid00025/gid00022/gid00041/gid00036/gid00040 /gid00034/gid00026/gid00025/gid00030/gid00039/gid00037/gid00039/gid00036/gid00025/gid00042/gid00024/gid00041/gid00036/gid00024/gid00036/gid00035/gid00040/gid00041/gid00039/gid00042/gid00030/gid00039/gid00030/gid00025/gid00026/gid00022El clima organizacional en el emprendimiento sostenible El método Lean Startup: desarrollo y aplicación para el emprendimientono habian gra/f_icas solo tablas. /gid00027/gid00056/gid00054/gid00068/gid00065/gid00048/gid00001/gid00011/gid00008/gid00001/gid00024/gid00056/gid00065/gid00050/gid00068/gid00056/gid00067/gid00062/gid00001/gid00033/gid00052/gid00048/gid00061/gid00001/gid00040/gid00067/gid00048/gid00065/gid00067/gid00068/gid00063 /gid00027/gid00068/gid00052/gid00061/gid00067/gid00052/gid00019/gid00001/gid00039/gid00056/gid00052/gid00066/gid00001(/gid00011/gid00009/gid00010/gid00011)/gid00008 /gid00027/gid00056/gid00054/gid00068/gid00065/gid00048/gid00001/gid00012/gid00008/gid00001/gid00027/gid00048/gid00066/gid00052/gid00066/gid00001/gid00063/gid00062/gid00065/gid00001/gid00059/gid00048/gid00066/gid00001/gid00064/gid00068/gid00052/gid00001/gid00048/gid00067/gid00065/gid00048/gid00069/gid00056/gid00052/gid00066/gid00048/gid00001/gid00068/gid00061/gid00048/gid00001/gid00066/gid00067/gid00048/gid00065/gid00067/gid00007/gid00068/gid00063/gid00008 --- 87 Rev. esc.adm.neg. La metodología Lean startup : desarrollo y aplicación para el emprendimiento. Pp 79 - 95Artículos científicosFigura 5. Secuencia en el planteamiento de negocio/gid00027/gid00056/gid00054/gid00068/gid00065/gid00048/gid00001/gid00013/gid00008/gid00001/gid00027/gid00048/gid00066/gid00052/gid00001/gid00051/gid00052/gid00001/gid00051/gid00052/gid00066/gid00048/gid00065/gid00065/gid00062/gid00059/gid00059/gid00062/gid00001/gid00051/gid00052/gid00001/gid00050/gid00059/gid00056/gid00052/gid00061/gid00067/gid00052/gid00066/gid00008 /gid00027/gid00068/gid00052/gid00061/gid00067/gid00052/gid00019/gid00001/gid00023/gid00059/gid00048/gid00061/gid00058/gid00001/gid00072/gid00001/gid00025/gid00062/gid00065/gid00053/gid00001(/gid00011/gid00009/gid00010/gid00012)/gid00008 /gid00027/gid00056/gid00054/gid00068/gid00065/gid00048/gid00001/gid00014/gid00008/gid00001/gid00040/gid00052/gid00050/gid00068/gid00052/gid00061/gid00050/gid00056/gid00048/gid00001/gid00052/gid00061/gid00001/gid00052/gid00059/gid00001/gid00063/gid00059/gid00048/gid00061/gid00067/gid00052/gid00048/gid00060/gid00056/gid00052/gid00061/gid00067/gid00062/gid00001/gid00051/gid00052/gid00001/gid00061/gid00052/gid00054/gid00062/gid00050/gid00056/gid00062/gid00008 /gid00027/gid00068/gid00052/gid00061/gid00067/gid00052/gid00019/gid00001/gid00026/gid00059/gid00048/gid00049/gid00062/gid00065/gid00048/gid00050/gid00056ó/gid00061/gid00001/gid00063/gid00065/gid00062/gid00063/gid00056/gid00048/gid00008/gid00025/gid00052/gid00066/gid00050/gid00068/gid00049/gid00065/gid00056/gid00060/gid00056/gid00052/gid00061/gid00067/gid00062 /gid00051/gid00052/gid00001/gid00050/gid00059/gid00056/gid00052/gid00061/gid00067/gid00052/gid00066 Perseverar o PivotarBúsqueda Ejecución Validación de clientesCreación de clientesCreación de empresas/gid00040/gid00067/gid00062/gid00063 /gid00040/gid00067/gid00062/gid00063 /gid00040/gid00067/gid00062/gid00063 Hipótesis no probada Hipótesis probada IterarPivotarIdea Hipótesis PMV Medir',\n",
       " 12: '/gid00027/gid00068/gid00052/gid00061/gid00067/gid00052/gid00019/gid00001/gid00022/gid00051/gid00048/gid00063/gid00067/gid00048/gid00051/gid00062/gid00001/gid00051/gid00052/gid00001/gid00034/gid00048/gid00068/gid00065/gid00072/gid00048/gid00001(/gid00011/gid00009/gid00010/gid00013)/gid00008/gid00022/gid00057/gid00068/gid00066/gid00067/gid00052/gid00001/gid00063/gid00065/gid00062/gid00049/gid00059/gid00052/gid00060/gid00048/ /gid00066/gid00062/gid00059/gid00068/gid00050/gid00056ó/gid00061 /gid00027/gid00048/gid00066/gid00052/gid00001/gid00010 /gid00027/gid00048/gid00066/gid00052/gid00001/gid00011 /gid00027/gid00048/gid00066/gid00052/gid00001/gid00012/gid00022/gid00057/gid00068/gid00066/gid00067/gid00052/gid00001/gid00063/gid00065/gid00062/gid00051/gid00068/gid00050/gid00067/gid00062/ /gid00060/gid00052/gid00065/gid00050/gid00048/gid00051/gid00062/gid00026/gid00066/gid00050/gid00048/gid00059/gid00048 • Fase 1: Ajuste problema/solución: con - siste en determinar si realmente se tiene  un problema que merezca la pena solu - cionar antes de invertir tiempo y esfuerzo  para desarrollar una solución. Se puede  resumir esta fase en dos preguntas: ¿está  interesado el cliente realmente en el pro - ducto? y ¿pagaría por ello? • Fase 2: Ajuste producto/mercado: se debe  comprobar que se consigue tracción, es  decir, que la gente demanda ese producto.• Fase 3: escala: es necesario centrarse en la  aceleración del crecimiento. Las empresas establecidas ejecutan  modelos de negocio donde se conoce al  cliente, sus problemas y las características  de los productos que demandan, mientras  que las Startup s necesitan operar en forma  de búsqueda, validando sus hipótesis y  aprendiendo de los resultados para buscar el  modelo de negocio escalable y rentable. 2. Antecedentes que fundamentan  la metodología Lean Startup Ries (2012), quien tiene registrada la  marca Lean Startup , se da cuenta de  que muchos de los productos que se crean,  después de un gran esfuerzo, fracasan por no --- de http://blog.leanmonitor. com/es/que-significa-pivotar-un-proyecto-o- Startup / Blank, S. (2013). The four steps to the epiphany: Successful  strategies for products that win . BookBaby. Blank, S. (2014). Do pivots matter?  Recuperado de  https://steveblank.com/2014/01/14/whats-a- pivot/ Blank, S. y Dorf, B. (2013). El manual del emprendedor .  Barcelona: Gestión 2000. Cooper, B. y Vlaskovits, P . (2014). El emprendedor lean:  cómo los visionarios crean nuevos productos, desarrollan  proyectos innovadores y transforman los mercados .  España: Universidad Internacional de La Rioja. Croll, A. y Yoskovitz, B. (2014). Lean analytics . España:  Universidad Internacional de La Rioja. Esteve, V . (2015). Métricas piratas y plan financiero en  Startups . Recuperado de http://vicentesteve.com/ metricas-piratas-y-plan-financiero-en- Startup s/ Exovite (s. f.). Innovación tecnológica en herramientas  y procedimientos médicos en Tele-RHB, E-Health y  M-Health.  Recuperado de http://www.exovite.com/ es/exovite-es/ Fowler, M. (2005). Predictive versus adaptive.  Recuperado  de http://www.martinfowler.com/articles/ newMethodology.html#PredictiveVersusAdaptive Hidalgo, J. (2013). Métricas . En M. López de Ávila  y J. A. de Miguel (eds.), El estado del arte del  emprendimiento lean en España. España Lean  Startup . Hsieh, T . (2011). Delivering happiness: A path to profits,  passion, and purpose . New York. Hachette Book  Group. Instituto Lean Management (s. f.). ¿Que es Lean?   Recuperado de http://www.institutolean.org/es/ acerca-de/que-es-lean/70-definicion',\n",
       " 7: 'cuenta de  que muchos de los productos que se crean,  después de un gran esfuerzo, fracasan por no  tener acogida en el mercado. En su experiencia  como emprendedor, descubre que existen  varias metodologías en diversos sectores  que, aplicándolas al emprendimiento, de  una forma innovadora, pueden ayudar a  generar éxito. De dichas metodologías, caben  destacar: Lean Manufacturing, desarrollo ágil  y desarrollo de clientes (Ries, 2009).2.1 Lean manufacturing En el sistema de producción de Toyota,  denominado Lean Manufacturing, Ries  encontró una de las bases fundamentales  que, aplicadas a la innovación, derivaría en la  metodología Lean Startup . Lean Manufacturing   o producción ajustada, como se denominó  en un principio, es un modelo que trata de  entregar el máximo valor a los clientes, utili - zando el mínimo de los recursos necesarios  (Womack, Jones y Roos, 1993). --- Francisco Javier Llamas Fernández / Juan Carlos Fernández Rodríguez94 Rev. esc.adm.neg.creando una empresa, pero el choque con la  realidad dio al traste con una gran inversión.  La aplicación de la metodología Lean Startup ,  en su caso, tal vez no hubiera supuesto el  éxito del aparato exprimidor, pero sí hubiera  evitado un gran desperdicio de tiempo, dinero  y dedicación. La metodología Lean Startup  hubiese  comenzado por validar las hipótesis; el  problema es que esto no se hizo. No «salió  de su oficina» para validar si los futuros  clientes padecían realmente un problema  que él estaba solucionando con su aparato; y  más aún si esos clientes estaban dispuestos  a pagar por ello. En este ejercicio de validar  las hipótesis, se hubiera dado cuenta de  que muchos de los fanáticos de los zumos  naturales prefieren hacerlos directamente en  casa con sus propias licuadoras. Además, creó directamente un producto  final, cuando un producto mínimo viable le  hubiera permitido conocer las necesidades  del cliente y su disposición a adoptarlo. El  PMV hubiera arrojado una serie de métricas,  indispensables para tomar las decisiones  oportunas: pivotar o persistir a través de  versiones incrementales del producto. Por tanto, si antes de crear una empresa y  solicitar una gran financiación hubiese lanzado  una Startup  enfocada en el aprendizaje, hubiera  podido validar el modelo de negocio, para  posteriormente proceder a la creación de una  compañía viable, rentable y escalable. La metodología Lean Startup , sin duda, ofrece  una gran oportunidad para abordar negocios  innovadores y minimizar la incertidumbre, el  desperdicio de recursos y el riesgo elevado que  suele conllevar el emprendimiento.Referencias    Álvarez, A., De las Heras, R. y Lasa, C. (2012). Métodos  agiles y scrum . Madrid: Anaya. Alnasser, R. (2015). ¿Qué significa pivotar un proyecto o  Startup?  Recuperado de http://blog.leanmonitor. com/es/que-significa-pivotar-un-proyecto-o- Startup / Blank, S.',\n",
       " 16: '85 Rev. esc.adm.neg. La metodología Lean startup : desarrollo y aplicación para el emprendimiento. Pp 79 - 95Artículos científicos2.2 Desarrollo ágil Ries, por su formación y desempeño como  ingeniero de desarrollo de software , incorpora  las metodologías de desarrollo ágil en su  metodología Lean Startup . Los métodos  ágiles –adaptativos, en contraposición con los  métodos clásicos denominados en cascada,  predictivos–, tienen la visión general del  producto o servicio, pero sin especificar el  resultado final, ya que se generarán unas  hipótesis, que darán lugar a un prototipo  del producto que se usará para explorar el  mercado y validar dichas hipótesis o modifi - carlas, en un continuo ensayo de prueba y  error que va adaptando el producto. Con los métodos ágiles, se desarrollan  proyectos en unidades de tiempo llamadas  iteraciones. Cada iteración incluye un ciclo de  desarrollo del producto que se entrega en un  periodo de tiempo y que va añadiendo funcio - nalidades, de tal forma que las entregas se van  convirtiendo en demos que permiten evaluar  la funcionalidad del producto en colabo - ración con el cliente e incorporar cambios  continuamente sin esperar la entrega final de  dicho producto (Álvarez, De las Heras y Lasa,  2012). Este modelo busca la agilidad a través de valorar la interacción entre las personas,  la colaboración y la flexibilidad al cambio  (Fowler, 2005). 2.3 Desarrollo de clientes Blank critica la forma tradicional de crear  empresas centradas en el desarrollo del  producto, donde se conceptualiza la idea del  producto o servicio: se desarrolla, se prueba  y se lanza al mercado (Blank y Dorf, 2013).  El problema es que la mayoría de las Startups   fracasan porque no tienen clientes. Frente a  este enfoque, Blank (2013) propone centrar el  foco en el cliente. El proceso de desarrollo de  clientes comienza con el establecimiento de  unas hipótesis, unas suposiciones, que deben  validarse desde el contacto directo con estos.  Lo primero',\n",
       " 9: 'hipótesis, unas suposiciones, que deben  validarse desde el contacto directo con estos.  Lo primero que se debe hacer es conocer si el  cliente realmente tiene una necesidad y está  dispuesto a pagar por ella; y lo segundo, a  través de un mínimo producto viable, ver si  realmente demandaría este producto. Poste - riormente, se procede a hacer la transición  de lo que ha sido una Startup  –enfocada en el  aprendizaje hacia la creación de una compañía  enfocada en la ejecución del negocio– que se  ha encontrado viable (Figura  4). Figura 4. Fase de desarrollo de clientes /gid00027/gid00056/gid00054/gid00068/gid00065/gid00048/gid00001/gid00013/gid00008/gid00001/gid00027/gid00048/gid00066/gid00052/gid00001/gid00051/gid00052/gid00001/gid00051/gid00052/gid00066/gid00048/gid00065/gid00065/gid00062/gid00059/gid00059/gid00062/gid00001/gid00051/gid00052/gid00001/gid00050/gid00059/gid00056/gid00052/gid00061/gid00067/gid00052/gid00066/gid00008 /gid00027/gid00068/gid00052/gid00061/gid00067/gid00052/gid00019/gid00001/gid00023/gid00059/gid00048/gid00061/gid00058/gid00001/gid00072/gid00001/gid00025/gid00062/gid00065/gid00053/gid00001(/gid00011/gid00009/gid00010/gid00012)/gid00008 /gid00027/gid00056/gid00054/gid00068/gid00065/gid00048/gid00001/gid00014/gid00008/gid00001/gid00040/gid00052/gid00050/gid00068/gid00052/gid00061/gid00050/gid00056/gid00048/gid00001/gid00052/gid00061/gid00001/gid00052/gid00059/gid00001/gid00063/gid00059/gid00048/gid00061/gid00067/gid00052/gid00048/gid00060/gid00056/gid00052/gid00061/gid00067/gid00062/gid00001/gid00051/gid00052/gid00001/gid00061/gid00052/gid00054/gid00062/gid00050/gid00056/gid00062/gid00008',\n",
       " 21: '/gid00027/gid00068/gid00052/gid00061/gid00067/gid00052/gid00019/gid00001/gid00026/gid00059/gid00048/gid00049/gid00062/gid00065/gid00048/gid00050/gid00056ó/gid00061/gid00001/gid00063/gid00065/gid00062/gid00063/gid00056/gid00048/gid00008/gid00025/gid00052/gid00066/gid00050/gid00068/gid00049/gid00065/gid00056/gid00060/gid00056/gid00052/gid00061/gid00067/gid00062 /gid00051/gid00052/gid00001/gid00050/gid00059/gid00056/gid00052/gid00061/gid00067/gid00052/gid00066 Perseverar o PivotarBúsqueda Ejecución Validación de clientesCreación de clientesCreación de empresas/gid00040/gid00067/gid00062/gid00063 /gid00040/gid00067/gid00062/gid00063 /gid00040/gid00067/gid00062/gid00063 Hipótesis no probada Hipótesis probada IterarPivotarIdea Hipótesis PMV Medir Pivotar o IterarFuente. Blank y Dorf (2013).',\n",
       " 23: 'Francisco Javier Llamas Fernández / Juan Carlos Fernández Rodríguez86 Rev. esc.adm.neg.En síntesis, se podría decir que los tres  pilares esenciales en los que se fundamenta  la metodología Lean Startup  son: i) crear valor  para el cliente, entendido como la eliminación  de desperdicio, ofreciéndole lo que realmente  demanda, con la calidad correspondiente; ii) desarrollar el producto desde la óptica del  cliente, aprendiendo y validándolo desde el  continuo contacto con él; y iii) desarrollar ese  producto de una forma ágil, flexible, iterativa,  incorporando nuevas funcionalidades a  medida que se desarrolla. 3. La metodología Lean Startup El circuito crear-medir-aprender es el núcleo  central de la metodología Lean Startup .  (Ries, 2013). Una Startup  crea productos,  mide resultados y aprende de ellos. En otras  palabras, es un proceso iterativo de transfor - mación de ideas en productos, medición de  la reacción y comportamiento de los clientes  frente a los productos y el aprendizaje o bien  porque se persevere o bien porque se pivote.  Este proceso se repite de forma continuada. La secuencia se inicia con el primer elemento  indispensable en el planteamiento del negocio:  las hipótesis, que no son sino las suposiciones  sobre las que el emprendedor fundamenta la  viabilidad de su idea. Para comprobar dichas  hipótesis, el emprendedor se ayudará de un  PMV con el que experimentará, y sobre todo,  aprenderá de su público objetivo qué aceptación  tiene su oferta. Pero para que este aprendizaje sea riguroso y fundamentado, es indispen - sable medirlo y como consecuencia, tomar las  decisiones oportunas que implicarán correcciones  sobre las hipótesis iniciales, reestructurando  el modelo de negocio, lo cual se denominará  pivotar. Si por el contrario los datos aconsejan  persistir, la iteración continuará con la creación  de versiones incrementales del producto que  se puedan ir validando desde la experiencia  del cliente. El objetivo principal de aplicar este',\n",
       " 17: 'se puedan ir validando desde la experiencia  del cliente. El objetivo principal de aplicar este metodo - logía es obtener un aprendizaje validado, saber  qué elementos de la estrategia funcionan y  conocer qué es lo que quiere el consumidor.  Este aprendizaje permitirá medir el progreso  de la Startup y descubrir si el modelo de  negocio que se busca es viable, rentable y  escalable; características fundamentales que  debe tener una Startup antes de convertirse  en una empresa (Figura  5). P . 214 --- cual se logra  un modelo de negocio que funcione, sin  desperdiciar recursos. La metodología se ha desglosado siguiendo  una secuencia recomendable a la hora de  poner en marcha un negocio: • Validación de hipótesis: validar las  suposiciones de las que se parte, ya que  no dejan de ser asunciones las cuales  solo se deberían confirmar contrastadas con el mercado y el cliente. Para ello, se  recomienda usar alguno de los lienzos de  modelo de negocio que han desarrollado  los expertos o crear un propio plantea - miento de modelo de negocio. • Creación de un producto mínimo viable:  crear un producto con unas caracterís - ticas mínimas que aporte un valor al  cliente y que permita obtener la mayor  información posible. • Métricas: establecer elementos cuanti - ficables que permitan medir el rendi - miento esperado para poder tomar las  decisiones oportunas. • Pivotar o perseverar: el aprendizaje obtenido,  a través de iteraciones, permitirá seguir  incrementando lo que funciona, perse - verar o implementar los cambios que se  infieren de los datos obtenidos, pivotar. Probablemente, Doug Evans,  fundador de Juicero, y su equipo  hicieron un plan de negocio  y se centraron en ejecutarlo, P . 214',\n",
       " 3: 'Hipótesis no probada Hipótesis probada IterarPivotarIdea Hipótesis PMV Medir Pivotar o Iterar Fuente. Elaboración propia. 3.1 Validación de hipótesis Antes de llevar a cabo una idea, siempre se  tiene una intuición, un presentimiento de  que va a ser exitosa, de lo contrario, no valdría  la pena embarcarse en esa aventura. Pero no  todas las ideas son exitosas, al contrario,  son pocas las ideas que triunfan. Lo duro  de emprender en cualquier proyecto, sobre  todo cuando es algo innovador, es la incer - tidumbre que conlleva. Los proyectos se  plantean sobre la base de una serie de suposi - ciones, asunciones, hechos no probados, que  en la metodología Lean Startup  se denominan  hipótesis y que es muy importante que se  comprueben antes de lanzar el negocio y  desperdiciar tiempo y recursos (Ries, 2013).Javier Megias (2013), reconocido empren - dedor, tiene en su blog una definición de  hipótesis, aplicada a los negocios, que es muy  ilustrativa: «Son aquellos hechos que consi - deramos como ciertos en nuestro modelo  de negocio pero que realmente no estamos  seguros al 100\\xa0%». Y Blank y Dorf señalan que «en este  ámbito, hipótesis es solo una palabra  elegante para referirse a las suposiciones»  (2013, p. 88). Los autores proponen que, a la  hora de emprender, se parta de un modelo de  negocio que ayude a establecer las hipótesis  y probar los supuestos de los que parte el  emprendedor y para ello recomiendan el  lienzo o Canvas de Osterwalder, como punto  de partida (Figura  6). --- a los clientes si las hipótesis son  correctas y rápidamente cambiar aquellas que  estuvieran equivocadas (Blank y Dorf, 2013). 3.2 Producto viable mínimo Una de las mejores formas de validar las  hipótesis es a través de la construcción de un  PMV , que viene a ser la versión del producto  que permite dar la vuelta entera al circuito  de crear-medir-aprender, con un mínimo  esfuerzo y en un mínimo tiempo. El PMV es una de las técnicas más importantes del Lean  Startup , que Ries define como «la versión de  un nuevo producto que permite a un equipo  recoger la máxima cantidad de aprendizaje  validado, acerca de sus clientes, con el mínimo  esfuerzo» (2009, p. 91). Para Blank y Dorf (2013), el PMV consiste  en «una síntesis concisa del conjunto más  pequeño posible de características que podrían  funcionar como producto independiente  resolviendo al menos el problema principal y  demostrando el valor del producto» (p.136). El PMV ayuda a los emprendedores a  empezar con el proceso de aprendizaje lo más  rápidamente posible. Su objetivo es probar las  hipótesis fundamentales del negocio. El primer producto de una Startup  no  está dirigido a satisfacer al público en  general. Las Startups  no pueden permitirse  crear un producto que contenga todas las',\n",
       " 14: 'Francisco Javier Llamas Fernández / Juan Carlos Fernández Rodríguez88 Rev. esc.adm.neg.Figura 6. Modelo de lienzo de Osterwalder/gid00027/gid00056/gid00054/gid00068/gid00065/gid00048/gid00001/gid00015/gid00008/gid00001/gid00034/gid00062/gid00051/gid00052/gid00059/gid00062/gid00001/gid00051/gid00052/gid00001/gid00059/gid00056/gid00052/gid00061/gid00073/gid00062/gid00001/gid00051/gid00052/gid00001/gid00036/gid00066/gid00067/gid00052/gid00065/gid00070/gid00048/gid00059/gid00051/gid00052/gid00065/gid00008 /gid00027/gid00068/gid00052/gid00061/gid00067/gid00052/gid00019/gid00001/gid00036/gid00066/gid00067/gid00052/gid00065/gid00070/gid00048/gid00059/gid00051/gid00052/gid00065/gid00001/gid00072/gid00001/gid00037/gid00056/gid00054/gid00061/gid00052/gid00068/gid00065/gid00001(/gid00011/gid00009/gid00010/gid00010)/gid00008 /gid00027/gid00056/gid00054/gid00068/gid00065/gid00048/gid00001/gid00017/gid00008/gid00001/gid00034é/gid00067/gid00065/gid00056/gid00050/gid00048/gid00066/gid00001/gid00063/gid00056/gid00065/gid00048/gid00067/gid00048/gid00066/gid00006/gid00001/gid00052/gid00060/gid00049/gid00068/gid00051/gid00062/gid00001/gid00051/gid00052/gid00001/gid00050/gid00062/gid00061/gid00069/gid00052/gid00065/gid00066/gid00056ó/gid00061/gid00008 /gid00027/gid00068/gid00052/gid00061/gid00067/gid00052/gid00019/gid00001/gid00022/gid00051/gid00048/gid00063/gid00067/gid00048/gid00051/gid00062/gid00001/gid00051/gid00052/gid00001/gid00034/gid00050/gid00024/gid00059/gid00068/gid00065/gid00052/gid00001(/gid00011/gid00009/gid00010/gid00009)/gid00008Adquisición¿Cómo te encuentran los usuarios? ¿Tienen los usuarios una  primera experiencia buena? ¿Los usuarios vuelven? ¿Cómo ganas dinero? ¿Te recomiendan tus usuarios?Activación Retención Ingresos Referencias ¿quiénes son nuestros socios clave? ¿quiénes son nuestros suministradores clave? ¿qué recursos clave vamos a adquirir de nuestros socios? ¿qué actividades clave realizan los socios? motivaciones para socios optimización y economía --- tus usuarios?Activación Retención Ingresos Referencias¿quiénes son nuestros socios clave? ¿quiénes son nuestros suministradores clave? ¿qué recursos clave vamos a adquirir de nuestros socios? ¿qué actividades clave realizan los socios? motivaciones para socios optimización y economía reducción de riesgo e incertidumbre adquisición de recursos y actividades particulares¿qué actividades clave requiere nuestra propuesta de valor? ¿nuestros canales de distribución? ¿nuestras relaciones con clientes? ¿nuestras fuentes de ingresos? Categorías producción resolución de problemas plataforma / red ¿qué recursos clave requiere nuestra propuesta de valor? ¿nuestros canales de distribución? ¿relaciones con clientes? ¿fuentes de ingresos? Tipos de recursos físico intelectual (patentes de marca, copyrghts, datos) humanas financieras ¿cuáles son los costes más importantes inherentes a nuestro modelo de negocio? ¿qué recursos clave son los más caros? ¿qué actividades clave son las más caras? es tu negocio más: basado en coste (estructura de coste más escueta, propuesta de valor de precio bajo, máxima automatización, outsourcing extensivo) basado en valor (centrado en creación de valor, propuesta de valor premium) características de ejemplo: costes fijos (salarios, rentas, utilidades) costes variables economías de escala economías de alcancetipos venta de activos pago por uso cuota de suscripción préstamo/alquiler/leasing licencias tasas de intermediación publicidadprecio fijo lista de precios dependiente de la funcionalidad del producto dependiente del segmento de cliente dependiente del volumenprecio dinámico negociación (regateo) gestión de rendimientos mercado en tiempo real¿para qué valor están realmente dispuestos a pagar nuestros clientes? ¿para qué pagan actualmente? ¿cómo están pagando ahora? ¿cómo preferirían pagar? ¿cuánto contribuyen cada fuente de ingresos a los ingresos totales?¿qué valor entregamos al cliente? ¿cuál de los problemas de nuestro cliente vamos a ayudarle',\n",
       " 0: '¿qué actividades clave realizan los socios? motivaciones para socios optimización y economía reducción de riesgo e incertidumbre adquisición de recursos y actividades particulares¿qué actividades clave requiere nuestra propuesta de valor? ¿nuestros canales de distribución? ¿nuestras relaciones con clientes? ¿nuestras fuentes de ingresos? Categorías producción resolución de problemas plataforma / red ¿qué recursos clave requiere nuestra propuesta de valor? ¿nuestros canales de distribución? ¿relaciones con clientes? ¿fuentes de ingresos? Tipos de recursos físico intelectual (patentes de marca, copyrghts, datos) humanas financieras ¿cuáles son los costes más importantes inherentes a nuestro modelo de negocio? ¿qué recursos clave son los más caros? ¿qué actividades clave son las más caras? es tu negocio más: basado en coste (estructura de coste más escueta, propuesta de valor de precio bajo, máxima automatización, outsourcing extensivo) basado en valor (centrado en creación de valor, propuesta de valor premium) características de ejemplo: costes fijos (salarios, rentas, utilidades) costes variables economías de escala economías de alcancetipos venta de activos pago por uso cuota de suscripción préstamo/alquiler/leasing licencias tasas de intermediación publicidadprecio fijo lista de precios dependiente de la funcionalidad del producto dependiente del segmento de cliente dependiente del volumenprecio dinámico negociación (regateo) gestión de rendimientos mercado en tiempo real¿para qué valor están realmente dispuestos a pagar nuestros clientes? ¿para qué pagan actualmente? ¿cómo están pagando ahora? ¿cómo preferirían pagar? ¿cuánto contribuyen cada fuente de ingresos a los ingresos totales?¿qué valor entregamos al cliente? ¿cuál de los problemas de nuestro cliente vamos a ayudarle  a resolver? ¿que paquetes de productos y servicios ofrecemos a cada  segmento de cliente? ¿qué necesidades del cliente estamos satisfaciendo? Características novedad rendimiento',\n",
       " 18: 'de cliente? ¿qué necesidades del cliente estamos satisfaciendo? Características novedad rendimiento peronalización “hacer el trabajo” diseño marca / status precio reducción de coste reducción de riesgo accesibilidad conveniencia / usabilidad¿qué tipo de relación espera que estblezcamos y  mantengamos cada uno de nuestros segmentos de cliente? ¿cuáles hemos establecido? ¿cómo están integrados con el resto de nuestro modelo  de negocio? ¿cuánto cuestan? Ejemplos asistencia personal aistencia personal dedicada autoservicio servicios automatizados comunidades co-creación ¿a través de qué canales quieren ser  contactados nuestros segmentos de cliente? ¿cómo les contactamos ahora? ¿cómo están integrados nuestros canales? ¿cuáles funcionan mejor? ¿cuáles son más eficientes en costes? ¿cómo los integramos con las rutinas de cliente?¿para quién estamos creando valor? ¿quiénes son nuestros clientes más importantes? mercado de masas mercado de nicho segmentado diversificado plataforma multilateral Fases del canal 1. Conciencia ¿cómo conseguimos conciencia sobre los productos y servicios de nuestra  empresa? 2. Evaluación ¿cómo ayudamos a nuestros clientes a evaluar la propuesta de valor de  nuestra organización? 3. Compra ¿cómo permitimos a nuestros clientes comprar productos y servicios  específicos? 4. Entrega ¿cómo llevamos la propuesta de valor a los clientes? 5. Postventa ¿cómo proporcionamos soporte post-venta a los clientes? Fuente. Osterwalder y Pigneur (2011). Como se pudo ver, Osterwalder y Pigneur  en Generación de modelos de negocio  (2011),  facilitan una herramienta muy interesante  para testar las hipótesis más arriesgadas que  ponen en juego la viabilidad del negocio. Se  siga esta herramienta o cualquier otra, los  creadores del negocio necesitan transformar  las hipótesis o los supuestos en hechos tan  pronto como sea posible, saliendo a la calle,  preguntando a los clientes si las hipótesis son  correctas y rápidamente cambiar aquellas que  estuvieran --- valor entregamos al cliente? ¿cuál de los problemas de nuestro cliente vamos a ayudarle  a resolver? ¿que paquetes de productos y servicios ofrecemos a cada  segmento de cliente? ¿qué necesidades del cliente estamos satisfaciendo? Características novedad rendimiento peronalización “hacer el trabajo” diseño marca / status precio reducción de coste reducción de riesgo accesibilidad conveniencia / usabilidad¿qué tipo de relación espera que estblezcamos y  mantengamos cada uno de nuestros segmentos de cliente? ¿cuáles hemos establecido? ¿cómo están integrados con el resto de nuestro modelo  de negocio? ¿cuánto cuestan? Ejemplos asistencia personal aistencia personal dedicada autoservicio servicios automatizados comunidades co-creación ¿a través de qué canales quieren ser  contactados nuestros segmentos de cliente? ¿cómo les contactamos ahora? ¿cómo están integrados nuestros canales? ¿cuáles funcionan mejor? ¿cuáles son más eficientes en costes? ¿cómo los integramos con las rutinas de cliente?¿para quién estamos creando valor? ¿quiénes son nuestros clientes más importantes? mercado de masas mercado de nicho segmentado diversificado plataforma multilateral Fases del canal 1. Conciencia ¿cómo conseguimos conciencia sobre los productos y servicios de nuestra  empresa? 2. Evaluación ¿cómo ayudamos a nuestros clientes a evaluar la propuesta de valor de  nuestra organización? 3. Compra ¿cómo permitimos a nuestros clientes comprar productos y servicios  específicos? 4. Entrega ¿cómo llevamos la propuesta de valor a los clientes? 5. Postventa ¿cómo proporcionamos soporte post-venta a los clientes?',\n",
       " 6: '89 Rev. esc.adm.neg. La metodología Lean startup : desarrollo y aplicación para el emprendimiento. Pp 79 - 95Artículos científicoscaracterísticas desde el inicio y, por eso,  los primeros esfuerzos se centran en un  grupo muy pequeño que algunos llaman  evangelistas, early adopters o pioneros.  Son aquellos clientes que quieren ser los  primeros y están dispuestos a adoptar el  producto o servicio en sus fases iniciales.  Clientes visionarios, con interés por el  producto (Rogers, 2003). Para construir un producto viable mínimo,  no hay una fórmula exacta. Lo importante  es que ese producto mínimo haga posible al  emprendedor conocer su viabilidad; dicho  de forma muy sencilla, permitir saber si el  producto tiene futuro o no. Por eso, es muy  interesante el apartado de experimentos  de viabilidad de Cooper y Vlaskovits en El  emprendedor Lean: cómo los visionarios  crean nuevos productos, desarrollan proyectos  innovadores y transforman los mercados  (2014, p. 183), en el que plantean que en el  diseño de un PMV es fundamental conocer la  viabilidad antes de construir el producto. Lo  ilustran con un sencillo ejemplo:  Si quieres abrir un restaurante, ¿no deberías  comprobar si a la gente le gusta este tipo de  comida? Antes de lanzar un primer intento  de producto al mercado, que crea valor a un  segmento concreto de clientes, es importante  realizar experimentos que validen los aspectos  del modelo de negocio. De estas pruebas algunas son populares:  landing page , la prueba del conserje, la creación  de prototipos, la prueba del crowdfunding o la  prueba del Mago de Oz (Macías, 2017). Todas  ellas son interesantes, dependiendo lo que se quiera probar, por ejemplo, en la prueba del  Mago de Oz se trata de proporcionar un lado  visible del producto al cliente para que pueda  comprarlo, pero se satisface el propósito del  producto de forma manual, como prueba,  antes de lanzarlo online . Es famoso el ejemplo  de Zappos, que se originó utilizando esta  técnica. En',\n",
       " 25: 'de lanzarlo online . Es famoso el ejemplo  de Zappos, que se originó utilizando esta  técnica. En Delivering happiness: A path to profits,  passion, and purpose , Hsieh (2011) cuenta  cómo un día Nick Swinmurn estando en un  centro comercial no podía encontrar un par de  botas Airwalk Desert y pensó: «¿Por qué no  montar una tienda online de calzado?». Tras  lo cual se acercó a algunas tiendas locales de  calzado y les propuso sacar fotos y ponerlas  en una sencilla web y, si la gente lo solicitaba,  se los compraría al mismo precio a la tienda  de calzado. Nick corría a la zapatería local y  compraba el artículo y se lo enviaba al cliente.  En 1999, estaba utilizando esta prueba. Poste - riormente, con financiación, y no exento de  dificultades, desarrolla un portal de comercio  electrónico, Zappos, que diez años después  sería comprado por Amazon por la cantidad  de USD 1200 millones. Exovite es un ejemplo muy ilustrativo de  Startup  que, aprovechando la impresión 3D,  diseñó, como producto mínimo viable, una  férula de plástico para sustituir la escayola o  yeso que tradicionalmente deben llevar los  pacientes cuando sufren un traumatismo.  Después de probarlo en numerosos pacientes,  con la asesoría y acompañamiento de médicos  expertos, Exovite ha dejado de ser una Startup   para convertirse en una empresa de biotecno - logía especializada en sistemas de rehabili - tación (Figura  7).',\n",
       " 13: 'Francisco Javier Llamas Fernández / Juan Carlos Fernández Rodríguez90 Rev. esc.adm.neg.Figura 7. Férula, producto viable mínimo de Exovite Fuente. Exovite (s. f.). 3.3 Medir: Lean Analytics En general, las empresas usan la contabi - lidad para medir su objetivo principal: el  crecimiento. Este depende básicamente de  la rentabilidad que se obtiene del cliente, los  costes que supone obtener a dicho cliente y la  tasa de repetición en la compra. La contabilidad de una Startup  es muy  distinta, pues el objetivo es demostrar que  se está aprendiendo a construir un negocio  sostenible. Es lo que llama Ries la contabi - lidad de la innovación (2012, p. 135) y que  explica en tres etapas: • Usar un producto mínimo viable para  recopilar los datos reales, sobre en qué  punto se encuentra la empresa en el  momento actual. • La Startup  hace todos los cambios y las  optimizaciones del producto. • La Startup  toma la decisión de perseverar  porque está aprendiendo apropiadamente  y por tanto haciendo un buen progreso o si el equipo concluye que necesitan  cambios, deben pivotar comenzando el  proceso de nuevo. Para poder llevar a cabo este proceso de la  contabilidad de la innovación, del aprendizaje  y tomar decisiones rigurosas, es necesario ser  capaces de medirlo. Cada modelo de negocio y cada tipo de  producto requiere un servicio de métricas  diferente. El objetivo de los negocios es  que los clientes compren un producto o un  servicio y esto implica seguir la ruta de los  pasos que sigue el cliente hasta que genera  ingresos a la Startup . La forma más clara de seguir esta ruta es  el embudo de conversión definido por las  métricas piratas. Estas fueron acuñadas por  Dave McClure (2010), miembro integrante  de los fundadores de 500 Startup s, una de las  principales aceleradoras de Startup s de los  Estados Unidos. Se definen así porque las  iniciales de los cinco bloques del embudo en  inglés son AARRR, como el supuesto berrido  de un pirata – acquisition, --- Francisco Javier Llamas Fernández / Juan Carlos Fernández Rodríguez92 Rev. esc.adm.neg.directamente en la disminución del coste  de adquisición de clientes. • Conversión: este indicador permite saber  a qué porcentaje de clientes se ha conse - guido vender del total del público al que  se ha logrado interesar. Es una métrica  muy importante, porque permite conocer  al emprendedor si es capaz de monetizar,  y por tanto, rentabilizar su modelo de  negocio. Para calcular el porcentaje de  conversión, se debe dividir el número de  clientes convertidos, que han comprado,  entre los clientes adquiridos. A la hora de medir es fundamental saber  qué métricas son las más importantes para  el devenir de la empresa. Para Justo Hidalgo,  fundador de 24 symbols , «son aquellas sin  las que no podemos tomar decisiones en  un negocio más allá de la intuición» (2013,  p. 4). El número de usuarios, comenta, que  visitan una web puede ser una métrica muy  importante al principio, pero seguro que  en un determinado momento es mucho  más importante medir y actuar sobre el  porcentaje de conversión. No hay una métrica concreta que se deba  seguir desde la concepción de la idea del  negocio, sino que en cada momento se pondrá  el foco en una métrica a la que se le concederá  más importancia. En el mundo de los datos,  aconsejan Croll y Yoskovitz (2014, p. 82), es  importante elegir una métrica clave para el  momento en el que se encuentre la Startup , y  a esa métrica la bautiza como «UMVI, la única  métrica que verdaderamente importa». Será  la métrica que ayude a encontrar el producto  correcto y el hueco de mercado antes de que  se acabe el dinero.3.4 Pivotar o perseverar Todos los elementos que se han desarrollado  hasta el momento como aspectos impor - tantes dentro de la metodología Lean Startup :  establecer hipótesis, crear un producto mínimo  viable, medirlo y aprender de ello, tienen sentido  en cuanto responden a la siguiente pregunta:  ¿se están haciendo progresos suficientes',\n",
       " 4: 'bloques del embudo en  inglés son AARRR, como el supuesto berrido  de un pirata – acquisition, activation, retention,  referral, revenue – (Figura 8). --- Es importante  entender el porqué de la fidelidad de  cliente o su abandono. • Referencia: esta métrica indica el número  de clientes que vienen por recomendación  o por viralidad. Usualmente, el cliente  referido no tiene un coste y eso influye Figura 8. Métricas piratas, embudo de conversión Fuente. Adaptado de McClure (2010)./gid00027/gid00056/gid00054/gid00068/gid00065/gid00048/gid00001/gid00015/gid00008/gid00001/gid00034/gid00062/gid00051/gid00052/gid00059/gid00062/gid00001/gid00051/gid00052/gid00001/gid00059/gid00056/gid00052/gid00061/gid00073/gid00062/gid00001/gid00051/gid00052/gid00001/gid00036/gid00066/gid00067/gid00052/gid00065/gid00070/gid00048/gid00059/gid00051/gid00052/gid00065/gid00008 /gid00027/gid00068/gid00052/gid00061/gid00067/gid00052/gid00019/gid00001/gid00036/gid00066/gid00067/gid00052/gid00065/gid00070/gid00048/gid00059/gid00051/gid00052/gid00065/gid00001/gid00072/gid00001/gid00037/gid00056/gid00054/gid00061/gid00052/gid00068/gid00065/gid00001(/gid00011/gid00009/gid00010/gid00010)/gid00008 /gid00027/gid00056/gid00054/gid00068/gid00065/gid00048/gid00001/gid00017/gid00008/gid00001/gid00034é/gid00067/gid00065/gid00056/gid00050/gid00048/gid00066/gid00001/gid00063/gid00056/gid00065/gid00048/gid00067/gid00048/gid00066/gid00006/gid00001/gid00052/gid00060/gid00049/gid00068/gid00051/gid00062/gid00001/gid00051/gid00052/gid00001/gid00050/gid00062/gid00061/gid00069/gid00052/gid00065/gid00066/gid00056ó/gid00061/gid00008 /gid00027/gid00068/gid00052/gid00061/gid00067/gid00052/gid00019/gid00001/gid00022/gid00051/gid00048/gid00063/gid00067/gid00048/gid00051/gid00062/gid00001/gid00051/gid00052/gid00001/gid00034/gid00050/gid00024/gid00059/gid00068/gid00065/gid00052/gid00001(/gid00011/gid00009/gid00010/gid00009)/gid00008Adquisición¿Cómo te encuentran los usuarios? ¿Tienen los usuarios una  primera experiencia buena? ¿Los usuarios vuelven? ¿Cómo ganas dinero? ¿Te recomiendan tus usuarios?Activación Retención Ingresos Referencias¿quiénes son nuestros socios clave?',\n",
       " 24: '91 Rev. esc.adm.neg. La metodología Lean startup : desarrollo y aplicación para el emprendimiento. Pp 79 - 95Artículos científicos ¿Por qué el empleo de métricas piratas?  Vicent Esteve (2015), asesor de Startups ,  apunta un doble motivo: por un lado, las  métricas piratas son un sistema de análisis  cuantitativo de un modelo de negocio  comúnmente aceptado por la mayor parte de  Startups ; y por otro, los costes de ir llevando al  cliente potencial a cerrar una venta vinculan  el modelo de generación de ingresos con una  de las partes más importantes de la estructura  de costes de Startups , que es la inversión en  captación de clientes. De forma práctica, el embudo de las  métricas piratas tomado de McClure (2010)  seguiría la siguiente secuencia: • Adquisición: responde a la pregunta  ¿cómo llega el cliente o usuario a conocer  la oferta del negocio? Por tanto, se deben  identificar los canales de adquisición y los  costes asociados, en el caso de que se haya  hecho una campaña SEM – search engine  marketing ‘marketing en buscadores’ – o un  mailing  u otro tipo de actividades offline ,  como pudiera ser el caso de una feria.• Activación: según Megias (2013), se trata  de convertir a un potencial interesado en  un cliente potencial. Mide el porcentaje  de potenciales interesados que han  hecho la acción necesaria para conver - tirse en cliente potencial. Por ejemplo,  rellenar un formulario, darse de alta en  una plataforma, registrarse en una app.  Indica la capacidad de despertar interés  en el interesado para que vuelva a contac - tarnos. Está muy relacionada con la  experiencia que haya tenido. Se calcula  dividiendo los usuarios que se consideran  activados, los que descargaron la app,  entre los usuarios adquiridos. • Retención – engagement –: por decirlo  de forma muy coloquial, se trata de lo  enganchado que está el cliente. ¿Vuelve  el usuario? ¿Recurre? Es importante  entender el porqué de la fidelidad de  cliente o su abandono. • Referencia: esta',\n",
       " 2: 'sentido  en cuanto responden a la siguiente pregunta:  ¿se están haciendo progresos suficientes como  para creer que la hipótesis es correcta o se debe  hacer algún cambio importante? Este cambio,  según Rice, se llama pivote: una corrección  estructurada diseñada para probar una nueva  hipótesis básica sobre el producto, la estrategia  y el motor de crecimiento (2012, p. 167). Y  prosigue, un pivote requiere que se mantenga  un pie anclado en lo que se ha aprendido hasta  el momento, mientras se hace un cambio  fundamental en la estrategia para buscar un  mayor aprendizaje validado. Blank, por su parte, para ilustrar lo que  es un pivote, recurre al lienzo del modelo de  negocio de Osterwalder y Pigneur, ya aludido,  y explica en su blog el significado de pivote  como una modificación significativa de uno  o varios componentes de aquel. Un pivote,  comenta el experto, no es solo cambiar un  producto, un pivote significa una modifi - cación de cualquiera de los factores del  modelo de negocio: la propuesta de valor, la  generación de ingresos, el canal, la segmen - tación o cualquiera de los componentes del  lienzo (Blank, 2014). Por tanto, se pivota como consecuencia de  un aprendizaje en el que el emprendedor se  da cuenta de que tiene que darle un nuevo  giro a su negocio si no quiere quedarse estan - cando, consumiendo los recursos, mientras  el negocio corre el peligro de no crecer o  incluso morir. --- 93 Rev. esc.adm.neg. La metodología Lean startup : desarrollo y aplicación para el emprendimiento. Pp 79 - 95Artículos científicosLa pregunta obligada es ¿cuándo se debe  pivotar? Rosa Alnasser (2015), quien dirige  Lean Monitor, una herramienta de simulación  para entrenar a emprendedores en el diseño  de su Startup , comenta que se debe hacer  en el mismo momento en el que el empren - dedor se da cuenta de que su planteamiento  no es válido. La clave, argumenta, radica en  adquirir las evidencias empíricas necesarias  para poderlo hacer cuanto antes y evitar la  pérdida de tiempo y dinero, por eso, es tan  importante identificar las hipótesis y hacer  experimentos con ellas con el objetivo de  validarlas o invalidarlas.Como conclusión, se podría afirmar que  el pivote responde a la necesidad de ser  productivo e implica replantearse lo que se ha  venido haciendo en el negocio para encontrar  una dirección más positiva. Lo importante es  haber aprendido a tiempo y sin abandonar el  negocio, con un pie anclado, saber darle otra  orientación. Cuando los datos que se van  obteniendo aconsejan persistir, se continúa  con la creación de versiones incrementales  del producto o servicio que la experiencia del  cliente irá validando. 4. Conclusiones La metodología Lean Startup  propone el  lanzamiento de los negocios desde un  aprendizaje que se va validando a través de  un circuito. Se inicia con la concepción de un  producto o servicio, de forma experimental,  en el que se mide su encaje en el mercado  y la aceptación por parte de los clientes  más interesados; de esa realimentación, se  obtiene un aprendizaje que permite seguir  desarrollando dicho producto o servicio  de una forma iterativa, ya sea persistiendo  en el incremento de las funcionalidades  del servicio o producto, ya sea estable - ciendo una serie de cambios o pivotes que  permitan su viabilidad, tras lo cual se logra  un modelo de negocio que funcione, sin  desperdiciar recursos. La metodología se ha',\n",
       " 8: '95 Rev. esc.adm.neg. La metodología Lean startup : desarrollo y aplicación para el emprendimiento. Pp 79 - 95Artículos científicosJiménez Cano, R. (2017, septiembre 2). Cierra  Juicero, el inútil exprimidor de 700 dólares: la  Startup  que defraudó con tecnología innecesaria  despide a todos sus empleados. El País . Recuperado  de https://elpais.com/tecnologia/2017/09/01/ actualidad/1504295056_379023.html Levin, S. (2017). Squeezed out: Widely mocked Startup  Juicero is shutting down. Recuperado de https:// www.theguardian.com/technology/2017/sep/01/ juicero-silicon-valley-shutting-down Macías Rodríguez, M. (2017). El camino para innovar:  cómo pasar de la idea al modelo de negocio creando valor  para tus clientes.  Barcelona: Deusto. Maurya, A., Ries, E. y Marqués, M. (2014). Running  Lean: cómo iterar de un plan A a un plan que funcione .  España: Universidad Internacional de La Rioja. McClure. D. (2010). Startup metrics for pirates .  Recuperado de https://es.slideshare.net/ dmc500hats/ Startup -metrics-for-pirates-long- version Megias, J. (2013, mayo 28). Validation Board, una  herramienta para gestionar tus hipótesis  [Entrada  blog]. Recuperado de http://javiermegias.com/ blog/2013/05/validation-board-herramienta- validar-hipotesis-pivotar/Osterwalder, A. y Pigneur, Y. (2011). Generación de  modelos de negocio . Barcelona: Planeta. Ries, E. (20093). Minimum Viable Product: A guide .  Recuperado de http://www. Startup lessonslearned. com/2009/08/minimum-viable-product-guide. html Ries, E. (2012). El método Lean Startup . Barcelona:  Deusto. Rodríguez, A. (2017). Juicero: de 100 a 0 en cuestión  de segundos.  Recuperado de https://hipertextual. com/2017/09/origen-caida-juicero Rogers, E. (2003). Diffusion of innovations.  New York:  Free Press. Womack, J. P ., Jones, D. T . y Roos, D. (1993).  La máquina  que cambió el mundo . Madrid: McGraw-Hill. Xavier, J. (2012, septiembre 21). 75\\xa0 % of Startups  fail, but it’s no biggie . Recuperado de https://www. --- J. (2012, septiembre 21). 75\\xa0 % of Startups  fail, but it’s no biggie . Recuperado de https://www. bizjournals.com/sanjose/blog/2012/09/most- Startup s-fail-says-harvard.html'}"
      ]
     },
     "execution_count": 20,
     "metadata": {},
     "output_type": "execute_result"
    }
   ],
   "source": [
    "def format_cluster_texts(df):\n",
    "    clustered_texts = {}\n",
    "    for cluster in df['Cluster'].unique():\n",
    "        cluster_texts = df[df['Cluster'] == cluster]['Texto'].tolist()\n",
    "        clustered_texts[cluster] = \" --- \".join(cluster_texts)\n",
    "    return clustered_texts\n",
    "\n",
    "clustered_texts = format_cluster_texts(df)\n",
    "clustered_texts"
   ]
  },
  {
   "cell_type": "code",
   "execution_count": 21,
   "metadata": {},
   "outputs": [],
   "source": [
    "template = \"\"\"Eres un revisor bibliográfico profesional encargado de crear resúmenes extremadamente detallados del texto proporcionado.\n",
    "\n",
    "Texto:\n",
    "{text}\n",
    "\"\"\"\n",
    "\n",
    "prompt = PromptTemplate.from_template(template)\n",
    "chain = prompt | detailed_turbo_llm | StrOutputParser()"
   ]
  },
  {
   "cell_type": "code",
   "execution_count": 22,
   "metadata": {},
   "outputs": [
    {
     "data": {
      "text/plain": [
       "{15: 'El artículo \"La metodología Lean Startup: desarrollo y aplicación para el emprendimiento\" presenta una exposición detallada sobre la aplicación de la metodología Lean Startup en el ámbito emprendedor. Esta metodología, que ha ganado popularidad en el mundo empresarial, permite implementar negocios de manera eficiente, evitando el desperdicio de tiempo, recursos y esfuerzos innecesarios.\\n\\nAntes de crear una empresa, la metodología propone lanzar una Startup como un experimento para buscar un modelo de negocio rentable. El principal objetivo de la metodología Lean Startup es lograr un aprendizaje validado, basado en hipótesis que se validan a través de un producto. Se destaca la importancia de crear un producto que los clientes necesiten y estén dispuestos a pagar, utilizando la menor cantidad de recursos posible.\\n\\nEl artículo también aborda el tema del riesgo en el emprendimiento, señalando que el 75% de las Startups fracasan. Se menciona la importancia de seguir un proceso correcto para diseñar el éxito de una Startup, en lugar de depender únicamente de estar en el lugar correcto en el momento adecuado. Se destaca el caso de la Startup Juicero como ejemplo de un fracaso empresarial debido a la falta de validación de las necesidades de los clientes antes de lanzar el producto al mercado.\\n\\nEn resumen, el artículo ofrece una visión detallada de la metodología Lean Startup y su aplicación en el emprendimiento, destacando la importancia de validar las hipótesis y las necesidades de los clientes antes de invertir recursos en el desarrollo de un producto o servicio.',\n",
       " 20: 'El texto aborda la importancia del aprendizaje empírico en el emprendimiento, destacando la validación de hipótesis a través de un producto con características mínimas. Se enfatiza en la necesidad de proporcionar al emprendedor los datos necesarios para descubrir un modelo de negocio viable y dar el salto a la empresa, reduciendo el miedo al fracaso que puede impedir la materialización de ideas en negocios. Se mencionan palabras clave como emprendimiento, startup, modelo de negocio, Lean Startup, metodologías ágiles, Producto Mínimo Viable (PMV), pivotar e iterar. El texto fue publicado en la Revista de Escuela de Administración y Negocios, en el número 84 correspondiente a enero-junio de 2018, en las páginas 79-95.',\n",
       " 5: 'El texto proporcionado explora la metodología Lean Startup y su aplicación en el desarrollo del emprendimiento. Se destaca que esta metodología es cada vez más utilizada en entornos empresariales, ya que permite implementar negocios de manera eficiente, evitando el desperdicio de tiempo, recursos y esfuerzos. La Lean Startup propone lanzar una Startup como paso previo a la creación de una empresa, lo cual se considera un experimento que permite a los emprendedores encontrar un modelo de negocio rentable antes de iniciar una empresa formal.\\n\\nUno de los principales beneficios de la metodología Lean Startup es la obtención de un aprendizaje validado. Este proceso de aprendizaje empírico se basa en hipótesis validadas a través de un producto con características mínimas, proporcionando al emprendedor los datos necesarios para descubrir un modelo de negocio rentable y comenzar la empresa, reduciendo el miedo al fracaso que a menudo detiene a los emprendedores en el proceso de convertir sus ideas en negocios reales.\\n\\nEn resumen, la metodología Lean Startup se enfoca en la experimentación, la validación de hipótesis y la iteración continua para desarrollar un modelo de negocio viable. Esta metodología ágil se centra en la creación de un Producto Mínimo Viable (PMV) y en la capacidad de pivotar y iterar según los resultados obtenidos. Las palabras clave incluyen emprendimiento, startup, modelo de negocio, Lean Startup, Producto Mínimo Viable (PMV), pivotar e iterar.',\n",
       " 10: 'El texto presenta la historia de Juicero, una empresa que creó un exprimidor de zumo innovador con tecnología avanzada, pero que no logró captar el interés de los clientes a pesar de su alto precio de USD 700. Los inversores de Silicon Valley financiaron la empresa con USD 120 millones, pero a pesar de la ingeniería avanzada del producto, este fue considerado inútil por algunos medios.\\n\\nSe menciona también la experiencia de Eric Ries, quien desarrolló la metodología Lean Startup después de fracasar en el mercado con productos en los que había invertido mucho tiempo y dinero. La metodología Lean Startup se basa en un circuito de tres pasos: crear un producto, medir los resultados y aprender de ellos, todo en el menor tiempo posible y con la mínima inversión.\\n\\nEn resumen, el texto aborda la importancia de la innovación, la adaptación al mercado y la eficiencia en el desarrollo de productos en el contexto del emprendimiento sostenible.',\n",
       " 19: 'El texto proporcionado es un fragmento del libro \"Lean Startup: desarrollo y aplicación para el emprendimiento\" de Ries (2012). En el fragmento se menciona la ausencia de gráficas y la presencia de tablas. Se hace referencia a diferentes códigos o referencias que parecen ser parte de un sistema de organización o clasificación. También se mencionan diferentes elementos como números y letras que podrían estar relacionados con la estructura del texto original.',\n",
       " 11: 'La metodología Lean startup se enfoca en el desarrollo y aplicación para el emprendimiento, proponiendo un enfoque ágil para lanzar negocios a través de un circuito de construir, medir y aprender. Al lanzar una startup, es importante crear un producto viable mínimo (PMV) con funcionalidades mínimas para recoger aprendizajes validados sobre los clientes. El mayor reto es medir cómo responden los consumidores y tomar decisiones basadas en esos datos. El proceso Lean Startup permite aprender si el negocio es viable, perseverar o pivotar, es decir, reajustar las ideas que no funcionan. Se busca validar hipótesis y suposiciones a través de experimentos con el PMV, que permite saber si la idea tiene aceptación en el mercado con poca inversión. La metodología Lean Startup se enfoca en aprender en poco tiempo con mínimos recursos, dirigida a la puesta en marcha de ideas innovadoras a través de Startups como instituciones humanas diseñadas para crear nuevos productos o servicios en condiciones de incertidumbre extrema. El objetivo de las Startups es averiguar qué debe producirse según las necesidades de los consumidores.',\n",
       " 22: 'El texto aborda el concepto de Startup y la metodología Lean Startup, destacando la importancia de averiguar qué productos deben producirse para satisfacer las necesidades de los consumidores y generar ingresos rápidamente. Se menciona que una Startup es un experimento en el que la pregunta clave es si debería crearse un producto en lugar de si es posible crearlo. Steve Blank define una Startup como una organización temporal en busca de un modelo de negocio rentable y escalable, que al principio cuenta con pocas ideas y suposiciones sobre sus clientes. Se destaca que las Startups comienzan con hipótesis erróneas, lo que puede llevar al fracaso si no se validan adecuadamente. Ash Maurya, en su libro \"Running Lean\", describe las tres fases por las que atraviesa una Startup.',\n",
       " 1: 'El texto proporcionado aborda el tema del emprendimiento sostenible y la metodología Lean Startup. Se presentan las fases por las que atraviesa una Startup, haciendo referencia a la adaptación de Maurya (2014). Se menciona la importancia del clima organizacional en el emprendimiento sostenible y se detalla el método Lean Startup, su desarrollo y aplicación en el emprendimiento. Se incluyen figuras que muestran la secuencia en el planteamiento de negocio y se mencionan las etapas de búsqueda, ejecución, validación de clientes, creación de clientes y creación de empresas. También se hace referencia a la importancia de perseverar o pivotar en el proceso emprendedor, así como a la iteración, pivoteo, idea, hipótesis, Producto Mínimo Viable (PMV) y medición en el desarrollo de una Startup.',\n",
       " 12: 'El texto proporcionado se centra en la metodología Lean Startup, la cual se divide en tres fases principales: ajuste problema/solución, ajuste producto/mercado y escala. La fase 1 consiste en determinar si realmente existe un problema que valga la pena solucionar antes de invertir tiempo y esfuerzo en desarrollar una solución, a través de preguntas como si el cliente está interesado en el producto y si estaría dispuesto a pagarlo. La fase 2 se enfoca en verificar si se logra tracción, es decir, si la gente demanda el producto. Por último, la fase 3 se centra en acelerar el crecimiento.\\n\\nAdemás, se mencionan antecedentes que fundamentan la metodología Lean Startup, como el trabajo de Ries (2012) quien registró la marca Lean Startup y se dio cuenta de que muchos productos fracasan por no pivotar adecuadamente. También se citan otros autores como Blank (2013, 2014), Cooper y Vlaskovits (2014), Croll y Yoskovitz (2014), entre otros, que han contribuido al desarrollo de esta metodología.\\n\\nEn resumen, el texto proporciona una visión detallada de la metodología Lean Startup, sus fases y antecedentes que la respaldan, así como la importancia de pivotar adecuadamente para el éxito de un producto.',\n",
       " 7: 'El texto discute la importancia de aplicar metodologías innovadoras en el emprendimiento para aumentar las posibilidades de éxito. Se mencionan tres metodologías clave: Lean Manufacturing, desarrollo ágil y desarrollo de clientes. Se destaca la importancia de la metodología Lean Startup, que se basa en validar hipótesis, crear un producto mínimo viable y tomar decisiones basadas en métricas. Se ejemplifica con un caso de un emprendedor que fracasó al no validar las necesidades de sus clientes antes de lanzar su producto. Se enfatiza que la metodología Lean Startup ofrece una oportunidad para abordar negocios innovadores de manera más efectiva y minimizar la incertidumbre y el riesgo asociados con el emprendimiento.',\n",
       " 16: 'El texto proporciona una visión detallada sobre la metodología Lean startup y su aplicación en el emprendimiento. Se destaca la incorporación de las metodologías de desarrollo ágil en la metodología Lean Startup, donde se utilizan métodos adaptativos en contraposición a los métodos clásicos predictivos. Estos métodos ágiles permiten desarrollar proyectos en unidades de tiempo llamadas iteraciones, donde se entrega un ciclo de desarrollo del producto que va añadiendo funcionalidades de forma continua.\\n\\nAdemás, se menciona la importancia del desarrollo de clientes, donde se critica la forma tradicional de crear empresas centradas en el desarrollo del producto. En su lugar, se propone centrar el enfoque en el cliente, estableciendo hipótesis que deben validarse a través del contacto directo con ellos. Este enfoque busca evitar el fracaso de las Startups al no tener en cuenta las necesidades y preferencias de los clientes desde el inicio del proceso de emprendimiento.',\n",
       " 9: 'El texto proporciona información sobre la importancia de validar las hipótesis en una startup a través del contacto directo con los clientes. Se destaca la necesidad de verificar si el cliente realmente tiene una necesidad y está dispuesto a pagar por ella, así como la importancia de crear un producto mínimo viable para comprobar si existe una demanda real por parte de los clientes. Posteriormente, se menciona la transición de una startup enfocada en el aprendizaje hacia una compañía centrada en la ejecución del negocio una vez que se ha validado la viabilidad del producto. La figura 4 muestra la fase de desarrollo de clientes en este proceso.',\n",
       " 21: 'El texto proporcionado se centra en el proceso de creación y validación de empresas a través de la perseverancia o la capacidad de pivotar en función de los resultados obtenidos. Se menciona la importancia de la búsqueda, ejecución y validación de clientes, así como la creación de empresas y clientes. Se hace referencia a la necesidad de probar hipótesis, iterar y pivotar en caso de que sea necesario. Se destaca la importancia de la validación de hipótesis y la creación de un Producto Mínimo Viable (PMV) para medir el éxito de la empresa. Se menciona la fuente del texto como Blank y Dorf (2013).',\n",
       " 23: 'En el texto se presenta la metodología Lean Startup, la cual se basa en tres pilares esenciales: crear valor para el cliente, desarrollar el producto desde la óptica del cliente y desarrollar el producto de forma ágil y flexible. El circuito crear-medir-aprender es el núcleo central de esta metodología, donde una startup crea productos, mide resultados y aprende de ellos de forma iterativa. Se inicia con la formulación de hipótesis sobre la viabilidad de la idea de negocio, las cuales se comprueban a través de un Producto Mínimo Viable (PMV) y se ajustan según los resultados obtenidos. Si los datos sugieren persistir, se continúa con la creación de versiones incrementales del producto; si no, se realiza un pivote para reestructurar el modelo de negocio. El objetivo principal es aprender y validar la oferta a través de la experiencia del cliente.',\n",
       " 17: 'El texto proporciona información sobre la importancia de aplicar la metodología de Lean Startup para validar la experiencia del cliente y obtener un aprendizaje validado en el proceso de creación de una Startup. Se destaca la necesidad de conocer qué elementos de la estrategia funcionan y qué es lo que quiere el consumidor, con el fin de medir el progreso de la empresa y determinar si el modelo de negocio es viable, rentable y escalable.\\n\\nLa metodología se desglosa en una secuencia recomendable para poner en marcha un negocio, que incluye la validación de hipótesis, la creación de un producto mínimo viable, el establecimiento de métricas para medir el rendimiento esperado y la decisión de pivotar o perseverar en base al aprendizaje obtenido a través de iteraciones.\\n\\nSe menciona el caso de Doug Evans, fundador de Juicero, como ejemplo de la importancia de seguir esta metodología para evitar desperdiciar recursos y lograr un modelo de negocio que funcione.',\n",
       " 3: ' características posibles, ya que esto implicaría  un gran esfuerzo y recursos. Por lo tanto, es  importante crear un PMV que permita validar  las hipótesis clave y aprender lo más rápido  posible. Una vez que se ha validado el PMV y se ha  obtenido retroalimentación de los clientes,  los emprendedores pueden pivotar o iterar en  su idea. Pivotar significa cambiar de dirección  en función de lo aprendido, mientras que  iterar implica realizar pequeños ajustes en  la idea original. Ambas estrategias son  fundamentales para el éxito de una Startup,  ya que permiten adaptarse a las necesidades  del mercado y mejorar continuamente el  producto. En resumen, la validación de hipótesis a  través de un PMV es un paso crucial en el  proceso de emprendimiento. Permite a los  emprendedores probar sus suposiciones,  aprender de los clientes y ajustar su producto  de manera eficiente. Además, pivotar o iterar  en la idea original es esencial para adaptarse  al mercado y mejorar constantemente.',\n",
       " 14: 'El texto proporcionado es un modelo de lienzo de Osterwalder que aborda diferentes aspectos relacionados con el modelo de negocio de una empresa. Se plantean preguntas clave en las áreas de Adquisición, Activación, Retención, Ingresos y Referencias, con el objetivo de analizar cómo se encuentran los usuarios, si tienen una buena primera experiencia, si vuelven, cómo se gana dinero y si recomiendan la empresa.\\n\\nEn cuanto a la Activación, se plantean cuestiones sobre los socios clave, los suministradores clave, los recursos clave adquiridos de los socios, las actividades clave realizadas por los socios, las motivaciones para los socios, la optimización y la economía, la reducción de riesgo e incertidumbre, y la adquisición de recursos y actividades particulares.\\n\\nEn Retención, se abordan aspectos como las actividades clave requeridas para la propuesta de valor, los canales de distribución, las relaciones con los clientes, las fuentes de ingresos, las categorías de producción, la resolución de problemas y la plataforma/red.\\n\\nEn Ingresos, se plantean preguntas sobre los recursos clave necesarios para la propuesta de valor, los canales de distribución, las relaciones con los clientes, las fuentes de ingresos, los tipos de recursos (físicos, intelectuales, humanos, financieros), los costes más importantes inherentes al modelo de negocio, los recursos clave más caros, las actividades clave más caras, y si el negocio es más basado en coste o en valor.\\n\\nEn Referencias, se abordan temas como los tipos de venta (activos, pago por uso, cuota de suscripción, préstamo/alquiler/leasing, licencias, tasas de intermediación, publicidad), los precios fijos, los precios dinámicos, la negociación, la gestión de rendimientos, el mercado en tiempo real, el valor por el que los clientes están dispuestos a pagar, cómo están pagando actualmente, cómo preferirían pagar, y cuánto contribuyen cada fuente de ingresos a los ingresos totales.\\n\\nEn resumen, el modelo de lienzo de Osterwalder proporciona un marco detallado para analizar y mejorar el modelo de negocio de una empresa, abordando aspectos clave en las áreas de Adquisición, Activación, Retención, Ingresos y Referencias.',\n",
       " 0: 'El texto proporcionado se centra en la importancia de identificar las actividades clave realizadas por los socios en un negocio, así como las motivaciones que los impulsan a colaborar. Se menciona la optimización y economía, la reducción de riesgo e incertidumbre, y la adquisición de recursos y actividades particulares como aspectos clave en esta colaboración.\\n\\nAdemás, se plantea la importancia de identificar las actividades clave requeridas para la propuesta de valor, los canales de distribución, las relaciones con los clientes y las fuentes de ingresos. Se mencionan categorías como producción, resolución de problemas y plataforma/red.\\n\\nSe hace hincapié en los recursos clave necesarios para la propuesta de valor, los canales de distribución, las relaciones con los clientes y las fuentes de ingresos, dividiéndolos en tipos como físicos, intelectuales (patentes, marcas, copyrights, datos), humanos y financieros.\\n\\nSe plantea la importancia de identificar los costes más importantes inherentes al modelo de negocio, así como los recursos clave y actividades clave más costosas. Se mencionan dos enfoques de negocio: basado en coste y basado en valor, con características específicas para cada uno.\\n\\nSe exploran diferentes tipos de ingresos, como la venta de activos, el pago por uso, las cuotas de suscripción, los préstamos/alquileres/leasing, las licencias, las tasas de intermediación y la publicidad. Se plantea la importancia de identificar por qué valor están dispuestos a pagar los clientes, cómo están pagando actualmente y cómo preferirían hacerlo.\\n\\nFinalmente, se aborda la importancia de identificar el valor entregado al cliente, los problemas que se ayudará a resolver, los paquetes de productos y servicios ofrecidos a cada segmento de cliente, y las necesidades que se están satisfaciendo. Se mencionan características como novedad y rendimiento como aspectos a considerar en la propuesta de valor.',\n",
       " 18: 'El texto proporcionado se centra en la importancia de entender las necesidades y expectativas de los clientes para crear valor en un negocio. Se mencionan diferentes aspectos a considerar, como la novedad, rendimiento, personalización, diseño, marca, precio, reducción de costes, reducción de riesgos, accesibilidad, conveniencia, usabilidad, entre otros.\\n\\nSe plantea la importancia de establecer relaciones con los diferentes segmentos de clientes, ofreciendo diferentes tipos de servicios como asistencia personalizada, autoservicio, servicios automatizados, entre otros. También se menciona la importancia de identificar los canales de comunicación más efectivos para contactar a los clientes y cómo integrarlos con las rutinas de los clientes.\\n\\nAdemás, se mencionan las fases del canal de venta, desde la conciencia sobre los productos y servicios de la empresa, hasta la postventa y el soporte al cliente. Se destaca la importancia de evaluar constantemente la propuesta de valor de la organización y adaptarse a las necesidades y expectativas de los clientes.\\n\\nEn resumen, el texto destaca la importancia de entender a los clientes, crear valor para ellos y adaptarse constantemente para satisfacer sus necesidades y expectativas.',\n",
       " 6: 'El texto aborda la metodología Lean startup y su aplicación en el emprendimiento. Se destaca la importancia de enfocarse en un grupo pequeño de clientes visionarios, early adopters o pioneros, que están dispuestos a adoptar el producto en sus fases iniciales. Se menciona la construcción de un Producto Mínimo Viable (PMV) como una forma de validar la viabilidad del producto antes de su lanzamiento al mercado.\\n\\nSe hace referencia a la importancia de realizar experimentos de viabilidad para validar los aspectos del modelo de negocio, como la prueba de la landing page, la prueba del conserje, la creación de prototipos, la prueba del crowdfunding y la prueba del Mago de Oz. Se destaca la importancia de conocer la viabilidad antes de construir el producto, ilustrando con el ejemplo de abrir un restaurante y comprobar si a la gente le gusta ese tipo de comida antes de lanzarlo al mercado.\\n\\nSe menciona el caso de Zappos como ejemplo de una empresa que utilizó la técnica de la prueba del Mago de Oz para validar su producto antes de lanzarlo online. En resumen, se destaca la importancia de realizar experimentos y pruebas para validar la viabilidad de un producto antes de su lanzamiento al mercado.',\n",
       " 25: 'El texto describe ejemplos de empresas que han utilizado la técnica de lanzar productos online para tener éxito en el mercado. Se menciona el caso de Zappos, que comenzó como una tienda online de calzado a partir de la idea de Nick Swinmurn. Swinmurn se acercó a tiendas locales de calzado, tomó fotos de los productos y los ofreció en una página web simple, comprando los productos en las tiendas locales y enviándolos a los clientes que los solicitaban. Con el tiempo, Zappos se convirtió en un portal de comercio electrónico exitoso que fue adquirido por Amazon por una gran cantidad de dinero.\\n\\nAdemás, se menciona el caso de Exovite, una startup que utilizó la impresión 3D para diseñar una férula de plástico como producto mínimo viable para reemplazar la escayola tradicional. Después de probarlo en pacientes con la ayuda de médicos expertos, Exovite se convirtió en una empresa especializada en sistemas de rehabilitación en lugar de una startup. Estos ejemplos ilustran cómo la innovación y la tecnología pueden transformar una idea inicial en un negocio exitoso en el mercado.',\n",
       " 13: 'El texto aborda la importancia de la contabilidad en las empresas, especialmente en las startups, donde el objetivo principal es demostrar que se está aprendiendo a construir un negocio sostenible. Se menciona la contabilidad de la innovación, que se basa en tres etapas: usar un producto mínimo viable para recopilar datos reales, hacer cambios y optimizaciones en el producto, y tomar la decisión de perseverar o pivotar. \\n\\nSe destaca la necesidad de medir el progreso y el aprendizaje en la empresa, utilizando métricas específicas para cada modelo de negocio y tipo de producto. Se menciona el embudo de conversión y las métricas piratas, que ayudan a seguir la ruta que sigue el cliente hasta generar ingresos para la startup. \\n\\nSe enfatiza la importancia de medir las métricas adecuadas en cada etapa del negocio, ya que estas son fundamentales para la toma de decisiones. Se menciona la importancia de elegir una métrica clave en cada momento, denominada \"UMVI, la única métrica que verdaderamente importa\", que ayudará a encontrar el producto correcto y el hueco de mercado antes de que se acabe el dinero. \\n\\nFinalmente, se discute la importancia de pivotar o perseverar en el negocio, tomando en cuenta todos los elementos desarrollados hasta el momento dentro de la metodología Lean Startup.',\n",
       " 4: 'El embudo de conversión, también conocido como AARRR, se compone de cinco bloques: adquisición, activación, retención, referencias y ingresos. Cada uno de estos bloques representa una etapa importante en el proceso de fidelización de clientes. La adquisición se refiere a cómo los usuarios encuentran el producto o servicio, la activación se centra en la primera experiencia del usuario, la retención en si los usuarios regresan, las referencias en si recomiendan el producto y los ingresos en cómo se genera dinero. \\n\\nEs crucial entender por qué los clientes son fieles o por qué deciden abandonar. La métrica de referencia indica el número de clientes que llegan por recomendación o viralidad, lo cual puede influir en el costo de adquisición de clientes. En resumen, el embudo de conversión es una herramienta fundamental para comprender y mejorar la relación con los clientes, identificando áreas de oportunidad en cada etapa del proceso.',\n",
       " 24: 'El artículo \"La metodología Lean startup: desarrollo y aplicación para el emprendimiento\" aborda la importancia del empleo de métricas piratas en el análisis cuantitativo de un modelo de negocio comúnmente aceptado por la mayoría de Startups. El autor, Vicent Esteve, destaca que las métricas piratas son fundamentales para vincular el modelo de generación de ingresos con la inversión en captación de clientes, una de las partes más importantes de la estructura de costes de las Startups.\\n\\nEn términos prácticos, el embudo de las métricas piratas, basado en McClure (2010), sigue una secuencia que incluye la adquisición, la activación, la retención y la referencia. La adquisición se refiere a cómo el cliente o usuario conoce la oferta del negocio, identificando los canales de adquisición y los costes asociados. La activación consiste en convertir a un potencial interesado en un cliente potencial, midiendo el porcentaje de potenciales interesados que realizan la acción necesaria para convertirse en cliente. La retención, o engagement, se refiere a la fidelidad del cliente y su propensión a volver a contactar con la empresa. Por último, la referencia se centra en la recomendación del cliente y su impacto en la adquisición de nuevos clientes.\\n\\nEn resumen, el uso de métricas piratas es fundamental para el éxito de las Startups, ya que permiten analizar de manera cuantitativa el desempeño del negocio y su relación con la captación y retención de clientes.',\n",
       " 2: 'El texto discute la importancia del pivote en el emprendimiento, que se refiere a un cambio estructurado diseñado para probar una nueva hipótesis básica sobre el producto, la estrategia y el motor de crecimiento. Se menciona que un pivote implica mantener un pie anclado en lo aprendido hasta el momento mientras se realiza un cambio fundamental en la estrategia para buscar un mayor aprendizaje validado. Se destaca que un pivote no solo implica cambiar un producto, sino que puede significar una modificación significativa en cualquier componente del modelo de negocio.\\n\\nSe plantea que el pivote surge como consecuencia de un aprendizaje en el que el emprendedor se da cuenta de la necesidad de darle un nuevo giro a su negocio para evitar estancarse o consumir recursos sin crecimiento. Se menciona que es crucial identificar las hipótesis y realizar experimentos para validarlas o invalidarlas a tiempo, evitando así la pérdida de tiempo y dinero.\\n\\nSe destaca la importancia de ser productivo y replantear lo que se ha estado haciendo en el negocio para encontrar una dirección más positiva. Se menciona que el pivote responde a la necesidad de aprender a tiempo y sin abandonar el negocio, manteniendo un pie anclado y sabiendo darle otra orientación cuando sea necesario.\\n\\nEn conclusión, se afirma que la metodología Lean Startup propone el lanzamiento de negocios desde un aprendizaje validado a través de un circuito. Se inicia con la concepción experimental de un producto o servicio, midiendo su encaje en el mercado y la aceptación por parte de los clientes para obtener un aprendizaje que permita seguir desarrollando el producto de forma iterativa. Se destaca la importancia de persistir en el incremento de funcionalidades o realizar cambios y pivotes para lograr un modelo de negocio viable sin desperdiciar recursos.',\n",
       " 8: 'El texto proporcionado aborda la metodología Lean startup y su aplicación en el emprendimiento. Se mencionan varios artículos científicos y recursos relacionados con el tema, como el cierre de la startup Juicero, la importancia de innovar y crear valor para los clientes, herramientas como el Validation Board para gestionar hipótesis, la generación de modelos de negocio, el concepto de Minimum Viable Product, el método Lean Startup, y la difusión de innovaciones.\\n\\nSe destacan autores como Ries, Maurya, Osterwalder, y Rogers, así como referencias a libros como \"Running Lean\" y \"Generación de modelos de negocio\". También se mencionan casos de fracaso en startups, como el de Juicero, y se aborda la tasa de fracaso en las startups.\\n\\nEn resumen, el texto proporciona una visión amplia y detallada sobre la metodología Lean startup y su aplicación en el emprendimiento, incluyendo casos prácticos, herramientas y recursos útiles para los emprendedores.'}"
      ]
     },
     "execution_count": 22,
     "metadata": {},
     "output_type": "execute_result"
    }
   ],
   "source": [
    "summaries = {}\n",
    "for cluster, text in clustered_texts.items():\n",
    "    summary = chain.invoke({\"text\": text})\n",
    "    summaries[cluster] = summary\n",
    "\n",
    "summaries"
   ]
  },
  {
   "cell_type": "code",
   "execution_count": 23,
   "metadata": {},
   "outputs": [],
   "source": [
    "embedded_summaries = [embeddings.embed_query(summary) for summary in summaries.values()]\n",
    "\n",
    "embedded_summaries_np = np.array(embedded_summaries)\n",
    "\n",
    "labels, _ = gmm_clustering(embedded_summaries_np, threshold=0.5)\n",
    "\n",
    "simple_labels = [label[0] if len(label) > 0 else -1 for label in labels]"
   ]
  },
  {
   "cell_type": "code",
   "execution_count": 24,
   "metadata": {},
   "outputs": [
    {
     "data": {
      "text/plain": [
       "{0: ['El artículo \"La metodología Lean Startup: desarrollo y aplicación para el emprendimiento\" presenta una exposición detallada sobre la aplicación de la metodología Lean Startup en el ámbito emprendedor. Esta metodología, que ha ganado popularidad en el mundo empresarial, permite implementar negocios de manera eficiente, evitando el desperdicio de tiempo, recursos y esfuerzos innecesarios.\\n\\nAntes de crear una empresa, la metodología propone lanzar una Startup como un experimento para buscar un modelo de negocio rentable. El principal objetivo de la metodología Lean Startup es lograr un aprendizaje validado, basado en hipótesis que se validan a través de un producto. Se destaca la importancia de crear un producto que los clientes necesiten y estén dispuestos a pagar, utilizando la menor cantidad de recursos posible.\\n\\nEl artículo también aborda el tema del riesgo en el emprendimiento, señalando que el 75% de las Startups fracasan. Se menciona la importancia de seguir un proceso correcto para diseñar el éxito de una Startup, en lugar de depender únicamente de estar en el lugar correcto en el momento adecuado. Se destaca el caso de la Startup Juicero como ejemplo de un fracaso empresarial debido a la falta de validación de las necesidades de los clientes antes de lanzar el producto al mercado.\\n\\nEn resumen, el artículo ofrece una visión detallada de la metodología Lean Startup y su aplicación en el emprendimiento, destacando la importancia de validar las hipótesis y las necesidades de los clientes antes de invertir recursos en el desarrollo de un producto o servicio.',\n",
       "  'El texto aborda la importancia del aprendizaje empírico en el emprendimiento, destacando la validación de hipótesis a través de un producto con características mínimas. Se enfatiza en la necesidad de proporcionar al emprendedor los datos necesarios para descubrir un modelo de negocio viable y dar el salto a la empresa, reduciendo el miedo al fracaso que puede impedir la materialización de ideas en negocios. Se mencionan palabras clave como emprendimiento, startup, modelo de negocio, Lean Startup, metodologías ágiles, Producto Mínimo Viable (PMV), pivotar e iterar. El texto fue publicado en la Revista de Escuela de Administración y Negocios, en el número 84 correspondiente a enero-junio de 2018, en las páginas 79-95.',\n",
       "  'El texto proporcionado explora la metodología Lean Startup y su aplicación en el desarrollo del emprendimiento. Se destaca que esta metodología es cada vez más utilizada en entornos empresariales, ya que permite implementar negocios de manera eficiente, evitando el desperdicio de tiempo, recursos y esfuerzos. La Lean Startup propone lanzar una Startup como paso previo a la creación de una empresa, lo cual se considera un experimento que permite a los emprendedores encontrar un modelo de negocio rentable antes de iniciar una empresa formal.\\n\\nUno de los principales beneficios de la metodología Lean Startup es la obtención de un aprendizaje validado. Este proceso de aprendizaje empírico se basa en hipótesis validadas a través de un producto con características mínimas, proporcionando al emprendedor los datos necesarios para descubrir un modelo de negocio rentable y comenzar la empresa, reduciendo el miedo al fracaso que a menudo detiene a los emprendedores en el proceso de convertir sus ideas en negocios reales.\\n\\nEn resumen, la metodología Lean Startup se enfoca en la experimentación, la validación de hipótesis y la iteración continua para desarrollar un modelo de negocio viable. Esta metodología ágil se centra en la creación de un Producto Mínimo Viable (PMV) y en la capacidad de pivotar y iterar según los resultados obtenidos. Las palabras clave incluyen emprendimiento, startup, modelo de negocio, Lean Startup, Producto Mínimo Viable (PMV), pivotar e iterar.',\n",
       "  'El texto presenta la historia de Juicero, una empresa que creó un exprimidor de zumo innovador con tecnología avanzada, pero que no logró captar el interés de los clientes a pesar de su alto precio de USD 700. Los inversores de Silicon Valley financiaron la empresa con USD 120 millones, pero a pesar de la ingeniería avanzada del producto, este fue considerado inútil por algunos medios.\\n\\nSe menciona también la experiencia de Eric Ries, quien desarrolló la metodología Lean Startup después de fracasar en el mercado con productos en los que había invertido mucho tiempo y dinero. La metodología Lean Startup se basa en un circuito de tres pasos: crear un producto, medir los resultados y aprender de ellos, todo en el menor tiempo posible y con la mínima inversión.\\n\\nEn resumen, el texto aborda la importancia de la innovación, la adaptación al mercado y la eficiencia en el desarrollo de productos en el contexto del emprendimiento sostenible.',\n",
       "  'El texto proporcionado es un fragmento del libro \"Lean Startup: desarrollo y aplicación para el emprendimiento\" de Ries (2012). En el fragmento se menciona la ausencia de gráficas y la presencia de tablas. Se hace referencia a diferentes códigos o referencias que parecen ser parte de un sistema de organización o clasificación. También se mencionan diferentes elementos como números y letras que podrían estar relacionados con la estructura del texto original.',\n",
       "  'La metodología Lean startup se enfoca en el desarrollo y aplicación para el emprendimiento, proponiendo un enfoque ágil para lanzar negocios a través de un circuito de construir, medir y aprender. Al lanzar una startup, es importante crear un producto viable mínimo (PMV) con funcionalidades mínimas para recoger aprendizajes validados sobre los clientes. El mayor reto es medir cómo responden los consumidores y tomar decisiones basadas en esos datos. El proceso Lean Startup permite aprender si el negocio es viable, perseverar o pivotar, es decir, reajustar las ideas que no funcionan. Se busca validar hipótesis y suposiciones a través de experimentos con el PMV, que permite saber si la idea tiene aceptación en el mercado con poca inversión. La metodología Lean Startup se enfoca en aprender en poco tiempo con mínimos recursos, dirigida a la puesta en marcha de ideas innovadoras a través de Startups como instituciones humanas diseñadas para crear nuevos productos o servicios en condiciones de incertidumbre extrema. El objetivo de las Startups es averiguar qué debe producirse según las necesidades de los consumidores.',\n",
       "  'El texto aborda el concepto de Startup y la metodología Lean Startup, destacando la importancia de averiguar qué productos deben producirse para satisfacer las necesidades de los consumidores y generar ingresos rápidamente. Se menciona que una Startup es un experimento en el que la pregunta clave es si debería crearse un producto en lugar de si es posible crearlo. Steve Blank define una Startup como una organización temporal en busca de un modelo de negocio rentable y escalable, que al principio cuenta con pocas ideas y suposiciones sobre sus clientes. Se destaca que las Startups comienzan con hipótesis erróneas, lo que puede llevar al fracaso si no se validan adecuadamente. Ash Maurya, en su libro \"Running Lean\", describe las tres fases por las que atraviesa una Startup.',\n",
       "  'El texto proporcionado aborda el tema del emprendimiento sostenible y la metodología Lean Startup. Se presentan las fases por las que atraviesa una Startup, haciendo referencia a la adaptación de Maurya (2014). Se menciona la importancia del clima organizacional en el emprendimiento sostenible y se detalla el método Lean Startup, su desarrollo y aplicación en el emprendimiento. Se incluyen figuras que muestran la secuencia en el planteamiento de negocio y se mencionan las etapas de búsqueda, ejecución, validación de clientes, creación de clientes y creación de empresas. También se hace referencia a la importancia de perseverar o pivotar en el proceso emprendedor, así como a la iteración, pivoteo, idea, hipótesis, Producto Mínimo Viable (PMV) y medición en el desarrollo de una Startup.',\n",
       "  'El texto proporcionado se centra en la metodología Lean Startup, la cual se divide en tres fases principales: ajuste problema/solución, ajuste producto/mercado y escala. La fase 1 consiste en determinar si realmente existe un problema que valga la pena solucionar antes de invertir tiempo y esfuerzo en desarrollar una solución, a través de preguntas como si el cliente está interesado en el producto y si estaría dispuesto a pagarlo. La fase 2 se enfoca en verificar si se logra tracción, es decir, si la gente demanda el producto. Por último, la fase 3 se centra en acelerar el crecimiento.\\n\\nAdemás, se mencionan antecedentes que fundamentan la metodología Lean Startup, como el trabajo de Ries (2012) quien registró la marca Lean Startup y se dio cuenta de que muchos productos fracasan por no pivotar adecuadamente. También se citan otros autores como Blank (2013, 2014), Cooper y Vlaskovits (2014), Croll y Yoskovitz (2014), entre otros, que han contribuido al desarrollo de esta metodología.\\n\\nEn resumen, el texto proporciona una visión detallada de la metodología Lean Startup, sus fases y antecedentes que la respaldan, así como la importancia de pivotar adecuadamente para el éxito de un producto.',\n",
       "  'El texto discute la importancia de aplicar metodologías innovadoras en el emprendimiento para aumentar las posibilidades de éxito. Se mencionan tres metodologías clave: Lean Manufacturing, desarrollo ágil y desarrollo de clientes. Se destaca la importancia de la metodología Lean Startup, que se basa en validar hipótesis, crear un producto mínimo viable y tomar decisiones basadas en métricas. Se ejemplifica con un caso de un emprendedor que fracasó al no validar las necesidades de sus clientes antes de lanzar su producto. Se enfatiza que la metodología Lean Startup ofrece una oportunidad para abordar negocios innovadores de manera más efectiva y minimizar la incertidumbre y el riesgo asociados con el emprendimiento.',\n",
       "  'El texto proporciona una visión detallada sobre la metodología Lean startup y su aplicación en el emprendimiento. Se destaca la incorporación de las metodologías de desarrollo ágil en la metodología Lean Startup, donde se utilizan métodos adaptativos en contraposición a los métodos clásicos predictivos. Estos métodos ágiles permiten desarrollar proyectos en unidades de tiempo llamadas iteraciones, donde se entrega un ciclo de desarrollo del producto que va añadiendo funcionalidades de forma continua.\\n\\nAdemás, se menciona la importancia del desarrollo de clientes, donde se critica la forma tradicional de crear empresas centradas en el desarrollo del producto. En su lugar, se propone centrar el enfoque en el cliente, estableciendo hipótesis que deben validarse a través del contacto directo con ellos. Este enfoque busca evitar el fracaso de las Startups al no tener en cuenta las necesidades y preferencias de los clientes desde el inicio del proceso de emprendimiento.',\n",
       "  'El texto proporciona información sobre la importancia de validar las hipótesis en una startup a través del contacto directo con los clientes. Se destaca la necesidad de verificar si el cliente realmente tiene una necesidad y está dispuesto a pagar por ella, así como la importancia de crear un producto mínimo viable para comprobar si existe una demanda real por parte de los clientes. Posteriormente, se menciona la transición de una startup enfocada en el aprendizaje hacia una compañía centrada en la ejecución del negocio una vez que se ha validado la viabilidad del producto. La figura 4 muestra la fase de desarrollo de clientes en este proceso.',\n",
       "  'El texto proporcionado se centra en el proceso de creación y validación de empresas a través de la perseverancia o la capacidad de pivotar en función de los resultados obtenidos. Se menciona la importancia de la búsqueda, ejecución y validación de clientes, así como la creación de empresas y clientes. Se hace referencia a la necesidad de probar hipótesis, iterar y pivotar en caso de que sea necesario. Se destaca la importancia de la validación de hipótesis y la creación de un Producto Mínimo Viable (PMV) para medir el éxito de la empresa. Se menciona la fuente del texto como Blank y Dorf (2013).',\n",
       "  'En el texto se presenta la metodología Lean Startup, la cual se basa en tres pilares esenciales: crear valor para el cliente, desarrollar el producto desde la óptica del cliente y desarrollar el producto de forma ágil y flexible. El circuito crear-medir-aprender es el núcleo central de esta metodología, donde una startup crea productos, mide resultados y aprende de ellos de forma iterativa. Se inicia con la formulación de hipótesis sobre la viabilidad de la idea de negocio, las cuales se comprueban a través de un Producto Mínimo Viable (PMV) y se ajustan según los resultados obtenidos. Si los datos sugieren persistir, se continúa con la creación de versiones incrementales del producto; si no, se realiza un pivote para reestructurar el modelo de negocio. El objetivo principal es aprender y validar la oferta a través de la experiencia del cliente.',\n",
       "  'El texto proporciona información sobre la importancia de aplicar la metodología de Lean Startup para validar la experiencia del cliente y obtener un aprendizaje validado en el proceso de creación de una Startup. Se destaca la necesidad de conocer qué elementos de la estrategia funcionan y qué es lo que quiere el consumidor, con el fin de medir el progreso de la empresa y determinar si el modelo de negocio es viable, rentable y escalable.\\n\\nLa metodología se desglosa en una secuencia recomendable para poner en marcha un negocio, que incluye la validación de hipótesis, la creación de un producto mínimo viable, el establecimiento de métricas para medir el rendimiento esperado y la decisión de pivotar o perseverar en base al aprendizaje obtenido a través de iteraciones.\\n\\nSe menciona el caso de Doug Evans, fundador de Juicero, como ejemplo de la importancia de seguir esta metodología para evitar desperdiciar recursos y lograr un modelo de negocio que funcione.',\n",
       "  ' características posibles, ya que esto implicaría  un gran esfuerzo y recursos. Por lo tanto, es  importante crear un PMV que permita validar  las hipótesis clave y aprender lo más rápido  posible. Una vez que se ha validado el PMV y se ha  obtenido retroalimentación de los clientes,  los emprendedores pueden pivotar o iterar en  su idea. Pivotar significa cambiar de dirección  en función de lo aprendido, mientras que  iterar implica realizar pequeños ajustes en  la idea original. Ambas estrategias son  fundamentales para el éxito de una Startup,  ya que permiten adaptarse a las necesidades  del mercado y mejorar continuamente el  producto. En resumen, la validación de hipótesis a  través de un PMV es un paso crucial en el  proceso de emprendimiento. Permite a los  emprendedores probar sus suposiciones,  aprender de los clientes y ajustar su producto  de manera eficiente. Además, pivotar o iterar  en la idea original es esencial para adaptarse  al mercado y mejorar constantemente.',\n",
       "  'El texto proporcionado es un modelo de lienzo de Osterwalder que aborda diferentes aspectos relacionados con el modelo de negocio de una empresa. Se plantean preguntas clave en las áreas de Adquisición, Activación, Retención, Ingresos y Referencias, con el objetivo de analizar cómo se encuentran los usuarios, si tienen una buena primera experiencia, si vuelven, cómo se gana dinero y si recomiendan la empresa.\\n\\nEn cuanto a la Activación, se plantean cuestiones sobre los socios clave, los suministradores clave, los recursos clave adquiridos de los socios, las actividades clave realizadas por los socios, las motivaciones para los socios, la optimización y la economía, la reducción de riesgo e incertidumbre, y la adquisición de recursos y actividades particulares.\\n\\nEn Retención, se abordan aspectos como las actividades clave requeridas para la propuesta de valor, los canales de distribución, las relaciones con los clientes, las fuentes de ingresos, las categorías de producción, la resolución de problemas y la plataforma/red.\\n\\nEn Ingresos, se plantean preguntas sobre los recursos clave necesarios para la propuesta de valor, los canales de distribución, las relaciones con los clientes, las fuentes de ingresos, los tipos de recursos (físicos, intelectuales, humanos, financieros), los costes más importantes inherentes al modelo de negocio, los recursos clave más caros, las actividades clave más caras, y si el negocio es más basado en coste o en valor.\\n\\nEn Referencias, se abordan temas como los tipos de venta (activos, pago por uso, cuota de suscripción, préstamo/alquiler/leasing, licencias, tasas de intermediación, publicidad), los precios fijos, los precios dinámicos, la negociación, la gestión de rendimientos, el mercado en tiempo real, el valor por el que los clientes están dispuestos a pagar, cómo están pagando actualmente, cómo preferirían pagar, y cuánto contribuyen cada fuente de ingresos a los ingresos totales.\\n\\nEn resumen, el modelo de lienzo de Osterwalder proporciona un marco detallado para analizar y mejorar el modelo de negocio de una empresa, abordando aspectos clave en las áreas de Adquisición, Activación, Retención, Ingresos y Referencias.',\n",
       "  'El texto proporcionado se centra en la importancia de identificar las actividades clave realizadas por los socios en un negocio, así como las motivaciones que los impulsan a colaborar. Se menciona la optimización y economía, la reducción de riesgo e incertidumbre, y la adquisición de recursos y actividades particulares como aspectos clave en esta colaboración.\\n\\nAdemás, se plantea la importancia de identificar las actividades clave requeridas para la propuesta de valor, los canales de distribución, las relaciones con los clientes y las fuentes de ingresos. Se mencionan categorías como producción, resolución de problemas y plataforma/red.\\n\\nSe hace hincapié en los recursos clave necesarios para la propuesta de valor, los canales de distribución, las relaciones con los clientes y las fuentes de ingresos, dividiéndolos en tipos como físicos, intelectuales (patentes, marcas, copyrights, datos), humanos y financieros.\\n\\nSe plantea la importancia de identificar los costes más importantes inherentes al modelo de negocio, así como los recursos clave y actividades clave más costosas. Se mencionan dos enfoques de negocio: basado en coste y basado en valor, con características específicas para cada uno.\\n\\nSe exploran diferentes tipos de ingresos, como la venta de activos, el pago por uso, las cuotas de suscripción, los préstamos/alquileres/leasing, las licencias, las tasas de intermediación y la publicidad. Se plantea la importancia de identificar por qué valor están dispuestos a pagar los clientes, cómo están pagando actualmente y cómo preferirían hacerlo.\\n\\nFinalmente, se aborda la importancia de identificar el valor entregado al cliente, los problemas que se ayudará a resolver, los paquetes de productos y servicios ofrecidos a cada segmento de cliente, y las necesidades que se están satisfaciendo. Se mencionan características como novedad y rendimiento como aspectos a considerar en la propuesta de valor.',\n",
       "  'El texto proporcionado se centra en la importancia de entender las necesidades y expectativas de los clientes para crear valor en un negocio. Se mencionan diferentes aspectos a considerar, como la novedad, rendimiento, personalización, diseño, marca, precio, reducción de costes, reducción de riesgos, accesibilidad, conveniencia, usabilidad, entre otros.\\n\\nSe plantea la importancia de establecer relaciones con los diferentes segmentos de clientes, ofreciendo diferentes tipos de servicios como asistencia personalizada, autoservicio, servicios automatizados, entre otros. También se menciona la importancia de identificar los canales de comunicación más efectivos para contactar a los clientes y cómo integrarlos con las rutinas de los clientes.\\n\\nAdemás, se mencionan las fases del canal de venta, desde la conciencia sobre los productos y servicios de la empresa, hasta la postventa y el soporte al cliente. Se destaca la importancia de evaluar constantemente la propuesta de valor de la organización y adaptarse a las necesidades y expectativas de los clientes.\\n\\nEn resumen, el texto destaca la importancia de entender a los clientes, crear valor para ellos y adaptarse constantemente para satisfacer sus necesidades y expectativas.',\n",
       "  'El texto aborda la metodología Lean startup y su aplicación en el emprendimiento. Se destaca la importancia de enfocarse en un grupo pequeño de clientes visionarios, early adopters o pioneros, que están dispuestos a adoptar el producto en sus fases iniciales. Se menciona la construcción de un Producto Mínimo Viable (PMV) como una forma de validar la viabilidad del producto antes de su lanzamiento al mercado.\\n\\nSe hace referencia a la importancia de realizar experimentos de viabilidad para validar los aspectos del modelo de negocio, como la prueba de la landing page, la prueba del conserje, la creación de prototipos, la prueba del crowdfunding y la prueba del Mago de Oz. Se destaca la importancia de conocer la viabilidad antes de construir el producto, ilustrando con el ejemplo de abrir un restaurante y comprobar si a la gente le gusta ese tipo de comida antes de lanzarlo al mercado.\\n\\nSe menciona el caso de Zappos como ejemplo de una empresa que utilizó la técnica de la prueba del Mago de Oz para validar su producto antes de lanzarlo online. En resumen, se destaca la importancia de realizar experimentos y pruebas para validar la viabilidad de un producto antes de su lanzamiento al mercado.',\n",
       "  'El texto describe ejemplos de empresas que han utilizado la técnica de lanzar productos online para tener éxito en el mercado. Se menciona el caso de Zappos, que comenzó como una tienda online de calzado a partir de la idea de Nick Swinmurn. Swinmurn se acercó a tiendas locales de calzado, tomó fotos de los productos y los ofreció en una página web simple, comprando los productos en las tiendas locales y enviándolos a los clientes que los solicitaban. Con el tiempo, Zappos se convirtió en un portal de comercio electrónico exitoso que fue adquirido por Amazon por una gran cantidad de dinero.\\n\\nAdemás, se menciona el caso de Exovite, una startup que utilizó la impresión 3D para diseñar una férula de plástico como producto mínimo viable para reemplazar la escayola tradicional. Después de probarlo en pacientes con la ayuda de médicos expertos, Exovite se convirtió en una empresa especializada en sistemas de rehabilitación en lugar de una startup. Estos ejemplos ilustran cómo la innovación y la tecnología pueden transformar una idea inicial en un negocio exitoso en el mercado.',\n",
       "  'El texto aborda la importancia de la contabilidad en las empresas, especialmente en las startups, donde el objetivo principal es demostrar que se está aprendiendo a construir un negocio sostenible. Se menciona la contabilidad de la innovación, que se basa en tres etapas: usar un producto mínimo viable para recopilar datos reales, hacer cambios y optimizaciones en el producto, y tomar la decisión de perseverar o pivotar. \\n\\nSe destaca la necesidad de medir el progreso y el aprendizaje en la empresa, utilizando métricas específicas para cada modelo de negocio y tipo de producto. Se menciona el embudo de conversión y las métricas piratas, que ayudan a seguir la ruta que sigue el cliente hasta generar ingresos para la startup. \\n\\nSe enfatiza la importancia de medir las métricas adecuadas en cada etapa del negocio, ya que estas son fundamentales para la toma de decisiones. Se menciona la importancia de elegir una métrica clave en cada momento, denominada \"UMVI, la única métrica que verdaderamente importa\", que ayudará a encontrar el producto correcto y el hueco de mercado antes de que se acabe el dinero. \\n\\nFinalmente, se discute la importancia de pivotar o perseverar en el negocio, tomando en cuenta todos los elementos desarrollados hasta el momento dentro de la metodología Lean Startup.',\n",
       "  'El embudo de conversión, también conocido como AARRR, se compone de cinco bloques: adquisición, activación, retención, referencias y ingresos. Cada uno de estos bloques representa una etapa importante en el proceso de fidelización de clientes. La adquisición se refiere a cómo los usuarios encuentran el producto o servicio, la activación se centra en la primera experiencia del usuario, la retención en si los usuarios regresan, las referencias en si recomiendan el producto y los ingresos en cómo se genera dinero. \\n\\nEs crucial entender por qué los clientes son fieles o por qué deciden abandonar. La métrica de referencia indica el número de clientes que llegan por recomendación o viralidad, lo cual puede influir en el costo de adquisición de clientes. En resumen, el embudo de conversión es una herramienta fundamental para comprender y mejorar la relación con los clientes, identificando áreas de oportunidad en cada etapa del proceso.',\n",
       "  'El artículo \"La metodología Lean startup: desarrollo y aplicación para el emprendimiento\" aborda la importancia del empleo de métricas piratas en el análisis cuantitativo de un modelo de negocio comúnmente aceptado por la mayoría de Startups. El autor, Vicent Esteve, destaca que las métricas piratas son fundamentales para vincular el modelo de generación de ingresos con la inversión en captación de clientes, una de las partes más importantes de la estructura de costes de las Startups.\\n\\nEn términos prácticos, el embudo de las métricas piratas, basado en McClure (2010), sigue una secuencia que incluye la adquisición, la activación, la retención y la referencia. La adquisición se refiere a cómo el cliente o usuario conoce la oferta del negocio, identificando los canales de adquisición y los costes asociados. La activación consiste en convertir a un potencial interesado en un cliente potencial, midiendo el porcentaje de potenciales interesados que realizan la acción necesaria para convertirse en cliente. La retención, o engagement, se refiere a la fidelidad del cliente y su propensión a volver a contactar con la empresa. Por último, la referencia se centra en la recomendación del cliente y su impacto en la adquisición de nuevos clientes.\\n\\nEn resumen, el uso de métricas piratas es fundamental para el éxito de las Startups, ya que permiten analizar de manera cuantitativa el desempeño del negocio y su relación con la captación y retención de clientes.',\n",
       "  'El texto discute la importancia del pivote en el emprendimiento, que se refiere a un cambio estructurado diseñado para probar una nueva hipótesis básica sobre el producto, la estrategia y el motor de crecimiento. Se menciona que un pivote implica mantener un pie anclado en lo aprendido hasta el momento mientras se realiza un cambio fundamental en la estrategia para buscar un mayor aprendizaje validado. Se destaca que un pivote no solo implica cambiar un producto, sino que puede significar una modificación significativa en cualquier componente del modelo de negocio.\\n\\nSe plantea que el pivote surge como consecuencia de un aprendizaje en el que el emprendedor se da cuenta de la necesidad de darle un nuevo giro a su negocio para evitar estancarse o consumir recursos sin crecimiento. Se menciona que es crucial identificar las hipótesis y realizar experimentos para validarlas o invalidarlas a tiempo, evitando así la pérdida de tiempo y dinero.\\n\\nSe destaca la importancia de ser productivo y replantear lo que se ha estado haciendo en el negocio para encontrar una dirección más positiva. Se menciona que el pivote responde a la necesidad de aprender a tiempo y sin abandonar el negocio, manteniendo un pie anclado y sabiendo darle otra orientación cuando sea necesario.\\n\\nEn conclusión, se afirma que la metodología Lean Startup propone el lanzamiento de negocios desde un aprendizaje validado a través de un circuito. Se inicia con la concepción experimental de un producto o servicio, midiendo su encaje en el mercado y la aceptación por parte de los clientes para obtener un aprendizaje que permita seguir desarrollando el producto de forma iterativa. Se destaca la importancia de persistir en el incremento de funcionalidades o realizar cambios y pivotes para lograr un modelo de negocio viable sin desperdiciar recursos.',\n",
       "  'El texto proporcionado aborda la metodología Lean startup y su aplicación en el emprendimiento. Se mencionan varios artículos científicos y recursos relacionados con el tema, como el cierre de la startup Juicero, la importancia de innovar y crear valor para los clientes, herramientas como el Validation Board para gestionar hipótesis, la generación de modelos de negocio, el concepto de Minimum Viable Product, el método Lean Startup, y la difusión de innovaciones.\\n\\nSe destacan autores como Ries, Maurya, Osterwalder, y Rogers, así como referencias a libros como \"Running Lean\" y \"Generación de modelos de negocio\". También se mencionan casos de fracaso en startups, como el de Juicero, y se aborda la tasa de fracaso en las startups.\\n\\nEn resumen, el texto proporciona una visión amplia y detallada sobre la metodología Lean startup y su aplicación en el emprendimiento, incluyendo casos prácticos, herramientas y recursos útiles para los emprendedores.']}"
      ]
     },
     "execution_count": 24,
     "metadata": {},
     "output_type": "execute_result"
    }
   ],
   "source": [
    "clustered_summaries = {}\n",
    "for i, label in enumerate(simple_labels):\n",
    "    if label not in clustered_summaries:\n",
    "        clustered_summaries[label] = []\n",
    "    clustered_summaries[label].append(list(summaries.values())[i])\n",
    "\n",
    "clustered_summaries"
   ]
  },
  {
   "cell_type": "code",
   "execution_count": 25,
   "metadata": {},
   "outputs": [
    {
     "data": {
      "text/plain": [
       "{0: 'El artículo \"La metodología Lean Startup: desarrollo y aplicación para el emprendimiento\" ofrece una exposición detallada sobre la implementación de la metodología Lean Startup en el ámbito emprendedor. Esta metodología se ha vuelto popular en el mundo empresarial por su eficiencia en la creación de negocios, evitando el desperdicio de recursos y esfuerzos innecesarios.\\n\\nLa metodología propone lanzar una Startup como un experimento para buscar un modelo de negocio rentable antes de crear una empresa formal. El enfoque principal es lograr un aprendizaje validado a través de hipótesis que se prueban con un Producto Mínimo Viable (PMV). Se destaca la importancia de crear un producto que los clientes necesiten y estén dispuestos a pagar, utilizando la menor cantidad de recursos posible.\\n\\nSe menciona que el 75% de las Startups fracasan, por lo que es crucial seguir un proceso correcto para diseñar el éxito de una Startup en lugar de depender únicamente de la suerte. Se destaca el caso de Juicero como ejemplo de un fracaso empresarial debido a la falta de validación de las necesidades de los clientes antes de lanzar el producto al mercado.\\n\\nEn resumen, el artículo ofrece una visión detallada de la metodología Lean Startup y su aplicación en el emprendimiento, resaltando la importancia de validar hipótesis y las necesidades de los clientes antes de invertir recursos en el desarrollo de un producto o servicio. Se enfatiza en la necesidad de proporcionar al emprendedor los datos necesarios para descubrir un modelo de negocio viable y reducir el miedo al fracaso que puede impedir la materialización de ideas en negocios. Palabras clave incluyen emprendimiento, startup, modelo de negocio, Lean Startup, Producto Mínimo Viable (PMV), pivotar e iterar. El texto fue publicado en la Revista de Escuela de Administración y Negocios, en el número 84 correspondiente a enero-junio de 2018, en las páginas 79-95.'}"
      ]
     },
     "execution_count": 25,
     "metadata": {},
     "output_type": "execute_result"
    }
   ],
   "source": [
    "final_summaries = {}\n",
    "for cluster, texts in clustered_summaries.items():\n",
    "    combined_text = ' '.join(texts)\n",
    "    summary = chain.invoke({\"text\": combined_text})\n",
    "    final_summaries[cluster] = summary\n",
    "\n",
    "final_summaries"
   ]
  },
  {
   "cell_type": "code",
   "execution_count": 26,
   "metadata": {},
   "outputs": [],
   "source": [
    "texts_from_df = df['Texto'].tolist()\n",
    "texts_from_clustered_texts = list(clustered_texts.values())\n",
    "texts_from_final_summaries = list(final_summaries.values())\n",
    "\n",
    "combined_texts = texts_from_df + texts_from_clustered_texts + texts_from_final_summaries"
   ]
  },
  {
   "cell_type": "code",
   "execution_count": null,
   "metadata": {},
   "outputs": [],
   "source": [
    "combined_texts[:10]"
   ]
  },
  {
   "cell_type": "code",
   "execution_count": 27,
   "metadata": {},
   "outputs": [],
   "source": [
    "# Nombre del archivo de texto\n",
    "file_name = input('Nombre del archivo: ') + '.txt'\n",
    "\n",
    "# Escribir la lista en el archivo de texto\n",
    "with open(file_name, 'w', encoding='utf-8') as f:\n",
    "    for t in combined_texts:\n",
    "        f.write(\"%s\\n\" % t)\n",
    "\n",
    "# Leer el contenido del archivo y mostrarlo\n",
    "with open(file_name, 'r', encoding='utf-8') as f:\n",
    "    content = f.read()\n",
    "\n",
    "textos = text_splitter.split_text(content)"
   ]
  },
  {
   "cell_type": "markdown",
   "metadata": {},
   "source": [
    "# Guardar los kb en una carpeta (kbs)"
   ]
  },
  {
   "cell_type": "markdown",
   "metadata": {},
   "source": [
    "### 1. Enseñar"
   ]
  },
  {
   "cell_type": "code",
   "execution_count": 34,
   "metadata": {},
   "outputs": [],
   "source": [
    "import time\n",
    "destino_kb = r'c:\\Users\\luisr\\OneDrive\\Documentos\\GitHub\\1day_1thing\\prometeo\\kbs'"
   ]
  },
  {
   "cell_type": "code",
   "execution_count": 36,
   "metadata": {},
   "outputs": [
    {
     "data": {
      "text/plain": [
       "1"
      ]
     },
     "execution_count": 36,
     "metadata": {},
     "output_type": "execute_result"
    }
   ],
   "source": [
    "persist_directory = input('¿Cómo se llamará este knowledge-base?: ') + '_kb'\n",
    "vectorstore = Chroma.from_texts(texts=textos,\n",
    "                                embedding=embeddings,\n",
    "                                persist_directory=persist_directory)\n",
    "vectorstore.persist()\n",
    "vectorstore = None\n",
    "os.system(f'zip -r db.zip ./{persist_directory}')"
   ]
  },
  {
   "cell_type": "markdown",
   "metadata": {},
   "source": [
    "### 2. Recordar (si y solo si Enseñar=Done) y pregunta de control"
   ]
  },
  {
   "cell_type": "code",
   "execution_count": 18,
   "metadata": {},
   "outputs": [
    {
     "name": "stdout",
     "output_type": "stream",
     "text": [
      "41\n"
     ]
    }
   ],
   "source": [
    "persist_directory = input('¿Qué knoledge-base deseas usar?: ') + '_kb'\n",
    "embedding = OpenAIEmbeddings()\n",
    "vectorstore = Chroma(persist_directory=persist_directory, \n",
    "                  embedding_function=embedding)\n",
    "\n",
    "def adjust_final_number(string: str, max_threshold: int, initial_number: int) -> int:\n",
    "    final_number = initial_number\n",
    "    while final_number < max_threshold:\n",
    "        retriever = vectorstore.as_retriever(search_kwargs={\"k\": final_number})\n",
    "        docs = retriever.invoke(string)\n",
    "        text = \"\".join([doc.page_content for doc in docs])\n",
    "        if num_tokens_from_string(text) < max_threshold:\n",
    "            final_number += 1\n",
    "        else:\n",
    "            break\n",
    "    return final_number\n",
    "\n",
    "final_number = adjust_final_number(\"¿Cuál es el tema principal del documento?\", 10000, 4)\n",
    "print(final_number)\n",
    "retriever = vectorstore.as_retriever(search_kwargs={\"k\": final_number})"
   ]
  },
  {
   "cell_type": "code",
   "execution_count": 19,
   "metadata": {},
   "outputs": [],
   "source": [
    "# Se personaliza el LLM\n",
    "template = \"\"\"\n",
    "Eres Prometeo, un asistente personal de revisión biliográfica que habla Español.\n",
    "\n",
    "Tu tarea consiste en:\n",
    "\n",
    "1. Leer detalladamente la información proporcionada en documentos que generalmente son\n",
    "artículos científicos en formato PDF.\n",
    "\n",
    "2. Proporcionar respuestas extremadamente detalladas a cualquier tipo de pregunta relacionada \n",
    "con el contexto, especialmente a preguntas que involucren peticiones. Evita concluir tus respuestas con un \n",
    "párrafo que comience con 'En resumen,...'. Varía las conclusiones de tus respuestas para que \n",
    "sean más diversas y creativas.\n",
    "\n",
    "3. Ser carismático y ofrecer información sobre ti y tus funciones.\n",
    "\n",
    "SIEMPRE debes responder en Español.\n",
    "\n",
    "SIEMPRE debes responder con base al siguiente contexto: {context}.\n",
    "\n",
    "NUNCA hables específicamente del contexto.\n",
    "\n",
    "NUNCA terminar las respuestas con un resumen o una conclusión predecible.\n",
    "\n",
    "Teniendo en cuenta TODO lo anterior, responde la siguiente pregunta: {question}\n",
    "\"\"\"\n",
    "\n",
    "prometeo_prompt = PromptTemplate(\n",
    "    template=template, input_variables=[\"context\", \"question\"]\n",
    ")\n",
    "\n",
    "def format_docs(docs):\n",
    "    return \"\\n\\n\".join(doc.page_content for doc in docs)\n",
    "\n",
    "rag_chain = (\n",
    "    RunnablePassthrough.assign(context=(lambda x: format_docs(x[\"context\"])))\n",
    "    | prometeo_prompt\n",
    "    | turbo_llm\n",
    "    | StrOutputParser()\n",
    ")\n",
    "\n",
    "rag_chain_with_source = RunnableParallel(\n",
    "    {\"context\": retriever, \"question\": RunnablePassthrough()}\n",
    ").assign(answer=rag_chain\n",
    ")"
   ]
  },
  {
   "cell_type": "code",
   "execution_count": 20,
   "metadata": {},
   "outputs": [],
   "source": [
    "def wrap_text_preserve_newlines(text, width=70):\n",
    "    lines = text.split('\\n')\n",
    "    wrapped_lines = [textwrap.fill(line, width=width) for line in lines]\n",
    "    wrapped_text = '\\n'.join(wrapped_lines)\n",
    "    return wrapped_text\n",
    "\n",
    "def process_llm_response(llm_response):\n",
    "    print(wrap_text_preserve_newlines(llm_response['answer']))\n",
    "    print('\\nReferencias:')\n",
    "    for contexto in llm_response[\"context\"][:5]:\n",
    "        print(contexto)"
   ]
  },
  {
   "cell_type": "code",
   "execution_count": 30,
   "metadata": {},
   "outputs": [
    {
     "name": "stdout",
     "output_type": "stream",
     "text": [
      "¿Cuál es el nombre del artículo?\n",
      "El nombre del artículo es \"El territorio y su relación con las\n",
      "ventajas comparativas y competitivas en el municipio de La Unión,\n",
      "Valle del Cauca, Colombia\".\n",
      "\n",
      "Referencias:\n",
      "page_content='[citado en agosto 28 de 2014]  Disponible en Internet:  <http://www.idosi.org/wasj/wasj18%28Eco - nomics%2912/30.pdf> 3. BERICAT, Eduardo. La integración de los métodos cuantitativo y cua-litativo en la investigación social. Significado y medida. Barcelona: Ariel, 1998. 4. BOISIER, Sergio (2006). La imperiosa necesidad de ser diferente en la globalización: el mercadeo territorial. La experiencia de las regiones  chilenas. En: T erritorios, Núm. 15, agosto-diciembre, 2006, pp. 71-85.  [en línea] Universidad del Rosario. [citado en junio 2 de 2014] Dispo- nible en Internet: <http://redalyc.uaemex.mx/pdf/357/35711624005.pdf> 5. BOLETÍN SOCIOECONÓMICO DE LA SUBREGIÓN NORTE No.  1. Participación laboral. [en línea] julio de 2013. [citado en junio 25  de 2014] Disponible en Internet:   <http://www.valledelcauca.gov.co/ planeacion/publicaciones.php?id=24721>'\n",
      "page_content='Entramado                    Vol. 11 No. 2, 2015 (Julio - Diciembre) © Unilibre Cali54 no es indicar cómo se relacionan éstas (Hernández,  Fernández & Baptista 2010). En este orden de ideas, los siguientes objetivos específicos  son la caracterización de los procesos asociativos en torno a las cadenas productivas y de servicios, como también se describen los elementos culturales y simbólicos que per - mitan esbozar la identidad de esta región para finalmente determinar la conectividad/accesibilidad de la región norte del Valle del Cauca con la cuenca del Pacífico.  El artículo surge de la investigación “Marketing T erritorial,  una alternativa para la competitividad y el posicionamiento regional en los municipios de La Unión, Zarzal y Cartago”, pero para el desarrollo de este artículo solo se presentan resultados del municipio de La Unión, a partir de la premisa de considerar el marketing de territorio como herramienta para la competitividad y el posicionamiento de una región; si'\n",
      "page_content='Además, se com-plementó con un amplio registro fotográfico rural y urbano. La ejecución de esta propuesta metodológica se plantea por fases. Primera fase Estado del arte en temáticas como marketing territorial, desarrollo local y regional, competitividad y conectividad. El ejercicio de vigilancia tecnológica realizado en bases de datos como Scopus arroja cuatro publicaciones del 2010 al 2013 en el tema de competitividad y marketing territorial; la primera, titulada “El diseño de la estrategia de marketing territorial en los principios de las políticas de clúster” por'\n",
      "page_content='El artículo proporcionado aborda la relación entre el territorio y las ventajas comparativas y competitivas en el municipio de La Unión, Valle del Cauca, Colombia, desde un enfoque de marketing territorial. Las autoras, Magdalida Murgueitio y Verena González-Cabo, analizan cómo el territorio influye en la competitividad y el posicionamiento regional, destacando la importancia de la vocación agrícola y pecuaria, la educación, la infraestructura, la asociatividad empresarial y el turismo.'\n",
      "page_content='Educativa Magdalena Ortega Agrícola Pública Urbana Institución Educativa San José Comercial Pública Rural Institución Educativa Juan de Dios GirónElectrónica aplicada a reparación de  computadoresPública Rural Instituto Técnico Diversificado Grajales Agroindustrial Privada Urbana Institución Educativa Argemiro Escobar Cardona Media técnica agroindustrial Pública Urbana Fuente: Elaboración propia, con base en el portal oficial del municipio.'\n"
     ]
    }
   ],
   "source": [
    "# Demo\n",
    "query = input(\"Hazme una pregunta: \")\n",
    "print(query)\n",
    "llm_response = rag_chain_with_source.invoke(query)\n",
    "process_llm_response(llm_response)"
   ]
  },
  {
   "cell_type": "code",
   "execution_count": 23,
   "metadata": {},
   "outputs": [
    {
     "name": "stdout",
     "output_type": "stream",
     "text": [
      "¿Quiénes son los autores del artículo y a qué universidad pertenecen?\n",
      "Los autores del artículo son Magdalida Murgueitio y Verena González-\n",
      "Cabo. Pertenecen a la Universidad de San Buenaventura, en Cali,\n",
      "Colombia.\n",
      "\n",
      "Referencias:\n",
      "page_content='que permitan establecer un con-cepto propio de región. Los textos revisados corresponden a bibliografía actualizada, producto de investigaciones en estas áreas del conocimiento, como también a los docu-mentos institucionales de los municipios.  Segunda fase Se aplican entrevistas semiestructuradas según el perfil de las instituciones y del funcionario que suministra la informa-ción (secretario de Gobierno, secretario de Prensa, Alcalde, director de la oficina de la Umata y otros funcionarios dis-ponibles en los días en que se hace el trabajo de campo). También se realizan entrevistas con familias, empresarios, trabajadoras de la uva, líderes sociales, algunas personas de la región. Así mismo, se efectúa una observación directa no participante de las temáticas referidas en el estado del arte, mediante la elaboración de una matriz para recopilar la in-formación, complementada con el registro fotográfico de la región. Tercera fase Selección, categorización, análisis e interpretación de'\n",
      "page_content='por --- que permitan establecer un con-cepto propio de región. Los textos revisados corresponden a bibliografía actualizada, producto de investigaciones en estas áreas del conocimiento, como también a los docu-mentos institucionales de los municipios.  Segunda fase Se aplican entrevistas semiestructuradas según el perfil de las instituciones y del funcionario que suministra la informa-ción (secretario de Gobierno, secretario de Prensa, Alcalde, director de la oficina de la Umata y otros funcionarios dis-ponibles en los días en que se hace el trabajo de campo). También se realizan entrevistas con familias, empresarios, trabajadoras de la uva, líderes sociales, algunas personas de la región. Así mismo, se efectúa una observación directa no participante de las temáticas referidas en el estado del arte, mediante la elaboración de una matriz para recopilar la in-formación, complementada con el registro fotográfico de la región. Tercera fase Selección, categorización, análisis e'\n",
      "page_content='Entramado                    Vol. 11 No. 2, 2015 (Julio - Diciembre) © Unilibre Cali54 no es indicar cómo se relacionan éstas (Hernández,  Fernández & Baptista 2010). En este orden de ideas, los siguientes objetivos específicos  son la caracterización de los procesos asociativos en torno a las cadenas productivas y de servicios, como también se describen los elementos culturales y simbólicos que per - mitan esbozar la identidad de esta región para finalmente determinar la conectividad/accesibilidad de la región norte del Valle del Cauca con la cuenca del Pacífico.  El artículo surge de la investigación “Marketing T erritorial,  una alternativa para la competitividad y el posicionamiento regional en los municipios de La Unión, Zarzal y Cartago”, pero para el desarrollo de este artículo solo se presentan resultados del municipio de La Unión, a partir de la premisa de considerar el marketing de territorio como herramienta para la competitividad y el posicionamiento de una región; si'\n",
      "page_content='El artículo proporcionado aborda la relación entre el territorio y las ventajas comparativas y competitivas en el municipio de La Unión, Valle del Cauca, Colombia, desde un enfoque de marketing territorial. Las autoras, Magdalida Murgueitio y Verena González-Cabo, analizan cómo el territorio influye en la competitividad y el posicionamiento regional, destacando la importancia de la vocación agrícola y pecuaria, la educación, la infraestructura, la asociatividad empresarial y el turismo.'\n",
      "page_content='[citado en agosto 28 de 2014]  Disponible en Internet:  <http://www.idosi.org/wasj/wasj18%28Eco - nomics%2912/30.pdf> 3. BERICAT, Eduardo. La integración de los métodos cuantitativo y cua-litativo en la investigación social. Significado y medida. Barcelona: Ariel, 1998. 4. BOISIER, Sergio (2006). La imperiosa necesidad de ser diferente en la globalización: el mercadeo territorial. La experiencia de las regiones  chilenas. En: T erritorios, Núm. 15, agosto-diciembre, 2006, pp. 71-85.  [en línea] Universidad del Rosario. [citado en junio 2 de 2014] Dispo- nible en Internet: <http://redalyc.uaemex.mx/pdf/357/35711624005.pdf> 5. BOLETÍN SOCIOECONÓMICO DE LA SUBREGIÓN NORTE No.  1. Participación laboral. [en línea] julio de 2013. [citado en junio 25  de 2014] Disponible en Internet:   <http://www.valledelcauca.gov.co/ planeacion/publicaciones.php?id=24721>'\n"
     ]
    }
   ],
   "source": [
    "# Demo\n",
    "query = input(\"Hazme una pregunta: \")\n",
    "print(query)\n",
    "llm_response = rag_chain_with_source.invoke(query)\n",
    "process_llm_response(llm_response)"
   ]
  },
  {
   "cell_type": "code",
   "execution_count": 25,
   "metadata": {},
   "outputs": [
    {
     "name": "stdout",
     "output_type": "stream",
     "text": [
      "¿En qué fecha fue publicado el artículo?\n",
      "El artículo fue publicado en junio de 2013.\n",
      "\n",
      "Referencias:\n",
      "page_content='Entramado                    Vol. 11 No. 2, 2015 (Julio - Diciembre) © Unilibre Cali70 6. BOLETÍN SOCIOECONÓMICO DE LA SUBREGIÓN NORTE No.  2. Retorno a la educación y segmentación del mercado laboral. [en línea] julio de 2013. [citado en junio 25 de 2014] Disponible en In-ternet: <http://www.valledelcauca.gov.co/planeacion/publicaciones.php?id=24721> 7. BOLETÍN SOCIOECONÓMICO DE LA SUBREGIÓN NORTE No. 3. [en línea] julio de 2013. Caracterización socioeconómica. [citado  en junio 25 de 2014] Disponible en Internet: http://www.valledelcau- ca.gov.co/planeacion/publicaciones.php?id=24721 8. CBONLINECALI. El Parque Nacional de la Uva. [en línea]. Disponible en Internet: <http://www.cbonlinecali.com/el-parque-nacional-de-la-uva/> 9. CONSEJO PRIVADO DE COMPETITIVIDAD. Informe Nacional de Competitividad 2012-2013. [en línea] 2012.  Disponible en Internet:  <http://www.compite.com.co/site/wp-content/uploads/2012/11/INC-2012-2013.pdf> 10. DEPARTAMENTO ADMINISTRATIVO DE PLANEACIÓN DEL VA-LLE'\n",
      "page_content='5. BOLETÍN SOCIOECONÓMICO DE LA SUBREGIÓN NORTE No.  1. Participación laboral. [en línea] julio de 2013. [citado en junio 25  de 2014] Disponible en Internet:   <http://www.valledelcauca.gov.co/ planeacion/publicaciones.php?id=24721> --- edición. Mé- xico: McGraw-Hill/Interamericana, 2010. 18. MAKARENKO, M. V. Image of a region as a key factor in its compe- titiveness. En: Actual Problems of Economics, [en línea] 128(2), 180- 187, 2012. [citado en diciembre 19 de 2014] Disponible en Internet:  <www.scopus.com>'\n",
      "page_content='Además, se com-plementó con un amplio registro fotográfico rural y urbano. La ejecución de esta propuesta metodológica se plantea por fases. Primera fase Estado del arte en temáticas como marketing territorial, desarrollo local y regional, competitividad y conectividad. El ejercicio de vigilancia tecnológica realizado en bases de datos como Scopus arroja cuatro publicaciones del 2010 al 2013 en el tema de competitividad y marketing territorial; la primera, titulada “El diseño de la estrategia de marketing territorial en los principios de las políticas de clúster” por'\n",
      "page_content='[citado en agosto 28 de 2014]  Disponible en Internet:  <http://www.idosi.org/wasj/wasj18%28Eco - nomics%2912/30.pdf> 3. BERICAT, Eduardo. La integración de los métodos cuantitativo y cua-litativo en la investigación social. Significado y medida. Barcelona: Ariel, 1998. 4. BOISIER, Sergio (2006). La imperiosa necesidad de ser diferente en la globalización: el mercadeo territorial. La experiencia de las regiones  chilenas. En: T erritorios, Núm. 15, agosto-diciembre, 2006, pp. 71-85.  [en línea] Universidad del Rosario. [citado en junio 2 de 2014] Dispo- nible en Internet: <http://redalyc.uaemex.mx/pdf/357/35711624005.pdf> 5. BOLETÍN SOCIOECONÓMICO DE LA SUBREGIÓN NORTE No.  1. Participación laboral. [en línea] julio de 2013. [citado en junio 25  de 2014] Disponible en Internet:   <http://www.valledelcauca.gov.co/ planeacion/publicaciones.php?id=24721>'\n",
      "page_content='9. CONSEJO PRIVADO DE COMPETITIVIDAD. Informe Nacional de Competitividad 2012-2013. [en línea] 2012.  Disponible en Internet:  <http://www.compite.com.co/site/wp-content/uploads/2012/11/INC-2012-2013.pdf> 10. DEPARTAMENTO ADMINISTRATIVO DE PLANEACIÓN DEL VA-LLE'\n"
     ]
    }
   ],
   "source": [
    "# Demo\n",
    "query = input(\"Hazme una pregunta: \")\n",
    "print(query)\n",
    "llm_response = rag_chain_with_source.invoke(query)\n",
    "process_llm_response(llm_response)"
   ]
  },
  {
   "cell_type": "code",
   "execution_count": 21,
   "metadata": {},
   "outputs": [
    {
     "name": "stdout",
     "output_type": "stream",
     "text": [
      "¿Puedes hacer una síntesis detallada del artículo?\n",
      "Para hacer una síntesis detallada del artículo, es importante destacar\n",
      "que se aborda la relación entre el territorio y las ventajas\n",
      "comparativas y competitivas en el municipio de La Unión, Valle del\n",
      "Cauca, desde un enfoque de marketing territorial. Se analiza cómo el\n",
      "territorio influye en la competitividad y el posicionamiento regional,\n",
      "resaltando la importancia de la vocación agrícola y pecuaria, la\n",
      "educación, la infraestructura, la asociatividad empresarial y el\n",
      "turismo. Se mencionan las iniciativas locales para mejorar la calidad\n",
      "de vida de los habitantes, así como los desafíos en materia educativa,\n",
      "laboral y de infraestructura. Se plantean propuestas para potenciar\n",
      "las ventajas competitivas y comparativas del municipio, con el\n",
      "objetivo de impulsar su desarrollo económico y social.\n",
      "\n",
      "Referencias:\n",
      "page_content='que permitan establecer un con-cepto propio de región. Los textos revisados corresponden a bibliografía actualizada, producto de investigaciones en estas áreas del conocimiento, como también a los docu-mentos institucionales de los municipios.  Segunda fase Se aplican entrevistas semiestructuradas según el perfil de las instituciones y del funcionario que suministra la informa-ción (secretario de Gobierno, secretario de Prensa, Alcalde, director de la oficina de la Umata y otros funcionarios dis-ponibles en los días en que se hace el trabajo de campo). También se realizan entrevistas con familias, empresarios, trabajadoras de la uva, líderes sociales, algunas personas de la región. Así mismo, se efectúa una observación directa no participante de las temáticas referidas en el estado del arte, mediante la elaboración de una matriz para recopilar la in-formación, complementada con el registro fotográfico de la región. Tercera fase Selección, categorización, análisis e interpretación de'\n",
      "page_content='por --- que permitan establecer un con-cepto propio de región. Los textos revisados corresponden a bibliografía actualizada, producto de investigaciones en estas áreas del conocimiento, como también a los docu-mentos institucionales de los municipios.  Segunda fase Se aplican entrevistas semiestructuradas según el perfil de las instituciones y del funcionario que suministra la informa-ción (secretario de Gobierno, secretario de Prensa, Alcalde, director de la oficina de la Umata y otros funcionarios dis-ponibles en los días en que se hace el trabajo de campo). También se realizan entrevistas con familias, empresarios, trabajadoras de la uva, líderes sociales, algunas personas de la región. Así mismo, se efectúa una observación directa no participante de las temáticas referidas en el estado del arte, mediante la elaboración de una matriz para recopilar la in-formación, complementada con el registro fotográfico de la región. Tercera fase Selección, categorización, análisis e'\n",
      "page_content='fotográfico de la región. Tercera fase Selección, categorización, análisis e interpretación de los da-tos obtenidos desde la perspectiva de triangulación meto-dológica, a partir de matrices, y la discusión entre el equipo de investigadores, con lo que se elabora el primer borrador de los resultados y las conclusiones de la investigación. Cuarta fase  Socialización y discusión de resultados en eventos acadé- micos e investigativos internos o externos. Es importante  compartir los hallazgos con los actores participantes de la investigación, aspecto que está pendiente de realizar antes de cerrar el proyecto. Quinta fase  Elaboración del informe solicitado por la Dirección de In- vestigaciones de la Universidad de San Buenaventura-Cali y postulación de los productos de generación de nuevo co-nocimiento a revistas indexadas. 2. Resultados y discusión Este apartado aborda cómo el territorio aprovecha algunas de sus ventajas comparativas y cómo estas pueden transfor - marse al agregarle'\n",
      "page_content='con el registro fotográfico de la región. Tercera fase Selección, categorización, análisis e interpretación de --- fotográfico de la región. Tercera fase Selección, categorización, análisis e interpretación de los da-tos obtenidos desde la perspectiva de triangulación meto-dológica, a partir de matrices, y la discusión entre el equipo de investigadores, con lo que se elabora el primer borrador de los resultados y las conclusiones de la investigación. Cuarta fase  Socialización y discusión de resultados en eventos acadé- micos e investigativos internos o externos. Es importante  compartir los hallazgos con los actores participantes de la investigación, aspecto que está pendiente de realizar antes de cerrar el proyecto. Quinta fase  Elaboración del informe solicitado por la Dirección de In- vestigaciones de la Universidad de San Buenaventura-Cali y postulación de los productos de generación de nuevo co-nocimiento a revistas indexadas. 2. Resultados y discusión Este apartado aborda cómo'\n",
      "page_content='las dinámicas propias del municipio y deterioró el nivel de vida de sus habitantes. En la parte agroindustrial se destacan cinco plantas pro- cesadoras de productos agrícolas que demandan mano de obra --- se destacan cinco plantas pro- cesadoras de productos agrícolas que demandan mano de obra calificada y no calificada como: Casa Grajales S. A. (pro-ductora de vinos y licores), Frexco S. A. (productora de pul-pas y jugos), Frutícola Andina (pulpas y concentrados), Sa-biway (productos capilares) y Alberto Aristizábal Compañía Limitada; esta última, por ejemplo, demanda mano de obra para la recolección, selección y empaque de fruta, específi-camente la uva. Se observó que en la planta de producción la gran mayoría de personas que seleccionan y empacan la uva son mujeres, debido al delicado manejo que requiere este producto. En entrevista con uno de los propietarios de la empresa, este afirma que “las mujeres son clave en la selección de la fruta, puesto que esta fruta se daña con'\n"
     ]
    }
   ],
   "source": [
    "# Demo\n",
    "query = input(\"Hazme una pregunta: \")\n",
    "print(query)\n",
    "llm_response = rag_chain_with_source.invoke(query)\n",
    "process_llm_response(llm_response)"
   ]
  },
  {
   "cell_type": "code",
   "execution_count": 26,
   "metadata": {},
   "outputs": [
    {
     "name": "stdout",
     "output_type": "stream",
     "text": [
      "¿Cuáles son los objetivos del artículo?\n",
      "Los objetivos del artículo son identificar las alternativas\n",
      "potenciales para la competitividad y el posicionamiento regional en el\n",
      "municipio de La Unión, Valle del Cauca, desde un enfoque de marketing\n",
      "territorial. Se busca analizar cómo el territorio influye en la\n",
      "competitividad y el posicionamiento regional, destacando la\n",
      "importancia de la vocación agrícola y pecuaria, la educación, la\n",
      "infraestructura, la asociatividad empresarial y el turismo. Además, se\n",
      "pretende desglosar las ventajas competitivas y comparativas del\n",
      "municipio, así como proponer recomendaciones para potenciarlas y\n",
      "mejorar el desarrollo económico local.\n",
      "\n",
      "Referencias:\n",
      "page_content='variables que se definieron para este estudio que pretende como objetivo general, identificar las alterna-tivas potenciales para la competitividad y el posicionamien-to regional del norte del Valle del Cauca.  Para lograrlo, primero se examinan las ventajas competi- tivas/comparativas de la región y se pasa a lo descriptivo porque se pretende (…) describir situaciones, contextos y eventos; esto  es, detallar cómo son y se manifiestan. Además de especificar las características y los perfiles de perso-nas, grupos, comunidades. Es decir, únicamente pre-tenden medir o recoger --- y los perfiles de perso-nas, grupos, comunidades. Es decir, únicamente pre-tenden medir o recoger información de manera in-dependiente o conjunta sobre los conceptos o las variables a las que se refieren, porque su objetivo --- de territorio como herramienta para la competitividad y el posicionamiento de una región; si cuenta con indicadores como por ejemplo el aprovecha-miento de los recursos naturales a través'\n",
      "page_content='que permitan establecer un con-cepto propio de región. Los textos revisados corresponden a bibliografía actualizada, producto de investigaciones en estas áreas del conocimiento, como también a los docu-mentos institucionales de los municipios.  Segunda fase Se aplican entrevistas semiestructuradas según el perfil de las instituciones y del funcionario que suministra la informa-ción (secretario de Gobierno, secretario de Prensa, Alcalde, director de la oficina de la Umata y otros funcionarios dis-ponibles en los días en que se hace el trabajo de campo). También se realizan entrevistas con familias, empresarios, trabajadoras de la uva, líderes sociales, algunas personas de la región. Así mismo, se efectúa una observación directa no participante de las temáticas referidas en el estado del arte, mediante la elaboración de una matriz para recopilar la in-formación, complementada con el registro fotográfico de la región. Tercera fase Selección, categorización, análisis e interpretación de'\n",
      "page_content='El artículo proporcionado aborda la relación entre el territorio y las ventajas comparativas y competitivas en el municipio de La Unión, Valle del Cauca, Colombia, desde un enfoque de marketing territorial. Las autoras, Magdalida Murgueitio y Verena González-Cabo, analizan cómo el territorio influye en la competitividad y el posicionamiento regional, destacando la importancia de la vocación agrícola y pecuaria, la educación, la infraestructura, la asociatividad empresarial y el turismo.'\n",
      "page_content='Además, se com-plementó con un amplio registro fotográfico rural y urbano. La ejecución de esta propuesta metodológica se plantea por fases. Primera fase Estado del arte en temáticas como marketing territorial, desarrollo local y regional, competitividad y conectividad. El ejercicio de vigilancia tecnológica realizado en bases de datos como Scopus arroja cuatro publicaciones del 2010 al 2013 en el tema de competitividad y marketing territorial; la primera, titulada “El diseño de la estrategia de marketing territorial en los principios de las políticas de clúster” por'\n",
      "page_content='fotográfico de la región. Tercera fase Selección, categorización, análisis e interpretación de los da-tos obtenidos desde la perspectiva de triangulación meto-dológica, a partir de matrices, y la discusión entre el equipo de investigadores, con lo que se elabora el primer borrador de los resultados y las conclusiones de la investigación. Cuarta fase  Socialización y discusión de resultados en eventos acadé- micos e investigativos internos o externos. Es importante  compartir los hallazgos con los actores participantes de la investigación, aspecto que está pendiente de realizar antes de cerrar el proyecto. Quinta fase  Elaboración del informe solicitado por la Dirección de In- vestigaciones de la Universidad de San Buenaventura-Cali y postulación de los productos de generación de nuevo co-nocimiento a revistas indexadas. 2. Resultados y discusión Este apartado aborda cómo el territorio aprovecha algunas de sus ventajas comparativas y cómo estas pueden transfor - marse al agregarle'\n"
     ]
    }
   ],
   "source": [
    "# Demo\n",
    "query = input(\"Hazme una pregunta: \")\n",
    "print(query)\n",
    "llm_response = rag_chain_with_source.invoke(query)\n",
    "process_llm_response(llm_response)"
   ]
  },
  {
   "cell_type": "code",
   "execution_count": 27,
   "metadata": {},
   "outputs": [
    {
     "name": "stdout",
     "output_type": "stream",
     "text": [
      "¿Cuál es la metodología usada en el estudio?\n",
      "La metodología empleada en el estudio se basa en la triangulación de\n",
      "técnicas e información, incluyendo la documentación oficial del\n",
      "municipio, entrevistas semiestructuradas con diferentes actores como\n",
      "el alcalde, la dirección de la Unidad Municipal de Asistencia Técnica\n",
      "Agropecuaria, secretarios, líderes sociales, empresarios, gerentes y\n",
      "trabajadores, y observación directa en la dinámica diaria de los\n",
      "habitantes del municipio, complementada con un registro fotográfico.\n",
      "La investigación se desarrolla de manera exploratoria y descriptiva,\n",
      "con un diseño por fases, buscando identificar las alternativas\n",
      "potenciales para la competitividad y el posicionamiento regional del\n",
      "norte del Valle del Cauca. Además, se integran métodos cualitativos y\n",
      "cuantitativos, abordando dimensiones como el marketing territorial,\n",
      "desarrollo local y regional, competitividad y conectividad, y se\n",
      "emplea la observación no participante y la entrevista semiestructurada\n",
      "como técnicas principales.\n",
      "\n",
      "Referencias:\n",
      "page_content='educadores, ingenieros. • De técnicas: Se empleó la observación no participante, la entrevista semiestructurada a los alcaldes, secreta-rios de gobierno, funcionarios responsables de algunas carteras importantes del municipio. Además, se com-plementó con un amplio registro fotográfico rural y urbano. La ejecución de esta --- Además, se com-plementó con un amplio registro fotográfico rural y urbano. La ejecución de esta propuesta metodológica se plantea por fases. Primera fase Estado del arte en temáticas como marketing territorial, desarrollo local y regional, competitividad y conectividad. El ejercicio de vigilancia tecnológica realizado en bases de datos como Scopus arroja cuatro publicaciones del 2010 al 2013 en el tema de competitividad y marketing territorial; la primera, titulada “El diseño de la estrategia de marketing territorial en los principios de las políticas de clúster” por --- que permitan establecer un con-cepto propio de región. Los textos revisados corresponden a'\n",
      "page_content='en el manejo de los cultivos, específicamente en el de la uva, son consideradas clave en el proceso productivo. 1. Lo metodológico Los resultados obtenidos son producto de la triangulación metodológica: cruce de técnicas e información entre docu-mentación oficial del municipio; entrevistas semiestructu-radas con el alcalde, la dirección de la Unidad Municipal de Asistencia Técnica Agropecuaria (Umata), secretarios, líde-res sociales, empresarios, gerentes y algunos trabajadores; y observación directa en la dinámica diaria de sus pobladores, además del registro fotográfico del municipio.  La investigación en sus inicios se propone exploratoria y  termina como descriptiva, con un diseño por fases. Explo-ratoria porque la revisión de la literatura arroja algunos in-dicios de estudio en la zona norte del Valle del Cauca sobre el tema del marketing territorial y la competitividad, una de ellas es la iniciativa del plan BRUT, donde se vinculan varios municipios como Bolívar, Roldanillo, La'\n",
      "page_content='de los métodos cuantitativo y cualitativo en la investigación social. • De métodos: Se abordan los métodos cualitativo y  cuantitativo. En lo cualitativo porque se busca describir qué caracteriza a los municipios objeto --- cuantitativo. En lo cualitativo porque se busca describir qué caracteriza a los municipios objeto de estudio, des-de la visión del marketing territorial, desarrollo local y regional, competitividad y conectividad. En lo cuan-titativo se miden estas dimensiones con indicadores económicos. • De datos: Porque se cruzarán los datos surgidos a par - tir de diferentes fuentes primarias y secundarias (datos obtenidos de fuentes institucionales, académicas, fun-cionarios y población en general). • De investigadores. Es interdisciplinaria porque el pro-yecto cuenta con profesionales de diferentes áreas del conocimiento, como contadores, administradores, eco-nomistas, educadores, ingenieros. • De técnicas: Se empleó la observación no participante, la entrevista'\n",
      "page_content='que permitan establecer un con-cepto propio de región. Los textos revisados corresponden a bibliografía actualizada, producto de investigaciones en estas áreas del conocimiento, como también a los docu-mentos institucionales de los municipios.  Segunda fase Se aplican entrevistas semiestructuradas según el perfil de las instituciones y del funcionario que suministra la informa-ción (secretario de Gobierno, secretario de Prensa, Alcalde, director de la oficina de la Umata y otros funcionarios dis-ponibles en los días en que se hace el trabajo de campo). También se realizan entrevistas con familias, empresarios, trabajadoras de la uva, líderes sociales, algunas personas de la región. Así mismo, se efectúa una observación directa no participante de las temáticas referidas en el estado del arte, mediante la elaboración de una matriz para recopilar la in-formación, complementada con el registro fotográfico de la región. Tercera fase Selección, categorización, análisis e interpretación de'\n",
      "page_content='[citado en agosto 28 de 2014]  Disponible en Internet:  <http://www.idosi.org/wasj/wasj18%28Eco - nomics%2912/30.pdf> 3. BERICAT, Eduardo. La integración de los métodos cuantitativo y cua-litativo en la investigación social. Significado y medida. Barcelona: Ariel, 1998. 4. BOISIER, Sergio (2006). La imperiosa necesidad de ser diferente en la globalización: el mercadeo territorial. La experiencia de las regiones  chilenas. En: T erritorios, Núm. 15, agosto-diciembre, 2006, pp. 71-85.  [en línea] Universidad del Rosario. [citado en junio 2 de 2014] Dispo- nible en Internet: <http://redalyc.uaemex.mx/pdf/357/35711624005.pdf> 5. BOLETÍN SOCIOECONÓMICO DE LA SUBREGIÓN NORTE No.  1. Participación laboral. [en línea] julio de 2013. [citado en junio 25  de 2014] Disponible en Internet:   <http://www.valledelcauca.gov.co/ planeacion/publicaciones.php?id=24721>'\n"
     ]
    }
   ],
   "source": [
    "# Demo\n",
    "query = input(\"Hazme una pregunta: \")\n",
    "print(query)\n",
    "llm_response = rag_chain_with_source.invoke(query)\n",
    "process_llm_response(llm_response)"
   ]
  },
  {
   "cell_type": "code",
   "execution_count": 28,
   "metadata": {},
   "outputs": [
    {
     "name": "stdout",
     "output_type": "stream",
     "text": [
      "¿Cuáles fueron los resultados?\n",
      "Los resultados obtenidos en el estudio se basaron en la identificación\n",
      "de desafíos y oportunidades para mejorar la competitividad y el\n",
      "desarrollo económico local en el municipio de La Unión, en el contexto\n",
      "de la región norte del Valle del Cauca. Se destacó la importancia de\n",
      "considerar el territorio como un factor clave en la competitividad y\n",
      "el desarrollo regional, proponiendo recomendaciones para potenciar las\n",
      "ventajas comparativas y competitivas del municipio. Además, se\n",
      "mencionó la necesidad de contar con el apoyo de las autoridades\n",
      "locales y la comunidad para lograr resultados exitosos.\n",
      "\n",
      "Es importante resaltar que los resultados del estudio reflejaron la\n",
      "necesidad de fortalecer la educación, promover la asociatividad\n",
      "empresarial y mejorar la infraestructura y la conectividad vial en el\n",
      "municipio. Además, se evidenció la importancia de desarrollar\n",
      "estrategias de marketing territorial para potenciar las ventajas\n",
      "competitivas del territorio. En resumen, los resultados del estudio\n",
      "apuntan hacia la importancia de implementar medidas que impulsen el\n",
      "desarrollo económico y la competitividad del municipio de La Unión.\n",
      "\n",
      "Referencias:\n",
      "page_content='2012). Como efecto de esta decisión, los resultados obtenidos en las pruebas Saber (evaluaciones que se presentan al terminar quinto y noveno grado de escolaridad para evaluar la cali-dad de la educación recibida en términos del cómo se aplica al mundo real lo aprendido) son insuficientes en todas las categorías, este es un reto para la administración municipal, que incluye: mejorar la cobertura, la calidad y la diversifica-ción de la oferta, atemperada a las necesidades del munici-pio y conforme a lo esperado de las nuevas generaciones.  Si las bases educativas son deficientes, como lo afirma el  Plan de Desarrollo Educativo Municipal (s.f) ¿cómo espe-rar la vinculación y permanencia en la educación superior?, máxime cuando estas posibilidades son escasas y depen-den de los municipios vecinos como Roldanillo, median-te el Instituto de Educación Técnica Profesional (INTEP), Zarzal y Cartago; estas dos últimas cuentan, cada una, con una sede regional de la Universidad del Valle donde'\n",
      "page_content='fotográfico de la región. Tercera fase Selección, categorización, análisis e interpretación de los da-tos obtenidos desde la perspectiva de triangulación meto-dológica, a partir de matrices, y la discusión entre el equipo de investigadores, con lo que se elabora el primer borrador de los resultados y las conclusiones de la investigación. Cuarta fase  Socialización y discusión de resultados en eventos acadé- micos e investigativos internos o externos. Es importante  compartir los hallazgos con los actores participantes de la investigación, aspecto que está pendiente de realizar antes de cerrar el proyecto. Quinta fase  Elaboración del informe solicitado por la Dirección de In- vestigaciones de la Universidad de San Buenaventura-Cali y postulación de los productos de generación de nuevo co-nocimiento a revistas indexadas. 2. Resultados y discusión Este apartado aborda cómo el territorio aprovecha algunas de sus ventajas comparativas y cómo estas pueden transfor - marse al agregarle'\n",
      "page_content='ni ha implementado el Plan Decenal de Educación” (Plan de Desarrollo, 2012). Como efecto de esta decisión, los resultados obtenidos en las pruebas Saber (evaluaciones --- 2012). Como efecto de esta decisión, los resultados obtenidos en las pruebas Saber (evaluaciones que se presentan al terminar quinto y noveno grado de escolaridad para evaluar la cali-dad de la educación recibida en términos del cómo se aplica al mundo real lo aprendido) son insuficientes en todas las categorías, este es un reto para la administración municipal, que incluye: mejorar la cobertura, la calidad y la diversifica-ción de la oferta, atemperada a las necesidades del munici-pio y conforme a lo esperado de las nuevas generaciones.  Si las bases educativas son deficientes, como lo afirma el  Plan de Desarrollo Educativo Municipal (s.f) ¿cómo espe-rar la vinculación y permanencia en la educación superior?, máxime cuando estas posibilidades son escasas y depen-den de los municipios vecinos como Roldanillo,'\n",
      "page_content='luces  sobre el por qué desertan de la escuela, lo que permitirá in- dagar sobre la calidad de la educación, y establecer progra- mas de mejoramiento encaminados a obtener resultados  más satisfactorios en las pruebas Saber. Con programas aca- démicos de calidad y con ofertas atractivas para los jóvenes  estos --- Saber. Con programas aca- démicos de calidad y con ofertas atractivas para los jóvenes  estos estarían ocupados estudiando algo de su interés, que  les permita abrirse camino para concretar su proyecto de  vida, lo cual quizás pueda alejarlos de las problemáticas re- feridas en la propuesta 8 alrededor de la prostitución, las  drogas y la violencia. Lo anterior se complementaría con  mejores condiciones laborales que el territorio les brinde. Si el talento humano de este municipio tiene deficiencias  en su formación educativa, ¿cómo se enfrenta al mercado  laboral? Como se puede observar, los datos arrojados en  el Boletín Socioeconómico de la Subregión Norte No. 1  de julio'\n",
      "page_content='con el registro fotográfico de la región. Tercera fase Selección, categorización, análisis e interpretación de --- fotográfico de la región. Tercera fase Selección, categorización, análisis e interpretación de los da-tos obtenidos desde la perspectiva de triangulación meto-dológica, a partir de matrices, y la discusión entre el equipo de investigadores, con lo que se elabora el primer borrador de los resultados y las conclusiones de la investigación. Cuarta fase  Socialización y discusión de resultados en eventos acadé- micos e investigativos internos o externos. Es importante  compartir los hallazgos con los actores participantes de la investigación, aspecto que está pendiente de realizar antes de cerrar el proyecto. Quinta fase  Elaboración del informe solicitado por la Dirección de In- vestigaciones de la Universidad de San Buenaventura-Cali y postulación de los productos de generación de nuevo co-nocimiento a revistas indexadas. 2. Resultados y discusión Este apartado aborda cómo'\n"
     ]
    }
   ],
   "source": [
    "# Demo\n",
    "query = input(\"Hazme una pregunta: \")\n",
    "print(query)\n",
    "llm_response = rag_chain_with_source.invoke(query)\n",
    "process_llm_response(llm_response)"
   ]
  },
  {
   "cell_type": "code",
   "execution_count": 29,
   "metadata": {},
   "outputs": [
    {
     "name": "stdout",
     "output_type": "stream",
     "text": [
      "¿Qué es lo más destacable en términos de investigación de este estudio?\n",
      "Lo más destacable en términos de investigación de este estudio es la\n",
      "aplicación de la triangulación metodológica, que permite obtener datos\n",
      "con diferentes técnicas e instrumentos, como la observación no\n",
      "participante, las entrevistas semiestructuradas a funcionarios\n",
      "públicos y la recopilación de datos estadísticos de los municipios en\n",
      "diferentes rubros. Además, el análisis realizado por un equipo de\n",
      "investigadores de diversas disciplinas como Economía, Contaduría,\n",
      "Administración, Ingeniería de Sistemas y Educación, aporta una visión\n",
      "multidisciplinaria que enriquece la investigación. Esta combinación de\n",
      "métodos y enfoques permite obtener resultados más completos y\n",
      "detallados, que son fundamentales para comprender y mejorar la\n",
      "competitividad y el desarrollo regional en los municipios estudiados.\n",
      "\n",
      "Referencias:\n",
      "page_content='fotográfico de la región. Tercera fase Selección, categorización, análisis e interpretación de los da-tos obtenidos desde la perspectiva de triangulación meto-dológica, a partir de matrices, y la discusión entre el equipo de investigadores, con lo que se elabora el primer borrador de los resultados y las conclusiones de la investigación. Cuarta fase  Socialización y discusión de resultados en eventos acadé- micos e investigativos internos o externos. Es importante  compartir los hallazgos con los actores participantes de la investigación, aspecto que está pendiente de realizar antes de cerrar el proyecto. Quinta fase  Elaboración del informe solicitado por la Dirección de In- vestigaciones de la Universidad de San Buenaventura-Cali y postulación de los productos de generación de nuevo co-nocimiento a revistas indexadas. 2. Resultados y discusión Este apartado aborda cómo el territorio aprovecha algunas de sus ventajas comparativas y cómo estas pueden transfor - marse al agregarle'\n",
      "page_content='si cuenta con indicadores como por ejemplo el aprovecha-miento de los recursos naturales a través de la producción agrícola característica de este municipio, la educación y la infraestructura, entre otros, que son necesarios para que el marketing territorial potencialice las ventajas comparativas y competitivas de una región. Se espera que los resultados de esta investigación tengan un  impacto social y académico, puesto que el trabajo de campo arrojó la necesidad de acompañamiento a los pequeños em-presarios en diferentes ámbitos: comercial, administrativo y contable, el cual sería orientado por la función sustantiva de proyección social de la Universidad, dirigido a las madres cabeza de familia, identificadas como la población más activa en el sector hortofrutícola, ya que ellas, a partir de su expe-riencia en el manejo de los cultivos, específicamente en el de la uva, son consideradas clave en --- en el manejo de los cultivos, específicamente en el de la uva, son consideradas clave'\n",
      "page_content='educadores, ingenieros. • De técnicas: Se empleó la observación no participante, la entrevista semiestructurada a los alcaldes, secreta-rios de gobierno, funcionarios responsables de algunas carteras importantes del municipio. Además, se com-plementó con un amplio registro fotográfico rural y urbano. La ejecución de esta --- Además, se com-plementó con un amplio registro fotográfico rural y urbano. La ejecución de esta propuesta metodológica se plantea por fases. Primera fase Estado del arte en temáticas como marketing territorial, desarrollo local y regional, competitividad y conectividad. El ejercicio de vigilancia tecnológica realizado en bases de datos como Scopus arroja cuatro publicaciones del 2010 al 2013 en el tema de competitividad y marketing territorial; la primera, titulada “El diseño de la estrategia de marketing territorial en los principios de las políticas de clúster” por --- que permitan establecer un con-cepto propio de región. Los textos revisados corresponden a'\n",
      "page_content='con el registro fotográfico de la región. Tercera fase Selección, categorización, análisis e interpretación de --- fotográfico de la región. Tercera fase Selección, categorización, análisis e interpretación de los da-tos obtenidos desde la perspectiva de triangulación meto-dológica, a partir de matrices, y la discusión entre el equipo de investigadores, con lo que se elabora el primer borrador de los resultados y las conclusiones de la investigación. Cuarta fase  Socialización y discusión de resultados en eventos acadé- micos e investigativos internos o externos. Es importante  compartir los hallazgos con los actores participantes de la investigación, aspecto que está pendiente de realizar antes de cerrar el proyecto. Quinta fase  Elaboración del informe solicitado por la Dirección de In- vestigaciones de la Universidad de San Buenaventura-Cali y postulación de los productos de generación de nuevo co-nocimiento a revistas indexadas. 2. Resultados y discusión Este apartado aborda cómo'\n",
      "page_content='de territorio como herramienta para la competitividad y el posicionamiento de una región; si cuenta con indicadores como por ejemplo el aprovecha-miento de los recursos naturales a través de la producción agrícola característica de este municipio, la educación y la infraestructura, entre otros, que son necesarios para que el marketing territorial potencialice las ventajas comparativas y competitivas de una región. Se espera que los resultados de esta investigación tengan un  impacto social y académico, puesto que el trabajo de campo arrojó la necesidad de acompañamiento a los pequeños em-presarios en diferentes ámbitos: comercial, administrativo y contable, el cual sería orientado por la función sustantiva de proyección social de la Universidad, dirigido a las madres cabeza de familia, identificadas como la población más activa en el sector hortofrutícola, ya que ellas, a partir de su expe-riencia en el manejo de los cultivos, específicamente en el de la uva, son consideradas clave en'\n"
     ]
    }
   ],
   "source": [
    "# Demo\n",
    "query = input(\"Hazme una pregunta: \")\n",
    "print(query)\n",
    "llm_response = rag_chain_with_source.invoke(query)\n",
    "process_llm_response(llm_response)"
   ]
  },
  {
   "cell_type": "code",
   "execution_count": null,
   "metadata": {},
   "outputs": [],
   "source": [
    "# Demo\n",
    "query = input(\"Hazme una pregunta: \")\n",
    "print(query)\n",
    "llm_response = rag_chain_with_source.invoke(query)\n",
    "process_llm_response(llm_response)"
   ]
  },
  {
   "cell_type": "code",
   "execution_count": null,
   "metadata": {},
   "outputs": [],
   "source": [
    "# Demo\n",
    "query = input(\"Hazme una pregunta: \")\n",
    "print(query)\n",
    "llm_response = rag_chain_with_source.invoke(query)\n",
    "process_llm_response(llm_response)"
   ]
  },
  {
   "cell_type": "code",
   "execution_count": null,
   "metadata": {},
   "outputs": [],
   "source": [
    "# Demo\n",
    "query = input(\"Hazme una pregunta: \")\n",
    "print(query)\n",
    "llm_response = rag_chain_with_source.invoke(query)\n",
    "process_llm_response(llm_response)"
   ]
  },
  {
   "cell_type": "code",
   "execution_count": null,
   "metadata": {},
   "outputs": [],
   "source": [
    "# Demo\n",
    "query = input(\"Hazme una pregunta: \")\n",
    "print(query)\n",
    "llm_response = rag_chain_with_source.invoke(query)\n",
    "process_llm_response(llm_response)"
   ]
  },
  {
   "cell_type": "markdown",
   "metadata": {},
   "source": [
    "# Hacer historial y guardar conversaciones para medir efectividad."
   ]
  },
  {
   "cell_type": "code",
   "execution_count": null,
   "metadata": {},
   "outputs": [],
   "source": [
    "# Para archivos grandes debes dividir el texto\n",
    "\n",
    "# # Diccionario inicial\n",
    "# data = {\n",
    "#     2: 'El impacto de la innovación de producto, innovación de proceso, innovación organizacional y la percepción de la corrupción en la rentabilidad empresarial en Colombia es un tema abordado en un estudio realizado por Gueiriluz Romero Chaparro y Juan Felipe Gómez Quiceno de la Universidad EAN. El propósito de la investigación es analizar'\n",
    "# }\n",
    "\n",
    "# # Obtener el texto original\n",
    "# original_text = data[2]\n",
    "\n",
    "# # Encontrar el punto medio\n",
    "# mid_point = len(original_text) // 2\n",
    "\n",
    "# # Definir el tamaño del solapamiento\n",
    "# overlap_size = 50\n",
    "\n",
    "# # Calcular los puntos de división con solapamiento\n",
    "# start_overlap = max(mid_point - overlap_size // 2, 0)\n",
    "# end_overlap = min(mid_point + overlap_size // 2, len(original_text))\n",
    "\n",
    "# # Dividir el texto en dos partes con solapamiento\n",
    "# first_half = original_text[:end_overlap]\n",
    "# second_half = original_text[start_overlap:]\n",
    "\n",
    "# # Crear nuevas llaves en el diccionario\n",
    "# data[2] = first_half\n",
    "# data[3] = second_half\n",
    "\n",
    "# # Imprimir el diccionario actualizado\n",
    "# print(data)"
   ]
  }
 ],
 "metadata": {
  "kernelspec": {
   "display_name": ".venv",
   "language": "python",
   "name": "python3"
  },
  "language_info": {
   "codemirror_mode": {
    "name": "ipython",
    "version": 3
   },
   "file_extension": ".py",
   "mimetype": "text/x-python",
   "name": "python",
   "nbconvert_exporter": "python",
   "pygments_lexer": "ipython3",
   "version": "3.12.3"
  }
 },
 "nbformat": 4,
 "nbformat_minor": 2
}
