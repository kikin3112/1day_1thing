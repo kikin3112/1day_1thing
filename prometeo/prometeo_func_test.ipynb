{
 "cells": [
  {
   "cell_type": "code",
   "execution_count": 1,
   "metadata": {},
   "outputs": [],
   "source": [
    "import os\n",
    "import textwrap\n",
    "from dotenv import load_dotenv, find_dotenv\n",
    "from langchain.vectorstores import Chroma\n",
    "from langchain_openai import OpenAIEmbeddings\n",
    "from langchain_openai import ChatOpenAI\n",
    "from langchain.text_splitter import RecursiveCharacterTextSplitter\n",
    "from langchain.chains import RetrievalQA\n",
    "from langchain.document_loaders import PyPDFLoader\n",
    "from langchain.document_loaders import DirectoryLoader\n",
    "from langchain import PromptTemplate"
   ]
  },
  {
   "cell_type": "code",
   "execution_count": 2,
   "metadata": {},
   "outputs": [],
   "source": [
    "load_dotenv(find_dotenv())\n",
    "embeddings = OpenAIEmbeddings()"
   ]
  },
  {
   "cell_type": "markdown",
   "metadata": {},
   "source": [
    "## Elegir si enseñar o recordar (evita el uso de tokens en OpenAI)"
   ]
  },
  {
   "cell_type": "markdown",
   "metadata": {},
   "source": [
    "### 1. Enseñar"
   ]
  },
  {
   "cell_type": "code",
   "execution_count": 3,
   "metadata": {},
   "outputs": [
    {
     "name": "stderr",
     "output_type": "stream",
     "text": [
      "c:\\Users\\luisr\\OneDrive\\Documentos\\GitHub\\1day_1thing\\.venv\\Lib\\site-packages\\langchain_core\\_api\\deprecation.py:119: LangChainDeprecationWarning: Since Chroma 0.4.x the manual persistence method is no longer supported as docs are automatically persisted.\n",
      "  warn_deprecated(\n"
     ]
    },
    {
     "data": {
      "text/plain": [
       "1"
      ]
     },
     "execution_count": 3,
     "metadata": {},
     "output_type": "execute_result"
    }
   ],
   "source": [
    "# Carga de documentos y extracción de información\n",
    "# (asegúrate de que haya PDFs en la carpeta documentos)\n",
    "documents = DirectoryLoader('./documentos/', glob=\"./*.pdf\", loader_cls=PyPDFLoader).load()\n",
    "# Tratameinto de caracteres indeseados\n",
    "for d in documents:\n",
    "    d.page_content = d.page_content.replace('\\n', ' ').replace('\\t', ' ')\n",
    "# Separador de texto (límita el texto para que sea soportado por el LLM)\n",
    "text_splitter = RecursiveCharacterTextSplitter(\n",
    "    chunk_size=2000,\n",
    "    chunk_overlap=200\n",
    ")\n",
    "textos = text_splitter.split_documents(documents)\n",
    "# Se instruye (creación de un knowledge-base) con la info\n",
    "# proporcionada\n",
    "persist_directory = input('¿Cómo se llama este knoledge-base?: ') + '_kb'\n",
    "embedding = OpenAIEmbeddings()\n",
    "vectordb = Chroma.from_documents(documents=textos, \n",
    "                                 embedding=embedding,\n",
    "                                 persist_directory=persist_directory)\n",
    "# Se guarda el conocimiento generado en el directorio actual\n",
    "# para ser usado sin tener que instruir al LLM\n",
    "vectordb.persist()\n",
    "vectordb = None\n",
    "os.system(f'zip -r db.zip ./{persist_directory}')"
   ]
  },
  {
   "cell_type": "markdown",
   "metadata": {},
   "source": [
    "### 2. Recordar (si y solo si Enseñar=Done)"
   ]
  },
  {
   "cell_type": "code",
   "execution_count": 4,
   "metadata": {},
   "outputs": [],
   "source": [
    "# Now we can load the persisted database from disk, and use it as normal. \n",
    "persist_directory = input('¿Qué knoledge-base deseas usar?: ') + '_kb'\n",
    "embedding = OpenAIEmbeddings()\n",
    "vectordb = Chroma(persist_directory=persist_directory, \n",
    "                  embedding_function=embedding)\n",
    "retriever = vectordb.as_retriever(search_kwargs={\"k\": 5})\n",
    "#retriever = vectordb.as_retriever()"
   ]
  },
  {
   "cell_type": "code",
   "execution_count": 5,
   "metadata": {},
   "outputs": [],
   "source": [
    "# Se especifica el LLM de OpenAI\n",
    "turbo_llm = ChatOpenAI(\n",
    "    temperature=0.7,\n",
    "    model_name='gpt-3.5-turbo-0125'\n",
    ")\n",
    "# Se personaliza el LLM\n",
    "template = \"\"\"\n",
    "Eres Prometeo, un asistente personal de revisión biliográfica que habla Español.\n",
    "\n",
    "Tu tarea consiste en:\n",
    "\n",
    "1. Leer detalladamente la información proporcionada en documentos que generalmente son\n",
    "artículos científicos en formato PDF.\n",
    "\n",
    "2. Proporcionar respuestas extremadamente detalladas a cualquier tipo de pregunta relacionada \n",
    "con el contexto, especialmente a preguntas específicas. Evita concluir tus respuestas con un \n",
    "párrafo que comience con 'En resumen,...'. Varía las conclusiones de tus respuestas para que \n",
    "sean más diversas y creativas.\n",
    "\n",
    "3. Ser carismático y ofrecer información sobre ti y tus funciones.\n",
    "\n",
    "SIEMPRE debes responder con base al contexto proporcionado aqui: {context}.\n",
    "        \n",
    "Si no sabes la respuesta, puedes decir: 'No sé'.\n",
    "\n",
    "NUNCA hables específicamente del contexto.\n",
    "\n",
    "NUNCA terminar las respuestas con un resumen o una conclusión predecible.\n",
    "\n",
    "Teniendo en cuenta TODO lo anterior, responde la siguiente pregunta: {question}\n",
    "\"\"\"\n",
    "\n",
    "prometeo_prompt = PromptTemplate(\n",
    "    template=template, input_variables=[\"context\", \"question\"]\n",
    ")\n",
    "# Creación de cadena\n",
    "qa_chain = RetrievalQA.from_chain_type(llm=turbo_llm,\n",
    "                                       chain_type=\"stuff\",\n",
    "                                       retriever=retriever,\n",
    "                                       chain_type_kwargs={\"prompt\": prometeo_prompt},\n",
    "                                       return_source_documents=True)\n",
    "# Formato y referencias de las respuestas\n",
    "def wrap_text_preserve_newlines(text, width=70):\n",
    "    lines = text.split('\\n')\n",
    "    wrapped_lines = [textwrap.fill(line, width=width) for line in lines]\n",
    "    wrapped_text = '\\n'.join(wrapped_lines)\n",
    "    return wrapped_text\n",
    "\n",
    "def process_llm_response(llm_response):\n",
    "    print(wrap_text_preserve_newlines(llm_response['result']))\n",
    "    print('\\nReferencias:')\n",
    "    for source in llm_response[\"source_documents\"]:\n",
    "        print(source.metadata['source'])"
   ]
  },
  {
   "cell_type": "code",
   "execution_count": 6,
   "metadata": {},
   "outputs": [
    {
     "name": "stdout",
     "output_type": "stream",
     "text": [
      "¿Cuáles son los principales resultados de la investigación?\n"
     ]
    },
    {
     "name": "stderr",
     "output_type": "stream",
     "text": [
      "c:\\Users\\luisr\\OneDrive\\Documentos\\GitHub\\1day_1thing\\.venv\\Lib\\site-packages\\langchain_core\\_api\\deprecation.py:119: LangChainDeprecationWarning: The method `Chain.__call__` was deprecated in langchain 0.1.0 and will be removed in 0.3.0. Use invoke instead.\n",
      "  warn_deprecated(\n"
     ]
    },
    {
     "name": "stdout",
     "output_type": "stream",
     "text": [
      "Los principales resultados de la investigación revelan que la\n",
      "producción de trabajos sobre innovación abierta en pymes ha tenido un\n",
      "aumento significativo en los últimos años, destacando el año 2018 con\n",
      "63 trabajos y el año 2019 con 55 trabajos. Se identificó que la\n",
      "mayoría de los documentos son artículos académicos, seguidos de\n",
      "documentos de sesiones, memorias y capítulos de libros. Además, se\n",
      "encontró que los países con mayor contribución de artículos son\n",
      "Italia, Reino Unido, Francia, Corea del Sur, China y España. En cuanto\n",
      "a los autores, se identificaron cuatro clústeres con diferentes\n",
      "enfoques de estudio, abarcando desde la influencia de la cooperación\n",
      "en el desempeño de las pymes hasta el análisis de cómo las redes\n",
      "sociales y el uso de datos abiertos contribuyen a la innovación\n",
      "abierta. Asimismo, se destaca la importancia de realizar estudios\n",
      "cuantitativos con muestras más grandes de empresas para formular\n",
      "hipótesis y crear herramientas orientadas a la gestión de la\n",
      "innovación abierta en las pymes. Por último, se resalta la necesidad\n",
      "de profundizar en la investigación de la innovación abierta en pymes\n",
      "en economías en desarrollo y en el contexto latinoamericano, donde los\n",
      "estudios son aún incipientes.\n",
      "\n",
      "Referencias:\n",
      "documentos\\2145-941X-pege-50-246.pdf\n",
      "documentos\\2145-941X-pege-50-246.pdf\n",
      "documentos\\2145-941X-pege-50-246.pdf\n",
      "documentos\\2145-941X-pege-50-246.pdf\n",
      "documentos\\2145-941X-pege-50-246.pdf\n"
     ]
    }
   ],
   "source": [
    "# Demo\n",
    "query = input(\"Hazme una pregunta: \")\n",
    "print(query)\n",
    "llm_response = qa_chain(query)\n",
    "process_llm_response(llm_response)"
   ]
  },
  {
   "cell_type": "code",
   "execution_count": 7,
   "metadata": {},
   "outputs": [
    {
     "data": {
      "text/plain": [
       "{'query': '¿Cuáles son los principales resultados de la investigación?',\n",
       " 'result': 'Los principales resultados de la investigación muestran que la producción de trabajos sobre innovación abierta en pymes ha ido en aumento en los últimos años, con un pico en el año 2018. Se observa que la mayoría de los documentos son artículos de investigación, seguidos de documentos de sesiones o memorias y capítulos de libros. En cuanto a las fuentes donde se encontraron la mayor cantidad de documentos, se destaca el libro \"Researching open innovation in SMEs\", seguido de la revista \"Open Innovation and Knowledge Management in Small and Medium Enterprises\". Además, se identificaron los países con mayor contribución de artículos, siendo Italia y el Reino Unido los más destacados. En cuanto a los autores, se agruparon en clústeres y se destacaron trabajos que analizan la influencia de la cooperación en el desempeño de las pymes, así como el impacto de las redes sociales en la innovación abierta. En resumen, los resultados sugieren la importancia de continuar investigando en este campo, especialmente con estudios cuantitativos y longitudinales para comprender mejor las barreras y facilitadores de la innovación abierta en las pymes.',\n",
       " 'source_documents': [Document(page_content='254 pensamiento & gestión, 50. Universidad del Norte, 246-273, 2021Rubén Darío Echeverri Romero, Leidi Ruano-Arcos, Sara Isabel Bolaños Delgadoy arrojaron 142 resultados. Estos periodos fueron seleccionados porque  autores como Odriozola-Fernández et al. (2019) y Usman et al. (2018)  habían realizado el ejercicio bibliométrico hasta 2017. Los datos se analizaron utilizando V OSviewer, una herramienta de soft- ware gratuita que utiliza técnicas de mapeo adecuadas que agrupan las  salidas en grandes redes bibliométricas (Van Eck y Waltman, 2010). En  particular, VOSv iewer se usó para el acoplamiento bibliográfico y la con - currencia de palabras clave.  El acoplamiento bibliográfico establece la  similitud entre documentos mediante la identificación de elementos que  comparten las mismas referencias. También se analizó la coocurrencia de  palabras clave, en que identifica la cantidad de veces que dos palabras  clave se usan juntas en los artículos de la muestra y, por tanto, indica su  proximidad al campo de estudio. 4. RESULTADOS 4.1. Análisis de las revistas más productivas La investigación de la innovación abierta en pymes está teniendo mayor  desarrollo en los últimos años. El año 2018 fue de alta producción con  63 trabajos, los cuales en su mayoría son artículos de investigación, 17  son documentos de sesiones o memorias y 16 capítulos de libros y 2  libros. Por su parte, las fuentes donde se encontró la mayor cantidad de  documentos fue el libro Researching open innovation in SMEs , que contiene  12 artículos, la revista Open Innovation and Knowledge Management in Small  and Medium Enterprises con seis documentos y la revista Sustainability  Switzerland  con tres documentos. En 2019, la producción de trabajos disminuyó a 55, los cuales en su gran  mayoría corresponden a artículos académicos y dos capítulos de libros.  Las fuentes donde fueron publicados estos trabajos fueron las revistas  Journal of Business Research , IEEE Transactions on Engineering', metadata={'page': 8, 'source': 'documentos\\\\2145-941X-pege-50-246.pdf'}),\n",
       "  Document(page_content='256 pensamiento & gestión, 50. Universidad del Norte, 246-273, 2021Rubén Darío Echeverri Romero, Leidi Ruano-Arcos, Sara Isabel Bolaños DelgadoPor otra parte, los documentos sobre innovación abierta en pymes entre  2018 y 2020 fueron producidos por 338 autores, de los cuales el 3\\xa0% de  los documentos no se pudieron identificar el país de procedencia. Los paí - ses con mayor contribución de artículos son Italia que representa el 14\\xa0%  de la producción total, seguido del Reino Unido con el 13\\xa0%, Francia con  el 7\\xa0%, Corea del Sur con el 6,5\\xa0% y China y España con el 5,9\\xa0%. 4.2. Análisis de autores En cuanto a la composición de los autores, se clasificaron por VOSviewer  en cuatro clústeres que se componen de la siguiente manera. El clúster  1 está conformado por 21 autores, entre los cuales sobresalen Yun et al.  (2018), quienes presentan 26 citaciones y proponen un modelo de diná - mica cíclica empresarial. Seguido de Hameed y Naveed (2019) quienes  analizan la influencia de la cooperación en el desempeño de la pyme de  alta tecnología de Malasia. Se determina el impacto de las redes sociales  en el potencial de innovación y el análisis de redes de la pyme y su im - pacto en la innovación. El segundo clúster está conformado por 20 autores, de los cuales sobre - salen Del Vecchio et al. (2018), Radziwon y Bogers (2019) y Singh et  al. (2019) con 18, 15 y 10 citas, respectivamente. Los investigadores de  este clúster realizan estudios analizando cómo las redes sociales (Candi et  al., 2018), el big data  (Del Vecchio et al., 2018), el crowdfunding  (Pronti  y Pagliarino, 2018) y el uso de los datos abiertos (Huber et al., 2020)  contribuyen a la innovación abierta. Por otra parte, señalan que la relación con socios externos (Chege y Wang,  2019), el valor del conocimiento de la alta dirección y las prácticas de  creación de conocimiento influyen en la innovación abierta, lo que a su  vez lo hace en el desempeño de la empresa (Singh et al., 2019). Igual - mente,', metadata={'page': 10, 'source': 'documentos\\\\2145-941X-pege-50-246.pdf'}),\n",
       "  Document(page_content='of Business Research  concentran la mayoría de artículos citados.  Uno de los aspectos que se resaltan es que se encontró que el libro Resear - ching open innovation in SMEs aparece como una de las mayores fuentes/do - cumentos más citados. Los hallazgos coinciden con los de Oduro (2019)  respecto del país: los países europeos están en la cima en el estudio de la  innovación abierta en pymes. De acuerdo con Oduro (2019), después de 2017 debería aumentar el nú - mero de artículos que superen el umbral de 100 citas; para la fecha de su  investigación, existían cuatro, a la fecha hay nueve artículos en Scopus  que superan las 100 citas. Es decir que nuevos autores están surgiendo en', metadata={'page': 19, 'source': 'documentos\\\\2145-941X-pege-50-246.pdf'}),\n",
       "  Document(page_content='corresponden a artículos académicos y dos capítulos de libros.  Las fuentes donde fueron publicados estos trabajos fueron las revistas  Journal of Business Research , IEEE Transactions on Engineering Management ,  International Journal of Innovation Management , Journal of Organizational  Change Management  y Technological Forecasting and Social Change . En lo que  va de corrido 2020 se han publicado 24 documentos, entre los cuales  su gran mayoría son artículos académicos que corresponden a 20. Las', metadata={'page': 8, 'source': 'documentos\\\\2145-941X-pege-50-246.pdf'}),\n",
       "  Document(page_content='268 pensamiento & gestión, 50. Universidad del Norte, 246-273, 2021Rubén Darío Echeverri Romero, Leidi Ruano-Arcos, Sara Isabel Bolaños Delgadoco y de otros autores muestra que la mayoría de los estudios hasta ahora  han sido de naturaleza exploratoria, por lo que es difícil de generalizar  los resultados en poblaciones más grandes de pyme, de esta manera se  sugiere el uso de estudios cuantitativos para una muestra más grande de  empresas que permitan formular hipótesis y tener resultados que puedan  ser extrapolados para crear herramientas orientadas a la gestión de la in - novación abierta en las pymes. Las investigaciones futuras deberían considerar realizar análisis longitudi - nales en lugar de análisis transversales. Por tanto, se necesita más evidencia  empírica para arrojar nueva luz sobre las barreras de entrada y la naturaleza  de la empresa que permita un flujo libre de información entre los socios. Se  debe profundizar en la innovación abierta como promotor de la internacio - nalización de las pymes. Por último, muchas de las investigaciones se han  desarrollado en pymes de economías desarrolladas (de Europa occidental),  algunos países como China ya están realizando este tipo de investigaciones  y en el contexto latinoamericano los estudios son muy incipientes. REFERENCIAS Acs, Z. J., Morck, R. K. y Yeung, B. (2001). Entrepreneurship, globaliza - tion, and public policy. Journal of International Management , 7(3), 235-251.  https://doi.org/10.1016/S1075-4253(01)00046-1 Ahmed, S., Halim, H. A. y Ahmad, N. H. (2018). Open and closed innovation and  enhanced performance of SME hospitals: A conceptual model. Business Perspec - tives and Research , 6(1), 1-12. https://doi.org/10.1177/2278533717722661 Ardito, L., Ferraris, A., Petruzzelli, A. M., Bresciani, S. y Del Giudice, M.  (2019). The role of universities in the knowledge management of smart city  projects. Technological Forecasting and Social Change , 142, 312-321. https://', metadata={'page': 22, 'source': 'documentos\\\\2145-941X-pege-50-246.pdf'})]}"
      ]
     },
     "execution_count": 7,
     "metadata": {},
     "output_type": "execute_result"
    }
   ],
   "source": [
    "#Demo break down\n",
    "query = query#input(\"Hazme una pregunta: \")\n",
    "llm_response = qa_chain(query)\n",
    "llm_response"
   ]
  },
  {
   "cell_type": "code",
   "execution_count": 8,
   "metadata": {},
   "outputs": [
    {
     "name": "stdout",
     "output_type": "stream",
     "text": [
      "\n",
      "¿Cuál es la relación entre las políticas públicas, la innovación\n",
      "abierta y la internacionalización en las pymes según los autores\n",
      "mencionados en el documento proporcionado?\n",
      "\n",
      "Referencias:\n",
      "documentos\\2145-941X-pege-50-246.pdf\n",
      "documentos\\2145-941X-pege-50-246.pdf\n",
      "documentos\\2145-941X-pege-50-246.pdf\n",
      "documentos\\2145-941X-pege-50-246.pdf\n",
      "documentos\\2145-941X-pege-50-246.pdf\n"
     ]
    }
   ],
   "source": [
    "# Demo\n",
    "query = input(\"Hazme una pregunta: \")\n",
    "print(query)\n",
    "llm_response = qa_chain(query)\n",
    "process_llm_response(llm_response)"
   ]
  },
  {
   "cell_type": "code",
   "execution_count": 9,
   "metadata": {},
   "outputs": [
    {
     "data": {
      "text/plain": [
       "{'query': '',\n",
       " 'result': '¿Cuál es el impacto de la innovación abierta en las pymes agroindustriales en Colombia?',\n",
       " 'source_documents': [Document(page_content='272 pensamiento & gestión, 50. Universidad del Norte, 246-273, 2021Rubén Darío Echeverri Romero, Leidi Ruano-Arcos, Sara Isabel Bolaños DelgadoRuano -Arcos, L. D., Echeverri Romero, R. D., Rodríguez Orejuela, H. A.,  Castellanos, T. F. S. y Pineda Ospina, D. L. (2016). Public Policy for  the promotion of innovation in the Food Sector in Colombia. Cuader - nos de Administración , 32(56), 100-114. http://www.scielo.org.co/scielo. php?pid=S0120-46452016000200100&script=sci_abstract&tlng=en Ruiz, J. L., Polo Otero, J. L., Arrieta Barcasnegras, A. A. y Vélez Durán, L. F.  (2018). Determinantes del grado de apertura de las pymes agroindustriales:  una aplicación para el departamento del Atlántico. Revista Desarrollo y Socie - dad, 80, 189-229. https://doi.org/10.13043/ DYS.80.6 Santoro, G., Ferraris, A. y Winteler, D. J. (2019). Open innovation practices  and related internal dynamics: Case studies of Italian ICT SME s. EuroMed  Journal of Business , 14(1), 47-61. https://doi.org/10.1108/ EMJB -05-2018- 0031 Santoro, G., Ferraris, A., Giacosa, E. y Giovando, G. (2018). How  SMEs engage  in open innovation: A survey. Journal of the Knowledge Economy , 9(2), 561- 574. https://doi.org/10.1007/s13132-015-0350-8 Santoro, G., Mazzoleni, A., Quaglia, R. y Solima, L. (2019). Does age matter?  The impact of SMEs age on the relationship between knowledge sourcing  strategy and internationalization. Journal of Business Research , 128, 779- 787. https://doi.org/10.1016/j.jbusres.2019.05.021 Scuotto, V ., Santoro, G., Papa, A. y Carayannis, E. G. (2017). Triggering open  service innovation through social media networks. Mercati e competitività , 3,  21-40. Sekliuckiene, J., Sedziniauskiene, R. y Viburys, V . (2016). Adoption of open in - novation in the internationalization of knowledge intensive firms. Enginee - ring Economics , 27(5), 607-617. https://doi.org/10.5755/j01.ee.27.5.15371 Singh, S. K., Gupta, S., Busso, D. y Kamboj, S. (2019). Top management  knowledge value, knowledge', metadata={'page': 26, 'source': 'documentos\\\\2145-941X-pege-50-246.pdf'}),\n",
       "  Document(page_content='pensamiento y gestión, N.° 50 ISSN 2145-941X (online)Políticas, innovación abierta e  internacionalización en pymes Policies, Open Innovation and  Internationalization in SMEs Rubén Darío Echeverri Romero ruben.echeverry@correounivalle.edu.co Economista por Universidad del Valle y magíster en Ciencias Econó - micas por la Universidad Católica de Lovaina. Docente e investigador  de la Universidad del Valle. Leidi Ruano-Arcos leidi.ruano@correounivalle.edu.co Administradora de empresas por la Universidad del Valle y magíster  en Ciencias de la Organización por la Universidad. Docente de la Uni - versidad del Valle. Sara Isabel Bolaños Delgado sara.bolanos@correounivalle.edu.co Socióloga de la Universidad del Valle y Especialista en gerencia de  Marketing Estratégico de la Universidad del Valle .', metadata={'page': 0, 'source': 'documentos\\\\2145-941X-pege-50-246.pdf'}),\n",
       "  Document(page_content='World Scientific. https://doi. org/10.1142/9789813230972_0010 Del Vecchio, P ., Di Minin, A., Petruzzelli, A. M., Panniello, U. y Pirri, S. (2018).  Big data for open innovation in SMEs and large corporations: Trends, oppor - tunities, and challenges. Creativity and Innovation Management , 27(1), 6-22.  https://doi.org/10.1111/caim.12224 Durst, S. y Runar Edvardsson, I. (2012). Knowledge management in SMEs: A  literature review. Journal of Knowledge Management , 16(6), 879-903. https:// doi.org/10.1108/13673271211276173. Gassmann, O. y Enkel, E. (2004). Towards a theory of open innovation: Three core  process archetypes  [ponencia]. R&D Management Conference ( RADMA ) 2004,  Lisboa, Portugal. https://www.alexandria.unisg.ch/274/ Gassmann, O., Enkel, E. y Chesbrough, H. (2010). The future of open inno - vation. R&D Management , 40(3), 213-221. https://doi.org/10.1111/j.1467- 9310.2010.00605.x', metadata={'page': 23, 'source': 'documentos\\\\2145-941X-pege-50-246.pdf'}),\n",
       "  Document(page_content='270 pensamiento & gestión, 50. Universidad del Norte, 246-273, 2021Rubén Darío Echeverri Romero, Leidi Ruano-Arcos, Sara Isabel Bolaños DelgadoGomezel, A. S. y Rangus, K. (2018). An exploration of an entrepreneur’s open  innovation mindset in an emerging country. Management Decision , 56(9),  1869-1882. https://doi.org/10.1108/ MD-04-2017-0382 Grama-Vigouroux, S., Saidi, S., Berthinier-Poncet, A., Vanhaverbeke, W . y Ma - danamoothoo, A. (2019). From closed to open: A comparative stakeholder  approach for developing open innovation activities in SMEs. Journal of Busi - ness Research , 119, 230-244. https://doi.org/10.1016/j.jbusres.2019.08.016 Grimsdottir, E. y Edvardsson, I. R. (2018). Knowledge creation and open  innovation in high-technology SMEs. En S. Durst, S. Temel y H. Ai - senberg Ferenhof (eds.), Open innovation and knowledge management in  small and medium enterprises  (pp. 87-116). World Scientific. https://doi. org/10.1142/9789813233591_0006 Hagedoorn, J. (1996). Trends and patterns in strategic technology partnering  since the early seventies. Review of Industrial Organization , 11(5), 601-616.  https://doi.org/10.1007/ BF00214825 Hagedoorn, J. y Van Kranenburg, H. (2003). Growth patterns in R&D partners - hips: An exploratory statistical study. International Journal of Industrial Orga - nization , 21(4), 517-531. https://doi.org/10.1016/S0167-7187(02)00126- 1 Hameed, W . U. y Naveed, F. (2019). Coopetition-based open-innovation and  innovation performance: Role of trust and dependency evidence from Ma - laysian high-tech SMEs. Pakistan Journal of Commerce and Social Sciences ,  13(1), 209-230. https://www.econstor.eu/handle/10419/196194 Huber, F., Wainwright, T. y Rentocchini, F. (2020). Open data for open in - novation: managing absorptive capacity in SMEs. R&D Management , 50(1),  31-46. https://doi.org/10.1111/radm.12347 Kenny, B. y Meaton, J. (2007). Cross‐benchmarking international com - petitiveness and performance in human language', metadata={'page': 24, 'source': 'documentos\\\\2145-941X-pege-50-246.pdf'}),\n",
       "  Document(page_content='258 pensamiento & gestión, 50. Universidad del Norte, 246-273, 2021Rubén Darío Echeverri Romero, Leidi Ruano-Arcos, Sara Isabel Bolaños Delgado Fuente:  VOSviewer. Figura 1.  Clúster de autores por similitud de referencias Tabla 2. Grupo de autores basado en el grado en  que comparten las mismas referencias Clúster  1Yun J.H.J. (2018); Ul Hameed W . (2019); Dell’era C. (2018); Yun J.J. (2018);  Ioanid A. (2018); Brink T. (2018); Akinwale Y .O. (2018); Gama F. (2019); Gen - tile-Lüdecke S. (2019); Gomezel; A.S. (2018); Yoo H.S. (2018); Doran J. (2019)  Jasimuddin S.M. (2019), Manville G. (2019), Chesbrough H.W . (2018), An - derson R.W . (2018); Jones-Evans D. (2018); Howson T. (2018); Sahin T. (2018) Clúster  2 Del vecchio p. (2018); Singh s.k. (2019); Radziwon a. (2019); Candi m. (2018);  Kapetaniou c. (2019); Usai a. (2018); Mei l. (2019); Santoro G. (2019b); Giu - dici g. (2018); Silviana b.g. (2018); Guo y. (2019); Huber f. (2020); Nestle v.  (2019); Gomezel a.s. (2018); Pratono a.h. (2018); Kim n.k. (2020); Chege s.m.  (2019); Pronti a. (2019); Omta o. (2018); Ruiz j.l.r. (2018) Clúster  3 Santoro G. (2018); Usman m. (2018); Tobiassen a.e. (2018); Bigliardi b. (2018);  Park j.-h. (2018); Kraus s. (2020); Gama f. (2019); Oduro s. (2019); Odriozola- fernández i. (2019); Hinteregger c. (2019); Grama-vigouroux s. (2019); Ahmed  s. (2018) Clúster  4Santoro G. (2019a); Gabrielsson j. (2018); lv d.d. (2018); Grimsdottir e.  (2018a); Vidmar m. (2019) ;) Vidmar m. (2020); Vrgovi ć p. (2018); Marullo c.  (2018); Grimsdottir e. (2018) Fuente:  VOSviewer.', metadata={'page': 12, 'source': 'documentos\\\\2145-941X-pege-50-246.pdf'})]}"
      ]
     },
     "execution_count": 9,
     "metadata": {},
     "output_type": "execute_result"
    }
   ],
   "source": [
    "#Demo break down\n",
    "query = query#input(\"Hazme una pregunta: \")\n",
    "llm_response = qa_chain(query)\n",
    "llm_response"
   ]
  },
  {
   "cell_type": "code",
   "execution_count": 10,
   "metadata": {},
   "outputs": [
    {
     "name": "stdout",
     "output_type": "stream",
     "text": [
      "\n",
      "Eres Prometeo, un asistente personal de revisión biliográfica que habla Español.\n",
      "\n",
      "Tu tarea consiste en:\n",
      "\n",
      "1. Leer detalladamente la información proporcionada en documentos que generalmente son\n",
      "artículos científicos en formato PDF.\n",
      "\n",
      "2. Proporcionar respuestas extremadamente detalladas a cualquier tipo de pregunta relacionada \n",
      "con el contexto, especialmente a preguntas específicas. Evita concluir tus respuestas con un \n",
      "párrafo que comience con 'En resumen,...'. Varía las conclusiones de tus respuestas para que \n",
      "sean más diversas y creativas.\n",
      "\n",
      "3. Ser carismático y ofrecer información sobre ti y tus funciones.\n",
      "\n",
      "SIEMPRE debes responder con base al contexto proporcionado aqui: {context}.\n",
      "        \n",
      "Si no sabes la respuesta, puedes decir: 'No sé'.\n",
      "\n",
      "NUNCA hables específicamente del contexto.\n",
      "\n",
      "NUNCA terminar las respuestas con un resumen o una conclusión predecible.\n",
      "\n",
      "Teniendo en cuenta TODO lo anterior, responde la siguiente pregunta: {question}\n",
      "\n"
     ]
    }
   ],
   "source": [
    "print(qa_chain.combine_documents_chain.llm_chain.prompt.template)"
   ]
  }
 ],
 "metadata": {
  "kernelspec": {
   "display_name": ".venv",
   "language": "python",
   "name": "python3"
  },
  "language_info": {
   "codemirror_mode": {
    "name": "ipython",
    "version": 3
   },
   "file_extension": ".py",
   "mimetype": "text/x-python",
   "name": "python",
   "nbconvert_exporter": "python",
   "pygments_lexer": "ipython3",
   "version": "3.12.3"
  }
 },
 "nbformat": 4,
 "nbformat_minor": 2
}
