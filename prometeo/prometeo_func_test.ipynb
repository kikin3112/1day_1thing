{
 "cells": [
  {
   "cell_type": "code",
   "execution_count": 1,
   "metadata": {},
   "outputs": [],
   "source": [
    "import os\n",
    "import textwrap\n",
    "from dotenv import load_dotenv, find_dotenv\n",
    "from langchain.vectorstores import Chroma\n",
    "from langchain_openai import OpenAIEmbeddings\n",
    "from langchain_openai import ChatOpenAI\n",
    "from langchain.text_splitter import RecursiveCharacterTextSplitter\n",
    "from langchain.chains import RetrievalQA\n",
    "from langchain.document_loaders import PyPDFLoader\n",
    "from langchain.document_loaders import DirectoryLoader\n",
    "from langchain import PromptTemplate"
   ]
  },
  {
   "cell_type": "code",
   "execution_count": 2,
   "metadata": {},
   "outputs": [],
   "source": [
    "load_dotenv(find_dotenv())\n",
    "embeddings = OpenAIEmbeddings()"
   ]
  },
  {
   "cell_type": "markdown",
   "metadata": {},
   "source": [
    "## Elegir si enseñar o recordar (evita el uso de tokens en OpenAI)"
   ]
  },
  {
   "cell_type": "markdown",
   "metadata": {},
   "source": [
    "### 1. Enseñar"
   ]
  },
  {
   "cell_type": "code",
   "execution_count": 3,
   "metadata": {},
   "outputs": [
    {
     "name": "stderr",
     "output_type": "stream",
     "text": [
      "c:\\Users\\luisr\\OneDrive\\Documentos\\GitHub\\1day_1thing\\.venv\\Lib\\site-packages\\langchain_core\\_api\\deprecation.py:119: LangChainDeprecationWarning: Since Chroma 0.4.x the manual persistence method is no longer supported as docs are automatically persisted.\n",
      "  warn_deprecated(\n"
     ]
    },
    {
     "data": {
      "text/plain": [
       "1"
      ]
     },
     "execution_count": 3,
     "metadata": {},
     "output_type": "execute_result"
    }
   ],
   "source": [
    "# Carga de documentos y extracción de información\n",
    "# (asegúrate de que haya PDFs en la carpeta documentos)\n",
    "documents = DirectoryLoader('./documentos/', glob=\"./*.pdf\", loader_cls=PyPDFLoader).load()\n",
    "# Tratameinto de caracteres indeseados\n",
    "for d in documents:\n",
    "    d.page_content = d.page_content.replace('\\n', ' ').replace('\\t', ' ')\n",
    "# Separador de texto (límita el texto para que sea soportado por el LLM)\n",
    "text_splitter = RecursiveCharacterTextSplitter(\n",
    "    chunk_size=2000,\n",
    "    chunk_overlap=200\n",
    ")\n",
    "textos = text_splitter.split_documents(documents)\n",
    "# Se instruye (creación de un knowledge-base) con la info\n",
    "# proporcionada\n",
    "persist_directory = input('¿Cómo se llama este knoledge-base?: ') + '_kb'\n",
    "embedding = OpenAIEmbeddings()\n",
    "vectordb = Chroma.from_documents(documents=textos, \n",
    "                                 embedding=embedding,\n",
    "                                 persist_directory=persist_directory)\n",
    "# Se guarda el conocimiento generado en el directorio actual\n",
    "# para ser usado sin tener que instruir al LLM\n",
    "vectordb.persist()\n",
    "vectordb = None\n",
    "os.system(f'zip -r db.zip ./{persist_directory}')"
   ]
  },
  {
   "cell_type": "markdown",
   "metadata": {},
   "source": [
    "### 2. Recordar (si y solo si Enseñar=Done)"
   ]
  },
  {
   "cell_type": "code",
   "execution_count": 4,
   "metadata": {},
   "outputs": [],
   "source": [
    "# Now we can load the persisted database from disk, and use it as normal. \n",
    "persist_directory = input('¿Qué knoledge-base deseas usar?: ') + '_kb'\n",
    "embedding = OpenAIEmbeddings()\n",
    "vectordb = Chroma(persist_directory=persist_directory, \n",
    "                  embedding_function=embedding)\n",
    "retriever = vectordb.as_retriever(search_kwargs={\"k\": 5})\n",
    "#retriever = vectordb.as_retriever()"
   ]
  },
  {
   "cell_type": "code",
   "execution_count": 5,
   "metadata": {},
   "outputs": [],
   "source": [
    "# Se especifica el LLM de OpenAI\n",
    "turbo_llm = ChatOpenAI(\n",
    "    temperature=0.7,\n",
    "    model_name='gpt-3.5-turbo-0125'\n",
    ")\n",
    "# Se personaliza el LLM\n",
    "template = \"\"\"\n",
    "Eres Prometeo, un asistente personal de lectura que habla Español.\n",
    "\n",
    "Tu tarea consiste en:\n",
    "\n",
    "1. Ser carismático y ofrecer información sobre ti y tus funciones.\n",
    "\n",
    "2. Leer detalladamente la información proporcionada en documentos\n",
    "de texto en formato PDF, para ser capaz de dar respuestas a cualquier tipo de pregunta,\n",
    "en especial a preguntas puntuales.\n",
    "\n",
    "SIEMPRE debes responder con base al contexto proporcionado aqui: {context}.\n",
    "        \n",
    "Si no sabes la respuesta, puedes decir: 'No sé'.\n",
    "\n",
    "NUNCA hables del contexto.\n",
    "\n",
    "Teniendo lo anterior en cuenta, responde la siguiente pregunta: {question}\n",
    "\"\"\"\n",
    "\n",
    "prometeo_prompt = PromptTemplate(\n",
    "    template=template, input_variables=[\"context\", \"question\"]\n",
    ")\n",
    "# Creación de cadena\n",
    "qa_chain = RetrievalQA.from_chain_type(llm=turbo_llm,\n",
    "                                       chain_type=\"stuff\",\n",
    "                                       retriever=retriever,\n",
    "                                       chain_type_kwargs={\"prompt\": prometeo_prompt},\n",
    "                                       return_source_documents=True)\n",
    "# Formato y referencias de las respuestas\n",
    "def wrap_text_preserve_newlines(text, width=70):\n",
    "    lines = text.split('\\n')\n",
    "    wrapped_lines = [textwrap.fill(line, width=width) for line in lines]\n",
    "    wrapped_text = '\\n'.join(wrapped_lines)\n",
    "    return wrapped_text\n",
    "\n",
    "def process_llm_response(llm_response):\n",
    "    print(wrap_text_preserve_newlines(llm_response['result']))\n",
    "    print('\\nReferencias:')\n",
    "    for source in llm_response[\"source_documents\"]:\n",
    "        print(source.metadata['source'])"
   ]
  },
  {
   "cell_type": "code",
   "execution_count": 6,
   "metadata": {},
   "outputs": [
    {
     "name": "stdout",
     "output_type": "stream",
     "text": [
      "¿Cuáles son los enfoques usados en la investigación?\n"
     ]
    },
    {
     "name": "stderr",
     "output_type": "stream",
     "text": [
      "c:\\Users\\luisr\\OneDrive\\Documentos\\GitHub\\1day_1thing\\.venv\\Lib\\site-packages\\langchain_core\\_api\\deprecation.py:119: LangChainDeprecationWarning: The method `Chain.__call__` was deprecated in langchain 0.1.0 and will be removed in 0.3.0. Use invoke instead.\n",
      "  warn_deprecated(\n"
     ]
    },
    {
     "name": "stdout",
     "output_type": "stream",
     "text": [
      "Los enfoques utilizados en la investigación son el enfoque cualitativo\n",
      "y el enfoque cuantitativo.\n",
      "\n",
      "Referencias:\n",
      "documentos\\4.pdf\n",
      "documentos\\4.pdf\n",
      "documentos\\4.pdf\n",
      "documentos\\4.pdf\n",
      "documentos\\4.pdf\n"
     ]
    }
   ],
   "source": [
    "# Demo\n",
    "query = input(\"Hazme una pregunta: \")\n",
    "print(query)\n",
    "llm_response = qa_chain(query)\n",
    "process_llm_response(llm_response)"
   ]
  },
  {
   "cell_type": "code",
   "execution_count": 7,
   "metadata": {},
   "outputs": [
    {
     "data": {
      "text/plain": [
       "{'query': '¿Cuáles son los enfoques usados en la investigación?',\n",
       " 'result': 'Los enfoques utilizados en la investigación son cualitativo y cuantitativo.',\n",
       " 'source_documents': [Document(page_content='De acuerdo con la selección y uso de  las técnicas metodológicas, se evidenció entre  las principales seleccionadas, la entrevista,  puesto que su aplicación prevaleció en los  estudios en Europa: El primero fue realizado  en Grecia, en donde hicieron uso de la técnica  de la entrevista a expertos para indagar acerca  de los problemas de desarrollo de innovación,  falta de fondos y la comercialización de  productos (Pechlivanidis, 1993). Por otra  parte, también fue utilizada la entrevista en  estudios realizados en Reino Unido y en la  Unión Europea, buscando el contexto político  y el alcance de mejoras de programas públicos  basados en programas de la universidad que permitían el mejoramiento en innovación  (Vega et al., 2012). En África, se realizaron entrevistas a  los innovadores informales para preguntarles  acerca de la adaptación tecnológica de la  economía aunada al uso de la técnica de  la observación, que les permitió obtener  resultados para fabricar tecnología agrícola  adecuada en Zimbabue en poblaciones rurales  para contrarrestar el mercado chino (Manyati  y Mutsau, 2019); mientras que por el lado  de América, se realizaron entrevistas para el  desarrollo de innovación tecnológica, además  del estudio de caso que se había realizado en la  misma investigación, la cual fue mencionada  previamente (Pereira et al., 2015). 3.2. Enfoque cuantitativo Desde una perspectiva cuantitativa, se  pudo observar en 44 estudios la aplicación de  las técnicas más comunes, el de la encuesta con  21 investigaciones encontradas, seguido de los  estudios econométricos con 12 documentos,  la aplicación de métodos con 4, ecuaciones  estructurales con 3 y solo con un estudio cada  uno, se encuentran la aplicación de métodos  como la bibliometría, la evaluación sintética, el  de análisis de redes sociales y el de extracción  de elementos dominantes.  Se realizó un solo estudio de  bibliometría de aplicación mundial a través  del cual se analiza, desde la perspectiva de  las', metadata={'page': 9, 'source': 'documentos\\\\4.pdf'}),\n",
       "  Document(page_content='Barrios y  Acosta-Prado, 2017).  3. Aplicación de estudios según  enfoques y método de investigación Para el desarrollo de ésta sección, se  registraron y categorizaron los estudios según  la aplicación de método o técnica cualitativa  en la búsqueda de la innovación de las pyme. 3.1. Enfoque cualitativo  Este proceso permitió determinar 5 tipos  de métodos y técnicas cualitativas, entre estas el análisis documental con 7 estudios, seguido  de los estudios de caso con 6 investigaciones,  las entrevistas con 4, así como el análisis  de contenido y la observación directa, con  una investigación cada una. Por tanto, un  total de 19 estudios se realizaron de manera  cualitativa; mientras que la predominancia de  estudios relacionados con la innovación, se da  a partir de la aplicación de métodos y técnicas  cuantitativas, las cuales se describirán más  adelante. Con relación al análisis documental, se  encontró que en un orden mundial se elaboraron  tres investigaciones, dos de las cuales  abordaron el término de innovación abierta a  través de la adopción de estrategias (Rahman,  2016a) y del desarrollo del emprendimiento  (Rahman, 2016b); mientras que el tercer  estudio se centró en la investigación y el  desarrollo de las pyme que impacta en el  desempeño de la innovación (Prasanthi y  Sundari, 2016). Por otra parte, en Asia se presentaron  dos investigaciones que aplican el análisis  documental en Irán y Malasia, el primero,  centrado en Irán se enfoca en la satisfacción  del cliente como determinante del  comportamiento del consumidor (Gharakhani  et al., 2013). El segundo, el de Malasia trata  de la capacidad innovadora para gestionar  competencias y recursos clave en el campo  de los recursos humanos (Lee et al., 2017).  En el continente europeo, se realizó un solo  estudio en Italia, en donde se observaron 29  documentos para determinar el impacto que  tuvo un curso de emprendimiento intentando  observar las variables de cultura emprendedora  e innovación', metadata={'page': 8, 'source': 'documentos\\\\4.pdf'}),\n",
       "  Document(page_content='sector de aplicación.  Para complementar su desarrollo se procede  con el registro sobre la aplicación de estudios  según los enfoques metodológicos en el que se  resalta la rigurosidad científica, para dar paso  a la declaración de las conclusiones.  1. Metodología  Para fundamentar metodológicamente  el desarrollo del estudio, se define la estructura  sistemática centrada en la revisión hemerográfica  sobre la producción intelectual publicada en  revistas científicas de alto impacto indexadas  en Scopus , y disponibles durante el periodo  comprendido entre 1999 al 2019.  Para la extracción de los datos se  empleó la siguiente fórmula de búsqueda:  ( TITLE-ABS-KEY ( “innovation” ) AND  TITLE-ABS-KEY ( “small and medium-sized', metadata={'page': 3, 'source': 'documentos\\\\4.pdf'}),\n",
       "  Document(page_content='a las técnicas y métodos científicos  utilizados para la investigación y el desarrollo  en innovación, además de incorporar el análisis  de redes sociales, identificando las tendencias  de la producción intelectual sobre las pequeñas  y medianas empresas (pyme). Es así como  desde el enfoque metodológico, se destaca  la importancia del análisis de contenido, la  cual se desarrolló utilizando los documentos  científicos publicados e indexados en la base  de datos Scopus . Como parte fundamental para la  comprensión de las variables, se describe el  concepto de innovación, como el desarrollo  o mejoramiento de productos y procesos,  con una orientación hacia la solución de  problemas, la obtención de ganancias, siendo  una condición tecnológica inherente a todos  los problemas de eficiencia y eficacia (Caird,  1992; Campo-Ternera et al., 2018; Velázquez, Cruz y Vargas, 2018; Vega, Bautista y  Martínez, 2020; Medina y Espinosa, 2022).  Por su parte, Albornoz (2009), lo describe  como la búsqueda de mejores condiciones  competitivas desde las empresas a través de  la investigación básica y la tecnología. Es así  que la innovación se compone de una serie  de actividades, no solamente científicas y  tecnológicas, sino también organizacionales,  financieras y comerciales; acciones que, en  potencia, transforman las fases productivas y  comerciales de las empresas.  Por otra parte, el análisis de redes sociales  representa la estructura social en términos de  relaciones (lazos) entre objetos sociales, la cual  se ocupa de los tipos y patrones de relaciones,  así como las causas y consecuencias de estos  patrones (Tichy y Fombrun, 1979). Para Scott  (1988), es una red de relaciones sociales,  siendo una malla entrelazada de conexiones a  través de las cuales un grupo de individuos, en  forma agrupada o individual, se relacionan con  otros con un fin específico, caracterizado por la', metadata={'page': 2, 'source': 'documentos\\\\4.pdf'}),\n",
       "  Document(page_content='son  los estudios que involucran la informática y  comunicación. En América, el análisis general  de las pyme, la manufactura, el turismo, el  sector textil y de servicios son los sectores a  través de los cuales se han publicado estudios  para el análisis de innovación tecnológica  en las pyme. En tanto que, en Colombia, se  publican investigaciones relacionadas con el  sector servicios y el textil.  Con respecto de las investigaciones  cualitativas, predominaron teniendo como  objeto de estudio la población mundial,  desarrollando análisis documental,  seguidamente de estudios en las empresas  asiáticas. Las publicaciones sobre estudios de  caso, que describen procesos de innovación en  las pyme, se desarrollaron mayormente desde  la perspectiva cualitativa en Europa, seguidas  de Asia.   Por otra parte, la población europea  representó una mayor diversidad de estudios  centrados en enfoque y técnicas, entre estos  el cualitativo, y como técnicas el análisis  documental, el análisis de contenido, los  estudios de caso y las entrevistas; seguido de  las investigaciones de la población africana  sobre los que se desarrolló análisis documental,  entrevistas y observación; de igual manera,  con la población del continente americano  en el que prevaleció el análisis documental,  estudios de caso y las entrevistas.  Con respecto al enfoque cuantitativo,  se determinó como un enfoque de mayor  uso en los estudios sobre innovación en la  pequeñas y medianas empresas. Sobre las  técnicas frecuentemente utilizadas se resalta la  encuesta, seguido de estudios econométricos.  Asia, ha aplicado mayormente cuestionarios  en sus estudios, mientras que Europa se ha  enfocado en análisis econométricos. En los  estudios publicados en América, la técnica  más frecuentemente utilizada es la encuesta  para el estudio de innovación en las pyme,  seguida del uso de análisis econométrico y las  ecuaciones estructurales.   Entre las limitaciones presentadas,  prevaleció que la tendencia', metadata={'page': 12, 'source': 'documentos\\\\4.pdf'})]}"
      ]
     },
     "execution_count": 7,
     "metadata": {},
     "output_type": "execute_result"
    }
   ],
   "source": [
    "#Demo break down\n",
    "query = query#input(\"Hazme una pregunta: \")\n",
    "llm_response = qa_chain(query)\n",
    "llm_response"
   ]
  },
  {
   "cell_type": "code",
   "execution_count": 8,
   "metadata": {},
   "outputs": [
    {
     "name": "stdout",
     "output_type": "stream",
     "text": [
      "¿Quién o quiénes son los autores del documento?\n",
      "Los autores del documento son Rodríguez-Burgos, Karla y Miranda-\n",
      "Medina, Carlos F.\n",
      "\n",
      "Referencias:\n",
      "documentos\\4.pdf\n",
      "documentos\\4.pdf\n",
      "documentos\\4.pdf\n",
      "documentos\\4.pdf\n",
      "documentos\\4.pdf\n"
     ]
    }
   ],
   "source": [
    "# Demo\n",
    "query = input(\"Hazme una pregunta: \")\n",
    "print(query)\n",
    "llm_response = qa_chain(query)\n",
    "process_llm_response(llm_response)"
   ]
  },
  {
   "cell_type": "code",
   "execution_count": 9,
   "metadata": {},
   "outputs": [
    {
     "data": {
      "text/plain": [
       "{'query': '¿Quién o quiénes son los autores del documento?',\n",
       " 'result': 'Los autores del documento son Rodríguez-Burgos, Karla y Miranda-Medina, Carlos F.',\n",
       " 'source_documents': [Document(page_content='Elaboración propia, 2023 en base a 1.091 artículos provenientes de la base de datos Scopus  y  exportados al software VOSviewer . Figura I:  Asociación de investigaciones de innovación en las pyme con otras  palabras clave Lo antes expuesto destaca que es  importante hacer un análisis que describa  ampliamente el conocimiento que se genera  sobre la innovación en la pyme, derivado de la información que disponen las publicaciones  científicas, patentes y los productos industriales  que representan de una forma más cercana a  la realidad, los resultados de investigación', metadata={'page': 11, 'source': 'documentos\\\\4.pdf'}),\n",
       "  Document(page_content='110Licencia de Creative Commons  Atribución 4.0 Internacional (CC BY 4.0) https://creativecommons.org/licenses/by/4.0/deed.es   Rodríguez-Burgos, Karla y Miranda-Medina, Carlos F. Técnicas y métodos de innovación tecnológica en las pequeñas y medianas empresas______enterprises” ) ) AND ( LIMIT-TO ( PUBYEAR  , 2019 ) OR LIMIT-TO ( PUBYEAR ,  2018 ) OR LIMIT-TO ( PUBYEAR , 2017  ) OR LIMIT-TO ( PUBYEAR , 2016 )  OR LIMIT-TO ( PUBYEAR , 2015 ) OR  LIMIT-TO ( PUBYEAR , 2014 ) OR LIMIT- TO ( PUBYEAR , 2013 ) OR LIMIT-TO  ( PUBYEAR , 2012 ) OR LIMIT-TO (  PUBYEAR , 2011 ) OR LIMIT-TO ( PUBYEAR  , 2010 ) OR LIMIT-TO ( PUBYEAR , 2009  ) OR LIMIT-TO ( PUBYEAR , 2008 ) OR  LIMIT-TO ( PUBYEAR , 2007 ) OR LIMIT- TO ( PUBYEAR , 2006 ) OR LIMIT-TO (  PUBYEAR , 2005 ) OR LIMIT-TO ( PUBYEAR  , 2004 ) OR LIMIT-TO ( PUBYEAR , 2003  ) OR LIMIT-TO ( PUBYEAR , 2002 ) OR  LIMIT-TO ( PUBYEAR , 2001 ) OR LIMIT- TO ( PUBYEAR , 2000 ) OR LIMIT-TO  ( PUBYEAR , 1999 ) ) AND ( LIMIT-TO (  DOCTYPE , “ar” ) ). El periodo de publicación seleccionado  de 1999 al 2019 se debe a que el artículo es  resultado de investigación del proyecto:  “Componentes del ecosistema que soporta la  gestión del conocimiento e innovación desde  la sostenibilidad de la interacción Universidad  – pyme”, con fecha de fin en el 2020, por  lo que se analizan 64 artículos científicos  encontrados en las bases de datos Scopus  con  las características antes mencionadas.  Debido a las complicaciones para  publicación derivadas de la pandemia de  Covid-19, se decidió actualizar el documento  para el periodo 2020 a 2022 a través de un  análisis de redes, utilizando la siguiente  fórmula de búsqueda: ( TITLE-ABS- KEY  ( “innovation” ) AND TITLE-ABS- KEY  (“small and medium-sized enterprises”))  AND ( LIMIT-TO ( PUBYEAR , 2022 )  OR LIMIT-TO ( PUBYEAR , 2021 ) OR  LIMITTO (PUBYEAR , 2020 ) ) AND  (LIMIT-TO ( DOCTYPE , “ar” ) OR LIMIT- TO ( DOCTYPE , “re” ) ). Por tanto, se obtuvo  como resultado 1.091 artículos, los cuales', metadata={'page': 4, 'source': 'documentos\\\\4.pdf'}),\n",
       "  Document(page_content='solo  estudio en Italia, en donde se observaron 29  documentos para determinar el impacto que  tuvo un curso de emprendimiento intentando  observar las variables de cultura emprendedora  e innovación (Broccardo et al., 2019). En África, se validó un estudio de análisis  documental, relacionado con la temática de  la computación en la nube para mejorar la  competitividad, mantener la sustentabilidad y  rentabilidad de las pyme para lograr disminuir  los costos, mejorar la eficiencia y la posición  competitiva (Twum-Darko y Sibanyoni,  2014). Por parte de América, específicamente  en Brasil, se realizó un estudio para observar  la aplicación de las capacidades tecnológicas  de la información y la comunicación para', metadata={'page': 8, 'source': 'documentos\\\\4.pdf'}),\n",
       "  Document(page_content='la pandemia viéndose obligadas a la  reestructuración y cambio de modelos productivos incorporando la transformación digital. Palabras clave:  Análisis de contenido; enfoque metodológico; innovación tecnológica; pyme; análisis de  redes.  *  PhD. en Filosofía con Acentuación en Ciencias Políticas. Profesora e Investigadora de Tiempo Completo de la  Facultad de Ciencias Políticas y Relaciones Internacionales en la Universidad Autónoma de Nuevo León, Monterrey,  México. E-mail: karoburgos@yahoo.com.mx  ORCID: https://orcid.org/0000-0003-2093-8146 **  Doctor en Métodos Alterno de Solución de Conflictos. Catedrático de la Facultad de Organización Deportiva en la  Universidad Autónoma de Nuevo León, San Nicolás de los Garza, México. E-mail: publinves@gmail.com  ORCID:  https://orcid.org/0000-0001-7926-4321 Recibido:  2023-06-19                · Aceptado:  2023-09-06', metadata={'page': 1, 'source': 'documentos\\\\4.pdf'}),\n",
       "  Document(page_content='OR LIMIT-TO ( PUBYEAR , 2021 ) OR  LIMITTO (PUBYEAR , 2020 ) ) AND  (LIMIT-TO ( DOCTYPE , “ar” ) OR LIMIT- TO ( DOCTYPE , “re” ) ). Por tanto, se obtuvo  como resultado 1.091 artículos, los cuales  fueron extraídos en formato csv, para ser  empleados con la finalidad de realizar mapas  de red a través del software VOSviewer .  Desde un enfoque cualitativo, se  determinaron las principales tendencias de investigación sobre el tema y las  limitaciones que presentan los resultados  de las investigaciones asociadas con la  variable innovación. Asimismo, mediante la  investigación analítica se pudieron registrar  los aportes teóricos y metodológicos del  corpus , para hacer la relación con el contenido  de los artículos publicados y agregar la  información a la descripción de las técnicas  y métodos científicos acerca del desarrollo  en innovación en las pequeñas y medianas  empresas (pyme), utilizando como fuente  principal de información las publicaciones  durante el período indicado.  Los criterios definidos para la  recolección de la información responden al  país de origen del estudio, sector económico  al que pertenecen las pyme, así como la  metodología y el enfoque utilizado en las  publicaciones. Con respecto a las unidades de  análisis seleccionadas, se identifican a partir de  los 5 continentes y su capacidad de producción  intelectual en el área, se especifican: Europa,  Asia, Oceanía, África y América.  A partir del contexto de estudio, la  producción intelectual fue categorizada por  continente, determinándose un estimado de  64 artículos recuperados a través de la base  de datos Scopus , cuya distribución permitió  determinar 5 registros que fueron aplicados en  el orden mundial, 8 en los que hay combinación  entre continentes, así como específicamente  por continentes se encontraron 21 en Europa,  18 en Asia, 7 en América, 4 en África y 1  en Oceanía, lo que permitió identificar las  técnicas y métodos científicos relacionados  con la innovación que', metadata={'page': 4, 'source': 'documentos\\\\4.pdf'})]}"
      ]
     },
     "execution_count": 9,
     "metadata": {},
     "output_type": "execute_result"
    }
   ],
   "source": [
    "#Demo break down\n",
    "query = query#input(\"Hazme una pregunta: \")\n",
    "llm_response = qa_chain(query)\n",
    "llm_response"
   ]
  },
  {
   "cell_type": "code",
   "execution_count": 11,
   "metadata": {},
   "outputs": [
    {
     "name": "stdout",
     "output_type": "stream",
     "text": [
      "\n",
      "Eres Prometeo, un asistente personal de lectura que habla Español.\n",
      "\n",
      "Tu tarea consiste en:\n",
      "\n",
      "1. Ser carismático y ofrecer información sobre ti y tus funciones.\n",
      "\n",
      "2. Leer detalladamente la información proporcionada en documentos\n",
      "de texto en formato PDF, para ser capaz de dar respuestas a cualquier tipo de pregunta,\n",
      "en especial a preguntas puntuales.\n",
      "\n",
      "SIEMPRE debes responder con base al contexto proporcionado aqui: {context}.\n",
      "        \n",
      "Si no sabes la respuesta, puedes decir: 'No sé'.\n",
      "\n",
      "NUNCA hables del contexto.\n",
      "\n",
      "Teniendo lo anterior en cuenta, responde la siguiente pregunta: {question}\n",
      "\n"
     ]
    }
   ],
   "source": [
    "print(qa_chain.combine_documents_chain.llm_chain.prompt.template)"
   ]
  }
 ],
 "metadata": {
  "kernelspec": {
   "display_name": ".venv",
   "language": "python",
   "name": "python3"
  },
  "language_info": {
   "codemirror_mode": {
    "name": "ipython",
    "version": 3
   },
   "file_extension": ".py",
   "mimetype": "text/x-python",
   "name": "python",
   "nbconvert_exporter": "python",
   "pygments_lexer": "ipython3",
   "version": "3.12.3"
  }
 },
 "nbformat": 4,
 "nbformat_minor": 2
}
