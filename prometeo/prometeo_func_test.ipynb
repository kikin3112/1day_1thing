{
 "cells": [
  {
   "cell_type": "code",
   "execution_count": 4,
   "metadata": {},
   "outputs": [],
   "source": [
    "import os\n",
    "import textwrap\n",
    "from dotenv import load_dotenv, find_dotenv\n",
    "from langchain.vectorstores import Chroma\n",
    "from langchain.embeddings import OpenAIEmbeddings\n",
    "from langchain.text_splitter import RecursiveCharacterTextSplitter\n",
    "from langchain.chat_models import ChatOpenAI\n",
    "from langchain.chains import RetrievalQA\n",
    "from langchain.document_loaders import PyPDFLoader\n",
    "from langchain.document_loaders import DirectoryLoader\n",
    "from langchain import PromptTemplate"
   ]
  },
  {
   "cell_type": "code",
   "execution_count": 5,
   "metadata": {},
   "outputs": [],
   "source": [
    "load_dotenv(find_dotenv())\n",
    "embeddings = OpenAIEmbeddings()"
   ]
  },
  {
   "cell_type": "markdown",
   "metadata": {},
   "source": [
    "## Elegir si enseñar o recordar (evita el uso de tokens en OpenAI)"
   ]
  },
  {
   "cell_type": "markdown",
   "metadata": {},
   "source": [
    "### 1. Enseñar"
   ]
  },
  {
   "cell_type": "code",
   "execution_count": 6,
   "metadata": {},
   "outputs": [
    {
     "name": "stderr",
     "output_type": "stream",
     "text": [
      "c:\\Users\\luisr\\OneDrive\\Desktop\\Consultoría\\projects\\prometeo\\chatbots\\prometeo\\.venv\\Lib\\site-packages\\langchain_core\\_api\\deprecation.py:119: LangChainDeprecationWarning: Since Chroma 0.4.x the manual persistence method is no longer supported as docs are automatically persisted.\n",
      "  warn_deprecated(\n"
     ]
    },
    {
     "data": {
      "text/plain": [
       "1"
      ]
     },
     "execution_count": 6,
     "metadata": {},
     "output_type": "execute_result"
    }
   ],
   "source": [
    "# Carga de documentos y extracción de información\n",
    "# (asegúrate de que haya PDFs en la carpeta documentos)\n",
    "documents = DirectoryLoader('./documentos/', glob=\"./*.pdf\", loader_cls=PyPDFLoader).load()\n",
    "# Tratameinto de caracteres indeseados\n",
    "for d in documents:\n",
    "    d.page_content = d.page_content.replace('\\n', ' ').replace('\\t', ' ')\n",
    "# Separador de texto (límita el texto para que sea soportado por el LLM)\n",
    "text_splitter = RecursiveCharacterTextSplitter(\n",
    "    chunk_size=2000,\n",
    "    chunk_overlap=200\n",
    ")\n",
    "textos = text_splitter.split_documents(documents)\n",
    "# Se instruye (creación de un knowledge-base) con la info\n",
    "# proporcionada\n",
    "persist_directory = input('¿Cómo se llama este knoledge-base?: ') + '_kb'\n",
    "embedding = OpenAIEmbeddings()\n",
    "vectordb = Chroma.from_documents(documents=textos, \n",
    "                                 embedding=embedding,\n",
    "                                 persist_directory=persist_directory)\n",
    "# Se guarda el conocimiento generado en el directorio actual\n",
    "# para ser usado sin tener que instruir al LLM\n",
    "vectordb.persist()\n",
    "vectordb = None\n",
    "os.system(f'zip -r db.zip ./{persist_directory}')"
   ]
  },
  {
   "cell_type": "markdown",
   "metadata": {},
   "source": [
    "### 2. Recordar (si y solo si Enseñar=Done)"
   ]
  },
  {
   "cell_type": "code",
   "execution_count": 7,
   "metadata": {},
   "outputs": [],
   "source": [
    "# Now we can load the persisted database from disk, and use it as normal. \n",
    "persist_directory = input('¿Qué knoledge-base deseas usar?: ') + '_kb'\n",
    "embedding = OpenAIEmbeddings()\n",
    "vectordb = Chroma(persist_directory=persist_directory, \n",
    "                  embedding_function=embedding)\n",
    "retriever = vectordb.as_retriever(search_kwargs={\"k\": 5})\n",
    "#retriever = vectordb.as_retriever()"
   ]
  },
  {
   "cell_type": "code",
   "execution_count": 8,
   "metadata": {},
   "outputs": [
    {
     "name": "stderr",
     "output_type": "stream",
     "text": [
      "c:\\Users\\luisr\\OneDrive\\Desktop\\Consultoría\\projects\\prometeo\\chatbots\\prometeo\\.venv\\Lib\\site-packages\\langchain_core\\_api\\deprecation.py:119: LangChainDeprecationWarning: The class `ChatOpenAI` was deprecated in LangChain 0.0.10 and will be removed in 0.3.0. An updated version of the class exists in the langchain-openai package and should be used instead. To use it run `pip install -U langchain-openai` and import as `from langchain_openai import ChatOpenAI`.\n",
      "  warn_deprecated(\n"
     ]
    }
   ],
   "source": [
    "# Se especifica el LLM de OpenAI\n",
    "turbo_llm = ChatOpenAI(\n",
    "    temperature=0.7,\n",
    "    model_name='gpt-3.5-turbo-0125'\n",
    ")\n",
    "# Se personaliza el LLM\n",
    "template = \"\"\"\n",
    "Eres Prometeo, un asistente personal de lectura que habla Español.\n",
    "\n",
    "Tu tarea consiste en:\n",
    "\n",
    "1. Ser carismático y ofrecer información sobre ti y tus funciones.\n",
    "\n",
    "2. Leer detalladamente la información proporcionada en documentos\n",
    "de texto en formato PDF, para ser capaz de dar respuestas a cualquier tipo de pregunta,\n",
    "en especial a preguntas puntuales.\n",
    "\n",
    "SIEMPRE debes responder con base al contexto proporcionado aqui: {context}.\n",
    "        \n",
    "Si no sabes la respuesta, puedes decir: 'No sé'.\n",
    "\n",
    "NUNCA hables del contexto.\n",
    "\n",
    "Teniendo lo anterior en cuenta, responde la siguiente pregunta: {question}\n",
    "\"\"\"\n",
    "\n",
    "prometeo_prompt = PromptTemplate(\n",
    "    template=template, input_variables=[\"context\", \"question\"]\n",
    ")\n",
    "# Creación de cadena\n",
    "qa_chain = RetrievalQA.from_chain_type(llm=turbo_llm,\n",
    "                                       chain_type=\"stuff\",\n",
    "                                       retriever=retriever,\n",
    "                                       chain_type_kwargs={\"prompt\": prometeo_prompt},\n",
    "                                       return_source_documents=True)\n",
    "# Formato y referencias de las respuestas\n",
    "def wrap_text_preserve_newlines(text, width=70):\n",
    "    lines = text.split('\\n')\n",
    "    wrapped_lines = [textwrap.fill(line, width=width) for line in lines]\n",
    "    wrapped_text = '\\n'.join(wrapped_lines)\n",
    "    return wrapped_text\n",
    "\n",
    "def process_llm_response(llm_response):\n",
    "    print(wrap_text_preserve_newlines(llm_response['result']))\n",
    "    print('\\nReferencias:')\n",
    "    for source in llm_response[\"source_documents\"]:\n",
    "        print(source.metadata['source'])"
   ]
  },
  {
   "cell_type": "code",
   "execution_count": 9,
   "metadata": {},
   "outputs": [
    {
     "name": "stdout",
     "output_type": "stream",
     "text": [
      "¿Cuáles son todas las hipótesis planteadas?\n"
     ]
    },
    {
     "name": "stderr",
     "output_type": "stream",
     "text": [
      "c:\\Users\\luisr\\OneDrive\\Desktop\\Consultoría\\projects\\prometeo\\chatbots\\prometeo\\.venv\\Lib\\site-packages\\langchain_core\\_api\\deprecation.py:119: LangChainDeprecationWarning: The method `Chain.__call__` was deprecated in langchain 0.1.0 and will be removed in 0.3.0. Use invoke instead.\n",
      "  warn_deprecated(\n"
     ]
    },
    {
     "name": "stdout",
     "output_type": "stream",
     "text": [
      "Las hipótesis planteadas son:\n",
      "\n",
      "1. Descubrir las relaciones existentes entre el proceso de toma de\n",
      "decisiones estratégicas, la calidad de las decisiones y la eficacia\n",
      "organizativa en el conjunto de organizaciones estudiadas.\n",
      "2. Plantear un conjunto de hipótesis con consistencia teórica y\n",
      "empírica para ser verificadas en futuras investigaciones.\n",
      "3. Proporcionar evidencia empírica en un campo disciplinario de\n",
      "exigencia creciente para el sector público.\n",
      "4. Sugerir buenas prácticas para mejorar las posibilidades de éxito en\n",
      "la dirección de las organizaciones.\n",
      "\n",
      "Referencias:\n",
      "documentos\\19n35a04.pdf\n",
      "documentos\\19n35a04.pdf\n",
      "documentos\\19n35a04.pdf\n",
      "documentos\\19n35a04.pdf\n",
      "documentos\\19n35a04.pdf\n"
     ]
    }
   ],
   "source": [
    "# Demo\n",
    "query = input(\"Hazme una pregunta: \")\n",
    "print(query)\n",
    "llm_response = qa_chain(query)\n",
    "process_llm_response(llm_response)"
   ]
  },
  {
   "cell_type": "code",
   "execution_count": 12,
   "metadata": {},
   "outputs": [
    {
     "data": {
      "text/plain": [
       "{'query': '¿Cuáles son todas las hipótesis planteadas?',\n",
       " 'result': 'Las hipótesis planteadas son las siguientes:\\n\\n1. Descubrir las relaciones existentes entre proceso de toma de decisiones estratégicas, calidad de las decisiones y eficacia organizativa en el conjunto de organizaciones estudiadas.\\n2. Plantear un conjunto de hipótesis con consistencia teórica y empírica para ser verificadas en futuras investigaciones.\\n3. Proporcionar evidencia empírica en un campo disciplinario de exigencia creciente para el sector público.\\n4. Sugerir buenas prácticas para mejorar las posibilidades de éxito en la dirección de las organizaciones.',\n",
       " 'source_documents': [Document(page_content='y medidas e índices de fiabilidad  se presentan a continuación: Racionalidad /g37/g81/g80/g384/g75/g69/g86/g81  cognitivo Flexibilidad  cognitiva  /g37/g81/g80/g384/g75/g69/g86/g81  afectivo  Calidad de  la decisión  /g39/g383/g69/g67/g69/g75/g67/g2 organizativa Politización  REV innovar 19(35).indb   39 08/04/2010   11:39:10', metadata={'page': 6, 'source': 'documentos\\\\19n35a04.pdf'}),\n",
       "  Document(page_content='42 ADM. PÚBLICA INNOVAR REV. INNOVAR. Vol. 19, No. 35, SEPTIEMBRE –DICIEMBRE DE 2009  Los resultados anteriores muestran que la racionalidad  (Test t = 1,832, p < 0,076), el conflicto cognitivo (Test  t = 3,032, p < 0,005) y la flexibilidad cognitiva (Test t  = 2,574, p < 0,015) impactan positivamente sobre la ca- lidad de las decisiones estratégicas en las organizaciones  públicas. El modelo general empleado muestra que el pro- ceso de toma de decisiones estratégicas tiene una capaci- dad explicativa de la calidad de las decisiones del 74,4%.  No obstante, en la muestra analizada, las variables con- flicto afectivo (Test t = -0,346, p < 0,732) y politización  (Test t = -0,738, p < 0,466) no demuestran tener una  significancia estadística para explicar la calidad de las  decisiones adoptadas.  Limitaciones y alcances de la investigación  En primer lugar, el estudio es de naturaleza exploratoria;  se trabaja con una muestra de 37 instituciones públicas,  lo cual implica que los hallazgos de la investigación cons- tituyen hipótesis razonables para posteriores estudios  representativos que podrán confirmar o refutar estos re- sultados. Ciertamente, en la lógica de Snow y Thomas  (1994), esta investigación procura más bien construir re- laciones iniciales entre variables que verificar teoría. E n  efecto, los resultados del estudio permiten identificar un  conjunto de variables que son relevantes en el proceso  de toma de decisiones estratégicas de las organizaciones  públicas, y desarrollar hipótesis respecto de las relacion es  causales entre las variables del proceso de toma de deci- siones, la calidad de las decisiones estratégicas y la efica- cia organizativa en las organizaciones públicas.  En segundo lugar, la medición de las variables aplican- do preguntas de cuestionario a un mismo sujeto, en un  mismo momento, constituye una limitación de la meto- dología empleada. En efecto, esta forma de consecución  de información puede sobrevaluar las relaciones entre las', metadata={'page': 9, 'source': 'documentos\\\\19n35a04.pdf'}),\n",
       "  Document(page_content='Para este efecto, se lleva a cabo un estudio ex- ploratorio con 37 organizaciones públicas que operan en  el norte de Chile.  La naturaleza exploratoria del estudio pone límites a los  alcances e implicaciones de la investigación; sin embargo  es posible contribuir al acervo de conocimientos al:  1. descubrir las relaciones existentes entre proceso de  toma de decisiones estratégicas, calidad de las deci- siones y eficacia organizativa en el conjunto de orga- nizaciones estudiadas;  2. plantear un conjunto de hipótesis con consistencia  teórica y empírica para ser verificadas en futuras in- vestigaciones;  3. proporcionar evidencia empírica en un campo disci- plinario de exigencia creciente para el sector público;  4. sugerir buenas prácticas para mejorar las posibilida- des de éxito en la dirección de las organizaciones.  Marco teórico e hipótesis  La toma de decisiones estratégicas  Las decisiones estratégicas se definen como una elección  que es importante, en términos de las acciones adopta- das, los recursos comprometidos o los precedentes esta- blecidos. Constituyen, por consiguiente, un proceso de  elección que involucra la asignación de los recursos nece- sarios para alcanzar o mantener una ventaja competitiva.  En este sentido, la toma de decisiones estratégicas es una  tarea esencial para la alta dirección, ya que permite a las  organizaciones alinear sus recursos y capacidades con las  amenazas y las oportunidades que existen en el medio  ambiente (Hitt y Collins, 2007).  La visión tradicional de la toma de decisiones estratégi- cas ha centrado el debate en relación con la racionalidad  completa en contraste con la racionalidad limitada, la  REV innovar 19(35).indb   34 08/04/2010   11:39:06', metadata={'page': 1, 'source': 'documentos\\\\19n35a04.pdf'}),\n",
       "  Document(page_content='J O U R N A L R E V I S T A INNOVAR  39 ADM. PÚBLICA INNOVAR FIGURA 1. Modelo de la investigación  Fuente: Elaboración propia.  Metodología  Muestra  Se diseñó un estudio exploratorio y se aplicó un cues- tionario a una muestra de 72 altos directivos de institu- ciones públicas de las dos primeras regiones del norte de  Chile. La aplicación del cuestionario fue realizada por es- tudiantes de pregrado de la Universidad de Tarapacá. Se  insistió hasta tres veces con cada alto directivo, dejando  la opción que la respuesta fuese brindada por el máximo  directivo o un representante suyo, siempre que hubiese  participado en el proceso de toma de decisiones que fue  analizado. Al cabo de ocho meses, se obtuvo un total  de 37 respuestas, para alcanzar una tasa de respuesta de  47,44%. Dicha tasa de respuesta se juzga alta ya que es- tudios previos en países emergentes cuentan con niveles  de tasas de respuesta por debajo del 40% (por ejemplo,  Pedraja Rejas y Rodríguez Ponce, 2004; Rodríguez Ponce  y Pedraja Rejas, 2007). Unidad y nivel de análisis  La unidad de análisis estuvo constituida por una deci- sión recientemente implementada en la institución pú- blica. Se requirió expresamente que tal decisión hubiese  involucrado una cantidad importante de recursos eco- nómicos que proyectase efectos de largo plazo, que invo- lucrase un alto número de funciones organizacionales y  que tuviese un alto impacto interno y externo. El nivel de  análisis con el que se trabajó en este estudio es el equipo  de alta dirección.  Variables y medidas  Se empleó un conjunto de variables y medidas validadas  en investigaciones previas, y se usó la escala de Likert (1-  7). Para cada caso se midió la fiabilidad de las variables  y medidas de acuerdo con el cálculo del Alpha de Cron- bach. Dichas variables y medidas e índices de fiabilidad  se presentan a continuación: Racionalidad /g37/g81/g80/g384/g75/g69/g86/g81  cognitivo Flexibilidad  cognitiva  /g37/g81/g80/g384/g75/g69/g86/g81  afectivo', metadata={'page': 6, 'source': 'documentos\\\\19n35a04.pdf'}),\n",
       "  Document(page_content='plenamente los requerimientos y expectativas de sus stakeholders   o grupos de interés.  /g342/g2Posee un sólido posicionamiento en el mercado, y una sólida imagen insti- tucional.  /g342/g2 /g37/g87/g71/g80/g86/g67/g2/g69/g81/g80/g2/g87/g80/g67/g2/g85/g206/g78/g75/g70/g67/g2/g85/g75/g86/g87/g67/g69/g75/g206/g80/g2/g71/g69/g81/g80/g206/g79/g75/g69/g67/g2/g91/g2/g383/g80/g67/g80/g69/g75/g71/g84/g67/g16 Pedraja Rejas y Rodríguez  Ponce (2004) 0,717  /g37/g67/g78/g75/g70/g67/g70/g2/g70/g71/g2/g78/g67/g2/g70/g71/g69/g75/g85/g75/g206/g80/g2 estratégica La decisión adoptada:  /g342/g2Fue de máxima calidad.  /g342/g2Permitió el logro de los objetivos propuestos.  /g342/g2 /g41/g71/g80/g71/g84/g206/g2/g87/g80/g67/g2/g85/g81/g78/g87/g69/g75/g206/g80/g2/g71/g383/g69/g67/g92/g2/g91/g2/g71/g383/g69/g75/g71/g80/g86/g71/g16  /g342/g2Permitió crear valor y aportar al desarrollo de la institución. Amason (1996) 0,850  Racionalidad En el proceso de toma de decisiones estratégicas:  /g342/g2La búsqueda de información ha sido profunda y exhaustiva.  /g342/g2El análisis de información ha sido profundo y exhaustivo.  /g342/g2La generación y el análisis de alternativas han sido profundos y exhausti vos.  /g342/g2La selección de la opción ha sido rigurosa y basada en un criterio más ana- lítico que intuitivo. Dean y Sharfman  (1993) 0,798  /g37/g81/g80/g384/g75/g69/g86/g81/g2/g69/g81/g73/g80/g75/g86/g75/g88/g81 La decisión adoptada supuso:  /g342/g2La discusión de muchas ideas diferentes.  /g342/g2El análisis de múltiples perspectivas.  /g342/g2La discusión de enfoques diferentes.  /g342/g2Muchas diferencias de opinión entre los participantes. Amason (1996) 0,712  Flexibilidad En la decisión adoptada:  /g342/g2Hubo posibilidad de incorporar nueva información en forma recurrent e.  /g342/g2Las ideas originales fueron bien acogidas.  /g342/g2Los directivos que participaron, lo hicieron en forma amplia y creativa , más  allá del ámbito de sus cargos.  /g342/g2Se reconsideraron las', metadata={'page': 7, 'source': 'documentos\\\\19n35a04.pdf'})]}"
      ]
     },
     "execution_count": 12,
     "metadata": {},
     "output_type": "execute_result"
    }
   ],
   "source": [
    "#Demo break down\n",
    "query = query#input(\"Hazme una pregunta: \")\n",
    "llm_response = qa_chain(query)\n",
    "llm_response"
   ]
  },
  {
   "cell_type": "code",
   "execution_count": 13,
   "metadata": {},
   "outputs": [
    {
     "name": "stdout",
     "output_type": "stream",
     "text": [
      "¿Cuáles son los objetivos de la investigación?\n",
      "Los objetivos de la investigación son:\n",
      "1. Descubrir las relaciones existentes entre el proceso de toma de\n",
      "decisiones estratégicas, la calidad de las decisiones y la eficacia\n",
      "organizativa en las organizaciones estudiadas.\n",
      "2. Plantear un conjunto de hipótesis con consistencia teórica y\n",
      "empírica para ser verificadas en futuras investigaciones.\n",
      "3. Proporcionar evidencia empírica en un campo disciplinario de\n",
      "exigencia creciente para el sector público.\n",
      "4. Sugerir buenas prácticas para mejorar las posibilidades de éxito en\n",
      "la dirección de las organizaciones.\n",
      "\n",
      "Referencias:\n",
      "documentos\\19n35a04.pdf\n",
      "documentos\\19n35a04.pdf\n",
      "documentos\\19n35a04.pdf\n",
      "documentos\\19n35a04.pdf\n",
      "documentos\\19n35a04.pdf\n"
     ]
    }
   ],
   "source": [
    "# Demo\n",
    "query = input(\"Hazme una pregunta: \")\n",
    "print(query)\n",
    "llm_response = qa_chain(query)\n",
    "process_llm_response(llm_response)"
   ]
  },
  {
   "cell_type": "code",
   "execution_count": 14,
   "metadata": {},
   "outputs": [
    {
     "data": {
      "text/plain": [
       "{'query': '¿Cuáles son los objetivos de la investigación?',\n",
       " 'result': 'Los objetivos de la investigación son:\\n1. Descubrir las relaciones existentes entre el proceso de toma de decisiones estratégicas, calidad de las decisiones y eficacia organizativa en el conjunto de organizaciones estudiadas.\\n2. Plantear un conjunto de hipótesis con consistencia teórica y empírica para ser verificadas en futuras investigaciones.\\n3. Proporcionar evidencia empírica en un campo disciplinario de exigencia creciente para el sector público.\\n4. Sugerir buenas prácticas para mejorar las posibilidades de éxito en la dirección de las organizaciones.',\n",
       " 'source_documents': [Document(page_content='40 ADM. PÚBLICA INNOVAR REV. INNOVAR. Vol. 19, No. 35, SEPTIEMBRE –DICIEMBRE DE 2009  Métodos  El primer objetivo de la investigación consiste en des- cubrir en qué magnitud la calidad de las decisiones es- tratégicas impacta sobre la eficacia organizativa en las  organizaciones públicas analizadas. Para este efecto, con- siderando el marco teórico, se analiza la siguiente ecua- ción de regresión lineal simple:  Eficacia organizativa = A + B1* Calidad de la decisión + Ei  Donde Eficacia organizativa  es la variable dependiente, A  es la constante del modelo, Calidad de la decisición  es la  variable independiente, /g691 es el factor de ponderación y  Ei,  el error residual del modelo.  El segundo objetivo de la investigación consiste en iden- tificar cómo las variables del proceso de toma de decisio-nes estratégicas influyen sobre la calidad de las decisiones  adoptadas. Para este efecto, considerando el marco teó- rico, se analiza la siguiente ecuación de regresión lineal  múltiple:  Calidad de la decisión = A + B1*Racionalidad + B2*Conflicto  cognitivo + B3*Flexibilidad + B4*Conflicto afectivo +  E5*Politización + Ei  Donde Calidad de la decisión  es la variable dependiente,  A,  la constante del modelo. Racionalidad, conflicto cog- nitivo, flexibilidad, conflicto afectivo y politización  son las  variables independientes; B1, B2, B3, B4, B5 , son sus res- pectivos factores de ponderación, y Ei  es el error residual  del modelo. CUADRO I: Variables y medidas  Variables Ítems Basado en /g35/g78/g82/g74/g67/g2/g70/g71/g2/g37/g84/g81/g80/g68/g67/g69/g74  /g39/g383/g69/g67/g69/g75/g67/g2 La institución  /g342/g2Satisface plenamente a sus usuarios o clientes.  /g342/g2Satisface plenamente los requerimientos y expectativas de sus stakeholders   o grupos de interés.  /g342/g2Posee un sólido posicionamiento en el mercado, y una sólida imagen insti- tucional.  /g342/g2', metadata={'page': 7, 'source': 'documentos\\\\19n35a04.pdf'}),\n",
       "  Document(page_content='Para este efecto, se lleva a cabo un estudio ex- ploratorio con 37 organizaciones públicas que operan en  el norte de Chile.  La naturaleza exploratoria del estudio pone límites a los  alcances e implicaciones de la investigación; sin embargo  es posible contribuir al acervo de conocimientos al:  1. descubrir las relaciones existentes entre proceso de  toma de decisiones estratégicas, calidad de las deci- siones y eficacia organizativa en el conjunto de orga- nizaciones estudiadas;  2. plantear un conjunto de hipótesis con consistencia  teórica y empírica para ser verificadas en futuras in- vestigaciones;  3. proporcionar evidencia empírica en un campo disci- plinario de exigencia creciente para el sector público;  4. sugerir buenas prácticas para mejorar las posibilida- des de éxito en la dirección de las organizaciones.  Marco teórico e hipótesis  La toma de decisiones estratégicas  Las decisiones estratégicas se definen como una elección  que es importante, en términos de las acciones adopta- das, los recursos comprometidos o los precedentes esta- blecidos. Constituyen, por consiguiente, un proceso de  elección que involucra la asignación de los recursos nece- sarios para alcanzar o mantener una ventaja competitiva.  En este sentido, la toma de decisiones estratégicas es una  tarea esencial para la alta dirección, ya que permite a las  organizaciones alinear sus recursos y capacidades con las  amenazas y las oportunidades que existen en el medio  ambiente (Hitt y Collins, 2007).  La visión tradicional de la toma de decisiones estratégi- cas ha centrado el debate en relación con la racionalidad  completa en contraste con la racionalidad limitada, la  REV innovar 19(35).indb   34 08/04/2010   11:39:06', metadata={'page': 1, 'source': 'documentos\\\\19n35a04.pdf'}),\n",
       "  Document(page_content='J O U R N A L R E V I S T A INNOVAR  39 ADM. PÚBLICA INNOVAR FIGURA 1. Modelo de la investigación  Fuente: Elaboración propia.  Metodología  Muestra  Se diseñó un estudio exploratorio y se aplicó un cues- tionario a una muestra de 72 altos directivos de institu- ciones públicas de las dos primeras regiones del norte de  Chile. La aplicación del cuestionario fue realizada por es- tudiantes de pregrado de la Universidad de Tarapacá. Se  insistió hasta tres veces con cada alto directivo, dejando  la opción que la respuesta fuese brindada por el máximo  directivo o un representante suyo, siempre que hubiese  participado en el proceso de toma de decisiones que fue  analizado. Al cabo de ocho meses, se obtuvo un total  de 37 respuestas, para alcanzar una tasa de respuesta de  47,44%. Dicha tasa de respuesta se juzga alta ya que es- tudios previos en países emergentes cuentan con niveles  de tasas de respuesta por debajo del 40% (por ejemplo,  Pedraja Rejas y Rodríguez Ponce, 2004; Rodríguez Ponce  y Pedraja Rejas, 2007). Unidad y nivel de análisis  La unidad de análisis estuvo constituida por una deci- sión recientemente implementada en la institución pú- blica. Se requirió expresamente que tal decisión hubiese  involucrado una cantidad importante de recursos eco- nómicos que proyectase efectos de largo plazo, que invo- lucrase un alto número de funciones organizacionales y  que tuviese un alto impacto interno y externo. El nivel de  análisis con el que se trabajó en este estudio es el equipo  de alta dirección.  Variables y medidas  Se empleó un conjunto de variables y medidas validadas  en investigaciones previas, y se usó la escala de Likert (1-  7). Para cada caso se midió la fiabilidad de las variables  y medidas de acuerdo con el cálculo del Alpha de Cron- bach. Dichas variables y medidas e índices de fiabilidad  se presentan a continuación: Racionalidad /g37/g81/g80/g384/g75/g69/g86/g81  cognitivo Flexibilidad  cognitiva  /g37/g81/g80/g384/g75/g69/g86/g81  afectivo', metadata={'page': 6, 'source': 'documentos\\\\19n35a04.pdf'}),\n",
       "  Document(page_content='J O U R N A L R E V I S T A INNOVAR  43 ADM. PÚBLICA INNOVAR junto de organizaciones estudiadas; genera un conjunto  de hipótesis con consistencia teórica y empírica para ser  verificadas en futuras investigaciones; proporciona evi- dencia empírica en un campo disciplinario de exigencia  creciente para el sector público, y sugiere buenas prácti- cas para mejorar las posibilidades de éxito en la dirección  de las organizaciones.  En este contexto, un primer hallazgo de la investigación  es que la calidad de las decisiones estratégicas influye so- bre la eficacia organizativa en las organizaciones pública s  que fueron estudiadas, tal y como era previsto en la in- vestigación. Este hallazgo es plenamente consistente con  la evidencia internacional (Papadakis et ál., 1998; Hiller  y Hambrick, 2005; Arendt et ál., 2005).  Un segundo hallazgo es que la racionalidad del proce- so de toma de decisiones estratégicas impacta positiva- mente sobre la calidad de dichas decisiones. Este hallazgo  es consistente con la literatura dominante sobre el tema  (Miller et ál., 1998; Papadakis et ál., 1998; Goll y Ra- sheed, 2005).  Un tercer hallazgo es que la flexibilidad cognitiva im- pacta positiva y significativamente sobre la calidad de las  decisiones estratégicas en las empresas públicas. Dicho  hallazgo ha sido sugerido conceptualmente (Sharfman y  Dean, 1997), pero escasamente demostrado en el estado  del arte.  Un cuarto hallazgo es que el conflicto de ideas contribu- ye a lograr mayores niveles de calidad en las decisiones  estratégicas. Este descubrimiento es plenamente consis- tente con la evidencia internacional sobre la materia (De  Dreu y Weingart, 2003; Jehn y Mannix, 2001, Pelled et  ál., 1999).  Estos hallazgos permiten una mirada integradora del pro- ceso de toma de decisiones estratégicas, poco común en  la literatura sobre el tema, y generan un marco de refe- rencia para futuras investigaciones. Pero, además, es po- sible sugerir buenas prácticas para lograr', metadata={'page': 10, 'source': 'documentos\\\\19n35a04.pdf'}),\n",
       "  Document(page_content='el em- pleo de variables válidas en investigaciones previas, cu- yos resultados han mostrado índices de fiabilidad altos  (Rodríguez Ponce, 2007; Pedraja Rejas y Rodríguez Pon- ce, 2004). Lo anterior supone asumir que, en términos  generales, los objetivos de las organizaciones públicas se  pueden asociar a lograr la satisfacción de sus usuarios o  clientes, así como de sus stakeholders  o grupos de interés,  alcanzando un sólido posicionamiento e imagen corpo- rativa, en un contexto de solidez económica y financiera  (Pedraja Rejas et ál., 2009). En este contexto, se consi- dera que una organización es exitosa en la medida que es  eficaz, es decir, en la medida que logra satisfactoriamente  sus objetivos (Steyrer et ál., 2008; Gregory et ál., 2008;  Rodríguez Ponce y Pedraja Rejas, 2009).  La calidad de las decisiones diseñadas o formuladas se  refiere al grado en el cual dicha decisión: permite el lo- gro de los objetivos propuestos; es de alta rigurosidad y  genera soluciones eficaces y eficientes a las problemáticas  que se pretenden enfrentar; permite la creación de valor  estratégico para la institución (Dean y Sharfman, 1996;  Valacich y Schwenk, 1995, Molloy y Schwenk, 1995,  Amason, 1996, Hollenbeck et ál., 1998; Pedraja Rejas et  ál., 2008a, 2008b).  Consecuentemente, el grado de éxito de una decisión se  asocia con el nivel de logro en cada uno de los aspectos  anteriores. Una decisión fracasa, entonces, cuando: no  permite alcanzar los objetivos propuestos; es deficiente  en su nivel de rigurosidad y en descubrir las alternativas  relevantes; no hace posible crear valor estratégico para la  institución, o no genera soluciones eficaces y eficientes  para las problemáticas que se pretenden resolver (Nutt,  1993b; Nutt, 1999; Pedraja Rejas et ál., 2008).  Ahora bien, en múltiples estudios empíricos se ha pro- bado que existe una relación significativa entre la cali- dad de las decisiones y la eficacia de las organizaciones.  Lo anterior se asocia tanto a', metadata={'page': 4, 'source': 'documentos\\\\19n35a04.pdf'})]}"
      ]
     },
     "execution_count": 14,
     "metadata": {},
     "output_type": "execute_result"
    }
   ],
   "source": [
    "#Demo break down\n",
    "query = query#input(\"Hazme una pregunta: \")\n",
    "llm_response = qa_chain(query)\n",
    "llm_response"
   ]
  },
  {
   "cell_type": "code",
   "execution_count": 15,
   "metadata": {},
   "outputs": [
    {
     "name": "stdout",
     "output_type": "stream",
     "text": [
      "¿Cuáles son los hallazgos de la investigación?\n",
      "Los hallazgos de la investigación son que la calidad de las decisiones\n",
      "estratégicas influye en la eficacia organizativa en las organizaciones\n",
      "públicas estudiadas, que la racionalidad del proceso de toma de\n",
      "decisiones estratégicas impacta positivamente en la calidad de las\n",
      "decisiones, que la flexibilidad cognitiva también impacta\n",
      "positivamente en la calidad de las decisiones estratégicas, y que el\n",
      "conflicto de ideas contribuye a lograr mayores niveles de calidad en\n",
      "las decisiones estratégicas.\n",
      "\n",
      "Referencias:\n",
      "documentos\\19n35a04.pdf\n",
      "documentos\\19n35a04.pdf\n",
      "documentos\\19n35a04.pdf\n",
      "documentos\\19n35a04.pdf\n",
      "documentos\\19n35a04.pdf\n"
     ]
    }
   ],
   "source": [
    "# Demo\n",
    "query = input(\"Hazme una pregunta: \")\n",
    "print(query)\n",
    "llm_response = qa_chain(query)\n",
    "process_llm_response(llm_response)"
   ]
  },
  {
   "cell_type": "code",
   "execution_count": null,
   "metadata": {},
   "outputs": [],
   "source": [
    "#Demo break down\n",
    "query = query#input(\"Hazme una pregunta: \")\n",
    "llm_response = qa_chain(query)\n",
    "llm_response"
   ]
  },
  {
   "cell_type": "code",
   "execution_count": 16,
   "metadata": {},
   "outputs": [
    {
     "name": "stdout",
     "output_type": "stream",
     "text": [
      "¿Cuáles son las sugerencias para lograr mayores niveles de éxito en la toma de decisiones estratégicas?\n",
      "Las sugerencias para lograr mayores niveles de éxito en la toma de\n",
      "decisiones estratégicas incluyen favorecer la racionalidad en las\n",
      "decisiones estratégicas, buscar información de forma profunda y\n",
      "exhaustiva, analizar la información detalladamente, generar\n",
      "alternativas exhaustivas y realizar una selección rigurosa y analítica\n",
      "de la opción estratégica. También se recomienda favorecer la\n",
      "flexibilidad cognitiva estimulando la discusión de muchas ideas\n",
      "diferentes, el análisis de múltiples perspectivas, las diferencias de\n",
      "opinión entre los participantes y la incorporación de nueva\n",
      "información de forma recurrente. Además, se sugiere favorecer el\n",
      "conflicto cognitivo incentivando la discusión de nuevas ideas, la\n",
      "aceptación de ideas originales, la participación amplia y creativa de\n",
      "los directivos, y la reconsideración de las posiciones alcanzadas\n",
      "inicialmente.\n",
      "\n",
      "Referencias:\n",
      "documentos\\19n35a04.pdf\n",
      "documentos\\19n35a04.pdf\n",
      "documentos\\19n35a04.pdf\n",
      "documentos\\19n35a04.pdf\n",
      "documentos\\19n35a04.pdf\n"
     ]
    }
   ],
   "source": [
    "# Demo\n",
    "query = input(\"Hazme una pregunta: \")\n",
    "print(query)\n",
    "llm_response = qa_chain(query)\n",
    "process_llm_response(llm_response)"
   ]
  },
  {
   "cell_type": "code",
   "execution_count": null,
   "metadata": {},
   "outputs": [],
   "source": [
    "#Demo break down\n",
    "query = query#input(\"Hazme una pregunta: \")\n",
    "llm_response = qa_chain(query)\n",
    "llm_response"
   ]
  },
  {
   "cell_type": "code",
   "execution_count": 11,
   "metadata": {},
   "outputs": [
    {
     "name": "stdout",
     "output_type": "stream",
     "text": [
      "\n",
      "Eres Prometeo, un asistente personal de lectura que habla Español.\n",
      "\n",
      "Tu tarea consiste en:\n",
      "\n",
      "1. Ser carismático y ofrecer información sobre ti y tus funciones.\n",
      "\n",
      "2. Leer detalladamente la información proporcionada en documentos\n",
      "de texto en formato PDF, para ser capaz de dar respuestas a cualquier tipo de pregunta,\n",
      "en especial a preguntas puntuales.\n",
      "\n",
      "SIEMPRE debes responder con base al contexto proporcionado aqui: {context}.\n",
      "        \n",
      "Si no sabes la respuesta, puedes decir: 'No sé'.\n",
      "\n",
      "NUNCA hables del contexto.\n",
      "\n",
      "Teniendo lo anterior en cuenta, responde la siguiente pregunta: {question}\n",
      "\n"
     ]
    }
   ],
   "source": [
    "print(qa_chain.combine_documents_chain.llm_chain.prompt.template)"
   ]
  }
 ],
 "metadata": {
  "kernelspec": {
   "display_name": ".venv",
   "language": "python",
   "name": "python3"
  },
  "language_info": {
   "codemirror_mode": {
    "name": "ipython",
    "version": 3
   },
   "file_extension": ".py",
   "mimetype": "text/x-python",
   "name": "python",
   "nbconvert_exporter": "python",
   "pygments_lexer": "ipython3",
   "version": "3.11.7"
  }
 },
 "nbformat": 4,
 "nbformat_minor": 2
}
