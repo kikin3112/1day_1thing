{
 "cells": [
  {
   "cell_type": "code",
   "execution_count": null,
   "metadata": {},
   "outputs": [],
   "source": [
    "import pandas as pd\n",
    "from langchain_openai import ChatOpenAI\n",
    "from langchain_experimental.agents.agent_toolkits import create_csv_agent\n",
    "from langchain import PromptTemplate\n",
    "from langchain.llms import OpenAI"
   ]
  },
  {
   "cell_type": "code",
   "execution_count": null,
   "metadata": {},
   "outputs": [],
   "source": [
    "archivo = 'zara.csv'\n",
    "df = pd.read_csv(archivo)\n",
    "df.head()"
   ]
  },
  {
   "cell_type": "markdown",
   "metadata": {},
   "source": [
    "# Agente Taylor(ed)"
   ]
  },
  {
   "cell_type": "code",
   "execution_count": null,
   "metadata": {},
   "outputs": [],
   "source": [
    "llm = ChatOpenAI(temperature=0.5,\n",
    "                 model_name = 'gpt-4o-mini')"
   ]
  },
  {
   "cell_type": "code",
   "execution_count": null,
   "metadata": {},
   "outputs": [],
   "source": [
    "prompt = \"\"\"\n",
    "\n",
    "Eres un asistente de ventas virtual llamado Taylor. Estás altamente capacitado para atender a preguntas relacionadas con el inventario de la tienda Zara.\n",
    "Estás trabajando con un dataframe de pandas en Python. El nombre del dataframe es `df`.\n",
    "Debes usar las herramientas a continuación para responder la pregunta que se te ha planteado:\n",
    "\n",
    "python_repl_ast: Un intérprete de Python. Úsalo para ejecutar comandos de Python. La entrada debe ser un comando válido de Python. Cuando uses esta herramienta, a veces la salida se muestra abreviada; asegúrate de que no parezca abreviada antes de usarla en tu respuesta.\n",
    "\n",
    "Usa el siguiente formato:\n",
    "\n",
    "Pregunta: la pregunta que debes responder\n",
    "Pensamiento: siempre debes pensar en qué hacer\n",
    "Acción: la acción a tomar, debe ser una de [python_repl_ast]\n",
    "Entrada de Acción: la entrada para la acción\n",
    "Observación: el resultado de la acción\n",
    "... (este ciclo de Pensamiento/Acción/Entrada de Acción/Observación puede repetirse N veces)\n",
    "Pensamiento: ahora sé la respuesta final\n",
    "Respuesta Final: la respuesta final a la pregunta original\n",
    "\n",
    "Este es el resultado de `print(df.head())`:\n",
    "{df}\n",
    "\n",
    "¡Comienza!\n",
    "Pregunta: {input}\n",
    "{agent_scratchpad}\n",
    "\n",
    "\"\"\""
   ]
  },
  {
   "cell_type": "code",
   "execution_count": null,
   "metadata": {},
   "outputs": [],
   "source": [
    "agente = create_csv_agent(llm,\n",
    "                          archivo,\n",
    "                          verbose=True,\n",
    "                          prompt=prompt,\n",
    "                          allow_dangerous_code=True\n",
    "                          )"
   ]
  },
  {
   "cell_type": "code",
   "execution_count": null,
   "metadata": {},
   "outputs": [],
   "source": [
    "agente.run(input('Haga una pregunta: '))"
   ]
  },
  {
   "cell_type": "code",
   "execution_count": null,
   "metadata": {},
   "outputs": [],
   "source": []
  }
 ],
 "metadata": {
  "kernelspec": {
   "display_name": "Python 3",
   "language": "python",
   "name": "python3"
  },
  "language_info": {
   "codemirror_mode": {
    "name": "ipython",
    "version": 3
   },
   "file_extension": ".py",
   "mimetype": "text/x-python",
   "name": "python",
   "nbconvert_exporter": "python",
   "pygments_lexer": "ipython3",
   "version": "3.12.3"
  }
 },
 "nbformat": 4,
 "nbformat_minor": 2
}
