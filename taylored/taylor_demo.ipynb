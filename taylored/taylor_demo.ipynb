{
 "cells": [
  {
   "cell_type": "markdown",
   "metadata": {},
   "source": [
    "# SQL approach"
   ]
  },
  {
   "cell_type": "code",
   "execution_count": 1,
   "metadata": {},
   "outputs": [
    {
     "name": "stdout",
     "output_type": "stream",
     "text": [
      "(70, 7)\n",
      "['ID_PRODUCTO', 'STOCK', 'CATEGORÍA', 'REFERENCIA', 'COLOR', 'TALLA', 'PRECIO']\n"
     ]
    }
   ],
   "source": [
    "import pandas as pd\n",
    "\n",
    "df = pd.read_csv(\"guada.csv\", sep=';')\n",
    "print(df.shape)\n",
    "print(df.columns.tolist())"
   ]
  },
  {
   "cell_type": "code",
   "execution_count": 2,
   "metadata": {},
   "outputs": [
    {
     "data": {
      "text/plain": [
       "70"
      ]
     },
     "execution_count": 2,
     "metadata": {},
     "output_type": "execute_result"
    }
   ],
   "source": [
    "from langchain_community.utilities import SQLDatabase\n",
    "from sqlalchemy import create_engine\n",
    "\n",
    "engine = create_engine(\"sqlite:///guada.db\")\n",
    "df.to_sql(\"guada\", engine, index=False)"
   ]
  },
  {
   "cell_type": "code",
   "execution_count": 8,
   "metadata": {},
   "outputs": [
    {
     "name": "stdout",
     "output_type": "stream",
     "text": [
      "sqlite\n",
      "['guada']\n"
     ]
    },
    {
     "data": {
      "text/plain": [
       "\"[(57, 2, 'Blusa Americana', 'Straple', 'Lila', 'Única', 25000), (58, 1, 'Blusa Americana', 'Straple', 'Salmón', 'Única', 25000), (59, 2, 'Blusa Americana', 'Boleros', 'Negro', 'Única', 25000), (60, 2, 'Blusa Americana', 'Boleros', 'Nude', 'Única', 25000), (61, 1, 'Blusa Americana', 'Boleros', 'Beige', 'Única', 25000), (62, 1, 'Blusa Americana', 'Cruzada ', 'Blanco', 'Única', 25000), (63, 1, 'Blusa Americana', 'Cruzada ', 'Nude', 'Única', 25000), (64, 1, 'Blusa Americana', 'Zizina', 'Rosa Pastel', 'Única', 25000), (65, 1, 'Blusa Americana', 'Zizina', 'Fuscia', 'Única', 25000), (66, 1, 'Blusa Americana', 'Dinive', 'Lila', 'Única', 25000), (67, 1, 'Blusa Americana', 'Dinive', 'Blanca', 'Única', 25000)]\""
      ]
     },
     "execution_count": 8,
     "metadata": {},
     "output_type": "execute_result"
    }
   ],
   "source": [
    "db = SQLDatabase(engine=engine)\n",
    "print(db.dialect)\n",
    "print(db.get_usable_table_names())\n",
    "db.run(\"SELECT * FROM guada WHERE precio < 30000;\")"
   ]
  },
  {
   "cell_type": "markdown",
   "metadata": {},
   "source": [
    "# Agente Taylor(ed)"
   ]
  },
  {
   "cell_type": "markdown",
   "metadata": {},
   "source": [
    "### Ponele prompt y dale personalidad."
   ]
  },
  {
   "cell_type": "code",
   "execution_count": 9,
   "metadata": {},
   "outputs": [],
   "source": [
    "from langchain_community.agent_toolkits import create_sql_agent\n",
    "from langchain_openai import ChatOpenAI\n",
    "\n",
    "llm = ChatOpenAI(model=\"gpt-4o-mini\", temperature=0)\n",
    "agent_executor = create_sql_agent(llm,\n",
    "                                  db=db,\n",
    "                                  agent_type=\"openai-tools\",\n",
    "                                  verbose=True\n",
    ")"
   ]
  },
  {
   "cell_type": "code",
   "execution_count": 17,
   "metadata": {},
   "outputs": [
    {
     "name": "stdout",
     "output_type": "stream",
     "text": [
      "\n",
      "\n",
      "\u001b[1m> Entering new SQL Agent Executor chain...\u001b[0m\n",
      "\u001b[32;1m\u001b[1;3m\n",
      "Invoking: `sql_db_list_tables` with `{}`\n",
      "\n",
      "\n",
      "\u001b[0m\u001b[38;5;200m\u001b[1;3mguada\u001b[0m\u001b[32;1m\u001b[1;3m\n",
      "Invoking: `sql_db_schema` with `{'table_names': 'guada'}`\n",
      "\n",
      "\n",
      "\u001b[0m\u001b[33;1m\u001b[1;3m\n",
      "CREATE TABLE guada (\n",
      "\t\"ID_PRODUCTO\" BIGINT, \n",
      "\t\"STOCK\" BIGINT, \n",
      "\t\"CATEGORÍA\" TEXT, \n",
      "\t\"REFERENCIA\" TEXT, \n",
      "\t\"COLOR\" TEXT, \n",
      "\t\"TALLA\" TEXT, \n",
      "\t\"PRECIO\" BIGINT\n",
      ")\n",
      "\n",
      "/*\n",
      "3 rows from guada table:\n",
      "ID_PRODUCTO\tSTOCK\tCATEGORÍA\tREFERENCIA\tCOLOR\tTALLA\tPRECIO\n",
      "1\t1\tSandalias\tMorena \tBlanca\t37\t35000\n",
      "2\t1\tSandalias\tMorena \tBlanca\t38\t35000\n",
      "3\t1\tSandalias\tMorena \tBlanca\t39\t35000\n",
      "*/\u001b[0m\u001b[32;1m\u001b[1;3m\n",
      "Invoking: `sql_db_query_checker` with `{'query': \"SELECT AVG(PRECIO) as PrecioPromedio FROM guada WHERE CATEGORÍA = 'Blusa Americana'\"}`\n",
      "\n",
      "\n",
      "\u001b[0m\u001b[36;1m\u001b[1;3m```sql\n",
      "SELECT AVG(PRECIO) as PrecioPromedio FROM guada WHERE CATEGORÍA = 'Blusa Americana'\n",
      "```\u001b[0m\u001b[32;1m\u001b[1;3m\n",
      "Invoking: `sql_db_query` with `{'query': \"SELECT AVG(PRECIO) as PrecioPromedio FROM guada WHERE CATEGORÍA = 'Blusa Americana'\"}`\n",
      "\n",
      "\n",
      "\u001b[0m\u001b[36;1m\u001b[1;3m[(25000.0,)]\u001b[0m\u001b[32;1m\u001b[1;3mEl precio promedio de la categoría \"Blusa Americana\" es de 25,000.0.\u001b[0m\n",
      "\n",
      "\u001b[1m> Finished chain.\u001b[0m\n"
     ]
    },
    {
     "data": {
      "text/plain": [
       "{'input': '¿Cuál es el precio promedio de la categoría Blusa Americana?',\n",
       " 'output': 'El precio promedio de la categoría \"Blusa Americana\" es de 25,000.0.'}"
      ]
     },
     "execution_count": 17,
     "metadata": {},
     "output_type": "execute_result"
    }
   ],
   "source": [
    "agent_executor.invoke({\"input\": \"¿Cuál es el precio promedio de la categoría Blusa Americana?\"})"
   ]
  },
  {
   "cell_type": "code",
   "execution_count": 12,
   "metadata": {},
   "outputs": [
    {
     "name": "stdout",
     "output_type": "stream",
     "text": [
      "\n",
      "\n",
      "\u001b[1m> Entering new SQL Agent Executor chain...\u001b[0m\n",
      "\u001b[32;1m\u001b[1;3m\n",
      "Invoking: `sql_db_list_tables` with `{}`\n",
      "\n",
      "\n",
      "\u001b[0m\u001b[38;5;200m\u001b[1;3mguada\u001b[0m\u001b[32;1m\u001b[1;3m\n",
      "Invoking: `sql_db_schema` with `{'table_names': 'guada'}`\n",
      "\n",
      "\n",
      "\u001b[0m\u001b[33;1m\u001b[1;3m\n",
      "CREATE TABLE guada (\n",
      "\t\"ID_PRODUCTO\" BIGINT, \n",
      "\t\"STOCK\" BIGINT, \n",
      "\t\"CATEGORÍA\" TEXT, \n",
      "\t\"REFERENCIA\" TEXT, \n",
      "\t\"COLOR\" TEXT, \n",
      "\t\"TALLA\" TEXT, \n",
      "\t\"PRECIO\" BIGINT\n",
      ")\n",
      "\n",
      "/*\n",
      "3 rows from guada table:\n",
      "ID_PRODUCTO\tSTOCK\tCATEGORÍA\tREFERENCIA\tCOLOR\tTALLA\tPRECIO\n",
      "1\t1\tSandalias\tMorena \tBlanca\t37\t35000\n",
      "2\t1\tSandalias\tMorena \tBlanca\t38\t35000\n",
      "3\t1\tSandalias\tMorena \tBlanca\t39\t35000\n",
      "*/\u001b[0m\u001b[32;1m\u001b[1;3m\n",
      "Invoking: `sql_db_query_checker` with `{'query': 'SELECT REFERENCIA, PRECIO FROM guada ORDER BY PRECIO DESC LIMIT 1;'}`\n",
      "\n",
      "\n",
      "\u001b[0m\u001b[36;1m\u001b[1;3m```sql\n",
      "SELECT REFERENCIA, PRECIO FROM guada ORDER BY PRECIO DESC LIMIT 1;\n",
      "```\u001b[0m\u001b[32;1m\u001b[1;3m\n",
      "Invoking: `sql_db_query` with `{'query': 'SELECT REFERENCIA, PRECIO FROM guada ORDER BY PRECIO DESC LIMIT 1;'}`\n",
      "\n",
      "\n",
      "\u001b[0m\u001b[36;1m\u001b[1;3m[('Morral Coach', 135000)]\u001b[0m\u001b[32;1m\u001b[1;3mEl producto más caro es el \"Morral Coach\" con un precio de 135,000.\u001b[0m\n",
      "\n",
      "\u001b[1m> Finished chain.\u001b[0m\n"
     ]
    },
    {
     "data": {
      "text/plain": [
       "{'input': '¿Cuál es el producto más caro?',\n",
       " 'output': 'El producto más caro es el \"Morral Coach\" con un precio de 135,000.'}"
      ]
     },
     "execution_count": 12,
     "metadata": {},
     "output_type": "execute_result"
    }
   ],
   "source": [
    "agent_executor.invoke({\"input\": \"¿Cuál es el producto más caro?\"})"
   ]
  },
  {
   "cell_type": "code",
   "execution_count": 16,
   "metadata": {},
   "outputs": [
    {
     "name": "stdout",
     "output_type": "stream",
     "text": [
      "\n",
      "\n",
      "\u001b[1m> Entering new SQL Agent Executor chain...\u001b[0m\n",
      "\u001b[32;1m\u001b[1;3m\n",
      "Invoking: `sql_db_list_tables` with `{}`\n",
      "\n",
      "\n",
      "\u001b[0m\u001b[38;5;200m\u001b[1;3mguada\u001b[0m\u001b[32;1m\u001b[1;3m\n",
      "Invoking: `sql_db_schema` with `{'table_names': 'guada'}`\n",
      "\n",
      "\n",
      "\u001b[0m\u001b[33;1m\u001b[1;3m\n",
      "CREATE TABLE guada (\n",
      "\t\"ID_PRODUCTO\" BIGINT, \n",
      "\t\"STOCK\" BIGINT, \n",
      "\t\"CATEGORÍA\" TEXT, \n",
      "\t\"REFERENCIA\" TEXT, \n",
      "\t\"COLOR\" TEXT, \n",
      "\t\"TALLA\" TEXT, \n",
      "\t\"PRECIO\" BIGINT\n",
      ")\n",
      "\n",
      "/*\n",
      "3 rows from guada table:\n",
      "ID_PRODUCTO\tSTOCK\tCATEGORÍA\tREFERENCIA\tCOLOR\tTALLA\tPRECIO\n",
      "1\t1\tSandalias\tMorena \tBlanca\t37\t35000\n",
      "2\t1\tSandalias\tMorena \tBlanca\t38\t35000\n",
      "3\t1\tSandalias\tMorena \tBlanca\t39\t35000\n",
      "*/\u001b[0m\u001b[32;1m\u001b[1;3m\n",
      "Invoking: `sql_db_query_checker` with `{'query': 'SELECT CATEGORÍA, REFERENCIA, PRECIO FROM guada ORDER BY PRECIO ASC LIMIT 1;'}`\n",
      "\n",
      "\n",
      "\u001b[0m\u001b[36;1m\u001b[1;3m```sql\n",
      "SELECT CATEGORÍA, REFERENCIA, PRECIO FROM guada ORDER BY PRECIO ASC LIMIT 1;\n",
      "```\u001b[0m\u001b[32;1m\u001b[1;3m\n",
      "Invoking: `sql_db_query` with `{'query': 'SELECT CATEGORÍA, REFERENCIA, PRECIO FROM guada ORDER BY PRECIO ASC LIMIT 1;'}`\n",
      "\n",
      "\n",
      "\u001b[0m\u001b[36;1m\u001b[1;3m[('Blusa Americana', 'Straple', 25000)]\u001b[0m\u001b[32;1m\u001b[1;3mEl producto más barato tiene un precio de 25,000, pertenece a la categoría \"Blusa Americana\" y su referencia es \"Straple\".\u001b[0m\n",
      "\n",
      "\u001b[1m> Finished chain.\u001b[0m\n"
     ]
    },
    {
     "data": {
      "text/plain": [
       "{'input': '¿Cuál es el precio de la categoría y referencia del producto más barato?',\n",
       " 'output': 'El producto más barato tiene un precio de 25,000, pertenece a la categoría \"Blusa Americana\" y su referencia es \"Straple\".'}"
      ]
     },
     "execution_count": 16,
     "metadata": {},
     "output_type": "execute_result"
    }
   ],
   "source": [
    "agent_executor.invoke({\"input\": \"¿Cuál es el precio de la categoría y referencia del producto más barato?\"})"
   ]
  },
  {
   "cell_type": "code",
   "execution_count": 18,
   "metadata": {},
   "outputs": [
    {
     "name": "stdout",
     "output_type": "stream",
     "text": [
      "\n",
      "\n",
      "\u001b[1m> Entering new SQL Agent Executor chain...\u001b[0m\n",
      "\u001b[32;1m\u001b[1;3m\n",
      "Invoking: `sql_db_list_tables` with `{}`\n",
      "\n",
      "\n",
      "\u001b[0m\u001b[38;5;200m\u001b[1;3mguada\u001b[0m\u001b[32;1m\u001b[1;3m\n",
      "Invoking: `sql_db_schema` with `{'table_names': 'guada'}`\n",
      "\n",
      "\n",
      "\u001b[0m\u001b[33;1m\u001b[1;3m\n",
      "CREATE TABLE guada (\n",
      "\t\"ID_PRODUCTO\" BIGINT, \n",
      "\t\"STOCK\" BIGINT, \n",
      "\t\"CATEGORÍA\" TEXT, \n",
      "\t\"REFERENCIA\" TEXT, \n",
      "\t\"COLOR\" TEXT, \n",
      "\t\"TALLA\" TEXT, \n",
      "\t\"PRECIO\" BIGINT\n",
      ")\n",
      "\n",
      "/*\n",
      "3 rows from guada table:\n",
      "ID_PRODUCTO\tSTOCK\tCATEGORÍA\tREFERENCIA\tCOLOR\tTALLA\tPRECIO\n",
      "1\t1\tSandalias\tMorena \tBlanca\t37\t35000\n",
      "2\t1\tSandalias\tMorena \tBlanca\t38\t35000\n",
      "3\t1\tSandalias\tMorena \tBlanca\t39\t35000\n",
      "*/\u001b[0m\u001b[32;1m\u001b[1;3m\n",
      "Invoking: `sql_db_query_checker` with `{'query': \"SELECT REFERENCIA, COLOR, TALLA, PRECIO FROM guada WHERE CATEGORÍA = 'Sandalias' ORDER BY PRECIO ASC LIMIT 10;\"}`\n",
      "\n",
      "\n",
      "\u001b[0m\u001b[36;1m\u001b[1;3m```sql\n",
      "SELECT REFERENCIA, COLOR, TALLA, PRECIO FROM guada WHERE CATEGORÍA = 'Sandalias' ORDER BY PRECIO ASC LIMIT 10;\n",
      "```\u001b[0m\u001b[32;1m\u001b[1;3m\n",
      "Invoking: `sql_db_query` with `{'query': \"SELECT REFERENCIA, COLOR, TALLA, PRECIO FROM guada WHERE CATEGORÍA = 'Sandalias' ORDER BY PRECIO ASC LIMIT 10;\"}`\n",
      "\n",
      "\n",
      "\u001b[0m\u001b[36;1m\u001b[1;3m[('Morena ', 'Blanca', '37', 35000), ('Morena ', 'Blanca', '38', 35000), ('Morena ', 'Blanca', '39', 35000), ('Morena ', 'Blanca', '40', 35000), ('Morena ', 'Negro', '38', 35000), ('Morena ', 'Negro', '39', 35000), ('Morena ', 'Negro', '40', 35000), ('Morena ', 'Plata', '37', 35000), ('Morena ', 'Plata', '38', 35000), ('Morena ', 'Plata', '39', 35000)]\u001b[0m\u001b[32;1m\u001b[1;3mLas sandalias más baratas son las de la marca \"Morena\", con un precio de 35,000. Aquí tienes algunos ejemplos:\n",
      "\n",
      "1. **Referencia:** Morena, **Color:** Blanca, **Talla:** 37\n",
      "2. **Referencia:** Morena, **Color:** Blanca, **Talla:** 38\n",
      "3. **Referencia:** Morena, **Color:** Blanca, **Talla:** 39\n",
      "4. **Referencia:** Morena, **Color:** Blanca, **Talla:** 40\n",
      "5. **Referencia:** Morena, **Color:** Negro, **Talla:** 38\n",
      "6. **Referencia:** Morena, **Color:** Negro, **Talla:** 39\n",
      "7. **Referencia:** Morena, **Color:** Negro, **Talla:** 40\n",
      "8. **Referencia:** Morena, **Color:** Plata, **Talla:** 37\n",
      "9. **Referencia:** Morena, **Color:** Plata, **Talla:** 38\n",
      "10. **Referencia:** Morena, **Color:** Plata, **Talla:** 39\n",
      "\n",
      "Todos tienen el mismo precio de 35,000.\u001b[0m\n",
      "\n",
      "\u001b[1m> Finished chain.\u001b[0m\n"
     ]
    },
    {
     "data": {
      "text/plain": [
       "{'input': '¿Cuáles son las sandalias más baratas?',\n",
       " 'output': 'Las sandalias más baratas son las de la marca \"Morena\", con un precio de 35,000. Aquí tienes algunos ejemplos:\\n\\n1. **Referencia:** Morena, **Color:** Blanca, **Talla:** 37\\n2. **Referencia:** Morena, **Color:** Blanca, **Talla:** 38\\n3. **Referencia:** Morena, **Color:** Blanca, **Talla:** 39\\n4. **Referencia:** Morena, **Color:** Blanca, **Talla:** 40\\n5. **Referencia:** Morena, **Color:** Negro, **Talla:** 38\\n6. **Referencia:** Morena, **Color:** Negro, **Talla:** 39\\n7. **Referencia:** Morena, **Color:** Negro, **Talla:** 40\\n8. **Referencia:** Morena, **Color:** Plata, **Talla:** 37\\n9. **Referencia:** Morena, **Color:** Plata, **Talla:** 38\\n10. **Referencia:** Morena, **Color:** Plata, **Talla:** 39\\n\\nTodos tienen el mismo precio de 35,000.'}"
      ]
     },
     "execution_count": 18,
     "metadata": {},
     "output_type": "execute_result"
    }
   ],
   "source": [
    "agent_executor.invoke({\"input\": \"¿Cuáles son las sandalias más baratas?\"})"
   ]
  },
  {
   "cell_type": "code",
   "execution_count": 19,
   "metadata": {},
   "outputs": [
    {
     "name": "stdout",
     "output_type": "stream",
     "text": [
      "\n",
      "\n",
      "\u001b[1m> Entering new SQL Agent Executor chain...\u001b[0m\n",
      "\u001b[32;1m\u001b[1;3m\n",
      "Invoking: `sql_db_list_tables` with `{}`\n",
      "\n",
      "\n",
      "\u001b[0m\u001b[38;5;200m\u001b[1;3mguada\u001b[0m\u001b[32;1m\u001b[1;3m\n",
      "Invoking: `sql_db_schema` with `{'table_names': 'guada'}`\n",
      "\n",
      "\n",
      "\u001b[0m\u001b[33;1m\u001b[1;3m\n",
      "CREATE TABLE guada (\n",
      "\t\"ID_PRODUCTO\" BIGINT, \n",
      "\t\"STOCK\" BIGINT, \n",
      "\t\"CATEGORÍA\" TEXT, \n",
      "\t\"REFERENCIA\" TEXT, \n",
      "\t\"COLOR\" TEXT, \n",
      "\t\"TALLA\" TEXT, \n",
      "\t\"PRECIO\" BIGINT\n",
      ")\n",
      "\n",
      "/*\n",
      "3 rows from guada table:\n",
      "ID_PRODUCTO\tSTOCK\tCATEGORÍA\tREFERENCIA\tCOLOR\tTALLA\tPRECIO\n",
      "1\t1\tSandalias\tMorena \tBlanca\t37\t35000\n",
      "2\t1\tSandalias\tMorena \tBlanca\t38\t35000\n",
      "3\t1\tSandalias\tMorena \tBlanca\t39\t35000\n",
      "*/\u001b[0m\u001b[32;1m\u001b[1;3m\n",
      "Invoking: `sql_db_query_checker` with `{'query': 'SELECT REFERENCIA, PRECIO FROM guada WHERE PRECIO <= 50000 ORDER BY PRECIO ASC LIMIT 10;'}`\n",
      "\n",
      "\n",
      "\u001b[0m\u001b[36;1m\u001b[1;3m```sql\n",
      "SELECT REFERENCIA, PRECIO FROM guada WHERE PRECIO <= 50000 ORDER BY PRECIO ASC LIMIT 10;\n",
      "```\u001b[0m\u001b[32;1m\u001b[1;3m\n",
      "Invoking: `sql_db_query` with `{'query': 'SELECT REFERENCIA, PRECIO FROM guada WHERE PRECIO <= 50000 ORDER BY PRECIO ASC LIMIT 10;'}`\n",
      "\n",
      "\n",
      "\u001b[0m\u001b[36;1m\u001b[1;3m[('Straple', 25000), ('Straple', 25000), ('Boleros', 25000), ('Boleros', 25000), ('Boleros', 25000), ('Cruzada ', 25000), ('Cruzada ', 25000), ('Zizina', 25000), ('Zizina', 25000), ('Dinive', 25000)]\u001b[0m\u001b[32;1m\u001b[1;3mCon un presupuesto de 50,000, puedes comprar los siguientes productos:\n",
      "\n",
      "1. Straple - 25,000\n",
      "2. Boleros - 25,000\n",
      "3. Cruzada - 25,000\n",
      "4. Zizina - 25,000\n",
      "5. Dinive - 25,000\n",
      "\n",
      "Todos estos productos tienen un precio de 25,000, lo que te permite comprar múltiples unidades.\u001b[0m\n",
      "\n",
      "\u001b[1m> Finished chain.\u001b[0m\n"
     ]
    },
    {
     "data": {
      "text/plain": [
       "{'input': '¿Qué productos puedo comprar con 50,000?',\n",
       " 'output': 'Con un presupuesto de 50,000, puedes comprar los siguientes productos:\\n\\n1. Straple - 25,000\\n2. Boleros - 25,000\\n3. Cruzada - 25,000\\n4. Zizina - 25,000\\n5. Dinive - 25,000\\n\\nTodos estos productos tienen un precio de 25,000, lo que te permite comprar múltiples unidades.'}"
      ]
     },
     "execution_count": 19,
     "metadata": {},
     "output_type": "execute_result"
    }
   ],
   "source": [
    "agent_executor.invoke({\"input\": \"¿Qué productos puedo comprar con 50,000?\"})"
   ]
  },
  {
   "cell_type": "code",
   "execution_count": null,
   "metadata": {},
   "outputs": [],
   "source": []
  }
 ],
 "metadata": {
  "kernelspec": {
   "display_name": "Python 3",
   "language": "python",
   "name": "python3"
  },
  "language_info": {
   "codemirror_mode": {
    "name": "ipython",
    "version": 3
   },
   "file_extension": ".py",
   "mimetype": "text/x-python",
   "name": "python",
   "nbconvert_exporter": "python",
   "pygments_lexer": "ipython3",
   "version": "3.12.3"
  }
 },
 "nbformat": 4,
 "nbformat_minor": 2
}
