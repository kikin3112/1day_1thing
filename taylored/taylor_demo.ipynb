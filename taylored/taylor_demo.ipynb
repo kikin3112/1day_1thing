{
 "cells": [
  {
   "cell_type": "code",
   "execution_count": null,
   "metadata": {},
   "outputs": [],
   "source": [
    "import pandas as pd\n",
    "from langchain_openai import ChatOpenAI\n",
    "from langchain_experimental.agents.agent_toolkits import create_csv_agent\n",
    "from langchain import PromptTemplate\n",
    "from langchain.llms import OpenAI"
   ]
  },
  {
   "cell_type": "code",
   "execution_count": null,
   "metadata": {},
   "outputs": [],
   "source": [
    "import pandas as pd\n",
    "\n",
    "archivo = 'zara.csv'\n",
    "df = pd.read_csv(archivo)\n",
    "df.head()"
   ]
  },
  {
   "cell_type": "markdown",
   "metadata": {},
   "source": [
    "# Agente Taylor(ed)"
   ]
  },
  {
   "cell_type": "code",
   "execution_count": null,
   "metadata": {},
   "outputs": [],
   "source": [
    "llm = ChatOpenAI(temperature=0.5,\n",
    "                 model_name = 'gpt-4o-mini')"
   ]
  },
  {
   "cell_type": "code",
   "execution_count": null,
   "metadata": {},
   "outputs": [],
   "source": [
    "prompt = \"\"\"\n",
    "\n",
    "Eres un asistente de ventas virtual llamado Taylor. Estás altamente capacitado para atender a preguntas relacionadas con el inventario de la tienda Zara.\n",
    "Estás trabajando con un dataframe de pandas en Python. El nombre del dataframe es `df`.\n",
    "Debes usar las herramientas a continuación para responder la pregunta que se te ha planteado:\n",
    "\n",
    "python_repl_ast: Un intérprete de Python. Úsalo para ejecutar comandos de Python. La entrada debe ser un comando válido de Python. Cuando uses esta herramienta, a veces la salida se muestra abreviada; asegúrate de que no parezca abreviada antes de usarla en tu respuesta.\n",
    "\n",
    "Usa el siguiente formato:\n",
    "\n",
    "Pregunta: la pregunta que debes responder\n",
    "Pensamiento: siempre debes pensar en qué hacer\n",
    "Acción: la acción a tomar, debe ser una de [python_repl_ast]\n",
    "Entrada de Acción: la entrada para la acción\n",
    "Observación: el resultado de la acción\n",
    "... (este ciclo de Pensamiento/Acción/Entrada de Acción/Observación puede repetirse N veces)\n",
    "Pensamiento: ahora sé la respuesta final\n",
    "Respuesta Final: la respuesta final a la pregunta original\n",
    "\n",
    "Este es el resultado de `print(df.head())`:\n",
    "{df}\n",
    "\n",
    "¡Comienza!\n",
    "Pregunta: {input}\n",
    "{agent_scratchpad}\n",
    "\n",
    "\"\"\""
   ]
  },
  {
   "cell_type": "code",
   "execution_count": null,
   "metadata": {},
   "outputs": [],
   "source": [
    "agente = create_csv_agent(llm,\n",
    "                          archivo,\n",
    "                          verbose=True,\n",
    "                          prompt=prompt,\n",
    "                          allow_dangerous_code=True\n",
    "                          )"
   ]
  },
  {
   "cell_type": "code",
   "execution_count": null,
   "metadata": {},
   "outputs": [],
   "source": [
    "agente.run(input('Haga una pregunta: '))"
   ]
  },
  {
   "cell_type": "code",
   "execution_count": null,
   "metadata": {},
   "outputs": [],
   "source": [
    "from langchain.agents.agent_types import AgentType\n",
    "from langchain_experimental.agents.agent_toolkits import create_csv_agent\n",
    "from langchain_openai import ChatOpenAI, OpenAI"
   ]
  },
  {
   "cell_type": "code",
   "execution_count": null,
   "metadata": {},
   "outputs": [],
   "source": [
    "agent = create_csv_agent(\n",
    "    OpenAI(temperature=0),\n",
    "    archivo,\n",
    "    verbose=True,\n",
    "    allow_dangerous_code=True,\n",
    "    agent_type=AgentType.ZERO_SHOT_REACT_DESCRIPTION\n",
    ")"
   ]
  },
  {
   "cell_type": "code",
   "execution_count": null,
   "metadata": {},
   "outputs": [],
   "source": [
    "agent.run('¿Cuál es el producto más caro?')"
   ]
  },
  {
   "cell_type": "code",
   "execution_count": null,
   "metadata": {},
   "outputs": [],
   "source": []
  },
  {
   "cell_type": "markdown",
   "metadata": {},
   "source": [
    "# SQL approach"
   ]
  },
  {
   "cell_type": "code",
   "execution_count": 4,
   "metadata": {},
   "outputs": [
    {
     "name": "stdout",
     "output_type": "stream",
     "text": [
      "(252, 16)\n",
      "['Product ID', 'Product Position', 'Promotion', 'Product Category', 'Seasonal', 'Sales Volume', 'brand', 'url', 'sku', 'name', 'description', 'price', 'currency', 'scraped_at', 'terms', 'section']\n"
     ]
    }
   ],
   "source": [
    "import pandas as pd\n",
    "\n",
    "df = pd.read_csv(\"zara.csv\", sep=';')\n",
    "print(df.shape)\n",
    "print(df.columns.tolist())"
   ]
  },
  {
   "cell_type": "code",
   "execution_count": 5,
   "metadata": {},
   "outputs": [
    {
     "data": {
      "text/plain": [
       "252"
      ]
     },
     "execution_count": 5,
     "metadata": {},
     "output_type": "execute_result"
    }
   ],
   "source": [
    "from langchain_community.utilities import SQLDatabase\n",
    "from sqlalchemy import create_engine\n",
    "\n",
    "engine = create_engine(\"sqlite:///zara.db\")\n",
    "df.to_sql(\"zara\", engine, index=False)"
   ]
  },
  {
   "cell_type": "code",
   "execution_count": 6,
   "metadata": {},
   "outputs": [
    {
     "name": "stdout",
     "output_type": "stream",
     "text": [
      "sqlite\n",
      "['zara']\n"
     ]
    },
    {
     "data": {
      "text/plain": [
       "\"[(132007, 'Aisle', 'No', 'Clothing', 'Yes', 2491, 'Zara', 'https://www.zara.com/us/en/retro-sneakers-p12280220.html', '276378605-515-39', 'RETRO SNEAKERS', 'Sneakers. Upper in a combination of pieces and materials. Lacing with seven pairs of eyelets. Quilted back piece. Chunky sole. Retro style.', 9.99, 'USD', '2024-02-19T09:00:34.990048', 'shoes', 'MAN'), (147998, 'Aisle', 'No', 'Clothing', 'No', 2556, 'Zara', 'https://www.zara.com/us/en/retro-high-top-sneakers-p12180220.html', '277776476-700-39', 'RETRO HIGH TOP SNEAKERS', 'High-top sneakers. Upper in a combination of pieces. Laces with ten pairs of eyelets. Chunky sole.', 9.99, 'USD', '2024-02-19T09:00:36.249339', 'shoes', 'MAN'), (136738, 'Front of Store', 'No', 'Clothing', 'Yes', 542, 'Zara', 'https://www.zara.com/us/en/high-collar-knit-sweater-p01509118.html', '287414911-803-2', 'HIGH COLLAR KNIT SWEATER', 'Sweater with high collar and long sleeves. Front pocket. Side vents at hem. Rib trim.', 7.99, 'USD', '2024-02-19T09:10:33.128884', 'sweaters', 'WOMAN'), (185307, 'Front of Store', 'No', 'Clothing', 'Yes', 2743, 'Zara', 'https://www.zara.com/us/en/basic-100-wool-sweater-p02893106.html', '300250126-401-2', 'BASIC 100% WOOL SWEATER', 'Sweater made of 100% wool. Round neck and long sleeves. Ribbed trim.', 7.99, 'USD', '2024-02-19T09:10:49.913569', 'sweaters', 'WOMAN')]\""
      ]
     },
     "execution_count": 6,
     "metadata": {},
     "output_type": "execute_result"
    }
   ],
   "source": [
    "db = SQLDatabase(engine=engine)\n",
    "print(db.dialect)\n",
    "print(db.get_usable_table_names())\n",
    "db.run(\"SELECT * FROM zara WHERE price < 10;\")"
   ]
  },
  {
   "cell_type": "code",
   "execution_count": 8,
   "metadata": {},
   "outputs": [],
   "source": [
    "from langchain_community.agent_toolkits import create_sql_agent\n",
    "from langchain_openai import ChatOpenAI\n",
    "\n",
    "llm = ChatOpenAI(model=\"gpt-4o-mini\", temperature=0)\n",
    "agent_executor = create_sql_agent(llm, db=db, agent_type=\"openai-tools\", verbose=True)"
   ]
  },
  {
   "cell_type": "code",
   "execution_count": 9,
   "metadata": {},
   "outputs": [
    {
     "name": "stdout",
     "output_type": "stream",
     "text": [
      "\n",
      "\n",
      "\u001b[1m> Entering new SQL Agent Executor chain...\u001b[0m\n",
      "\u001b[32;1m\u001b[1;3m\n",
      "Invoking: `sql_db_list_tables` with `{}`\n",
      "\n",
      "\n",
      "\u001b[0m\u001b[38;5;200m\u001b[1;3mzara\u001b[0m\u001b[32;1m\u001b[1;3m\n",
      "Invoking: `sql_db_schema` with `{'table_names': 'zara'}`\n",
      "\n",
      "\n",
      "\u001b[0m\u001b[33;1m\u001b[1;3m\n",
      "CREATE TABLE zara (\n",
      "\t\"Product ID\" BIGINT, \n",
      "\t\"Product Position\" TEXT, \n",
      "\t\"Promotion\" TEXT, \n",
      "\t\"Product Category\" TEXT, \n",
      "\t\"Seasonal\" TEXT, \n",
      "\t\"Sales Volume\" BIGINT, \n",
      "\tbrand TEXT, \n",
      "\turl TEXT, \n",
      "\tsku TEXT, \n",
      "\tname TEXT, \n",
      "\tdescription TEXT, \n",
      "\tprice FLOAT, \n",
      "\tcurrency TEXT, \n",
      "\tscraped_at TEXT, \n",
      "\tterms TEXT, \n",
      "\tsection TEXT\n",
      ")\n",
      "\n",
      "/*\n",
      "3 rows from zara table:\n",
      "Product ID\tProduct Position\tPromotion\tProduct Category\tSeasonal\tSales Volume\tbrand\turl\tsku\tname\tdescription\tprice\tcurrency\tscraped_at\tterms\tsection\n",
      "185102\tAisle\tNo\tClothing\tNo\t2823\tZara\thttps://www.zara.com/us/en/basic-puffer-jacket-p06985450.html\t272145190-250-2\tBASIC PUFFER JACKET\tPuffer jacket made of tear-resistant ripstop fabric. High collar and adjustable long sleeves with ad\t19.99\tUSD\t2024-02-19T08:50:05.654618\tjackets\tMAN\n",
      "188771\tAisle\tNo\tClothing\tNo\t654\tZara\thttps://www.zara.com/us/en/tuxedo-jacket-p08896675.html\t324052738-800-46\tTUXEDO JACKET\tStraight fit blazer. Pointed lapel collar and long sleeves with buttoned cuffs. Welt pockets at hip \t169.0\tUSD\t2024-02-19T08:50:06.590930\tjackets\tMAN\n",
      "180176\tEnd-cap\tYes\tClothing\tYes\t2220\tZara\thttps://www.zara.com/us/en/slim-fit-suit-jacket-p01564520.html\t335342680-800-44\tSLIM FIT SUIT JACKET\tSlim fit jacket. Notched lapel collar. Long sleeves with buttoned cuffs. Welt pocket at chest and fl\t129.0\tUSD\t2024-02-19T08:50:07.301419\tjackets\tMAN\n",
      "*/\u001b[0m\u001b[32;1m\u001b[1;3m\n",
      "Invoking: `sql_db_query_checker` with `{'query': 'SELECT AVG(price) as average_price FROM zara'}`\n",
      "\n",
      "\n",
      "\u001b[0m\u001b[36;1m\u001b[1;3m```sql\n",
      "SELECT AVG(price) as average_price FROM zara\n",
      "```\u001b[0m\u001b[32;1m\u001b[1;3m\n",
      "Invoking: `sql_db_query` with `{'query': 'SELECT AVG(price) as average_price FROM zara'}`\n",
      "\n",
      "\n",
      "\u001b[0m\u001b[36;1m\u001b[1;3m[(86.25253968253968,)]\u001b[0m\u001b[32;1m\u001b[1;3mEl precio promedio de los productos en la tabla es de aproximadamente 86.25 USD.\u001b[0m\n",
      "\n",
      "\u001b[1m> Finished chain.\u001b[0m\n"
     ]
    },
    {
     "data": {
      "text/plain": [
       "{'input': '¿Cuál es el precio promedio?',\n",
       " 'output': 'El precio promedio de los productos en la tabla es de aproximadamente 86.25 USD.'}"
      ]
     },
     "execution_count": 9,
     "metadata": {},
     "output_type": "execute_result"
    }
   ],
   "source": [
    "agent_executor.invoke({\"input\": \"¿Cuál es el precio promedio?\"})"
   ]
  },
  {
   "cell_type": "code",
   "execution_count": 11,
   "metadata": {},
   "outputs": [
    {
     "name": "stdout",
     "output_type": "stream",
     "text": [
      "\n",
      "\n",
      "\u001b[1m> Entering new SQL Agent Executor chain...\u001b[0m\n",
      "\u001b[32;1m\u001b[1;3m\n",
      "Invoking: `sql_db_list_tables` with `{}`\n",
      "\n",
      "\n",
      "\u001b[0m\u001b[38;5;200m\u001b[1;3mzara\u001b[0m\u001b[32;1m\u001b[1;3m\n",
      "Invoking: `sql_db_schema` with `{'table_names': 'zara'}`\n",
      "\n",
      "\n",
      "\u001b[0m\u001b[33;1m\u001b[1;3m\n",
      "CREATE TABLE zara (\n",
      "\t\"Product ID\" BIGINT, \n",
      "\t\"Product Position\" TEXT, \n",
      "\t\"Promotion\" TEXT, \n",
      "\t\"Product Category\" TEXT, \n",
      "\t\"Seasonal\" TEXT, \n",
      "\t\"Sales Volume\" BIGINT, \n",
      "\tbrand TEXT, \n",
      "\turl TEXT, \n",
      "\tsku TEXT, \n",
      "\tname TEXT, \n",
      "\tdescription TEXT, \n",
      "\tprice FLOAT, \n",
      "\tcurrency TEXT, \n",
      "\tscraped_at TEXT, \n",
      "\tterms TEXT, \n",
      "\tsection TEXT\n",
      ")\n",
      "\n",
      "/*\n",
      "3 rows from zara table:\n",
      "Product ID\tProduct Position\tPromotion\tProduct Category\tSeasonal\tSales Volume\tbrand\turl\tsku\tname\tdescription\tprice\tcurrency\tscraped_at\tterms\tsection\n",
      "185102\tAisle\tNo\tClothing\tNo\t2823\tZara\thttps://www.zara.com/us/en/basic-puffer-jacket-p06985450.html\t272145190-250-2\tBASIC PUFFER JACKET\tPuffer jacket made of tear-resistant ripstop fabric. High collar and adjustable long sleeves with ad\t19.99\tUSD\t2024-02-19T08:50:05.654618\tjackets\tMAN\n",
      "188771\tAisle\tNo\tClothing\tNo\t654\tZara\thttps://www.zara.com/us/en/tuxedo-jacket-p08896675.html\t324052738-800-46\tTUXEDO JACKET\tStraight fit blazer. Pointed lapel collar and long sleeves with buttoned cuffs. Welt pockets at hip \t169.0\tUSD\t2024-02-19T08:50:06.590930\tjackets\tMAN\n",
      "180176\tEnd-cap\tYes\tClothing\tYes\t2220\tZara\thttps://www.zara.com/us/en/slim-fit-suit-jacket-p01564520.html\t335342680-800-44\tSLIM FIT SUIT JACKET\tSlim fit jacket. Notched lapel collar. Long sleeves with buttoned cuffs. Welt pocket at chest and fl\t129.0\tUSD\t2024-02-19T08:50:07.301419\tjackets\tMAN\n",
      "*/\u001b[0m\u001b[32;1m\u001b[1;3m\n",
      "Invoking: `sql_db_query_checker` with `{'query': \"SELECT price, currency FROM zara WHERE name LIKE '%RETRO HIGH TOP SNEAKERS%' LIMIT 10;\"}`\n",
      "\n",
      "\n",
      "\u001b[0m\u001b[36;1m\u001b[1;3m```sql\n",
      "SELECT price, currency FROM zara WHERE name LIKE '%RETRO HIGH TOP SNEAKERS%' LIMIT 10;\n",
      "```\u001b[0m\u001b[32;1m\u001b[1;3m\n",
      "Invoking: `sql_db_query` with `{'query': \"SELECT price, currency FROM zara WHERE name LIKE '%RETRO HIGH TOP SNEAKERS%' LIMIT 10;\"}`\n",
      "\n",
      "\n",
      "\u001b[0m\u001b[36;1m\u001b[1;3m[(9.99, 'USD')]\u001b[0m\u001b[32;1m\u001b[1;3mEl precio de las RETRO HIGH TOP SNEAKERS es de 9.99 USD.\u001b[0m\n",
      "\n",
      "\u001b[1m> Finished chain.\u001b[0m\n"
     ]
    },
    {
     "data": {
      "text/plain": [
       "{'input': '¿Cuál es el precio de las RETRO HIGH TOP SNEAKERS?',\n",
       " 'output': 'El precio de las RETRO HIGH TOP SNEAKERS es de 9.99 USD.'}"
      ]
     },
     "execution_count": 11,
     "metadata": {},
     "output_type": "execute_result"
    }
   ],
   "source": [
    "agent_executor.invoke({\"input\": \"¿Cuál es el precio de las RETRO HIGH TOP SNEAKERS?\"})"
   ]
  },
  {
   "cell_type": "code",
   "execution_count": 12,
   "metadata": {},
   "outputs": [
    {
     "name": "stdout",
     "output_type": "stream",
     "text": [
      "\n",
      "\n",
      "\u001b[1m> Entering new SQL Agent Executor chain...\u001b[0m\n",
      "\u001b[32;1m\u001b[1;3m\n",
      "Invoking: `sql_db_list_tables` with `{}`\n",
      "\n",
      "\n",
      "\u001b[0m\u001b[38;5;200m\u001b[1;3mzara\u001b[0m\u001b[32;1m\u001b[1;3m\n",
      "Invoking: `sql_db_schema` with `{'table_names': 'zara'}`\n",
      "\n",
      "\n",
      "\u001b[0m\u001b[33;1m\u001b[1;3m\n",
      "CREATE TABLE zara (\n",
      "\t\"Product ID\" BIGINT, \n",
      "\t\"Product Position\" TEXT, \n",
      "\t\"Promotion\" TEXT, \n",
      "\t\"Product Category\" TEXT, \n",
      "\t\"Seasonal\" TEXT, \n",
      "\t\"Sales Volume\" BIGINT, \n",
      "\tbrand TEXT, \n",
      "\turl TEXT, \n",
      "\tsku TEXT, \n",
      "\tname TEXT, \n",
      "\tdescription TEXT, \n",
      "\tprice FLOAT, \n",
      "\tcurrency TEXT, \n",
      "\tscraped_at TEXT, \n",
      "\tterms TEXT, \n",
      "\tsection TEXT\n",
      ")\n",
      "\n",
      "/*\n",
      "3 rows from zara table:\n",
      "Product ID\tProduct Position\tPromotion\tProduct Category\tSeasonal\tSales Volume\tbrand\turl\tsku\tname\tdescription\tprice\tcurrency\tscraped_at\tterms\tsection\n",
      "185102\tAisle\tNo\tClothing\tNo\t2823\tZara\thttps://www.zara.com/us/en/basic-puffer-jacket-p06985450.html\t272145190-250-2\tBASIC PUFFER JACKET\tPuffer jacket made of tear-resistant ripstop fabric. High collar and adjustable long sleeves with ad\t19.99\tUSD\t2024-02-19T08:50:05.654618\tjackets\tMAN\n",
      "188771\tAisle\tNo\tClothing\tNo\t654\tZara\thttps://www.zara.com/us/en/tuxedo-jacket-p08896675.html\t324052738-800-46\tTUXEDO JACKET\tStraight fit blazer. Pointed lapel collar and long sleeves with buttoned cuffs. Welt pockets at hip \t169.0\tUSD\t2024-02-19T08:50:06.590930\tjackets\tMAN\n",
      "180176\tEnd-cap\tYes\tClothing\tYes\t2220\tZara\thttps://www.zara.com/us/en/slim-fit-suit-jacket-p01564520.html\t335342680-800-44\tSLIM FIT SUIT JACKET\tSlim fit jacket. Notched lapel collar. Long sleeves with buttoned cuffs. Welt pocket at chest and fl\t129.0\tUSD\t2024-02-19T08:50:07.301419\tjackets\tMAN\n",
      "*/\u001b[0m\u001b[32;1m\u001b[1;3m\n",
      "Invoking: `sql_db_query_checker` with `{'query': 'SELECT name, price FROM zara ORDER BY price DESC LIMIT 1;'}`\n",
      "\n",
      "\n",
      "\u001b[0m\u001b[36;1m\u001b[1;3m```sql\n",
      "SELECT name, price FROM zara ORDER BY price DESC LIMIT 1;\n",
      "```\u001b[0m\u001b[32;1m\u001b[1;3m\n",
      "Invoking: `sql_db_query` with `{'query': 'SELECT name, price FROM zara ORDER BY price DESC LIMIT 1;'}`\n",
      "\n",
      "\n",
      "\u001b[0m\u001b[36;1m\u001b[1;3m[('CROPPED LEATHER JACKET', 439.0)]\u001b[0m\u001b[32;1m\u001b[1;3mEl producto más caro es la \"CROPPED LEATHER JACKET\" con un precio de 439.0 USD.\u001b[0m\n",
      "\n",
      "\u001b[1m> Finished chain.\u001b[0m\n"
     ]
    },
    {
     "data": {
      "text/plain": [
       "{'input': '¿Cuál es el producto más caro?',\n",
       " 'output': 'El producto más caro es la \"CROPPED LEATHER JACKET\" con un precio de 439.0 USD.'}"
      ]
     },
     "execution_count": 12,
     "metadata": {},
     "output_type": "execute_result"
    }
   ],
   "source": [
    "agent_executor.invoke({\"input\": \"¿Cuál es el producto más caro?\"})"
   ]
  },
  {
   "cell_type": "code",
   "execution_count": 13,
   "metadata": {},
   "outputs": [
    {
     "name": "stdout",
     "output_type": "stream",
     "text": [
      "\n",
      "\n",
      "\u001b[1m> Entering new SQL Agent Executor chain...\u001b[0m\n",
      "\u001b[32;1m\u001b[1;3m\n",
      "Invoking: `sql_db_list_tables` with `{}`\n",
      "\n",
      "\n",
      "\u001b[0m\u001b[38;5;200m\u001b[1;3mzara\u001b[0m\u001b[32;1m\u001b[1;3m\n",
      "Invoking: `sql_db_schema` with `{'table_names': 'zara'}`\n",
      "\n",
      "\n",
      "\u001b[0m\u001b[33;1m\u001b[1;3m\n",
      "CREATE TABLE zara (\n",
      "\t\"Product ID\" BIGINT, \n",
      "\t\"Product Position\" TEXT, \n",
      "\t\"Promotion\" TEXT, \n",
      "\t\"Product Category\" TEXT, \n",
      "\t\"Seasonal\" TEXT, \n",
      "\t\"Sales Volume\" BIGINT, \n",
      "\tbrand TEXT, \n",
      "\turl TEXT, \n",
      "\tsku TEXT, \n",
      "\tname TEXT, \n",
      "\tdescription TEXT, \n",
      "\tprice FLOAT, \n",
      "\tcurrency TEXT, \n",
      "\tscraped_at TEXT, \n",
      "\tterms TEXT, \n",
      "\tsection TEXT\n",
      ")\n",
      "\n",
      "/*\n",
      "3 rows from zara table:\n",
      "Product ID\tProduct Position\tPromotion\tProduct Category\tSeasonal\tSales Volume\tbrand\turl\tsku\tname\tdescription\tprice\tcurrency\tscraped_at\tterms\tsection\n",
      "185102\tAisle\tNo\tClothing\tNo\t2823\tZara\thttps://www.zara.com/us/en/basic-puffer-jacket-p06985450.html\t272145190-250-2\tBASIC PUFFER JACKET\tPuffer jacket made of tear-resistant ripstop fabric. High collar and adjustable long sleeves with ad\t19.99\tUSD\t2024-02-19T08:50:05.654618\tjackets\tMAN\n",
      "188771\tAisle\tNo\tClothing\tNo\t654\tZara\thttps://www.zara.com/us/en/tuxedo-jacket-p08896675.html\t324052738-800-46\tTUXEDO JACKET\tStraight fit blazer. Pointed lapel collar and long sleeves with buttoned cuffs. Welt pockets at hip \t169.0\tUSD\t2024-02-19T08:50:06.590930\tjackets\tMAN\n",
      "180176\tEnd-cap\tYes\tClothing\tYes\t2220\tZara\thttps://www.zara.com/us/en/slim-fit-suit-jacket-p01564520.html\t335342680-800-44\tSLIM FIT SUIT JACKET\tSlim fit jacket. Notched lapel collar. Long sleeves with buttoned cuffs. Welt pocket at chest and fl\t129.0\tUSD\t2024-02-19T08:50:07.301419\tjackets\tMAN\n",
      "*/\u001b[0m\u001b[32;1m\u001b[1;3m\n",
      "Invoking: `sql_db_query_checker` with `{'query': 'SELECT name, price FROM zara ORDER BY price ASC LIMIT 1;'}`\n",
      "\n",
      "\n",
      "\u001b[0m\u001b[36;1m\u001b[1;3m```sql\n",
      "SELECT name, price FROM zara ORDER BY price ASC LIMIT 1;\n",
      "```\u001b[0m\u001b[32;1m\u001b[1;3m\n",
      "Invoking: `sql_db_query` with `{'query': 'SELECT name, price FROM zara ORDER BY price ASC LIMIT 1;'}`\n",
      "\n",
      "\n",
      "\u001b[0m\u001b[36;1m\u001b[1;3m[('HIGH COLLAR KNIT SWEATER', 7.99)]\u001b[0m\u001b[32;1m\u001b[1;3mEl producto más barato es el \"HIGH COLLAR KNIT SWEATER\" con un precio de 7.99 USD.\u001b[0m\n",
      "\n",
      "\u001b[1m> Finished chain.\u001b[0m\n"
     ]
    },
    {
     "data": {
      "text/plain": [
       "{'input': '¿Cuál es el producto más barato?',\n",
       " 'output': 'El producto más barato es el \"HIGH COLLAR KNIT SWEATER\" con un precio de 7.99 USD.'}"
      ]
     },
     "execution_count": 13,
     "metadata": {},
     "output_type": "execute_result"
    }
   ],
   "source": [
    "agent_executor.invoke({\"input\": \"¿Cuál es el producto más barato?\"})"
   ]
  },
  {
   "cell_type": "code",
   "execution_count": null,
   "metadata": {},
   "outputs": [],
   "source": []
  }
 ],
 "metadata": {
  "kernelspec": {
   "display_name": "Python 3",
   "language": "python",
   "name": "python3"
  },
  "language_info": {
   "codemirror_mode": {
    "name": "ipython",
    "version": 3
   },
   "file_extension": ".py",
   "mimetype": "text/x-python",
   "name": "python",
   "nbconvert_exporter": "python",
   "pygments_lexer": "ipython3",
   "version": "3.12.3"
  }
 },
 "nbformat": 4,
 "nbformat_minor": 2
}
