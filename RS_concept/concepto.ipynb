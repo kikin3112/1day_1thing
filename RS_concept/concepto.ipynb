{
 "cells": [
  {
   "cell_type": "markdown",
   "metadata": {},
   "source": [
    "# GENERADOR DE CONCEPTOS DE CLASE RS"
   ]
  },
  {
   "cell_type": "markdown",
   "metadata": {},
   "source": [
    "### Paso 1: Generación de la fecha (done)"
   ]
  },
  {
   "cell_type": "code",
   "execution_count": null,
   "metadata": {},
   "outputs": [
    {
     "name": "stdout",
     "output_type": "stream",
     "text": [
      "Modelo: Guitarra 4000 (Nivel 1)\n"
     ]
    }
   ],
   "source": [
    "def obtener_informacion_modelo(curso, nombre_modelo): # esta función es paara obtener el modelo. crear otras para obtener las actividades, objetivos y retos\n",
    "    for nivel, modelos in curso[\"modelos\"].items():\n",
    "        if nombre_modelo in modelos:  # Verifica si el modelo está en el nivel\n",
    "            return f\"Modelo: {nombre_modelo} (Nivel {nivel})\"\n",
    "    return f\"El modelo '{nombre_modelo}' no fue encontrado.\"\n",
    "\n",
    "# Diccionario base\n",
    "lego_boost_curso = {\n",
    "    \"curso\": \"Lego Boost\",\n",
    "    \"modelos\": {\n",
    "        1: [\"Robot Vernie\", \"Guitarra 4000\"]\n",
    "    }\n",
    "}\n",
    "\n",
    "# Consultar el modelo \"Guitarra 4000\"\n",
    "resultado = obtener_informacion_modelo(lego_boost_curso, \"Guitarra 4000\")\n",
    "print(resultado)\n",
    "\n",
    "# el diccionario solo debe tener nombre del curso, modelos cada uno con su ciclo en una key, actividades planteadas, actividades reaizadas, objetivos (ubicacion, lateralidad, etc) y retos"
   ]
  },
  {
   "cell_type": "code",
   "execution_count": 2,
   "metadata": {},
   "outputs": [
    {
     "name": "stdout",
     "output_type": "stream",
     "text": [
      "INGRESE LA FECHA DEL INFORME:\n",
      "Dato no válido. Intente nuevamente.\n"
     ]
    },
    {
     "data": {
      "text/plain": [
       "'FECHA: martes, 31 de diciembre del año 2024.'"
      ]
     },
     "execution_count": 2,
     "metadata": {},
     "output_type": "execute_result"
    }
   ],
   "source": [
    "################################\n",
    "### GENERADOR DE DÍA Y FECHA ###\n",
    "################################\n",
    "\n",
    "from datetime import date\n",
    "\n",
    "def gen_fecha():\n",
    "    print(\"INGRESE LA FECHA DEL INFORME:\")\n",
    "    while True:\n",
    "        try:\n",
    "            dia = int(input(\"Día del informe: \"))\n",
    "            mes = int(input(\"Mes del informe: \"))\n",
    "            # IDEA: se pueden hacer más condiciones para evitar errores en fechas\n",
    "            # como especificar los meses con 30 y 31 días.\n",
    "        except ValueError:\n",
    "            print(\"Dato no válido. Intente nuevamente.\")\n",
    "            continue\n",
    "        break\n",
    "\n",
    "    año = date.today().year # se elige automáticamente el año de la fecha de HOY\n",
    "\n",
    "    fecha_informe = date(año, mes, dia)\n",
    "    dia_informe = fecha_informe.weekday()\n",
    "\n",
    "    dias_semana = [\"lunes\", \"martes\", \"miércoles\", \"jueves\", \"viernes\", \"sábado\", \"domingo\"]\n",
    "    # el método 'weekday' sí tiene en cuenta el índice cero\n",
    "    nombre_dia = dias_semana[dia_informe]\n",
    "\n",
    "    meses = [\"zero_index\", \"enero\", \"febrero\", \"marzo\", \"abril\", \"mayo\", \"junio\", \"julio\", \"agosto\", \"septiembre\", \"octubre\", \"novimebre\", \"diciembre\"]\n",
    "    # el método 'month' no tiene en cuenta el índice cero\n",
    "    nombre_mes = meses[(fecha_informe.month)]\n",
    "\n",
    "    fecha = f\"FECHA: {nombre_dia}, {dia} de {nombre_mes} del año {año}.\"\n",
    "\n",
    "    return fecha\n",
    "\n",
    "gen_fecha()"
   ]
  },
  {
   "cell_type": "markdown",
   "metadata": {},
   "source": [
    "### Paso 2: Elección del curso (done)"
   ]
  },
  {
   "cell_type": "code",
   "execution_count": null,
   "metadata": {},
   "outputs": [
    {
     "name": "stdout",
     "output_type": "stream",
     "text": [
      "OPCIONES DE CURSOS:\n",
      "(1) -> Lego Boost\n",
      "(2) -> Lego Apitor Q\n",
      "(3) -> Cancelar y salir\n"
     ]
    },
    {
     "data": {
      "text/plain": [
       "'CURSO: *Lego Apitor Q*'"
      ]
     },
     "execution_count": 11,
     "metadata": {},
     "output_type": "execute_result"
    }
   ],
   "source": [
    "#########################\n",
    "### ELECCIÓN DE CICLO Y CURSO ###\n",
    "#########################\n",
    "\n",
    "# def elec_curso():\n",
    "#     print(\"OPCIONES DE CURSOS:\")\n",
    "#     cursos = [\"(1) -> Lego Boost\", \"(2) -> Lego Apitor Q\", \"(3) -> cancelar y salir\"]\n",
    "\n",
    "#     for c in cursos:\n",
    "#         print(c)\n",
    "\n",
    "#     while True:\n",
    "#         try:\n",
    "#             opcion_curso = int(input(\"Elija una opción: \"))\n",
    "            \n",
    "#             if opcion_curso == 1:\n",
    "#                 eleccion = \"*Lego Apitor Q*\"\n",
    "#                 return f\"CURSO: {eleccion}.\"\n",
    "#             elif opcion_curso == 2:\n",
    "#                 eleccion = \"*Lego Boost*\"\n",
    "#                 return f\"CURSO: {eleccion}.\"\n",
    "#             elif opcion_curso == 3:\n",
    "#                 print(\"\\nSaliendo...\")\n",
    "#                 break\n",
    "#             else:\n",
    "#                 print(\"\\nOpción no válida. Intente nuevamente.\") # se verifica que el dato proporcionado esté entre las opciones\n",
    "        \n",
    "#         except ValueError:\n",
    "#             print(\"\\nDato no válido. Intente nuevamente.\") # se verifica que el dato proporcionado sea un número\n",
    "\n",
    "# elec_curso()\n",
    "\n",
    "def elec_curso(): # nueva implementación para elección de ciclo y curso\n",
    "    cursos = { # en estos diccionarios se debe especificar todo: nombre del curso, ciclos, modelos, actividades planteadas, objetivos (ubicacion, lateralidad, etc) y retos\n",
    "        1: {\n",
    "            \"nombre\": \"Lego Boost\",\n",
    "            \"niveles/ciclos\": [\"Principiante\", \"Intermedio\", \"Avanzado\"],\n",
    "            \"modelos\": [\"Mira a dónde vas\", \"etc\"]\n",
    "        },\n",
    "        2: {\n",
    "            \"nombre\": \"Lego Apitor Q\", \n",
    "            \"niveles\": [\"Básico\", \"Intermedio\", \"Experto\"]\n",
    "        },\n",
    "        3: {\n",
    "            \"nombre\": \"Cancelar y salir\",\n",
    "            \"niveles\": []\n",
    "        }\n",
    "    }\n",
    "\n",
    "    print(\"OPCIONES DE CURSOS:\")\n",
    "    for clave, curso in cursos.items():\n",
    "        print(f\"({clave}) -> {curso['nombre']}\")\n",
    "\n",
    "    while True:\n",
    "        try:\n",
    "            opcion_curso = int(input(\"Elija una opción: \"))\n",
    "            \n",
    "            if opcion_curso in cursos:\n",
    "                if opcion_curso == 3:\n",
    "                    print(\"Saliendo...\")\n",
    "                    break\n",
    "                \n",
    "                return f\"CURSO: *{cursos[opcion_curso]['nombre']}*\"\n",
    "            else:\n",
    "                print(\"\\nOpción no válida. Intente nuevamente.\")\n",
    "        \n",
    "        except ValueError:\n",
    "            print(\"\\nDato no válido. Intente nuevamente.\")\n",
    "\n",
    "    return None # de aquí tiene que salir, nombre del curso, ciclo, modelo, actividad propuesta y objetivos\n",
    "\n",
    "elec_curso()"
   ]
  },
  {
   "cell_type": "markdown",
   "metadata": {},
   "source": [
    "### Paso 3: Generación de nombre(s) y edad del(la) alumno(a) (done)"
   ]
  },
  {
   "cell_type": "code",
   "execution_count": 9,
   "metadata": {},
   "outputs": [
    {
     "data": {
      "text/plain": [
       "'NOMBRE DEL(LA) ESTUDIANTE: Luis Riascos\\nEDAD: 24'"
      ]
     },
     "execution_count": 9,
     "metadata": {},
     "output_type": "execute_result"
    }
   ],
   "source": [
    "##################################################\n",
    "### GENERADOR DE NOMBRE(S), APELLIDO(S) Y EDAD ###\n",
    "##################################################\n",
    "\n",
    "def gen_nombre_edad():\n",
    "\n",
    "    while True:\n",
    "        try: # por si las moscas\n",
    "            nombres = str(input(\"Ingrese el(los) nombre(s) del(de la) estudiante: \"))\n",
    "            apellidos = str(input(\"Ingrese el(los) apellido(s) del(de la) estudiante: \"))\n",
    "        except ValueError:\n",
    "            print(\"Dato no válido. Intente nuevamente.\")\n",
    "            continue\n",
    "        break \n",
    "\n",
    "    while True:\n",
    "        try: # por si las moscas pero más necesario\n",
    "            edad = int(input(\"Ingrese la edad del(la) estudiante: \"))\n",
    "        except ValueError:\n",
    "            print(\"Dato no válido. Intente nuevamente.\")\n",
    "            continue\n",
    "        break \n",
    "\n",
    "    nombre_edad = f\"NOMBRE DEL(LA) ESTUDIANTE: {nombres.title()} {apellidos.title()}\\nEDAD DEL(LA) ESTUDIANTE: {edad}\"\n",
    "    \n",
    "    return(nombre_edad)\n",
    "\n",
    "gen_nombre_edad()"
   ]
  },
  {
   "cell_type": "code",
   "execution_count": null,
   "metadata": {},
   "outputs": [
    {
     "name": "stdout",
     "output_type": "stream",
     "text": [
      "Informe de Juan\n",
      "Fecha: HOY\n",
      "\n"
     ]
    }
   ],
   "source": [
    "# PLANTILLA DEL PROGRAMA, AQUÍ QUEDARÁ TODO #\n",
    "\n",
    "class Estudiante:\n",
    "    def __init__(self, fecha, curso, ciclo, nombre, edad):\n",
    "        self.fecha = fecha\n",
    "        self.curso = curso\n",
    "        self.ciclo = ciclo #falta crear la función\n",
    "        self.nombre = nombre\n",
    "        self.edad = edad\n",
    "\n",
    "    def generar_informe(self):\n",
    "        informe = f\"Informe de {self.nombre}\\n\"\n",
    "        informe += f\"Fecha: {self.fecha}\\n\"\n",
    "        return informe\n",
    "    \n",
    "est_1 = Estudiante(\"HOY\", \"Lego Boost\", \"3\", \"Juan\", \"9\")\n",
    "\n",
    "print(est_1.generar_informe())"
   ]
  },
  {
   "cell_type": "code",
   "execution_count": 1,
   "metadata": {},
   "outputs": [],
   "source": [
    "# Import the required libraries\n",
    "from tkinter import *\n",
    "\n",
    "# Create an instance of tkinter frame\n",
    "win = Tk()\n",
    "\n",
    "# Set the geometry of the frame\n",
    "win.geometry(\"650x250\")\n",
    "\n",
    "# Define a function to clear the Entry Widget content\n",
    "def clear_text():\n",
    "    text.delete(0, END)\n",
    "\n",
    "# Create an Entry widget\n",
    "text = Entry(win, width=40)\n",
    "text.pack()\n",
    "\n",
    "# Create a button to clear the Entry Widget\n",
    "Button(win, text=\"Clear\", command=clear_text, font=('Helvetica', 10, 'bold')).pack(pady=5)\n",
    "\n",
    "# Run the tkinter main loop\n",
    "win.mainloop()\n"
   ]
  },
  {
   "cell_type": "code",
   "execution_count": null,
   "metadata": {},
   "outputs": [],
   "source": []
  }
 ],
 "metadata": {
  "kernelspec": {
   "display_name": ".venv",
   "language": "python",
   "name": "python3"
  },
  "language_info": {
   "codemirror_mode": {
    "name": "ipython",
    "version": 3
   },
   "file_extension": ".py",
   "mimetype": "text/x-python",
   "name": "python",
   "nbconvert_exporter": "python",
   "pygments_lexer": "ipython3",
   "version": "3.12.3"
  }
 },
 "nbformat": 4,
 "nbformat_minor": 2
}
