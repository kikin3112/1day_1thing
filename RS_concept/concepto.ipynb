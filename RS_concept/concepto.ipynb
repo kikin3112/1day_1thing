{
 "cells": [
  {
   "cell_type": "markdown",
   "metadata": {},
   "source": [
    "# Generador de conceptos de clase RS"
   ]
  },
  {
   "cell_type": "code",
   "execution_count": null,
   "metadata": {},
   "outputs": [],
   "source": [
    "################################\n",
    "### GENERADOR DE DÍA Y FECHA ###\n",
    "################################\n",
    "\n",
    "import datetime\n",
    "\n",
    "def gen_fecha(año = 2024,\n",
    "              mes = 11,\n",
    "              dia = input(\"Ingrese el día correspondiente al informe: \")):\n",
    "    \"\"\"\n",
    "    Función que genera un fecha completa \n",
    "    basada en una fecha AAAA, MM, DD.\n",
    "\n",
    "    Args:\n",
    "        año: año.\n",
    "        mes: mes.\n",
    "        dia: dia. \n",
    "    \"\"\"\n",
    "\n",
    "    fecha_ingresada = str(año) + \"-\" + str(mes) + \"-\" + str(dia)\n",
    "    fecha = datetime.datetime.strptime(fecha_ingresada, \"%Y-%m-%d\")\n",
    "\n",
    "    dias_semana = [\"lunes\", \"martes\", \"miércoles\", \"jueves\", \"viernes\", \"sábado\", \"domingo\"]\n",
    "    nombre_dia = dias_semana[fecha.weekday()]\n",
    "\n",
    "    meses = [\"enero\", \"febrero\", \"marzo\", \"abril\", \"mayo\", \"junio\", \"julio\", \"agosto\", \"septiembre\", \"octubre\", \"novimebre\", \"diciembre\"]\n",
    "    nombre_mes = meses[(fecha.month) - 1]\n",
    "\n",
    "    return f\"FECHA: {nombre_dia}, {dia} de {nombre_mes} del año {año}.\"\n",
    "\n",
    "gen_fecha()"
   ]
  },
  {
   "cell_type": "code",
   "execution_count": null,
   "metadata": {},
   "outputs": [],
   "source": [
    "#########################\n",
    "### ELECCIÓN DE CURSO ###\n",
    "#########################\n",
    "\n",
    "def curso():\n",
    "    print(\"OPCIONES DE CURSOS:\")\n",
    "    cursos = [\"(1) Lego Boost\", \"(2) Lego Apitor Q\", \"(3) para cancelar\"]\n",
    "\n",
    "    for c in cursos:\n",
    "        print(c)\n",
    "\n",
    "    while True:\n",
    "        try:\n",
    "            opcion_curso = int(input(\"Elija una opción: \"))\n",
    "            \n",
    "            if opcion_curso == 1:\n",
    "                return \"CURSO: *Lego Boost*\"\n",
    "            elif opcion_curso == 2:\n",
    "                return \"CURSO: *Lego Apitor Q*\"\n",
    "            elif opcion_curso == 3:\n",
    "                break\n",
    "            else:\n",
    "                print(\"\\nOpción no válida. Intente nuevamente.\")\n",
    "        \n",
    "        except ValueError:\n",
    "            print(\"\\nEntrada no válida. Intente nuevamente.\")\n",
    "\n",
    "    return opcion_curso\n",
    "\n",
    "print(curso())"
   ]
  },
  {
   "cell_type": "markdown",
   "metadata": {},
   "source": [
    "### Clase para elegir el modelo realizado dependiendo del curso."
   ]
  },
  {
   "cell_type": "code",
   "execution_count": 57,
   "metadata": {},
   "outputs": [
    {
     "name": "stdout",
     "output_type": "stream",
     "text": [
      "OPCIONES DE CURSOS:\n",
      "(1) Lego Boost\n",
      "(2) Lego Apitor Q\n",
      "Curso seleccionado: Lego Boost\n",
      "OPCIONES DE ACTIVIDADES:\n",
      "(1) Construcción de robots\n",
      "(2) Programación básica\n",
      "(3) Retos de movimiento\n",
      "Actividad seleccionada: Construcción de robots\n",
      "Usted ha seleccionado el curso 'Lego Boost' con la actividad 'Construcción de robots'.\n"
     ]
    }
   ],
   "source": [
    "class SeleccionCurso:\n",
    "    def __init__(self):\n",
    "        # Definimos los cursos y sus actividades\n",
    "        self.cursos = {\n",
    "            1: {\"nombre\": \"Lego Boost\", \"actividades\": [\"Construcción de robots\", \"Programación básica\", \"Retos de movimiento\"]},\n",
    "            2: {\"nombre\": \"Lego Apitor Q\", \"actividades\": [\"Ensamblaje modular\", \"Programación avanzada\", \"Desafíos de sensores\"]}\n",
    "        }\n",
    "\n",
    "    def elegir_curso(self):\n",
    "        # Mostrar opciones de cursos\n",
    "        print(\"OPCIONES DE CURSOS:\")\n",
    "        for num, curso in self.cursos.items():\n",
    "            print(f\"({num}) {curso['nombre']}\")\n",
    "\n",
    "        # Pedir al usuario que elija un curso\n",
    "        while True:\n",
    "            try:\n",
    "                opcion_curso = int(input(\"Elija una opción de curso: \"))\n",
    "                if opcion_curso in self.cursos:\n",
    "                    print(f\"Curso seleccionado: {self.cursos[opcion_curso]['nombre']}\")\n",
    "                    return opcion_curso\n",
    "                else:\n",
    "                    print(\"Opción de curso no válida. Intente nuevamente.\")\n",
    "            except ValueError:\n",
    "                print(\"Entrada no válida. Intente nuevamente.\")\n",
    "\n",
    "    def elegir_actividad(self, curso_id):\n",
    "        # Obtener las actividades del curso elegido\n",
    "        actividades = self.cursos[curso_id][\"actividades\"]\n",
    "        \n",
    "        # Mostrar las actividades\n",
    "        print(\"OPCIONES DE ACTIVIDADES:\")\n",
    "        for i, actividad in enumerate(actividades, start=1):\n",
    "            print(f\"({i}) {actividad}\")\n",
    "\n",
    "        # Pedir al usuario que elija una actividad\n",
    "        while True:\n",
    "            try:\n",
    "                opcion_actividad = int(input(\"Elija una opción de actividad: \"))\n",
    "                if 1 <= opcion_actividad <= len(actividades):\n",
    "                    print(f\"Actividad seleccionada: {actividades[opcion_actividad - 1]}\")\n",
    "                    return actividades[opcion_actividad - 1]\n",
    "                else:\n",
    "                    print(\"Opción de actividad no válida. Intente nuevamente.\")\n",
    "            except ValueError:\n",
    "                print(\"Entrada no válida. Intente nuevamente.\")\n",
    "\n",
    "    def iniciar_seleccion(self):\n",
    "        # Lógica principal para elegir curso y actividad\n",
    "        curso_id = self.elegir_curso()\n",
    "        actividad = self.elegir_actividad(curso_id)\n",
    "        return f\"Usted ha seleccionado el curso '{self.cursos[curso_id]['nombre']}' con la actividad '{actividad}'.\"\n",
    "\n",
    "# Ejemplo de uso\n",
    "seleccion = SeleccionCurso()\n",
    "resultado = seleccion.iniciar_seleccion()\n",
    "print(resultado)\n"
   ]
  },
  {
   "cell_type": "code",
   "execution_count": null,
   "metadata": {},
   "outputs": [],
   "source": [
    "####################################################\n",
    "### GENERADOR DE NOMBRE(S), APELLIDO(S) Y MODELO ###\n",
    "####################################################\n",
    "\n",
    "def gen_nom_mol(nombres = input(\"Ingrese el(los) nombre(s) del(de la) estudiante: \"),\n",
    "               apellidos = input(\"Ingrese el(los) apellido(s) del(de la) estudiante: \")):\n",
    "    \n",
    "    \n",
    "\n",
    "    return f\"{nombres.title()} {apellidos.title()}\"\n",
    "\n",
    "gen_nombre()"
   ]
  }
 ],
 "metadata": {
  "kernelspec": {
   "display_name": ".venv",
   "language": "python",
   "name": "python3"
  },
  "language_info": {
   "codemirror_mode": {
    "name": "ipython",
    "version": 3
   },
   "file_extension": ".py",
   "mimetype": "text/x-python",
   "name": "python",
   "nbconvert_exporter": "python",
   "pygments_lexer": "ipython3",
   "version": "3.12.3"
  }
 },
 "nbformat": 4,
 "nbformat_minor": 2
}
