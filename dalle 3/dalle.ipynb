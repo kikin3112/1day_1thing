{
 "cells": [
  {
   "cell_type": "code",
   "execution_count": null,
   "metadata": {},
   "outputs": [],
   "source": [
    "from openai import OpenAI\n",
    "client = OpenAI()\n",
    "\n",
    "prompt_base = \"\"\"Estilo: Cómic moderno, líneas claras y definidas, colores vibrantes pero no exagerados.\n",
    "Escenario: Interior de un aula universitaria moderna. El personaje principal está respondiendo preguntas de los estudiantes. Los estudiantes están sentados en sus pupitres realizando preguntas (visibles parcialmente en primer plano).\n",
    "Personaje principal: Profesora universitaria de 30 años, nombre \"Sofía\" (no visible en la imagen).\n",
    "Características físicas (constantes en todas las imágenes):\n",
    "\n",
    "Altura: 1.70 m, complexión delgada y atlética\n",
    "Rostro: Ovalado con rasgos definidos\n",
    "Ojos: Grandes y expresivos, color verde esmeralda\n",
    "Nariz: Recta y proporcionada\n",
    "Labios: Medianos, con sonrisa sutil\n",
    "Cabello: Castaño oscuro, ondulado hasta los hombros, flequillo lateral\n",
    "Piel: Clara con ligero bronceado\n",
    "\n",
    "Vestimenta:\n",
    "\n",
    "Blusa: Manga tres cuartos, color azul pastel\n",
    "Pantalón: Recto, color beige\n",
    "Zapatos: Tacón bajo, color marrón claro\n",
    "\n",
    "Accesorios (siempre presentes):\n",
    "\n",
    "Gafas: Montura fina rectangular, color negro\n",
    "Reloj: Inteligente, discreto, en la muñeca izquierda\n",
    "Aretes: Pequeños, plateados\n",
    "\n",
    "Pose y expresión:\n",
    "\n",
    "Sentada en un escritorio con una pila de libros al lado\n",
    "Una mano sosteniendo un esfero, la otra haciendo un gesto explicativo\n",
    "Expresión facial: Amigable y atenta, con una sonrisa sutil\n",
    "Postura: Erguida y confiada, pero relajada\n",
    "\n",
    "Iluminación: Luz natural entrando por grandes ventanas (no visibles en la imagen), creando un ambiente luminoso y acogedor.\n",
    "\"\"\"\n",
    "\n",
    "response = client.images.generate(\n",
    "  model=\"dall-e-3\",\n",
    "  prompt=prompt_base,\n",
    "  size=\"1024x1024\",\n",
    "  quality=\"standard\",\n",
    "  n=1,\n",
    ")\n",
    "\n",
    "image_url = response.data[0].url\n",
    "image_url"
   ]
  },
  {
   "cell_type": "code",
   "execution_count": 5,
   "metadata": {},
   "outputs": [
    {
     "data": {
      "text/plain": [
       "'https://oaidalleapiprodscus.blob.core.windows.net/private/org-q3cezUdWhXIZw0ZVZpIUL1T0/user-ILSSp7uSj6zGcu8eHTt2Ov3A/img-MguZRH0TF3aCzdC6iR90BOPL.png?st=2024-11-27T19%3A27%3A19Z&se=2024-11-27T21%3A27%3A19Z&sp=r&sv=2024-08-04&sr=b&rscd=inline&rsct=image/png&skoid=d505667d-d6c1-4a0a-bac7-5c84a87759f8&sktid=a48cca56-e6da-484e-a814-9c849652bcb3&skt=2024-11-27T19%3A38%3A08Z&ske=2024-11-28T19%3A38%3A08Z&sks=b&skv=2024-08-04&sig=hA5Lyn3n7I/L%2Blb7M5mqln3LhHWv/JeYTxWAHRgE15E%3D'"
      ]
     },
     "execution_count": 5,
     "metadata": {},
     "output_type": "execute_result"
    }
   ],
   "source": [
    "from openai import OpenAI\n",
    "client = OpenAI()\n",
    "\n",
    "prompt_base = \"\"\"\n",
    "Genera una imagen con el fondo blanco con la palabra STEAM con las letras de arriba hacia abajo. El contexto es de STEAM educación. Sólo quiero la palabra.\n",
    "\"\"\"\n",
    "\n",
    "response = client.images.generate(\n",
    "  model=\"dall-e-3\",\n",
    "  prompt=prompt_base,\n",
    "  size=\"1024x1024\",\n",
    "  quality=\"standard\",\n",
    "  n=1,\n",
    ")\n",
    "\n",
    "image_url = response.data[0].url\n",
    "image_url"
   ]
  },
  {
   "cell_type": "code",
   "execution_count": null,
   "metadata": {},
   "outputs": [],
   "source": []
  }
 ],
 "metadata": {
  "kernelspec": {
   "display_name": ".venv",
   "language": "python",
   "name": "python3"
  },
  "language_info": {
   "codemirror_mode": {
    "name": "ipython",
    "version": 3
   },
   "file_extension": ".py",
   "mimetype": "text/x-python",
   "name": "python",
   "nbconvert_exporter": "python",
   "pygments_lexer": "ipython3",
   "version": "3.12.3"
  }
 },
 "nbformat": 4,
 "nbformat_minor": 2
}
