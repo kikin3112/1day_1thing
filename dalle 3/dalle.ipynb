{
 "cells": [
  {
   "cell_type": "code",
   "execution_count": null,
   "metadata": {},
   "outputs": [],
   "source": [
    "from openai import OpenAI\n",
    "client = OpenAI()\n",
    "\n",
    "prompt_base = \"\"\"Estilo: Cómic moderno, líneas claras y definidas, colores vibrantes pero no exagerados.\n",
    "Escenario: Interior de un aula universitaria moderna. El personaje principal está respondiendo preguntas de los estudiantes. Los estudiantes están sentados en sus pupitres realizando preguntas (visibles parcialmente en primer plano).\n",
    "Personaje principal: Profesora universitaria de 30 años, nombre \"Sofía\" (no visible en la imagen).\n",
    "Características físicas (constantes en todas las imágenes):\n",
    "\n",
    "Altura: 1.70 m, complexión delgada y atlética\n",
    "Rostro: Ovalado con rasgos definidos\n",
    "Ojos: Grandes y expresivos, color verde esmeralda\n",
    "Nariz: Recta y proporcionada\n",
    "Labios: Medianos, con sonrisa sutil\n",
    "Cabello: Castaño oscuro, ondulado hasta los hombros, flequillo lateral\n",
    "Piel: Clara con ligero bronceado\n",
    "\n",
    "Vestimenta:\n",
    "\n",
    "Blusa: Manga tres cuartos, color azul pastel\n",
    "Pantalón: Recto, color beige\n",
    "Zapatos: Tacón bajo, color marrón claro\n",
    "\n",
    "Accesorios (siempre presentes):\n",
    "\n",
    "Gafas: Montura fina rectangular, color negro\n",
    "Reloj: Inteligente, discreto, en la muñeca izquierda\n",
    "Aretes: Pequeños, plateados\n",
    "\n",
    "Pose y expresión:\n",
    "\n",
    "Sentada en un escritorio con una pila de libros al lado\n",
    "Una mano sosteniendo un esfero, la otra haciendo un gesto explicativo\n",
    "Expresión facial: Amigable y atenta, con una sonrisa sutil\n",
    "Postura: Erguida y confiada, pero relajada\n",
    "\n",
    "Iluminación: Luz natural entrando por grandes ventanas (no visibles en la imagen), creando un ambiente luminoso y acogedor.\n",
    "\"\"\"\n",
    "\n",
    "response = client.images.generate(\n",
    "  model=\"dall-e-3\",\n",
    "  prompt=prompt_base,\n",
    "  size=\"1024x1024\",\n",
    "  quality=\"standard\",\n",
    "  n=1,\n",
    ")\n",
    "\n",
    "image_url = response.data[0].url\n",
    "image_url"
   ]
  },
  {
   "cell_type": "code",
   "execution_count": 18,
   "metadata": {},
   "outputs": [],
   "source": [
    "from openai import OpenAI\n",
    "client = OpenAI()\n",
    "\n",
    "prompt_base = \"\"\"\n",
    "Sostenibilidad en un supermercado. Los colores del supermercado son rojo y blanco.\n",
    "\n",
    "Estilo: Cómic.\n",
    "Número de escenas: 1.\n",
    "\"\"\"\n",
    "\n",
    "response = client.images.generate(\n",
    "  model=\"dall-e-3\",\n",
    "  prompt=prompt_base,\n",
    "  size=\"1024x1024\",\n",
    "  quality=\"standard\",\n",
    "  n=1,\n",
    ")\n",
    "\n",
    "image_url = response.data[0].url\n",
    "image_url"
   ]
  },
  {
   "cell_type": "code",
   "execution_count": null,
   "metadata": {},
   "outputs": [],
   "source": []
  }
 ],
 "metadata": {
  "kernelspec": {
   "display_name": ".venv",
   "language": "python",
   "name": "python3"
  },
  "language_info": {
   "codemirror_mode": {
    "name": "ipython",
    "version": 3
   },
   "file_extension": ".py",
   "mimetype": "text/x-python",
   "name": "python",
   "nbconvert_exporter": "python",
   "pygments_lexer": "ipython3",
   "version": "3.12.3"
  }
 },
 "nbformat": 4,
 "nbformat_minor": 2
}
